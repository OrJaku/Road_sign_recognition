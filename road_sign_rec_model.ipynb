{
  "nbformat": 4,
  "nbformat_minor": 0,
  "metadata": {
    "colab": {
      "name": "road_sign_rec_model.ipynb",
      "provenance": [],
      "collapsed_sections": [
        "hfqmdzzsfq81",
        "Vv-DHfNSpk4I"
      ],
      "toc_visible": true,
      "mount_file_id": "1boPHgyMz_HPFVyOHPW7kt2nrZBDBJubM",
      "authorship_tag": "ABX9TyNUm9bj2dOMJMrkb6A2yTzk",
      "include_colab_link": true
    },
    "kernelspec": {
      "name": "python3",
      "display_name": "Python 3"
    },
    "accelerator": "GPU"
  },
  "cells": [
    {
      "cell_type": "markdown",
      "metadata": {
        "id": "view-in-github",
        "colab_type": "text"
      },
      "source": [
        "<a href=\"https://colab.research.google.com/github/OrJaku/road-sign-recognition/blob/master/road_sign_rec_model.ipynb\" target=\"_parent\"><img src=\"https://colab.research.google.com/assets/colab-badge.svg\" alt=\"Open In Colab\"/></a>"
      ]
    },
    {
      "cell_type": "markdown",
      "metadata": {
        "id": "i9AGJ0eTM-GS",
        "colab_type": "text"
      },
      "source": [
        "##Instrukcja działania aplikacji uczenia oraz rozpoznawania znaków \n",
        "\n",
        "#####1. Plik *road_sign_rec_model.ipynb* środowkiska Google Colab (Jupiter Notebook) zawiera biblioteki potrzebne do zbidowania sieci neuronowej\n",
        "#####2. W pliku nalezy zaimportować biblioteki oraz skopiować i rozpakować zbiór wcześniej przygotowanych znaków\n",
        "######a. Do przygotowania plików (obrazów) potrzebnych do nauki sieci, służy aplikacja *property_app* napisana w lokalnym środkowski python\n",
        "######b. Po uruchmieniu aplikacji (przez plik *run_property.py*) otrzymujemy menu wyboru:\n",
        "    1 - Znajdź wybrane zdjęcia ze znakami lub wygeneruj listę etykiet <pliki sprawdzane w folderze */annotations* - z plikami JSON, plik CSV z listą wybranych plików zapisywany jest w folderze z aplikacją *property_app/output*'>\n",
        "    2 - Kopiuj wybrane zdjęcia do nowego katalogu <kopiowanie plików (wybranych i dodanych wcześniej do pliku csv - konkretnego znaku), do nowej lokalizacji (np. pamięć flash lub dysk lokalny)\n",
        "    3 - Wytnij znaki z pełnych zdjęć <wycinanie znaków z lokalizacji z pkt 2 do lokalnego folderu */home/kuba-ubuntu/img_mgr_out*>\n",
        "    4 - Kopiuj wycięte zdjęcia do katalogów (train/valid/test) <kopiwanie wyciętych zdjęć do datasetów w lokalizacji '/home/kuba-ubuntu/Pobrane/Data' >\n",
        "    9 - Dostępne znaki\n",
        "    0 - Koniec\n",
        "\n",
        "######c. Opcja 1. umożliwia wygenerowanie pliku CSV z nazwami obrazów zawierającymi wybrane przez nas znaki w pliku *run_property.py* w tabeli 'labels_list':\n",
        "    labels_list = [ \n",
        "    \"regulatory--keep-left--g1\",\n",
        "    \"regulatory--keep-right--g2\",\n",
        "    \"complementary--keep-right--g1\",\n",
        "    \"regulatory--keep-left--g2\",\n",
        "    \"regulatory--keep-right--g1\",\n",
        "    \"complementary--keep-left--g1\",\n",
        "    \"regulatory--yield--g1\"]\n",
        "\n"
      ]
    },
    {
      "cell_type": "markdown",
      "metadata": {
        "id": "A1BoHNMscLwp",
        "colab_type": "text"
      },
      "source": [
        "##Biblioteki"
      ]
    },
    {
      "cell_type": "code",
      "metadata": {
        "id": "yILZf6IzcwYp",
        "colab_type": "code",
        "colab": {}
      },
      "source": [
        "import os, shutil, cv2, json\n",
        "import pandas as pd\n",
        "import numpy as np\n",
        "from keras import layers, models, optimizers, metrics\n",
        "from keras.preprocessing.image import ImageDataGenerator\n",
        "import matplotlib\n",
        "matplotlib.use('agg')\n",
        "import matplotlib.pyplot as plt\n",
        "import matplotlib.image as mpimg \n",
        "import time\n"
      ],
      "execution_count": 3,
      "outputs": []
    },
    {
      "cell_type": "markdown",
      "metadata": {
        "id": "YGc8PWa5cM-H",
        "colab_type": "text"
      },
      "source": [
        "## Pliki"
      ]
    },
    {
      "cell_type": "code",
      "metadata": {
        "id": "5yI9rJmbZMNh",
        "colab_type": "code",
        "colab": {
          "base_uri": "https://localhost:8080/",
          "height": 54
        },
        "outputId": "d7c3da75-a963-42e8-912c-6718fa97b4ef"
      },
      "source": [
        "cd \"/content/drive/My Drive/Colab Notebooks/Road_sign_rec\""
      ],
      "execution_count": null,
      "outputs": [
        {
          "output_type": "stream",
          "text": [
            "/content/drive/My Drive/Colab Notebooks/Road_sign_rec\n"
          ],
          "name": "stdout"
        }
      ]
    },
    {
      "cell_type": "code",
      "metadata": {
        "id": "IJjxYF4Yxlms",
        "colab_type": "code",
        "colab": {
          "base_uri": "https://localhost:8080/",
          "height": 34
        },
        "outputId": "f06d54b1-63fd-4ec4-d4bc-523ff462f0b9"
      },
      "source": [
        "cd \"/content/drive/My Drive/Colab Notebooks/Road_sign_rec/data\""
      ],
      "execution_count": null,
      "outputs": [
        {
          "output_type": "stream",
          "text": [
            "/content/drive/My Drive/Colab Notebooks/Road_sign_rec/data\n"
          ],
          "name": "stdout"
        }
      ]
    },
    {
      "cell_type": "code",
      "metadata": {
        "id": "EMokUffyxdg3",
        "colab_type": "code",
        "colab": {}
      },
      "source": [
        "from google.colab import files\n",
        "\n",
        "uploaded = files.upload()"
      ],
      "execution_count": null,
      "outputs": []
    },
    {
      "cell_type": "markdown",
      "metadata": {
        "id": "GBHKh-2fcYq8",
        "colab_type": "text"
      },
      "source": [
        "### Kopiowanie obrazów treningowych na dysk Colab"
      ]
    },
    {
      "cell_type": "code",
      "metadata": {
        "id": "RvxjUGItyVkF",
        "colab_type": "code",
        "colab": {
          "base_uri": "https://localhost:8080/",
          "height": 34
        },
        "outputId": "9d6d2afb-e16a-41df-b2dd-a149bbb56780"
      },
      "source": [
        "cd \"/content\""
      ],
      "execution_count": 1,
      "outputs": [
        {
          "output_type": "stream",
          "text": [
            "/content\n"
          ],
          "name": "stdout"
        }
      ]
    },
    {
      "cell_type": "code",
      "metadata": {
        "id": "_rZWntpHya4K",
        "colab_type": "code",
        "colab": {}
      },
      "source": [
        "try:\n",
        "  os.mkdir(\"data\")\n",
        "except FileExistsError:\n",
        "  pass\n",
        "!cp \"/content/drive/My Drive/Colab Notebooks/Road_sign_rec/Data/Dataset_extend_zip.zip\" \"/content/data/Dataset_extend_zip.zip\""
      ],
      "execution_count": 4,
      "outputs": []
    },
    {
      "cell_type": "code",
      "metadata": {
        "id": "lOPH5wcOzQWF",
        "colab_type": "code",
        "colab": {
          "base_uri": "https://localhost:8080/",
          "height": 34
        },
        "outputId": "2d5b521a-f4e0-472d-f340-958bee497cd8"
      },
      "source": [
        "cd data"
      ],
      "execution_count": 5,
      "outputs": [
        {
          "output_type": "stream",
          "text": [
            "/content/data\n"
          ],
          "name": "stdout"
        }
      ]
    },
    {
      "cell_type": "code",
      "metadata": {
        "id": "09hioilizA-l",
        "colab_type": "code",
        "colab": {}
      },
      "source": [
        "!unzip -q Dataset_extend_zip.zip"
      ],
      "execution_count": 6,
      "outputs": []
    },
    {
      "cell_type": "code",
      "metadata": {
        "id": "lW7wOoYWzEzS",
        "colab_type": "code",
        "colab": {
          "base_uri": "https://localhost:8080/",
          "height": 72
        },
        "outputId": "475e6b20-9ea7-4e55-a450-46c96e82ea8a"
      },
      "source": [
        "data_folder = \"/content/data/Data\"\n",
        "train_folder = os.path.join(data_folder, 'train_data')\n",
        "signs_list_train = os.listdir(train_folder)\n",
        "train_folders_length = {}\n",
        "for signs_train in signs_list_train:\n",
        "  train_folders_length[signs_train] = len(os.listdir(os.path.join(train_folder, signs_train)))\n",
        "print(train_folders_length)\n",
        "valid_folder = os.path.join(data_folder, 'valid_data')\n",
        "signs_list_valid = os.listdir(valid_folder)\n",
        "valid_folders_length = {}\n",
        "for signs_val in signs_list_valid:\n",
        "  valid_folders_length[signs_val] = len(os.listdir(os.path.join(valid_folder, signs_val)))\n",
        "print(valid_folders_length)"
      ],
      "execution_count": 7,
      "outputs": [
        {
          "output_type": "stream",
          "text": [
            "{'limit60': 1144, 'limit80': 1236, 'cross': 1326, 'stop': 1314, 'limit70': 1264, 'nosign': 6036, 'othersign': 921, 'yield': 1665, 'no-overtaking': 367, 'limit40': 586, 'limit50': 1606}\n",
            "{'limit60': 573, 'limit80': 618, 'cross': 663, 'stop': 506, 'limit70': 633, 'nosign': 2575, 'othersign': 461, 'yield': 832, 'no-overtaking': 184, 'limit40': 294, 'limit50': 803}\n"
          ],
          "name": "stdout"
        }
      ]
    },
    {
      "cell_type": "markdown",
      "metadata": {
        "id": "L97BfvTNfVIG",
        "colab_type": "text"
      },
      "source": [
        "### Przygotowanie folderów"
      ]
    },
    {
      "cell_type": "code",
      "metadata": {
        "id": "0nw4JpMbJolw",
        "colab_type": "code",
        "colab": {}
      },
      "source": [
        "base_dir = \"Data/\"\n",
        "\n",
        "train_dir = os.path.join(base_dir, 'train_data')\n",
        "try:\n",
        "  os.mkdir(train_dir)\n",
        "except FileExistsError:\n",
        "  pass\n",
        "\n",
        "test_dir = os.path.join(base_dir, 'test_data')\n",
        "try:\n",
        "  os.mkdir(test_dir)\n",
        "except FileExistsError:\n",
        "  pass\n",
        "\n",
        "\n",
        "valid_dir = os.path.join(base_dir, 'valid_data')\n",
        "try:\n",
        "  os.mkdir(valid_dir)\n",
        "except FileExistsError:\n",
        "  pass"
      ],
      "execution_count": null,
      "outputs": []
    },
    {
      "cell_type": "code",
      "metadata": {
        "id": "gLFz7U1VZXQ2",
        "colab_type": "code",
        "colab": {}
      },
      "source": [
        "base_dir = \"Data/\"\n",
        "train_dir = os.path.join(base_dir, 'train_data')\n",
        "try:\n",
        "  os.mkdir(train_dir)\n",
        "except FileExistsError:\n",
        "  pass\n",
        "cross_train =  os.path.join(train_dir, 'cross')\n",
        "stop_train =  os.path.join(train_dir, 'stop')\n",
        "limit50_train =  os.path.join(train_dir, 'limit50')\n",
        "nosign_train =  os.path.join(train_dir, 'nosign')\n",
        "try:\n",
        "  os.mkdir(nosign_train)\n",
        "except FileExistsError:\n",
        "  pass\n",
        "try:\n",
        "  os.mkdir(cross_train)\n",
        "except FileExistsError:\n",
        "  pass\n",
        "try:\n",
        "  os.mkdir(stop_train)\n",
        "except FileExistsError:\n",
        "  pass\n",
        "try:\n",
        "  os.mkdir(limit50_train)\n",
        "except FileExistsError:\n",
        "  pass\n",
        "\n",
        "valid_dir = os.path.join(base_dir, 'valid_data')\n",
        "try:\n",
        "  os.mkdir(valid_dir)\n",
        "except FileExistsError:\n",
        "  pass\n",
        "\n",
        "cross_val =  os.path.join(valid_dir, 'cross')\n",
        "stop_val =  os.path.join(valid_dir, 'stop')\n",
        "limit50_val =  os.path.join(valid_dir, 'limit50')\n",
        "nosign_val =  os.path.join(valid_dir, 'nosign')\n",
        "\n",
        "try:\n",
        "  os.mkdir(nosign_val)\n",
        "except FileExistsError:\n",
        "  pass\n",
        "try:\n",
        "  os.mkdir(cross_val)\n",
        "except FileExistsError:\n",
        "  pass\n",
        "try:\n",
        "  os.mkdir(stop_val)\n",
        "except FileExistsError:\n",
        "  pass\n",
        "try:\n",
        "  os.mkdir(limit50_val)\n",
        "except FileExistsError:\n",
        "  pass\n",
        "\n",
        "test_dir = os.path.join(base_dir, 'test_data')\n",
        "try:\n",
        "  os.mkdir(test_dir)\n",
        "except FileExistsError:\n",
        "  pass\n",
        "\n",
        "cross_test =  os.path.join(test_dir, 'cross')\n",
        "stop_test =  os.path.join(test_dir, 'stop')\n",
        "limit50_test =  os.path.join(test_dir, 'limit50')\n",
        "limit40_test =  os.path.join(test_dir, 'limit40')\n",
        "limit60_test =  os.path.join(test_dir, 'limit60')\n",
        "limit70_test =  os.path.join(test_dir, 'limit70')\n",
        "limit80_test =  os.path.join(test_dir, 'limit80')\n",
        "limit100_test =  os.path.join(test_dir, 'limit100')\n",
        "yield_test =  os.path.join(test_dir, 'yield')\n",
        "noovertaking_test =  os.path.join(test_dir, 'no-overtaking')\n",
        "nosign_test =  os.path.join(test_dir, 'nosign')\n",
        "othersign_test =  os.path.join(test_dir, 'othersign')\n",
        "\n"
      ],
      "execution_count": 12,
      "outputs": []
    },
    {
      "cell_type": "markdown",
      "metadata": {
        "id": "B6C9ZXIjfdnm",
        "colab_type": "text"
      },
      "source": [
        "#### Ilość poszczegónych zdjęć"
      ]
    },
    {
      "cell_type": "code",
      "metadata": {
        "id": "E34aEB7Obpkm",
        "colab_type": "code",
        "colab": {}
      },
      "source": [
        "# cross_origin_path = os.path.abspath(\"/content/drive/My Drive/Colab Notebooks/Road_sign_rec/Data/information--pedestrians-crossing--g1/\")\n",
        "# stop_origin_path = os.path.abspath(\"/content/drive/My Drive/Colab Notebooks/Road_sign_rec/Data/regulatory--stop--g1\")\n",
        "# limit50_origin_path = os.path.abspath(\"/content/drive/My Drive/Colab Notebooks/Road_sign_rec/Data/regulatory--maximum-speed-limit-50--g1\")\n",
        "# nosign_path = os.path.abspath(\"/content/drive/My Drive/Colab Notebooks/Road_sign_rec/Data/NoSign\")\n",
        "# nosign_path_2 = os.path.abspath(\"/content/drive/My Drive/Colab Notebooks/Road_sign_rec/Data/NoSign2\")\n",
        "\n",
        "\n",
        "\n",
        "# print('Przejscie dla piszych: ',len(os.listdir(cross_origin_path)))\n",
        "# print('Stop: ', len(os.listdir(stop_origin_path)))\n",
        "# print('Ograniczenie do 50km/h: ', len(os.listdir(limit50_origin_path)))\n",
        "# number_of_nosign = len(os.listdir(nosign_path)) + len(os.listdir(nosign_path_2))\n",
        "# print('Brak znaku', number_of_nosign)\n"
      ],
      "execution_count": null,
      "outputs": []
    },
    {
      "cell_type": "markdown",
      "metadata": {
        "id": "hfqmdzzsfq81",
        "colab_type": "text"
      },
      "source": [
        "#### Kopowanie i podział zdjęć na treningowe, walidacyjne i testowe\n",
        "\n",
        "---\n",
        "\n"
      ]
    },
    {
      "cell_type": "code",
      "metadata": {
        "id": "Os4zVKiofTDn",
        "colab_type": "code",
        "colab": {
          "base_uri": "https://localhost:8080/",
          "height": 86
        },
        "outputId": "88e0eb4d-5e30-420a-e687-faa1b92ccce6"
      },
      "source": [
        "\n",
        "# # train cross\n",
        "# for image_name in os.listdir(cross_origin_path)[0:1200]:\n",
        "#   src = os.path.join(cross_origin_path, image_name)\n",
        "#   dst = os.path.join(cross_train, image_name)\n",
        "#   shutil.copyfile(src, dst)\n",
        "# print(\"train cross copied\")\n",
        "\n",
        "# # validation cross\n",
        "# for image_name in os.listdir(cross_origin_path)[1200:1800]:\n",
        "#   src = os.path.join(cross_origin_path, image_name)\n",
        "#   dst = os.path.join(cross_val, image_name)\n",
        "#   shutil.copyfile(src, dst)\n",
        "# print(\"validation cross copied\")\n",
        "\n",
        "# # test cross\n",
        "# for image_name in os.listdir(cross_origin_path)[1800:]:\n",
        "#   src = os.path.join(cross_origin_path, image_name)\n",
        "#   dst = os.path.join(cross_test, image_name)\n",
        "#   shutil.copyfile(src, dst)\n",
        "# print(\"test cross copied\")\n",
        "\n",
        "# ##################################\n",
        "\n",
        "# # train stop\n",
        "# i=0\n",
        "# for image_name in os.listdir(stop_origin_path)[0:900]:\n",
        "#   i =+ 1\n",
        "#   src = os.path.join(stop_origin_path, image_name)\n",
        "#   dst = os.path.join(stop_train, image_name)\n",
        "#   shutil.copyfile(src, dst)\n",
        "#   if i == 200 or i == 400 or i == 700:\n",
        "#     print(f\"Copied {i} \")\n",
        "# print(\"train stop copied\")\n",
        "\n",
        "\n",
        "# # validation stop\n",
        "# for image_name in os.listdir(stop_origin_path)[901:1200]:\n",
        "#   src = os.path.join(stop_origin_path, image_name)\n",
        "#   dst = os.path.join(stop_val, image_name)\n",
        "#   shutil.copyfile(src, dst)\n",
        "#   if i == 1050:\n",
        "#     print(f\"Copied {i} \")\n",
        "# print(\"validation stop copied\")\n",
        "\n",
        "# # test stop\n",
        "# for image_name in os.listdir(stop_origin_path)[1201:]:\n",
        "#   src = os.path.join(stop_origin_path, image_name)\n",
        "#   dst = os.path.join(stop_test, image_name)\n",
        "#   shutil.copyfile(src, dst)\n",
        "#   if i == 1300:\n",
        "#     print(f\"Copied {i} \")\n",
        "# print(\"test stop copied\")\n",
        "\n",
        "\n",
        "# ##########################\n",
        "\n",
        "# # train limit50\n",
        "# for image_name in os.listdir(limit50_origin_path)[0:400]:\n",
        "#   src = os.path.join(limit50_origin_path, image_name)\n",
        "#   dst = os.path.join(limit50_train, image_name)\n",
        "#   shutil.copyfile(src, dst)\n",
        "# print(\"train limit50 copied\")\n",
        "\n",
        "# # validation limit50\n",
        "# for image_name in os.listdir(limit50_origin_path)[400:600]:\n",
        "#   src = os.path.join(limit50_origin_path, image_name)\n",
        "#   dst = os.path.join(limit50_val, image_name)\n",
        "#   shutil.copyfile(src, dst)\n",
        "# print(\"validation limit50 copied\")\n",
        "\n",
        "# # test limit50\n",
        "# for image_name in os.listdir(limit50_origin_path)[600:]:\n",
        "#   src = os.path.join(limit50_origin_path, image_name)\n",
        "#   dst = os.path.join(limit50_test, image_name)\n",
        "#   shutil.copyfile(src, dst)\n",
        "# print(\"test limit50 copied\")\n",
        "\n",
        "\n",
        "# #########################\n",
        "\n",
        "\n",
        "# # train NoSign\n",
        "# for image_name in os.listdir(nosign_path)[0:1300]:\n",
        "#   src = os.path.join(nosign_path, image_name)\n",
        "#   dst = os.path.join(nosign_train, image_name)\n",
        "#   shutil.copyfile(src, dst)\n",
        "# print(\"train NoSign copied\")\n",
        "\n",
        "# # validation NoSign\n",
        "# for image_name in os.listdir(nosign_path)[1300:1700]:\n",
        "#   src = os.path.join(nosign_path, image_name)\n",
        "#   dst = os.path.join(nosign_val, image_name)\n",
        "#   shutil.copyfile(src, dst)\n",
        "# print(\"validation NoSign copied\")\n",
        "\n",
        "# # test NoSign\n",
        "# for image_name in os.listdir(nosign_path)[1700:]:\n",
        "#   src = os.path.join(nosign_path, image_name)\n",
        "#   dst = os.path.join(nosign_test, image_name)\n",
        "#   shutil.copyfile(src, dst)\n",
        "# print(\"test NoSign copied\")\n",
        "\n",
        "\n",
        "# # train NoSign2\n",
        "# for image_name in os.listdir(nosign_path_2)[0:1300]:\n",
        "#   src = os.path.join(nosign_path_2, image_name)\n",
        "#   dst = os.path.join(nosign_train, image_name)\n",
        "#   shutil.copyfile(src, dst)\n",
        "# print(\"train NoSign2 copied\")\n",
        "\n",
        "# # validation NoSign2\n",
        "# for image_name in os.listdir(nosign_path_2)[1300:1700]:\n",
        "#   src = os.path.join(nosign_path_2, image_name)\n",
        "#   dst = os.path.join(nosign_val, image_name)\n",
        "#   shutil.copyfile(src, dst)\n",
        "# print(\"validation NoSign2 copied\")\n",
        "\n",
        "# # test NoSign2\n",
        "# for image_name in os.listdir(nosign_path_2)[1700:]:\n",
        "#   src = os.path.join(nosign_path_2, image_name)\n",
        "#   dst = os.path.join(nosign_test, image_name)\n",
        "#   shutil.copyfile(src, dst)\n",
        "# print(\"test NoSign2 copied\")\n",
        "\n",
        "\n"
      ],
      "execution_count": null,
      "outputs": [
        {
          "output_type": "stream",
          "text": [
            "train cross copied\n",
            "validation cross copied\n",
            "test cross copied\n",
            "train stop copied\n"
          ],
          "name": "stdout"
        }
      ]
    },
    {
      "cell_type": "markdown",
      "metadata": {
        "id": "Vv-DHfNSpk4I",
        "colab_type": "text"
      },
      "source": [
        "#### Przekształcanie plików .jpg na tensory - test"
      ]
    },
    {
      "cell_type": "code",
      "metadata": {
        "id": "zmlQShw9k4Eh",
        "colab_type": "code",
        "colab": {}
      },
      "source": [
        "# datagen = ImageDataGenerator(rotation_range=40,\n",
        "#                              width_shift_range=0.2,\n",
        "#                              height_shift_range=0.2,\n",
        "#                              shear_range=0.2,\n",
        "#                              zoom_range=0.2,\n",
        "#                              horizontal_flip=True,\n",
        "#                              fill_mode='nearest') \n",
        "                                  "
      ],
      "execution_count": null,
      "outputs": []
    },
    {
      "cell_type": "code",
      "metadata": {
        "id": "66_xfeCyomy5",
        "colab_type": "code",
        "colab": {}
      },
      "source": [
        "# from keras.preprocessing import image\n",
        "\n",
        "# figure = plt.figure()\n",
        "# fnames = [os.path.join(cross_train, fname) for fname in os.listdir(cross_train)]\n",
        "# img_path = fnames[3]\n",
        "# print(img_path)\n",
        "# img = image.load_img(img_path, target_size=(100, 100))\n",
        "# plt.imshow(img)\n",
        "# x = image.img_to_array(img)\n",
        "# x = x.reshape((1,) + x.shape)\n",
        "# i=1\n",
        "# for batch in datagen.flow(x, batch_size=1):\n",
        "#   plt.subplot(2, 3, i+0)\n",
        "#   plt\n",
        "#   plt.imshow(image.array_to_img(batch[0]))\n",
        "#   i+=1\n",
        "#   if i%5==0:\n",
        "#     break\n",
        "\n",
        "# plt.show()\n",
        "# figure"
      ],
      "execution_count": null,
      "outputs": []
    },
    {
      "cell_type": "code",
      "metadata": {
        "id": "5nWpnNouvnEI",
        "colab_type": "code",
        "colab": {}
      },
      "source": [
        "# figure = plt.figure()\n",
        "# fnames = [os.path.join(cross_train, fname) for fname in os.listdir(cross_train)]\n",
        "# img_path = fnames[3]\n",
        "# print(img_path)\n",
        "# img = image.load_img(img_path, target_size=(100, 100))\n",
        "# plt.imshow(img)\n",
        "# figure"
      ],
      "execution_count": null,
      "outputs": []
    },
    {
      "cell_type": "markdown",
      "metadata": {
        "id": "pPa9uA1YdV8D",
        "colab_type": "text"
      },
      "source": [
        "##Modele"
      ]
    },
    {
      "cell_type": "markdown",
      "metadata": {
        "id": "ofyIFmX1dnj7",
        "colab_type": "text"
      },
      "source": [
        "###Przygotowanie parametrów"
      ]
    },
    {
      "cell_type": "markdown",
      "metadata": {
        "id": "XgLfl0i-dLft",
        "colab_type": "text"
      },
      "source": [
        "####Ustawienia genereatora zdjęć"
      ]
    },
    {
      "cell_type": "code",
      "metadata": {
        "id": "EDi-Uu2-pkJX",
        "colab_type": "code",
        "colab": {
          "base_uri": "https://localhost:8080/",
          "height": 52
        },
        "outputId": "41422bd3-6adf-4845-ff17-615eabe6d48c"
      },
      "source": [
        "batch_size = 64\n",
        "picture_size = 96\n",
        "class_mode = \"categorical\"\n",
        "\n",
        "train_datagen = ImageDataGenerator(rescale=1./255,\n",
        "                                  rotation_range=10,\n",
        "                                  width_shift_range=0.2,\n",
        "                                  height_shift_range=0.2,\n",
        "                                  shear_range=0.2,\n",
        "                                  zoom_range=0.3,\n",
        "                                  horizontal_flip=False,\n",
        "                                  vertical_flip=False,                                   \n",
        "                                  fill_mode='nearest')\n",
        "valid_datagen = ImageDataGenerator(rescale=1./255)\n",
        "\n",
        "train_generator = train_datagen.flow_from_directory(\n",
        "    train_dir,\n",
        "    target_size = (picture_size,picture_size),\n",
        "    batch_size = batch_size,\n",
        "    class_mode = class_mode\n",
        ")\n",
        "\n",
        "valid_generator = valid_datagen.flow_from_directory(\n",
        "    valid_dir,\n",
        "    target_size = (picture_size,picture_size),\n",
        "    batch_size = batch_size,\n",
        "    class_mode = class_mode\n",
        "\n",
        ")\n",
        "number_of_classes = len(train_generator.class_indices)"
      ],
      "execution_count": 24,
      "outputs": [
        {
          "output_type": "stream",
          "text": [
            "Found 17465 images belonging to 11 classes.\n",
            "Found 8142 images belonging to 11 classes.\n"
          ],
          "name": "stdout"
        }
      ]
    },
    {
      "cell_type": "markdown",
      "metadata": {
        "id": "NYdvsc8NdeCS",
        "colab_type": "text"
      },
      "source": [
        "####Parametry modelu"
      ]
    },
    {
      "cell_type": "code",
      "metadata": {
        "id": "PgyduY3d4oUo",
        "colab_type": "code",
        "colab": {}
      },
      "source": [
        "INIT_LR = 1e-3\n",
        "epochs = 110\n",
        "opt = optimizers.Adam(lr=INIT_LR, decay=INIT_LR / epochs)\n",
        "metrics = 'categorical_accuracy'\n",
        "activation = 'softmax'\n",
        "loss = 'categorical_crossentropy'"
      ],
      "execution_count": 25,
      "outputs": []
    },
    {
      "cell_type": "markdown",
      "metadata": {
        "id": "z2lf8GKcXJM2",
        "colab_type": "text"
      },
      "source": [
        "###Model multi-classes classification - własny"
      ]
    },
    {
      "cell_type": "code",
      "metadata": {
        "id": "iwxU5MoBXBgL",
        "colab_type": "code",
        "colab": {}
      },
      "source": [
        "dropout_1 = 0.4\n",
        "dropout_2 = 0.3\n",
        "dropout_3 = 0.3\n",
        "dropout_4 = 0.4\n",
        "dropout_5 = 0.3\n",
        "dropout_6 = 0.25\n",
        "\n",
        "model = models.Sequential()\n",
        "model.add(layers.Conv2D(32, (3, 3), activation='relu', input_shape=(picture_size, picture_size, 3)))\n",
        "model.add(layers.MaxPool2D((2, 2)))\n",
        "model.add(layers.Dropout(dropout_1))\n",
        "\n",
        "model.add(layers.Conv2D(64, (3, 3), activation='relu'))\n",
        "model.add(layers.MaxPool2D((2, 2)))\n",
        "model.add(layers.Dropout(dropout_2))\n",
        "\n",
        "model.add(layers.Conv2D(64, (3,3), activation='relu'))\n",
        "model.add(layers.MaxPool2D((2, 2)))\n",
        "model.add(layers.Dropout(dropout_3))\n",
        "\n",
        "model.add(layers.Conv2D(128, (3,3), activation='relu'))\n",
        "model.add(layers.MaxPool2D((2, 2)))\n",
        "model.add(layers.Dropout(dropout_4))\n",
        "\n",
        "model.add(layers.Conv2D(128, (3,3), activation='relu'))\n",
        "model.add(layers.MaxPool2D((2, 2)))\n",
        "model.add(layers.Dropout(dropout_5))\n",
        "\n",
        "model.add(layers.Flatten())\n",
        "model.add(layers.Dense(1024, activation=\"relu\"))\n",
        "model.add(layers.BatchNormalization())\n",
        "model.add(layers.Dropout(dropout_6))\n",
        "model.add(layers.Dense(number_of_classes))\n",
        "model.add(layers.Activation(activation))\n",
        "\n",
        "model.compile(\n",
        "    loss=loss,\n",
        "    optimizer=opt,\n",
        "    metrics=[metrics]\n",
        "    )\n",
        "# model.summary()"
      ],
      "execution_count": 26,
      "outputs": []
    },
    {
      "cell_type": "markdown",
      "metadata": {
        "id": "Zep2Kx6fZVYp",
        "colab_type": "text"
      },
      "source": [
        "###Pretrained model"
      ]
    },
    {
      "cell_type": "code",
      "metadata": {
        "id": "kl5g-tmHZdVB",
        "colab_type": "code",
        "colab": {}
      },
      "source": [
        "from keras.applications import VGG16\n",
        "pretrain_model = VGG16(weights='imagenet',include_top=False,input_shape=(100, 100, 3))"
      ],
      "execution_count": null,
      "outputs": []
    },
    {
      "cell_type": "code",
      "metadata": {
        "id": "z0U6jTJWZ6mm",
        "colab_type": "code",
        "colab": {}
      },
      "source": [
        "model = models.Sequential()\n",
        "model.add(pretrain_model)\n",
        "model.add(layers.Flatten())\n",
        "model.add(layers.Dense(1024, activation=\"relu\"))\n",
        "model.add(layers.BatchNormalization())\n",
        "model.add(layers.Dropout(0.2))\n",
        "model.add(layers.Dense(number_of_classes))\n",
        "model.add(layers.Activation(activation))\n",
        "model.compile(\n",
        "    loss='categorical_crossentropy',\n",
        "    optimizer=opt,\n",
        "    metrics=['acc']\n",
        "    )\n",
        "model.summary()"
      ],
      "execution_count": null,
      "outputs": []
    },
    {
      "cell_type": "markdown",
      "metadata": {
        "id": "IkvAD2gnZd60",
        "colab_type": "text"
      },
      "source": [
        "###Fit model"
      ]
    },
    {
      "cell_type": "code",
      "metadata": {
        "id": "gBDd5q9nq23t",
        "colab_type": "code",
        "colab": {
          "base_uri": "https://localhost:8080/",
          "height": 1000
        },
        "outputId": "0dd3a348-63b5-475c-ed60-af9fb3925042"
      },
      "source": [
        "history = model.fit_generator(\n",
        "    train_generator,\n",
        "    steps_per_epoch=200,\n",
        "    epochs=epochs,\n",
        "    validation_data=valid_generator,\n",
        "    validation_steps=50\n",
        ")\n",
        "\n",
        "time_stemp = time.strftime(\"%d%m%Y%H%M%S\")\n",
        "model_name = f'model_signs_{number_of_classes}_classes_{activation}_{time_stemp}.h5'\n",
        "path_to_save = \"/content/drive/My Drive/Colab Notebooks/Road_sign_rec\"\n",
        "model_path = os.path.join(path_to_save, model_name)\n",
        "model.save(model_path)\n",
        "print(f\"Saved model as {model_name}\")"
      ],
      "execution_count": 27,
      "outputs": [
        {
          "output_type": "stream",
          "text": [
            "Epoch 1/110\n",
            "200/200 [==============================] - 40s 198ms/step - loss: 1.7261 - categorical_accuracy: 0.4356 - val_loss: 2.0469 - val_categorical_accuracy: 0.3256\n",
            "Epoch 2/110\n",
            "200/200 [==============================] - 39s 197ms/step - loss: 1.3064 - categorical_accuracy: 0.5629 - val_loss: 1.7481 - val_categorical_accuracy: 0.3672\n",
            "Epoch 3/110\n",
            "200/200 [==============================] - 39s 195ms/step - loss: 1.1320 - categorical_accuracy: 0.6155 - val_loss: 1.2780 - val_categorical_accuracy: 0.5600\n",
            "Epoch 4/110\n",
            "200/200 [==============================] - 39s 196ms/step - loss: 1.0238 - categorical_accuracy: 0.6437 - val_loss: 0.8846 - val_categorical_accuracy: 0.6781\n",
            "Epoch 5/110\n",
            "200/200 [==============================] - 39s 195ms/step - loss: 0.9236 - categorical_accuracy: 0.6715 - val_loss: 0.7067 - val_categorical_accuracy: 0.7300\n",
            "Epoch 6/110\n",
            "200/200 [==============================] - 39s 197ms/step - loss: 0.8438 - categorical_accuracy: 0.6913 - val_loss: 0.6620 - val_categorical_accuracy: 0.7372\n",
            "Epoch 7/110\n",
            "200/200 [==============================] - 39s 194ms/step - loss: 0.7825 - categorical_accuracy: 0.7135 - val_loss: 0.5296 - val_categorical_accuracy: 0.7853\n",
            "Epoch 8/110\n",
            "200/200 [==============================] - 39s 196ms/step - loss: 0.7381 - categorical_accuracy: 0.7382 - val_loss: 0.3896 - val_categorical_accuracy: 0.8647\n",
            "Epoch 9/110\n",
            "200/200 [==============================] - 39s 194ms/step - loss: 0.6570 - categorical_accuracy: 0.7628 - val_loss: 0.2968 - val_categorical_accuracy: 0.8944\n",
            "Epoch 10/110\n",
            "200/200 [==============================] - 39s 195ms/step - loss: 0.6200 - categorical_accuracy: 0.7810 - val_loss: 0.3042 - val_categorical_accuracy: 0.8900\n",
            "Epoch 11/110\n",
            "200/200 [==============================] - 39s 196ms/step - loss: 0.5890 - categorical_accuracy: 0.7916 - val_loss: 0.2886 - val_categorical_accuracy: 0.8897\n",
            "Epoch 12/110\n",
            "200/200 [==============================] - 39s 196ms/step - loss: 0.5363 - categorical_accuracy: 0.8149 - val_loss: 0.2151 - val_categorical_accuracy: 0.9250\n",
            "Epoch 13/110\n",
            "200/200 [==============================] - 39s 196ms/step - loss: 0.4949 - categorical_accuracy: 0.8230 - val_loss: 0.2246 - val_categorical_accuracy: 0.9131\n",
            "Epoch 14/110\n",
            "200/200 [==============================] - 39s 196ms/step - loss: 0.4752 - categorical_accuracy: 0.8338 - val_loss: 0.2114 - val_categorical_accuracy: 0.9125\n",
            "Epoch 15/110\n",
            "200/200 [==============================] - 39s 194ms/step - loss: 0.4710 - categorical_accuracy: 0.8351 - val_loss: 0.1631 - val_categorical_accuracy: 0.9447\n",
            "Epoch 16/110\n",
            "200/200 [==============================] - 39s 193ms/step - loss: 0.4435 - categorical_accuracy: 0.8462 - val_loss: 0.1744 - val_categorical_accuracy: 0.9362\n",
            "Epoch 17/110\n",
            "200/200 [==============================] - 38s 192ms/step - loss: 0.4278 - categorical_accuracy: 0.8528 - val_loss: 0.1656 - val_categorical_accuracy: 0.9469\n",
            "Epoch 18/110\n",
            "200/200 [==============================] - 39s 193ms/step - loss: 0.4089 - categorical_accuracy: 0.8595 - val_loss: 0.1574 - val_categorical_accuracy: 0.9488\n",
            "Epoch 19/110\n",
            "200/200 [==============================] - 39s 193ms/step - loss: 0.4067 - categorical_accuracy: 0.8609 - val_loss: 0.1457 - val_categorical_accuracy: 0.9506\n",
            "Epoch 20/110\n",
            "200/200 [==============================] - 39s 193ms/step - loss: 0.3831 - categorical_accuracy: 0.8671 - val_loss: 0.1230 - val_categorical_accuracy: 0.9625\n",
            "Epoch 21/110\n",
            "200/200 [==============================] - 39s 193ms/step - loss: 0.3784 - categorical_accuracy: 0.8703 - val_loss: 0.1182 - val_categorical_accuracy: 0.9600\n",
            "Epoch 22/110\n",
            "200/200 [==============================] - 39s 194ms/step - loss: 0.3601 - categorical_accuracy: 0.8777 - val_loss: 0.1375 - val_categorical_accuracy: 0.9628\n",
            "Epoch 23/110\n",
            "200/200 [==============================] - 38s 192ms/step - loss: 0.3653 - categorical_accuracy: 0.8736 - val_loss: 0.1145 - val_categorical_accuracy: 0.9656\n",
            "Epoch 24/110\n",
            "200/200 [==============================] - 38s 192ms/step - loss: 0.3484 - categorical_accuracy: 0.8802 - val_loss: 0.0967 - val_categorical_accuracy: 0.9684\n",
            "Epoch 25/110\n",
            "200/200 [==============================] - 38s 192ms/step - loss: 0.3354 - categorical_accuracy: 0.8865 - val_loss: 0.1101 - val_categorical_accuracy: 0.9619\n",
            "Epoch 26/110\n",
            "200/200 [==============================] - 39s 194ms/step - loss: 0.3263 - categorical_accuracy: 0.8886 - val_loss: 0.1304 - val_categorical_accuracy: 0.9572\n",
            "Epoch 27/110\n",
            "200/200 [==============================] - 39s 194ms/step - loss: 0.3269 - categorical_accuracy: 0.8895 - val_loss: 0.1324 - val_categorical_accuracy: 0.9556\n",
            "Epoch 28/110\n",
            "200/200 [==============================] - 39s 193ms/step - loss: 0.3241 - categorical_accuracy: 0.8908 - val_loss: 0.1030 - val_categorical_accuracy: 0.9684\n",
            "Epoch 29/110\n",
            "200/200 [==============================] - 39s 193ms/step - loss: 0.3142 - categorical_accuracy: 0.8970 - val_loss: 0.0822 - val_categorical_accuracy: 0.9722\n",
            "Epoch 30/110\n",
            "200/200 [==============================] - 39s 193ms/step - loss: 0.3099 - categorical_accuracy: 0.8974 - val_loss: 0.0968 - val_categorical_accuracy: 0.9691\n",
            "Epoch 31/110\n",
            "200/200 [==============================] - 39s 193ms/step - loss: 0.2888 - categorical_accuracy: 0.9040 - val_loss: 0.1084 - val_categorical_accuracy: 0.9653\n",
            "Epoch 32/110\n",
            "200/200 [==============================] - 38s 192ms/step - loss: 0.3025 - categorical_accuracy: 0.8989 - val_loss: 0.0779 - val_categorical_accuracy: 0.9750\n",
            "Epoch 33/110\n",
            "200/200 [==============================] - 38s 192ms/step - loss: 0.3017 - categorical_accuracy: 0.8985 - val_loss: 0.0906 - val_categorical_accuracy: 0.9741\n",
            "Epoch 34/110\n",
            "200/200 [==============================] - 39s 196ms/step - loss: 0.2818 - categorical_accuracy: 0.9064 - val_loss: 0.0927 - val_categorical_accuracy: 0.9703\n",
            "Epoch 35/110\n",
            "200/200 [==============================] - 39s 195ms/step - loss: 0.2860 - categorical_accuracy: 0.9083 - val_loss: 0.0845 - val_categorical_accuracy: 0.9769\n",
            "Epoch 36/110\n",
            "200/200 [==============================] - 39s 195ms/step - loss: 0.2790 - categorical_accuracy: 0.9069 - val_loss: 0.0938 - val_categorical_accuracy: 0.9719\n",
            "Epoch 37/110\n",
            "200/200 [==============================] - 39s 193ms/step - loss: 0.2691 - categorical_accuracy: 0.9105 - val_loss: 0.0735 - val_categorical_accuracy: 0.9775\n",
            "Epoch 38/110\n",
            "200/200 [==============================] - 39s 194ms/step - loss: 0.2660 - categorical_accuracy: 0.9134 - val_loss: 0.0672 - val_categorical_accuracy: 0.9819\n",
            "Epoch 39/110\n",
            "200/200 [==============================] - 39s 195ms/step - loss: 0.2769 - categorical_accuracy: 0.9095 - val_loss: 0.1017 - val_categorical_accuracy: 0.9675\n",
            "Epoch 40/110\n",
            "200/200 [==============================] - 38s 192ms/step - loss: 0.2736 - categorical_accuracy: 0.9087 - val_loss: 0.0740 - val_categorical_accuracy: 0.9747\n",
            "Epoch 41/110\n",
            "200/200 [==============================] - 39s 193ms/step - loss: 0.2561 - categorical_accuracy: 0.9192 - val_loss: 0.0608 - val_categorical_accuracy: 0.9834\n",
            "Epoch 42/110\n",
            "200/200 [==============================] - 39s 194ms/step - loss: 0.2487 - categorical_accuracy: 0.9183 - val_loss: 0.0936 - val_categorical_accuracy: 0.9719\n",
            "Epoch 43/110\n",
            "200/200 [==============================] - 39s 195ms/step - loss: 0.2496 - categorical_accuracy: 0.9214 - val_loss: 0.0737 - val_categorical_accuracy: 0.9809\n",
            "Epoch 44/110\n",
            "200/200 [==============================] - 39s 194ms/step - loss: 0.2466 - categorical_accuracy: 0.9211 - val_loss: 0.0686 - val_categorical_accuracy: 0.9806\n",
            "Epoch 45/110\n",
            "200/200 [==============================] - 39s 195ms/step - loss: 0.2476 - categorical_accuracy: 0.9201 - val_loss: 0.0682 - val_categorical_accuracy: 0.9806\n",
            "Epoch 46/110\n",
            "200/200 [==============================] - 39s 194ms/step - loss: 0.2539 - categorical_accuracy: 0.9206 - val_loss: 0.0700 - val_categorical_accuracy: 0.9816\n",
            "Epoch 47/110\n",
            "200/200 [==============================] - 39s 194ms/step - loss: 0.2579 - categorical_accuracy: 0.9170 - val_loss: 0.0721 - val_categorical_accuracy: 0.9791\n",
            "Epoch 48/110\n",
            "200/200 [==============================] - 39s 194ms/step - loss: 0.2446 - categorical_accuracy: 0.9191 - val_loss: 0.0723 - val_categorical_accuracy: 0.9803\n",
            "Epoch 49/110\n",
            "200/200 [==============================] - 39s 195ms/step - loss: 0.2313 - categorical_accuracy: 0.9255 - val_loss: 0.0804 - val_categorical_accuracy: 0.9791\n",
            "Epoch 50/110\n",
            "200/200 [==============================] - 39s 197ms/step - loss: 0.2321 - categorical_accuracy: 0.9229 - val_loss: 0.0666 - val_categorical_accuracy: 0.9772\n",
            "Epoch 51/110\n",
            "200/200 [==============================] - 39s 196ms/step - loss: 0.2175 - categorical_accuracy: 0.9304 - val_loss: 0.0599 - val_categorical_accuracy: 0.9866\n",
            "Epoch 52/110\n",
            "200/200 [==============================] - 39s 196ms/step - loss: 0.2337 - categorical_accuracy: 0.9251 - val_loss: 0.0621 - val_categorical_accuracy: 0.9828\n",
            "Epoch 53/110\n",
            "200/200 [==============================] - 39s 195ms/step - loss: 0.2263 - categorical_accuracy: 0.9270 - val_loss: 0.0620 - val_categorical_accuracy: 0.9834\n",
            "Epoch 54/110\n",
            "200/200 [==============================] - 39s 195ms/step - loss: 0.2413 - categorical_accuracy: 0.9250 - val_loss: 0.0775 - val_categorical_accuracy: 0.9809\n",
            "Epoch 55/110\n",
            "200/200 [==============================] - 39s 194ms/step - loss: 0.2015 - categorical_accuracy: 0.9364 - val_loss: 0.0679 - val_categorical_accuracy: 0.9803\n",
            "Epoch 56/110\n",
            "200/200 [==============================] - 39s 195ms/step - loss: 0.2174 - categorical_accuracy: 0.9313 - val_loss: 0.0552 - val_categorical_accuracy: 0.9841\n",
            "Epoch 57/110\n",
            "200/200 [==============================] - 39s 194ms/step - loss: 0.2091 - categorical_accuracy: 0.9345 - val_loss: 0.0963 - val_categorical_accuracy: 0.9697\n",
            "Epoch 58/110\n",
            "200/200 [==============================] - 39s 196ms/step - loss: 0.2200 - categorical_accuracy: 0.9288 - val_loss: 0.0524 - val_categorical_accuracy: 0.9856\n",
            "Epoch 59/110\n",
            "200/200 [==============================] - 39s 197ms/step - loss: 0.2117 - categorical_accuracy: 0.9300 - val_loss: 0.0554 - val_categorical_accuracy: 0.9853\n",
            "Epoch 60/110\n",
            "200/200 [==============================] - 39s 195ms/step - loss: 0.2067 - categorical_accuracy: 0.9353 - val_loss: 0.0512 - val_categorical_accuracy: 0.9862\n",
            "Epoch 61/110\n",
            "200/200 [==============================] - 39s 195ms/step - loss: 0.2016 - categorical_accuracy: 0.9341 - val_loss: 0.0474 - val_categorical_accuracy: 0.9862\n",
            "Epoch 62/110\n",
            "200/200 [==============================] - 39s 195ms/step - loss: 0.2022 - categorical_accuracy: 0.9367 - val_loss: 0.0545 - val_categorical_accuracy: 0.9847\n",
            "Epoch 63/110\n",
            "200/200 [==============================] - 39s 195ms/step - loss: 0.2068 - categorical_accuracy: 0.9343 - val_loss: 0.0521 - val_categorical_accuracy: 0.9862\n",
            "Epoch 64/110\n",
            "200/200 [==============================] - 39s 195ms/step - loss: 0.2031 - categorical_accuracy: 0.9360 - val_loss: 0.0564 - val_categorical_accuracy: 0.9825\n",
            "Epoch 65/110\n",
            "200/200 [==============================] - 39s 194ms/step - loss: 0.1921 - categorical_accuracy: 0.9382 - val_loss: 0.0674 - val_categorical_accuracy: 0.9791\n",
            "Epoch 66/110\n",
            "200/200 [==============================] - 39s 196ms/step - loss: 0.1931 - categorical_accuracy: 0.9389 - val_loss: 0.0604 - val_categorical_accuracy: 0.9825\n",
            "Epoch 67/110\n",
            "200/200 [==============================] - 39s 196ms/step - loss: 0.1948 - categorical_accuracy: 0.9367 - val_loss: 0.0491 - val_categorical_accuracy: 0.9887\n",
            "Epoch 68/110\n",
            "200/200 [==============================] - 39s 196ms/step - loss: 0.1904 - categorical_accuracy: 0.9408 - val_loss: 0.0698 - val_categorical_accuracy: 0.9806\n",
            "Epoch 69/110\n",
            "200/200 [==============================] - 39s 195ms/step - loss: 0.2033 - categorical_accuracy: 0.9366 - val_loss: 0.0587 - val_categorical_accuracy: 0.9847\n",
            "Epoch 70/110\n",
            "200/200 [==============================] - 39s 195ms/step - loss: 0.1862 - categorical_accuracy: 0.9407 - val_loss: 0.0470 - val_categorical_accuracy: 0.9875\n",
            "Epoch 71/110\n",
            "200/200 [==============================] - 39s 194ms/step - loss: 0.1976 - categorical_accuracy: 0.9399 - val_loss: 0.0493 - val_categorical_accuracy: 0.9850\n",
            "Epoch 72/110\n",
            "200/200 [==============================] - 39s 194ms/step - loss: 0.1969 - categorical_accuracy: 0.9367 - val_loss: 0.0523 - val_categorical_accuracy: 0.9897\n",
            "Epoch 73/110\n",
            "200/200 [==============================] - 39s 196ms/step - loss: 0.1880 - categorical_accuracy: 0.9402 - val_loss: 0.0509 - val_categorical_accuracy: 0.9869\n",
            "Epoch 74/110\n",
            "200/200 [==============================] - 39s 196ms/step - loss: 0.1827 - categorical_accuracy: 0.9409 - val_loss: 0.0575 - val_categorical_accuracy: 0.9850\n",
            "Epoch 75/110\n",
            "200/200 [==============================] - 39s 195ms/step - loss: 0.1875 - categorical_accuracy: 0.9386 - val_loss: 0.0674 - val_categorical_accuracy: 0.9841\n",
            "Epoch 76/110\n",
            "200/200 [==============================] - 39s 196ms/step - loss: 0.1850 - categorical_accuracy: 0.9418 - val_loss: 0.0546 - val_categorical_accuracy: 0.9831\n",
            "Epoch 77/110\n",
            "200/200 [==============================] - 39s 194ms/step - loss: 0.1920 - categorical_accuracy: 0.9395 - val_loss: 0.0464 - val_categorical_accuracy: 0.9853\n",
            "Epoch 78/110\n",
            "200/200 [==============================] - 39s 194ms/step - loss: 0.2025 - categorical_accuracy: 0.9358 - val_loss: 0.0435 - val_categorical_accuracy: 0.9897\n",
            "Epoch 79/110\n",
            "200/200 [==============================] - 39s 195ms/step - loss: 0.1783 - categorical_accuracy: 0.9441 - val_loss: 0.0500 - val_categorical_accuracy: 0.9862\n",
            "Epoch 80/110\n",
            "200/200 [==============================] - 39s 194ms/step - loss: 0.1751 - categorical_accuracy: 0.9450 - val_loss: 0.0507 - val_categorical_accuracy: 0.9866\n",
            "Epoch 81/110\n",
            "200/200 [==============================] - 39s 195ms/step - loss: 0.1824 - categorical_accuracy: 0.9419 - val_loss: 0.0516 - val_categorical_accuracy: 0.9891\n",
            "Epoch 82/110\n",
            "200/200 [==============================] - 39s 197ms/step - loss: 0.1673 - categorical_accuracy: 0.9468 - val_loss: 0.0576 - val_categorical_accuracy: 0.9841\n",
            "Epoch 83/110\n",
            "200/200 [==============================] - 39s 195ms/step - loss: 0.1872 - categorical_accuracy: 0.9414 - val_loss: 0.0426 - val_categorical_accuracy: 0.9850\n",
            "Epoch 84/110\n",
            "200/200 [==============================] - 39s 195ms/step - loss: 0.1782 - categorical_accuracy: 0.9437 - val_loss: 0.0467 - val_categorical_accuracy: 0.9869\n",
            "Epoch 85/110\n",
            "200/200 [==============================] - 39s 195ms/step - loss: 0.1762 - categorical_accuracy: 0.9461 - val_loss: 0.0405 - val_categorical_accuracy: 0.9887\n",
            "Epoch 86/110\n",
            "200/200 [==============================] - 39s 196ms/step - loss: 0.1745 - categorical_accuracy: 0.9454 - val_loss: 0.0568 - val_categorical_accuracy: 0.9847\n",
            "Epoch 87/110\n",
            "200/200 [==============================] - 39s 195ms/step - loss: 0.1731 - categorical_accuracy: 0.9472 - val_loss: 0.0476 - val_categorical_accuracy: 0.9862\n",
            "Epoch 88/110\n",
            "200/200 [==============================] - 39s 195ms/step - loss: 0.1726 - categorical_accuracy: 0.9446 - val_loss: 0.0420 - val_categorical_accuracy: 0.9875\n",
            "Epoch 89/110\n",
            "200/200 [==============================] - 39s 196ms/step - loss: 0.1717 - categorical_accuracy: 0.9477 - val_loss: 0.0513 - val_categorical_accuracy: 0.9872\n",
            "Epoch 90/110\n",
            "200/200 [==============================] - 40s 198ms/step - loss: 0.1780 - categorical_accuracy: 0.9450 - val_loss: 0.0518 - val_categorical_accuracy: 0.9872\n",
            "Epoch 91/110\n",
            "200/200 [==============================] - 39s 197ms/step - loss: 0.1664 - categorical_accuracy: 0.9465 - val_loss: 0.0469 - val_categorical_accuracy: 0.9850\n",
            "Epoch 92/110\n",
            "200/200 [==============================] - 39s 195ms/step - loss: 0.1717 - categorical_accuracy: 0.9455 - val_loss: 0.0471 - val_categorical_accuracy: 0.9856\n",
            "Epoch 93/110\n",
            "200/200 [==============================] - 39s 195ms/step - loss: 0.1727 - categorical_accuracy: 0.9461 - val_loss: 0.0393 - val_categorical_accuracy: 0.9894\n",
            "Epoch 94/110\n",
            "200/200 [==============================] - 39s 196ms/step - loss: 0.1666 - categorical_accuracy: 0.9480 - val_loss: 0.0525 - val_categorical_accuracy: 0.9856\n",
            "Epoch 95/110\n",
            "200/200 [==============================] - 40s 198ms/step - loss: 0.1639 - categorical_accuracy: 0.9480 - val_loss: 0.0529 - val_categorical_accuracy: 0.9862\n",
            "Epoch 96/110\n",
            "200/200 [==============================] - 39s 196ms/step - loss: 0.1646 - categorical_accuracy: 0.9496 - val_loss: 0.0723 - val_categorical_accuracy: 0.9819\n",
            "Epoch 97/110\n",
            "200/200 [==============================] - 39s 196ms/step - loss: 0.1639 - categorical_accuracy: 0.9468 - val_loss: 0.0427 - val_categorical_accuracy: 0.9875\n",
            "Epoch 98/110\n",
            "200/200 [==============================] - 39s 195ms/step - loss: 0.1631 - categorical_accuracy: 0.9476 - val_loss: 0.0610 - val_categorical_accuracy: 0.9844\n",
            "Epoch 99/110\n",
            "200/200 [==============================] - 38s 192ms/step - loss: 0.1516 - categorical_accuracy: 0.9521 - val_loss: 0.0562 - val_categorical_accuracy: 0.9872\n",
            "Epoch 100/110\n",
            "200/200 [==============================] - 38s 192ms/step - loss: 0.1537 - categorical_accuracy: 0.9530 - val_loss: 0.0552 - val_categorical_accuracy: 0.9862\n",
            "Epoch 101/110\n",
            "200/200 [==============================] - 39s 194ms/step - loss: 0.1638 - categorical_accuracy: 0.9486 - val_loss: 0.0398 - val_categorical_accuracy: 0.9878\n",
            "Epoch 102/110\n",
            "200/200 [==============================] - 39s 194ms/step - loss: 0.1606 - categorical_accuracy: 0.9500 - val_loss: 0.0374 - val_categorical_accuracy: 0.9887\n",
            "Epoch 103/110\n",
            "200/200 [==============================] - 39s 193ms/step - loss: 0.1596 - categorical_accuracy: 0.9487 - val_loss: 0.0432 - val_categorical_accuracy: 0.9909\n",
            "Epoch 104/110\n",
            "200/200 [==============================] - 39s 194ms/step - loss: 0.1549 - categorical_accuracy: 0.9515 - val_loss: 0.0466 - val_categorical_accuracy: 0.9866\n",
            "Epoch 105/110\n",
            "200/200 [==============================] - 39s 196ms/step - loss: 0.1622 - categorical_accuracy: 0.9486 - val_loss: 0.0432 - val_categorical_accuracy: 0.9866\n",
            "Epoch 106/110\n",
            "200/200 [==============================] - 39s 195ms/step - loss: 0.1548 - categorical_accuracy: 0.9508 - val_loss: 0.0590 - val_categorical_accuracy: 0.9841\n",
            "Epoch 107/110\n",
            "200/200 [==============================] - 39s 195ms/step - loss: 0.1632 - categorical_accuracy: 0.9473 - val_loss: 0.0406 - val_categorical_accuracy: 0.9887\n",
            "Epoch 108/110\n",
            "200/200 [==============================] - 39s 195ms/step - loss: 0.1563 - categorical_accuracy: 0.9512 - val_loss: 0.0444 - val_categorical_accuracy: 0.9884\n",
            "Epoch 109/110\n",
            "200/200 [==============================] - 39s 196ms/step - loss: 0.1595 - categorical_accuracy: 0.9503 - val_loss: 0.0302 - val_categorical_accuracy: 0.9919\n",
            "Epoch 110/110\n",
            "200/200 [==============================] - 39s 193ms/step - loss: 0.1492 - categorical_accuracy: 0.9521 - val_loss: 0.0496 - val_categorical_accuracy: 0.9869\n",
            "Saved model as model_signs_11_classes_softmax_01092020205017.h5\n"
          ],
          "name": "stdout"
        }
      ]
    },
    {
      "cell_type": "markdown",
      "metadata": {
        "id": "LUtd1wwJeS4I",
        "colab_type": "text"
      },
      "source": [
        "###Sprawdzenie modelu"
      ]
    },
    {
      "cell_type": "markdown",
      "metadata": {
        "id": "h-LyI_lDeePo",
        "colab_type": "text"
      },
      "source": [
        "####Przebieg uczenia \n"
      ]
    },
    {
      "cell_type": "code",
      "metadata": {
        "id": "xgrk-WiNuPqX",
        "colab_type": "code",
        "colab": {
          "base_uri": "https://localhost:8080/",
          "height": 441
        },
        "outputId": "e9e10600-8397-48b5-bf84-9f840db1c259"
      },
      "source": [
        "fig = plt.figure(figsize=(12,6))\n",
        "plt.subplot(2,1,1)\n",
        "plt.plot(history.history['categorical_accuracy'])\n",
        "plt.plot(history.history['val_categorical_accuracy'])\n",
        "plt.title('model accuracy')\n",
        "plt.ylabel('accuracy')\n",
        "plt.xlabel('epoch')\n",
        "plt.legend(['train', 'test'], loc='lower right')\n",
        "\n",
        "plt.subplot(2,1,2)\n",
        "plt.plot(history.history['loss'])\n",
        "plt.plot(history.history['val_loss'])\n",
        "plt.title('model loss')\n",
        "plt.ylabel('loss')\n",
        "plt.xlabel('epoch')\n",
        "plt.legend(['train', 'test'], loc='upper right')\n",
        "plt.tight_layout()\n",
        "fig"
      ],
      "execution_count": 28,
      "outputs": [
        {
          "output_type": "execute_result",
          "data": {
            "image/png": "[encoded data removed]",
            "text/plain": [
              "<Figure size 864x432 with 2 Axes>"
            ]
          },
          "metadata": {
            "tags": []
          },
          "execution_count": 28
        }
      ]
    },
    {
      "cell_type": "markdown",
      "metadata": {
        "id": "RfMzRbAhfC9e",
        "colab_type": "text"
      },
      "source": [
        "####Testowanie modelu"
      ]
    },
    {
      "cell_type": "code",
      "metadata": {
        "id": "SVMbtjGN4FKU",
        "colab_type": "code",
        "colab": {
          "base_uri": "https://localhost:8080/",
          "height": 124
        },
        "outputId": "b0276fb2-c180-4372-e859-06003ea2cfbd"
      },
      "source": [
        "test_datagen = ImageDataGenerator(rescale=1./255)\n",
        "\n",
        "test_generator = test_datagen.flow_from_directory(\n",
        "        test_dir,\n",
        "        target_size=(picture_size, picture_size),\n",
        "        color_mode=\"rgb\",\n",
        "        shuffle = False,\n",
        "        class_mode='categorical',\n",
        "        batch_size=1,\n",
        "        )\n",
        "\n",
        "filenames = test_generator.filenames\n",
        "classes_gen = test_generator.class_indices\n",
        "classes_gen = test_generator.class_indices\n",
        "\n",
        "loss_acc = model.evaluate(test_generator)\n",
        "print(classes_gen)\n",
        "print('loss= ', loss_acc[0])\n",
        "print(\"acc= \", loss_acc[1])"
      ],
      "execution_count": 29,
      "outputs": [
        {
          "output_type": "stream",
          "text": [
            "Found 3492 images belonging to 11 classes.\n",
            "3492/3492 [==============================] - 11s 3ms/step - loss: 0.0509 - categorical_accuracy: 0.9860\n",
            "{'cross': 0, 'limit40': 1, 'limit50': 2, 'limit60': 3, 'limit70': 4, 'limit80': 5, 'no-overtaking': 6, 'nosign': 7, 'othersign': 8, 'stop': 9, 'yield': 10}\n",
            "loss=  0.05093410983681679\n",
            "acc=  0.9859679341316223\n"
          ],
          "name": "stdout"
        }
      ]
    },
    {
      "cell_type": "code",
      "metadata": {
        "id": "xRrryWRVsFDt",
        "colab_type": "code",
        "colab": {
          "base_uri": "https://localhost:8080/",
          "height": 243
        },
        "outputId": "d13cc674-ceb4-4e41-c8fd-2b0f3cb3ddd4"
      },
      "source": [
        "predict = model.predict_generator(test_generator,steps = len(filenames))\n",
        "predict"
      ],
      "execution_count": 30,
      "outputs": [
        {
          "output_type": "execute_result",
          "data": {
            "text/plain": [
              "array([[9.99079943e-01, 2.31516492e-06, 8.55037160e-06, ...,\n",
              "        3.62260384e-04, 4.65277699e-05, 9.10576055e-05],\n",
              "       [9.99893904e-01, 2.30931349e-07, 1.14492411e-06, ...,\n",
              "        7.19188247e-05, 8.13660904e-07, 4.65792891e-06],\n",
              "       [9.99977350e-01, 5.12525382e-08, 3.17839493e-07, ...,\n",
              "        1.32045025e-05, 2.01236148e-07, 1.58201487e-06],\n",
              "       ...,\n",
              "       [6.77350266e-13, 1.88749502e-14, 2.21382768e-16, ...,\n",
              "        1.96833608e-12, 3.91867114e-16, 1.00000000e+00],\n",
              "       [4.90059271e-10, 4.52891946e-10, 7.85009766e-11, ...,\n",
              "        2.68669798e-09, 6.43193068e-11, 1.00000000e+00],\n",
              "       [7.14342474e-11, 1.82168798e-12, 9.63949081e-13, ...,\n",
              "        1.74133125e-10, 2.10733340e-13, 1.00000000e+00]], dtype=float32)"
            ]
          },
          "metadata": {
            "tags": []
          },
          "execution_count": 30
        }
      ]
    },
    {
      "cell_type": "code",
      "metadata": {
        "id": "nasmaaVB5sIy",
        "colab_type": "code",
        "colab": {
          "base_uri": "https://localhost:8080/",
          "height": 225
        },
        "outputId": "c6713219-1ba1-4d9d-b9f7-df36a1fe7c72"
      },
      "source": [
        "from google.colab.patches import cv2_imshow\n",
        "\n",
        "signs = test_generator.class_indices\n",
        "prediction_list = []\n",
        "memo_correct_percent = {}\n",
        "for sign in signs:\n",
        "  files = os.path.join(test_dir, sign)\n",
        "  test_files = os.listdir(files)\n",
        "  incorrect = 0\n",
        "  for f in test_files:\n",
        "    path_to_test = os.path.join(files, f)\n",
        "    img = cv2.imread(path_to_test)\n",
        "    img_rgb = cv2.cvtColor(img, cv2.COLOR_BGR2RGB)\n",
        "    img_resized = cv2.resize(img_rgb,(picture_size,picture_size))\n",
        "    img_resized_float = img_resized.astype(\"float32\") / 255\n",
        "    img_tensor = np.reshape(img_resized_float,[1,picture_size,picture_size,3])\n",
        "    classes = (model.predict_classes(img_tensor)).tolist()\n",
        "    for num, class_ in enumerate(signs):\n",
        "      if classes[0] == num:\n",
        "        classes = list(signs.keys())[list(signs.values()).index(num)]\n",
        "    else:\n",
        "      classes\n",
        "    if classes != sign:\n",
        "      # cv2_imshow(img)\n",
        "      incorrect += 1 \n",
        "  corrent_percent = round(100-(incorrect/len(test_files)*100))\n",
        "  memo_correct_percent[sign] = corrent_percent\n",
        "  prediction_note = f'{sign}: {incorrect} / {len(test_files)},  Poprawność: {corrent_percent}%'\n",
        "  prediction_list.append(prediction_note)\n",
        "  print(prediction_note)\n",
        "mean_correct_percent = round(sum(memo_correct_percent.values()) / len(signs), 1)\n",
        "print(f'Średnia poprawność predykcji: {mean_correct_percent}%')"
      ],
      "execution_count": 31,
      "outputs": [
        {
          "output_type": "stream",
          "text": [
            "cross: 1 / 409,  Poprawność: 100%\n",
            "limit40: 9 / 98,  Poprawność: 91%\n",
            "limit50: 5 / 312,  Poprawność: 98%\n",
            "limit60: 4 / 191,  Poprawność: 98%\n",
            "limit70: 5 / 211,  Poprawność: 98%\n",
            "limit80: 3 / 206,  Poprawność: 99%\n",
            "no-overtaking: 1 / 62,  Poprawność: 98%\n",
            "nosign: 17 / 1334,  Poprawność: 99%\n",
            "othersign: 5 / 155,  Poprawność: 97%\n",
            "stop: 2 / 236,  Poprawność: 99%\n",
            "yield: 6 / 278,  Poprawność: 98%\n",
            "Średnia poprawność predykcji: 97.7%\n"
          ],
          "name": "stdout"
        }
      ]
    },
    {
      "cell_type": "markdown",
      "metadata": {
        "id": "WwDG6IiWVFF4",
        "colab_type": "text"
      },
      "source": [
        "###Zapis danych modelu i wyników do pliku tekstowego"
      ]
    },
    {
      "cell_type": "code",
      "metadata": {
        "id": "FgiNAOri-nSk",
        "colab_type": "code",
        "colab": {}
      },
      "source": [
        "time_date = time.strftime(\"%d/%m/%Y - %H:%M:%S\")\n",
        "with open(\"/content/drive/My Drive/Colab Notebooks/Road_sign_rec/Log_data.txt\", \"a\") as f:\n",
        "  f.write(f\"Model {time_date} \\n\")\n",
        "  f.write(f\"Funkcja aktywacji: {activation} \\n\")\n",
        "  f.write(f\"Liczba klas: {len(classes_gen)}\\n\")\n",
        "  f.write(f\"Ilość zdjęć treningowych: \\n\")\n",
        "  for key, value in train_folders_length.items():\n",
        "    f.write(f\"\\t{key}: {value}\\n\")\n",
        "  f.write(f\"Ilość zdjęć walidacyjnych: \\n\")\n",
        "  for key, value in valid_folders_length.items():\n",
        "    f.write(f\"\\t{key}: {value}\\n\")\n",
        "  f.write(f\"Parametry:\\n \\tEpochs: {epochs}\\n \\tMetrics: {metrics}\\n \\tLoss: {loss}\\n \\tClassification: {class_mode} \\n\")\n",
        "  f.write(f\"\\tBatch size: {batch_size}\\n\")\n",
        "  f.write(f\"\\tWielkość zdjęć: {picture_size}x{picture_size}px\\n\")\n",
        "  f.write(f\"\\tIlość warstw modelu: {len(model.layers)}\\n\")\n",
        "  f.write(f\"\\tDropout: 1 - {dropout_1}; 2 - {dropout_2}; 3 - {dropout_3}; 4 - {dropout_4}; 5 - {dropout_5}; 6 - {dropout_6}\\n\")\n",
        "  f.write(\"\\n\")\n",
        "  f.write(\"Wyniki: \\n\")\n",
        "  f.write(f\"\\tSTRATA [loss]: {loss_acc[0]}\\n\")\n",
        "  f.write(f\"\\tDOKŁADNOŚĆ [acc]: {loss_acc[1]}\\n\")\n",
        "  f.write(f\"\\tIlość zdjęć testowych: {len(test_generator.filenames)}\\n\")\n",
        "  for prediction in prediction_list:\n",
        "    f.write(f\"\\t{prediction}\\n\")\n",
        "  f.write(f\"Średnia poprawność manualnej predykcji: {mean_correct_percent}% \\n\")\n",
        "  f.write(f\"Nazwa pliku: {model_name}\")\n",
        "  f.write(\"\\n\")\n",
        "  f.write(\"-------------------------------------------------------------\")\n",
        "  f.write(\"\\n\\n\")"
      ],
      "execution_count": 32,
      "outputs": []
    },
    {
      "cell_type": "markdown",
      "metadata": {
        "id": "57sqxKgIeiIU",
        "colab_type": "text"
      },
      "source": [
        "###Zapis modelu (.json) i wag (.h5)"
      ]
    },
    {
      "cell_type": "code",
      "metadata": {
        "id": "jViqYOilFGvH",
        "colab_type": "code",
        "colab": {}
      },
      "source": [
        "model_name_json = f'model_{len(classes_gen)}conv.json'\n",
        "model_path = os.path.join(\"/content/drive/My Drive/Colab Notebooks/Road_sign_rec/Data\", model_name_json)\n",
        "json_config = model.to_json()\n",
        "with open(model_path, 'w') as json_file:\n",
        "    json_file.write(json_config)"
      ],
      "execution_count": 33,
      "outputs": []
    },
    {
      "cell_type": "code",
      "metadata": {
        "id": "HQh5u5qc36F4",
        "colab_type": "code",
        "colab": {}
      },
      "source": [
        "model_name = 'model_signs_4_classes.h5'\n",
        "model_path = os.path.join(base_dir, model_name)\n",
        "model.save(model_path)"
      ],
      "execution_count": null,
      "outputs": []
    },
    {
      "cell_type": "code",
      "metadata": {
        "id": "ckNC7f9KaBfo",
        "colab_type": "code",
        "colab": {}
      },
      "source": [
        "model_name = 'model_signs_4_multi_classes_softmax.h5'\n",
        "model_path = os.path.join(base_dir, model_name)\n",
        "model.save(model_path)"
      ],
      "execution_count": null,
      "outputs": []
    },
    {
      "cell_type": "code",
      "metadata": {
        "id": "1EtyyAH1Tx4m",
        "colab_type": "code",
        "colab": {}
      },
      "source": [
        "model_name = 'model_signs_4_multi_classes_sigmoid.h5'\n",
        "model_path = os.path.join(base_dir, model_name)\n",
        "model.save(model_path)"
      ],
      "execution_count": null,
      "outputs": []
    },
    {
      "cell_type": "code",
      "metadata": {
        "id": "hOS4hhKMOe6U",
        "colab_type": "code",
        "colab": {}
      },
      "source": [
        "model.load_weights('/content/drive/My Drive/Colab Notebooks/Road_sign_rec/model_signs_9_classe_sigmoid_23052020.h5')"
      ],
      "execution_count": null,
      "outputs": []
    },
    {
      "cell_type": "code",
      "metadata": {
        "id": "vhEm1sl86NmF",
        "colab_type": "code",
        "colab": {}
      },
      "source": [
        "figure = plt.figure()\n",
        "files = os.path.join(test_dir, 'cross')\n",
        "test_files = os.listdir(files)\n",
        "path_to_test = os.path.join(files, test_files[100])\n",
        "img = cv2.imread(path_to_test)\n",
        "img = cv2.cvtColor(img, cv2.COLOR_BGR2RGB)\n",
        "img = cv2.resize(img,(picture_size,picture_size))\n",
        "plt.imshow(img)\n",
        "plt.show()"
      ],
      "execution_count": null,
      "outputs": []
    },
    {
      "cell_type": "markdown",
      "metadata": {
        "id": "PnSDOcbQfK8H",
        "colab_type": "text"
      },
      "source": [
        "##Detekcja wideo"
      ]
    },
    {
      "cell_type": "markdown",
      "metadata": {
        "id": "NXyERENbfP4x",
        "colab_type": "text"
      },
      "source": [
        "###Pliki i ścieżki"
      ]
    },
    {
      "cell_type": "code",
      "metadata": {
        "id": "PzK868vIbIxu",
        "colab_type": "code",
        "colab": {
          "base_uri": "https://localhost:8080/",
          "height": 34
        },
        "outputId": "22a847f0-6536-4ce1-c7c6-e06a9db1feaf"
      },
      "source": [
        "video_path_input_directory = '/content/drive/My Drive/Colab Notebooks/Road_sign_rec/Input'\n",
        "video_file_name = 'warsaw_drive_test.mp4'\n",
        "video_path_file = os.path.join(video_path_input_directory, video_file_name)\n",
        "video_path_output = '/content/drive/My Drive/Colab Notebooks/Road_sign_rec/Output'\n",
        "print(video_path_file)\n",
        "from google.colab.patches import cv2_imshow"
      ],
      "execution_count": null,
      "outputs": [
        {
          "output_type": "stream",
          "text": [
            "/content/drive/My Drive/Colab Notebooks/Road_sign_rec/Input/warsaw_drive_test.mp4\n"
          ],
          "name": "stdout"
        }
      ]
    },
    {
      "cell_type": "code",
      "metadata": {
        "id": "6MjRwu8HcBue",
        "colab_type": "code",
        "colab": {}
      },
      "source": [
        "  ss = cv2.ximgproc.segmentation.createSelectiveSearchSegmentation()\n",
        "  cap = cv2.VideoCapture(video_path_file)\n",
        "  video_length = int(cap.get(cv2.CAP_PROP_FRAME_COUNT))\n",
        "  cap_video_fps = int(cap.get(cv2.CAP_PROP_FPS))\n",
        "  cap_video_width = int(cap.get(cv2.CAP_PROP_FRAME_WIDTH))\n",
        "  cap_video_height = int(cap.get(cv2.CAP_PROP_FRAME_HEIGHT))\n",
        "  print(\"FPS\", cap_video_fps)\n",
        "  print(\"Length\", video_length)\n",
        "  writer = None\n",
        "  (W, H) = (None, None)\n",
        "  mean = np.array([100, 100, 100], dtype=\"float32\")\n",
        "  i = 0\n",
        "  while True:\n",
        "      i += 1\n",
        "      print(f'{i} / {video_length}')\n",
        "      (grabbed, frame) = cap.read()\n",
        "      if not grabbed:\n",
        "          break\n",
        "      if W is None or H is None:\n",
        "          (H, W) = frame.shape[:2]\n",
        "      output = frame.copy()\n",
        "      ss.setBaseImage(output)\n",
        "      try:\n",
        "        ss.switchToSelectiveSearchFast()\n",
        "      except cv2.error:\n",
        "        break\n",
        "      ssresults = ss.process()\n",
        "      for w, result in enumerate(ssresults):\n",
        "          if w < 2000:\n",
        "              x, y, w, h = result\n",
        "              timage = output[y:y+h, x:x+w]\n",
        "              resized = cv2.resize(timage, (100, 100), interpolation=cv2.INTER_AREA)\n",
        "              resized = resized - mean\n",
        "              img = np.expand_dims(resized, axis=0)\n",
        "              out = model.predict(img/255.0, batch_size=10)\n",
        "              if out[0][0] >= 0.99:\n",
        "                  cv2.rectangle(output, (x, y), (x+w, y+h), (0, 255, 0), 1, cv2.LINE_AA)\n",
        "      if writer is None:\n",
        "          fourcc = cv2.VideoWriter_fourcc(*\"MJPG\")\n",
        "          writer = cv2.VideoWriter('Output/out_video.mp4', \n",
        "                                   fourcc, \n",
        "                                   30,\n",
        "                                   (W, H), \n",
        "                                   True,\n",
        "                                   )\n",
        "      writer.write(output)\n",
        "      cv2_imshow(output)\n",
        "  print(\"__END__\")"
      ],
      "execution_count": null,
      "outputs": []
    }
  ]
}