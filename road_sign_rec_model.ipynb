{
  "nbformat": 4,
  "nbformat_minor": 0,
  "metadata": {
    "colab": {
      "name": "road_sign_rec_model.ipynb",
      "provenance": [],
      "collapsed_sections": [
        "hfqmdzzsfq81",
        "Vv-DHfNSpk4I"
      ],
      "toc_visible": true,
      "mount_file_id": "1boPHgyMz_HPFVyOHPW7kt2nrZBDBJubM",
      "authorship_tag": "ABX9TyORHN7KnDFFUqRYCD12yV0q",
      "include_colab_link": true
    },
    "kernelspec": {
      "name": "python3",
      "display_name": "Python 3"
    },
    "accelerator": "GPU"
  },
  "cells": [
    {
      "cell_type": "markdown",
      "metadata": {
        "id": "view-in-github",
        "colab_type": "text"
      },
      "source": [
        "<a href=\"https://colab.research.google.com/github/OrJaku/road-sign-recognition/blob/master/road_sign_rec_model.ipynb\" target=\"_parent\"><img src=\"https://colab.research.google.com/assets/colab-badge.svg\" alt=\"Open In Colab\"/></a>"
      ]
    },
    {
      "cell_type": "markdown",
      "metadata": {
        "id": "A1BoHNMscLwp",
        "colab_type": "text"
      },
      "source": [
        "##Biblioteki"
      ]
    },
    {
      "cell_type": "code",
      "metadata": {
        "id": "yILZf6IzcwYp",
        "colab_type": "code",
        "colab": {
          "base_uri": "https://localhost:8080/",
          "height": 34
        },
        "outputId": "b1c25488-09bc-4bfd-c97c-df652ef2bc7f"
      },
      "source": [
        "import os, shutil, cv2, json\n",
        "import pandas as pd\n",
        "import numpy as np\n",
        "from keras import layers, models, optimizers, metrics\n",
        "from keras.preprocessing.image import ImageDataGenerator\n",
        "import matplotlib\n",
        "matplotlib.use('agg')\n",
        "import matplotlib.pyplot as plt\n",
        "import matplotlib.image as mpimg \n",
        "import time\n"
      ],
      "execution_count": 1,
      "outputs": [
        {
          "output_type": "stream",
          "text": [
            "Using TensorFlow backend.\n"
          ],
          "name": "stderr"
        }
      ]
    },
    {
      "cell_type": "markdown",
      "metadata": {
        "id": "YGc8PWa5cM-H",
        "colab_type": "text"
      },
      "source": [
        "## Pliki"
      ]
    },
    {
      "cell_type": "code",
      "metadata": {
        "id": "5yI9rJmbZMNh",
        "colab_type": "code",
        "colab": {
          "base_uri": "https://localhost:8080/",
          "height": 34
        },
        "outputId": "e4767711-a471-4085-e186-e0183fddcbea"
      },
      "source": [
        "cd \"/content/drive/My Drive/Colab Notebooks/Road_sign_rec\""
      ],
      "execution_count": null,
      "outputs": [
        {
          "output_type": "stream",
          "text": [
            "/content/drive/My Drive/Colab Notebooks/Road_sign_rec\n"
          ],
          "name": "stdout"
        }
      ]
    },
    {
      "cell_type": "code",
      "metadata": {
        "id": "IJjxYF4Yxlms",
        "colab_type": "code",
        "colab": {
          "base_uri": "https://localhost:8080/",
          "height": 34
        },
        "outputId": "f06d54b1-63fd-4ec4-d4bc-523ff462f0b9"
      },
      "source": [
        "cd \"/content/drive/My Drive/Colab Notebooks/Road_sign_rec/data\""
      ],
      "execution_count": null,
      "outputs": [
        {
          "output_type": "stream",
          "text": [
            "/content/drive/My Drive/Colab Notebooks/Road_sign_rec/data\n"
          ],
          "name": "stdout"
        }
      ]
    },
    {
      "cell_type": "code",
      "metadata": {
        "id": "EMokUffyxdg3",
        "colab_type": "code",
        "colab": {}
      },
      "source": [
        "from google.colab import files\n",
        "\n",
        "uploaded = files.upload()"
      ],
      "execution_count": null,
      "outputs": []
    },
    {
      "cell_type": "markdown",
      "metadata": {
        "id": "GBHKh-2fcYq8",
        "colab_type": "text"
      },
      "source": [
        "### Kopiowanie obrazów treningowych na dysk Colab"
      ]
    },
    {
      "cell_type": "code",
      "metadata": {
        "id": "RvxjUGItyVkF",
        "colab_type": "code",
        "colab": {
          "base_uri": "https://localhost:8080/",
          "height": 34
        },
        "outputId": "1aba1984-20b6-4f58-8d5e-e638e996b93c"
      },
      "source": [
        "cd \"/content\""
      ],
      "execution_count": 2,
      "outputs": [
        {
          "output_type": "stream",
          "text": [
            "/content\n"
          ],
          "name": "stdout"
        }
      ]
    },
    {
      "cell_type": "code",
      "metadata": {
        "id": "_rZWntpHya4K",
        "colab_type": "code",
        "colab": {}
      },
      "source": [
        "try:\n",
        "  os.mkdir(\"data\")\n",
        "except FileExistsError:\n",
        "  pass\n",
        "!cp \"/content/drive/My Drive/Colab Notebooks/Road_sign_rec/Data/Dataset_extend_zip.zip\" \"/content/data/Dataset_extend_zip.zip\""
      ],
      "execution_count": 3,
      "outputs": []
    },
    {
      "cell_type": "code",
      "metadata": {
        "id": "lOPH5wcOzQWF",
        "colab_type": "code",
        "colab": {
          "base_uri": "https://localhost:8080/",
          "height": 34
        },
        "outputId": "d75eb5be-7baa-4732-e6c2-6bee426c6ed8"
      },
      "source": [
        "cd data"
      ],
      "execution_count": 4,
      "outputs": [
        {
          "output_type": "stream",
          "text": [
            "/content/data\n"
          ],
          "name": "stdout"
        }
      ]
    },
    {
      "cell_type": "code",
      "metadata": {
        "id": "09hioilizA-l",
        "colab_type": "code",
        "colab": {}
      },
      "source": [
        "!unzip -q Dataset_extend_zip.zip"
      ],
      "execution_count": 5,
      "outputs": []
    },
    {
      "cell_type": "code",
      "metadata": {
        "id": "lW7wOoYWzEzS",
        "colab_type": "code",
        "colab": {
          "base_uri": "https://localhost:8080/",
          "height": 52
        },
        "outputId": "57022c8a-0524-46f6-bb2b-a9c4bf8b448d"
      },
      "source": [
        "data_folder = \"/content/data/Data\"\n",
        "train_folder = os.path.join(data_folder, 'train_data')\n",
        "signs_list_train = os.listdir(train_folder)\n",
        "train_folders_length = {}\n",
        "for signs_train in signs_list_train:\n",
        "  train_folders_length[signs_train] = len(os.listdir(os.path.join(train_folder, signs_train)))\n",
        "print(train_folders_length)\n",
        "\n",
        "valid_folder = os.path.join(data_folder, 'valid_data')\n",
        "signs_list_valid = os.listdir(valid_folder)\n",
        "valid_folders_length = {}\n",
        "for signs_val in signs_list_valid:\n",
        "  valid_folders_length[signs_val] = len(os.listdir(os.path.join(valid_folder, signs_val)))\n",
        "print(valid_folders_length)"
      ],
      "execution_count": 6,
      "outputs": [
        {
          "output_type": "stream",
          "text": [
            "{'limit80': 1236, 'cross': 1326, 'limit60': 1144, 'limit50': 1606, 'othersign': 786, 'limit70': 1264, 'limit40': 586, 'nosign': 2716, 'stop': 1314, 'yield': 1665}\n",
            "{'limit80': 618, 'cross': 663, 'limit60': 573, 'limit50': 803, 'othersign': 393, 'limit70': 633, 'limit40': 294, 'nosign': 915, 'stop': 506, 'yield': 832}\n"
          ],
          "name": "stdout"
        }
      ]
    },
    {
      "cell_type": "markdown",
      "metadata": {
        "id": "L97BfvTNfVIG",
        "colab_type": "text"
      },
      "source": [
        "### Przygotowanie folderów"
      ]
    },
    {
      "cell_type": "code",
      "metadata": {
        "id": "gLFz7U1VZXQ2",
        "colab_type": "code",
        "colab": {}
      },
      "source": [
        "base_dir = \"Data/\"\n",
        "train_dir = os.path.join(base_dir, 'train_data')\n",
        "try:\n",
        "  os.mkdir(train_dir)\n",
        "except FileExistsError:\n",
        "  pass\n",
        "\n",
        "cross_train =  os.path.join(train_dir, 'cross')\n",
        "stop_train =  os.path.join(train_dir, 'stop')\n",
        "limit50_train =  os.path.join(train_dir, 'limit50')\n",
        "nosign_train =  os.path.join(train_dir, 'nosign')\n",
        "try:\n",
        "  os.mkdir(nosign_train)\n",
        "except FileExistsError:\n",
        "  pass\n",
        "try:\n",
        "  os.mkdir(cross_train)\n",
        "except FileExistsError:\n",
        "  pass\n",
        "try:\n",
        "  os.mkdir(stop_train)\n",
        "except FileExistsError:\n",
        "  pass\n",
        "try:\n",
        "  os.mkdir(limit50_train)\n",
        "except FileExistsError:\n",
        "  pass\n",
        "\n",
        "valid_dir = os.path.join(base_dir, 'valid_data')\n",
        "try:\n",
        "  os.mkdir(valid_dir)\n",
        "except FileExistsError:\n",
        "  pass\n",
        "\n",
        "cross_val =  os.path.join(valid_dir, 'cross')\n",
        "stop_val =  os.path.join(valid_dir, 'stop')\n",
        "limit50_val =  os.path.join(valid_dir, 'limit50')\n",
        "nosign_val =  os.path.join(valid_dir, 'nosign')\n",
        "\n",
        "try:\n",
        "  os.mkdir(nosign_val)\n",
        "except FileExistsError:\n",
        "  pass\n",
        "try:\n",
        "  os.mkdir(cross_val)\n",
        "except FileExistsError:\n",
        "  pass\n",
        "try:\n",
        "  os.mkdir(stop_val)\n",
        "except FileExistsError:\n",
        "  pass\n",
        "try:\n",
        "  os.mkdir(limit50_val)\n",
        "except FileExistsError:\n",
        "  pass\n",
        "\n",
        "test_dir = os.path.join(base_dir, 'test_data')\n",
        "try:\n",
        "  os.mkdir(test_dir)\n",
        "except FileExistsError:\n",
        "  pass\n",
        "\n",
        "cross_test =  os.path.join(test_dir, 'cross')\n",
        "stop_test =  os.path.join(test_dir, 'stop')\n",
        "limit50_test =  os.path.join(test_dir, 'limit50')\n",
        "limit40_test =  os.path.join(test_dir, 'limit40')\n",
        "limit60_test =  os.path.join(test_dir, 'limit60')\n",
        "limit70_test =  os.path.join(test_dir, 'limit70')\n",
        "limit80_test =  os.path.join(test_dir, 'limit80')\n",
        "limit100_test =  os.path.join(test_dir, 'limit100')\n",
        "yield_test =  os.path.join(test_dir, 'yield')\n",
        "nosign_test =  os.path.join(test_dir, 'nosign')\n",
        "othersign_test =  os.path.join(test_dir, 'othersign')\n",
        "\n"
      ],
      "execution_count": 7,
      "outputs": []
    },
    {
      "cell_type": "markdown",
      "metadata": {
        "id": "B6C9ZXIjfdnm",
        "colab_type": "text"
      },
      "source": [
        "#### Ilość poszczegónych zdjęć"
      ]
    },
    {
      "cell_type": "code",
      "metadata": {
        "id": "E34aEB7Obpkm",
        "colab_type": "code",
        "colab": {}
      },
      "source": [
        "cross_origin_path = os.path.abspath(\"/content/drive/My Drive/Colab Notebooks/Road_sign_rec/Data/information--pedestrians-crossing--g1/\")\n",
        "stop_origin_path = os.path.abspath(\"/content/drive/My Drive/Colab Notebooks/Road_sign_rec/Data/regulatory--stop--g1\")\n",
        "limit50_origin_path = os.path.abspath(\"/content/drive/My Drive/Colab Notebooks/Road_sign_rec/Data/regulatory--maximum-speed-limit-50--g1\")\n",
        "nosign_path = os.path.abspath(\"/content/drive/My Drive/Colab Notebooks/Road_sign_rec/Data/NoSign\")\n",
        "nosign_path_2 = os.path.abspath(\"/content/drive/My Drive/Colab Notebooks/Road_sign_rec/Data/NoSign2\")\n",
        "\n",
        "\n",
        "\n",
        "print('Przejscie dla piszych: ',len(os.listdir(cross_origin_path)))\n",
        "print('Stop: ', len(os.listdir(stop_origin_path)))\n",
        "print('Ograniczenie do 50km/h: ', len(os.listdir(limit50_origin_path)))\n",
        "number_of_nosign = len(os.listdir(nosign_path)) + len(os.listdir(nosign_path_2))\n",
        "print('Brak znaku', number_of_nosign)\n"
      ],
      "execution_count": null,
      "outputs": []
    },
    {
      "cell_type": "markdown",
      "metadata": {
        "id": "hfqmdzzsfq81",
        "colab_type": "text"
      },
      "source": [
        "#### Kopowanie i podział zdjęć na treningowe, walidacyjne i testowe\n",
        "\n",
        "---\n",
        "\n"
      ]
    },
    {
      "cell_type": "code",
      "metadata": {
        "id": "Os4zVKiofTDn",
        "colab_type": "code",
        "colab": {
          "base_uri": "https://localhost:8080/",
          "height": 86
        },
        "outputId": "88e0eb4d-5e30-420a-e687-faa1b92ccce6"
      },
      "source": [
        "\n",
        "# # train cross\n",
        "# for image_name in os.listdir(cross_origin_path)[0:1200]:\n",
        "#   src = os.path.join(cross_origin_path, image_name)\n",
        "#   dst = os.path.join(cross_train, image_name)\n",
        "#   shutil.copyfile(src, dst)\n",
        "# print(\"train cross copied\")\n",
        "\n",
        "# # validation cross\n",
        "# for image_name in os.listdir(cross_origin_path)[1200:1800]:\n",
        "#   src = os.path.join(cross_origin_path, image_name)\n",
        "#   dst = os.path.join(cross_val, image_name)\n",
        "#   shutil.copyfile(src, dst)\n",
        "# print(\"validation cross copied\")\n",
        "\n",
        "# # test cross\n",
        "# for image_name in os.listdir(cross_origin_path)[1800:]:\n",
        "#   src = os.path.join(cross_origin_path, image_name)\n",
        "#   dst = os.path.join(cross_test, image_name)\n",
        "#   shutil.copyfile(src, dst)\n",
        "# print(\"test cross copied\")\n",
        "\n",
        "# ##################################\n",
        "\n",
        "# # train stop\n",
        "# i=0\n",
        "# for image_name in os.listdir(stop_origin_path)[0:900]:\n",
        "#   i =+ 1\n",
        "#   src = os.path.join(stop_origin_path, image_name)\n",
        "#   dst = os.path.join(stop_train, image_name)\n",
        "#   shutil.copyfile(src, dst)\n",
        "#   if i == 200 or i == 400 or i == 700:\n",
        "#     print(f\"Copied {i} \")\n",
        "# print(\"train stop copied\")\n",
        "\n",
        "\n",
        "# # validation stop\n",
        "# for image_name in os.listdir(stop_origin_path)[901:1200]:\n",
        "#   src = os.path.join(stop_origin_path, image_name)\n",
        "#   dst = os.path.join(stop_val, image_name)\n",
        "#   shutil.copyfile(src, dst)\n",
        "#   if i == 1050:\n",
        "#     print(f\"Copied {i} \")\n",
        "# print(\"validation stop copied\")\n",
        "\n",
        "# # test stop\n",
        "# for image_name in os.listdir(stop_origin_path)[1201:]:\n",
        "#   src = os.path.join(stop_origin_path, image_name)\n",
        "#   dst = os.path.join(stop_test, image_name)\n",
        "#   shutil.copyfile(src, dst)\n",
        "#   if i == 1300:\n",
        "#     print(f\"Copied {i} \")\n",
        "# print(\"test stop copied\")\n",
        "\n",
        "\n",
        "# ##########################\n",
        "\n",
        "# # train limit50\n",
        "# for image_name in os.listdir(limit50_origin_path)[0:400]:\n",
        "#   src = os.path.join(limit50_origin_path, image_name)\n",
        "#   dst = os.path.join(limit50_train, image_name)\n",
        "#   shutil.copyfile(src, dst)\n",
        "# print(\"train limit50 copied\")\n",
        "\n",
        "# # validation limit50\n",
        "# for image_name in os.listdir(limit50_origin_path)[400:600]:\n",
        "#   src = os.path.join(limit50_origin_path, image_name)\n",
        "#   dst = os.path.join(limit50_val, image_name)\n",
        "#   shutil.copyfile(src, dst)\n",
        "# print(\"validation limit50 copied\")\n",
        "\n",
        "# # test limit50\n",
        "# for image_name in os.listdir(limit50_origin_path)[600:]:\n",
        "#   src = os.path.join(limit50_origin_path, image_name)\n",
        "#   dst = os.path.join(limit50_test, image_name)\n",
        "#   shutil.copyfile(src, dst)\n",
        "# print(\"test limit50 copied\")\n",
        "\n",
        "\n",
        "# #########################\n",
        "\n",
        "\n",
        "# # train NoSign\n",
        "# for image_name in os.listdir(nosign_path)[0:1300]:\n",
        "#   src = os.path.join(nosign_path, image_name)\n",
        "#   dst = os.path.join(nosign_train, image_name)\n",
        "#   shutil.copyfile(src, dst)\n",
        "# print(\"train NoSign copied\")\n",
        "\n",
        "# # validation NoSign\n",
        "# for image_name in os.listdir(nosign_path)[1300:1700]:\n",
        "#   src = os.path.join(nosign_path, image_name)\n",
        "#   dst = os.path.join(nosign_val, image_name)\n",
        "#   shutil.copyfile(src, dst)\n",
        "# print(\"validation NoSign copied\")\n",
        "\n",
        "# # test NoSign\n",
        "# for image_name in os.listdir(nosign_path)[1700:]:\n",
        "#   src = os.path.join(nosign_path, image_name)\n",
        "#   dst = os.path.join(nosign_test, image_name)\n",
        "#   shutil.copyfile(src, dst)\n",
        "# print(\"test NoSign copied\")\n",
        "\n",
        "\n",
        "# # train NoSign2\n",
        "# for image_name in os.listdir(nosign_path_2)[0:1300]:\n",
        "#   src = os.path.join(nosign_path_2, image_name)\n",
        "#   dst = os.path.join(nosign_train, image_name)\n",
        "#   shutil.copyfile(src, dst)\n",
        "# print(\"train NoSign2 copied\")\n",
        "\n",
        "# # validation NoSign2\n",
        "# for image_name in os.listdir(nosign_path_2)[1300:1700]:\n",
        "#   src = os.path.join(nosign_path_2, image_name)\n",
        "#   dst = os.path.join(nosign_val, image_name)\n",
        "#   shutil.copyfile(src, dst)\n",
        "# print(\"validation NoSign2 copied\")\n",
        "\n",
        "# # test NoSign2\n",
        "# for image_name in os.listdir(nosign_path_2)[1700:]:\n",
        "#   src = os.path.join(nosign_path_2, image_name)\n",
        "#   dst = os.path.join(nosign_test, image_name)\n",
        "#   shutil.copyfile(src, dst)\n",
        "# print(\"test NoSign2 copied\")\n",
        "\n",
        "\n"
      ],
      "execution_count": null,
      "outputs": [
        {
          "output_type": "stream",
          "text": [
            "train cross copied\n",
            "validation cross copied\n",
            "test cross copied\n",
            "train stop copied\n"
          ],
          "name": "stdout"
        }
      ]
    },
    {
      "cell_type": "markdown",
      "metadata": {
        "id": "Vv-DHfNSpk4I",
        "colab_type": "text"
      },
      "source": [
        "#### Przekształcanie plików .jpg na tensory - test"
      ]
    },
    {
      "cell_type": "code",
      "metadata": {
        "id": "zmlQShw9k4Eh",
        "colab_type": "code",
        "colab": {}
      },
      "source": [
        "# datagen = ImageDataGenerator(rotation_range=40,\n",
        "#                              width_shift_range=0.2,\n",
        "#                              height_shift_range=0.2,\n",
        "#                              shear_range=0.2,\n",
        "#                              zoom_range=0.2,\n",
        "#                              horizontal_flip=True,\n",
        "#                              fill_mode='nearest') \n",
        "                                  "
      ],
      "execution_count": null,
      "outputs": []
    },
    {
      "cell_type": "code",
      "metadata": {
        "id": "66_xfeCyomy5",
        "colab_type": "code",
        "colab": {}
      },
      "source": [
        "# from keras.preprocessing import image\n",
        "\n",
        "# figure = plt.figure()\n",
        "# fnames = [os.path.join(cross_train, fname) for fname in os.listdir(cross_train)]\n",
        "# img_path = fnames[3]\n",
        "# print(img_path)\n",
        "# img = image.load_img(img_path, target_size=(100, 100))\n",
        "# plt.imshow(img)\n",
        "# x = image.img_to_array(img)\n",
        "# x = x.reshape((1,) + x.shape)\n",
        "# i=1\n",
        "# for batch in datagen.flow(x, batch_size=1):\n",
        "#   plt.subplot(2, 3, i+0)\n",
        "#   plt\n",
        "#   plt.imshow(image.array_to_img(batch[0]))\n",
        "#   i+=1\n",
        "#   if i%5==0:\n",
        "#     break\n",
        "\n",
        "# plt.show()\n",
        "# figure"
      ],
      "execution_count": null,
      "outputs": []
    },
    {
      "cell_type": "code",
      "metadata": {
        "id": "5nWpnNouvnEI",
        "colab_type": "code",
        "colab": {}
      },
      "source": [
        "# figure = plt.figure()\n",
        "# fnames = [os.path.join(cross_train, fname) for fname in os.listdir(cross_train)]\n",
        "# img_path = fnames[3]\n",
        "# print(img_path)\n",
        "# img = image.load_img(img_path, target_size=(100, 100))\n",
        "# plt.imshow(img)\n",
        "# figure"
      ],
      "execution_count": null,
      "outputs": []
    },
    {
      "cell_type": "markdown",
      "metadata": {
        "id": "pPa9uA1YdV8D",
        "colab_type": "text"
      },
      "source": [
        "##Modele"
      ]
    },
    {
      "cell_type": "markdown",
      "metadata": {
        "id": "ofyIFmX1dnj7",
        "colab_type": "text"
      },
      "source": [
        "###Przygotowanie parametrów"
      ]
    },
    {
      "cell_type": "markdown",
      "metadata": {
        "id": "XgLfl0i-dLft",
        "colab_type": "text"
      },
      "source": [
        "####Ustawienia genereatora zdjęć"
      ]
    },
    {
      "cell_type": "code",
      "metadata": {
        "id": "EDi-Uu2-pkJX",
        "colab_type": "code",
        "colab": {
          "base_uri": "https://localhost:8080/",
          "height": 52
        },
        "outputId": "73193846-653a-4e2e-c80e-397937f42136"
      },
      "source": [
        "batch_size = 64\n",
        "picture_size = 96\n",
        "class_mode = \"categorical\"\n",
        "\n",
        "train_datagen = ImageDataGenerator(rescale=1./255,\n",
        "                                  rotation_range=20,\n",
        "                                  width_shift_range=0.2,\n",
        "                                  height_shift_range=0.2,\n",
        "                                  shear_range=0.2,\n",
        "                                  zoom_range=0.2,\n",
        "                                  horizontal_flip=False,\n",
        "                                  vertical_flip=False,                                   \n",
        "                                  fill_mode='nearest')\n",
        "valid_datagen = ImageDataGenerator(rescale=1./255)\n",
        "\n",
        "train_generator = train_datagen.flow_from_directory(\n",
        "    train_dir,\n",
        "    target_size = (picture_size,picture_size),\n",
        "    batch_size = batch_size,\n",
        "    class_mode = class_mode\n",
        ")\n",
        "\n",
        "valid_generator = valid_datagen.flow_from_directory(\n",
        "    valid_dir,\n",
        "    target_size = (picture_size,picture_size),\n",
        "    batch_size = batch_size,\n",
        "    class_mode = class_mode\n",
        "\n",
        ")\n",
        "number_of_classes = len(train_generator.class_indices)\n"
      ],
      "execution_count": 8,
      "outputs": [
        {
          "output_type": "stream",
          "text": [
            "Found 13643 images belonging to 10 classes.\n",
            "Found 6230 images belonging to 10 classes.\n"
          ],
          "name": "stdout"
        }
      ]
    },
    {
      "cell_type": "markdown",
      "metadata": {
        "id": "NYdvsc8NdeCS",
        "colab_type": "text"
      },
      "source": [
        "####Parametry modelu"
      ]
    },
    {
      "cell_type": "code",
      "metadata": {
        "id": "PgyduY3d4oUo",
        "colab_type": "code",
        "colab": {}
      },
      "source": [
        "INIT_LR = 1e-3\n",
        "epochs = 170\n",
        "opt = optimizers.Adam(lr=INIT_LR, decay=INIT_LR / epochs)\n",
        "metrics = 'categorical_accuracy'\n",
        "activation = 'softmax'\n",
        "loss = 'categorical_crossentropy'"
      ],
      "execution_count": 9,
      "outputs": []
    },
    {
      "cell_type": "markdown",
      "metadata": {
        "id": "z2lf8GKcXJM2",
        "colab_type": "text"
      },
      "source": [
        "###Model multi-classes classification - własny"
      ]
    },
    {
      "cell_type": "code",
      "metadata": {
        "id": "iwxU5MoBXBgL",
        "colab_type": "code",
        "colab": {}
      },
      "source": [
        "dropout_1 = 0.35\n",
        "dropout_2 = 0.3\n",
        "dropout_3 = 0.3\n",
        "dropout_4 = 0.4\n",
        "dropout_5 = 0.3\n",
        "dropout_6 = 0.25\n",
        "\n",
        "model = models.Sequential()\n",
        "model.add(layers.Conv2D(32, (3, 3), activation='relu', input_shape=(picture_size, picture_size, 3)))\n",
        "model.add(layers.MaxPool2D((2, 2)))\n",
        "model.add(layers.Dropout(dropout_1))\n",
        "\n",
        "model.add(layers.Conv2D(64, (3, 3), activation='relu'))\n",
        "model.add(layers.MaxPool2D((2, 2)))\n",
        "model.add(layers.Dropout(dropout_2))\n",
        "\n",
        "model.add(layers.Conv2D(64, (3,3), activation='relu'))\n",
        "model.add(layers.MaxPool2D((2, 2)))\n",
        "model.add(layers.Dropout(dropout_3))\n",
        "\n",
        "model.add(layers.Conv2D(128, (3,3), activation='relu'))\n",
        "model.add(layers.MaxPool2D((2, 2)))\n",
        "model.add(layers.Dropout(dropout_4))\n",
        "\n",
        "model.add(layers.Conv2D(128, (3,3), activation='relu'))\n",
        "model.add(layers.MaxPool2D((2, 2)))\n",
        "model.add(layers.Dropout(dropout_5))\n",
        "\n",
        "model.add(layers.Flatten())\n",
        "model.add(layers.Dense(1024, activation=\"relu\"))\n",
        "model.add(layers.BatchNormalization())\n",
        "model.add(layers.Dropout(dropout_6))\n",
        "model.add(layers.Dense(number_of_classes))\n",
        "model.add(layers.Activation(activation))\n",
        "\n",
        "model.compile(\n",
        "    loss=loss,\n",
        "    optimizer=opt,\n",
        "    metrics=[metrics]\n",
        "    )\n",
        "# model.summary()"
      ],
      "execution_count": 10,
      "outputs": []
    },
    {
      "cell_type": "markdown",
      "metadata": {
        "id": "Zep2Kx6fZVYp",
        "colab_type": "text"
      },
      "source": [
        "###Pretrained model"
      ]
    },
    {
      "cell_type": "code",
      "metadata": {
        "id": "kl5g-tmHZdVB",
        "colab_type": "code",
        "colab": {}
      },
      "source": [
        "from keras.applications import VGG16\n",
        "pretrain_model = VGG16(weights='imagenet',include_top=False,input_shape=(100, 100, 3))"
      ],
      "execution_count": null,
      "outputs": []
    },
    {
      "cell_type": "code",
      "metadata": {
        "id": "z0U6jTJWZ6mm",
        "colab_type": "code",
        "colab": {}
      },
      "source": [
        "model = models.Sequential()\n",
        "model.add(pretrain_model)\n",
        "model.add(layers.Flatten())\n",
        "model.add(layers.Dense(1024, activation=\"relu\"))\n",
        "model.add(layers.BatchNormalization())\n",
        "model.add(layers.Dropout(0.2))\n",
        "model.add(layers.Dense(number_of_classes))\n",
        "model.add(layers.Activation(activation))\n",
        "model.compile(\n",
        "    loss='categorical_crossentropy',\n",
        "    optimizer=opt,\n",
        "    metrics=['acc']\n",
        "    )\n",
        "model.summary()"
      ],
      "execution_count": null,
      "outputs": []
    },
    {
      "cell_type": "markdown",
      "metadata": {
        "id": "IkvAD2gnZd60",
        "colab_type": "text"
      },
      "source": [
        "###Fit model"
      ]
    },
    {
      "cell_type": "code",
      "metadata": {
        "id": "gBDd5q9nq23t",
        "colab_type": "code",
        "colab": {
          "base_uri": "https://localhost:8080/",
          "height": 1000
        },
        "outputId": "5acb63c9-1705-430d-a982-5c89847bfcd3"
      },
      "source": [
        "history = model.fit_generator(\n",
        "    train_generator,\n",
        "    steps_per_epoch=100,\n",
        "    epochs=epochs,\n",
        "    validation_data=valid_generator,\n",
        "    validation_steps=50\n",
        ")\n",
        "\n",
        "\n",
        "time_stemp = time.strftime(\"%d%m%Y%H%M%S\")\n",
        "model_name = f'model_signs_{number_of_classes}_classes_{activation}_{time_stemp}.h5'\n",
        "path_to_save = \"/content/drive/My Drive/Colab Notebooks/Road_sign_rec\"\n",
        "model_path = os.path.join(path_to_save, model_name)\n",
        "model.save(model_path)\n",
        "print(f\"Saved model as {model_name}\")\n"
      ],
      "execution_count": 11,
      "outputs": [
        {
          "output_type": "stream",
          "text": [
            "Epoch 1/170\n",
            "100/100 [==============================] - 28s 285ms/step - loss: 1.8992 - categorical_accuracy: 0.3302 - val_loss: 2.2202 - val_categorical_accuracy: 0.1316\n",
            "Epoch 2/170\n",
            "100/100 [==============================] - 22s 216ms/step - loss: 1.5237 - categorical_accuracy: 0.4586 - val_loss: 2.1541 - val_categorical_accuracy: 0.1469\n",
            "Epoch 3/170\n",
            "100/100 [==============================] - 22s 218ms/step - loss: 1.3199 - categorical_accuracy: 0.5348 - val_loss: 1.9227 - val_categorical_accuracy: 0.4550\n",
            "Epoch 4/170\n",
            "100/100 [==============================] - 21s 213ms/step - loss: 1.2035 - categorical_accuracy: 0.5599 - val_loss: 1.5940 - val_categorical_accuracy: 0.5051\n",
            "Epoch 5/170\n",
            "100/100 [==============================] - 22s 220ms/step - loss: 1.0646 - categorical_accuracy: 0.6064 - val_loss: 1.3323 - val_categorical_accuracy: 0.5166\n",
            "Epoch 6/170\n",
            "100/100 [==============================] - 22s 215ms/step - loss: 1.0312 - categorical_accuracy: 0.6106 - val_loss: 0.7929 - val_categorical_accuracy: 0.6083\n",
            "Epoch 7/170\n",
            "100/100 [==============================] - 22s 216ms/step - loss: 0.9913 - categorical_accuracy: 0.6345 - val_loss: 0.9157 - val_categorical_accuracy: 0.6956\n",
            "Epoch 8/170\n",
            "100/100 [==============================] - 22s 217ms/step - loss: 0.9021 - categorical_accuracy: 0.6559 - val_loss: 0.8248 - val_categorical_accuracy: 0.7584\n",
            "Epoch 9/170\n",
            "100/100 [==============================] - 22s 218ms/step - loss: 0.8446 - categorical_accuracy: 0.6893 - val_loss: 0.5350 - val_categorical_accuracy: 0.7944\n",
            "Epoch 10/170\n",
            "100/100 [==============================] - 22s 216ms/step - loss: 0.7917 - categorical_accuracy: 0.6983 - val_loss: 0.4223 - val_categorical_accuracy: 0.8334\n",
            "Epoch 11/170\n",
            "100/100 [==============================] - 21s 213ms/step - loss: 0.7780 - categorical_accuracy: 0.7173 - val_loss: 0.3044 - val_categorical_accuracy: 0.8528\n",
            "Epoch 12/170\n",
            "100/100 [==============================] - 22s 220ms/step - loss: 0.7120 - categorical_accuracy: 0.7406 - val_loss: 0.3341 - val_categorical_accuracy: 0.8531\n",
            "Epoch 13/170\n",
            "100/100 [==============================] - 22s 216ms/step - loss: 0.6678 - categorical_accuracy: 0.7553 - val_loss: 0.3555 - val_categorical_accuracy: 0.8550\n",
            "Epoch 14/170\n",
            "100/100 [==============================] - 22s 216ms/step - loss: 0.6581 - categorical_accuracy: 0.7667 - val_loss: 0.3403 - val_categorical_accuracy: 0.8914\n",
            "Epoch 15/170\n",
            "100/100 [==============================] - 22s 216ms/step - loss: 0.5781 - categorical_accuracy: 0.7939 - val_loss: 0.2479 - val_categorical_accuracy: 0.9100\n",
            "Epoch 16/170\n",
            "100/100 [==============================] - 22s 217ms/step - loss: 0.5698 - categorical_accuracy: 0.7939 - val_loss: 0.3734 - val_categorical_accuracy: 0.9028\n",
            "Epoch 17/170\n",
            "100/100 [==============================] - 21s 213ms/step - loss: 0.5666 - categorical_accuracy: 0.7911 - val_loss: 0.1396 - val_categorical_accuracy: 0.9000\n",
            "Epoch 18/170\n",
            "100/100 [==============================] - 22s 217ms/step - loss: 0.5281 - categorical_accuracy: 0.8081 - val_loss: 0.2774 - val_categorical_accuracy: 0.8977\n",
            "Epoch 19/170\n",
            "100/100 [==============================] - 22s 217ms/step - loss: 0.4926 - categorical_accuracy: 0.8233 - val_loss: 0.2435 - val_categorical_accuracy: 0.9184\n",
            "Epoch 20/170\n",
            "100/100 [==============================] - 22s 217ms/step - loss: 0.4885 - categorical_accuracy: 0.8297 - val_loss: 0.2898 - val_categorical_accuracy: 0.9237\n",
            "Epoch 21/170\n",
            "100/100 [==============================] - 21s 215ms/step - loss: 0.4958 - categorical_accuracy: 0.8251 - val_loss: 0.1726 - val_categorical_accuracy: 0.9234\n",
            "Epoch 22/170\n",
            "100/100 [==============================] - 22s 217ms/step - loss: 0.4655 - categorical_accuracy: 0.8383 - val_loss: 0.2679 - val_categorical_accuracy: 0.9300\n",
            "Epoch 23/170\n",
            "100/100 [==============================] - 21s 214ms/step - loss: 0.4646 - categorical_accuracy: 0.8404 - val_loss: 0.2415 - val_categorical_accuracy: 0.9453\n",
            "Epoch 24/170\n",
            "100/100 [==============================] - 22s 216ms/step - loss: 0.4223 - categorical_accuracy: 0.8547 - val_loss: 0.3962 - val_categorical_accuracy: 0.9398\n",
            "Epoch 25/170\n",
            "100/100 [==============================] - 21s 214ms/step - loss: 0.4238 - categorical_accuracy: 0.8535 - val_loss: 0.1473 - val_categorical_accuracy: 0.9475\n",
            "Epoch 26/170\n",
            "100/100 [==============================] - 22s 217ms/step - loss: 0.4459 - categorical_accuracy: 0.8467 - val_loss: 0.1191 - val_categorical_accuracy: 0.9379\n",
            "Epoch 27/170\n",
            "100/100 [==============================] - 22s 222ms/step - loss: 0.4016 - categorical_accuracy: 0.8600 - val_loss: 0.3384 - val_categorical_accuracy: 0.9584\n",
            "Epoch 28/170\n",
            "100/100 [==============================] - 22s 216ms/step - loss: 0.4173 - categorical_accuracy: 0.8527 - val_loss: 0.1089 - val_categorical_accuracy: 0.9500\n",
            "Epoch 29/170\n",
            "100/100 [==============================] - 22s 219ms/step - loss: 0.3857 - categorical_accuracy: 0.8633 - val_loss: 0.1401 - val_categorical_accuracy: 0.9553\n",
            "Epoch 30/170\n",
            "100/100 [==============================] - 21s 214ms/step - loss: 0.3954 - categorical_accuracy: 0.8642 - val_loss: 0.2162 - val_categorical_accuracy: 0.9579\n",
            "Epoch 31/170\n",
            "100/100 [==============================] - 22s 218ms/step - loss: 0.3796 - categorical_accuracy: 0.8648 - val_loss: 0.1842 - val_categorical_accuracy: 0.9597\n",
            "Epoch 32/170\n",
            "100/100 [==============================] - 22s 215ms/step - loss: 0.3799 - categorical_accuracy: 0.8749 - val_loss: 0.0890 - val_categorical_accuracy: 0.9674\n",
            "Epoch 33/170\n",
            "100/100 [==============================] - 22s 219ms/step - loss: 0.3397 - categorical_accuracy: 0.8834 - val_loss: 0.0409 - val_categorical_accuracy: 0.9569\n",
            "Epoch 34/170\n",
            "100/100 [==============================] - 22s 217ms/step - loss: 0.3339 - categorical_accuracy: 0.8839 - val_loss: 0.0806 - val_categorical_accuracy: 0.9630\n",
            "Epoch 35/170\n",
            "100/100 [==============================] - 21s 215ms/step - loss: 0.3625 - categorical_accuracy: 0.8768 - val_loss: 0.1649 - val_categorical_accuracy: 0.9591\n",
            "Epoch 36/170\n",
            "100/100 [==============================] - 22s 216ms/step - loss: 0.3405 - categorical_accuracy: 0.8836 - val_loss: 0.0623 - val_categorical_accuracy: 0.9538\n",
            "Epoch 37/170\n",
            "100/100 [==============================] - 21s 213ms/step - loss: 0.3498 - categorical_accuracy: 0.8808 - val_loss: 0.0590 - val_categorical_accuracy: 0.9556\n",
            "Epoch 38/170\n",
            "100/100 [==============================] - 22s 217ms/step - loss: 0.3280 - categorical_accuracy: 0.8930 - val_loss: 0.1597 - val_categorical_accuracy: 0.9607\n",
            "Epoch 39/170\n",
            "100/100 [==============================] - 21s 214ms/step - loss: 0.3423 - categorical_accuracy: 0.8873 - val_loss: 0.0710 - val_categorical_accuracy: 0.9594\n",
            "Epoch 40/170\n",
            "100/100 [==============================] - 22s 220ms/step - loss: 0.3100 - categorical_accuracy: 0.8943 - val_loss: 0.1776 - val_categorical_accuracy: 0.9588\n",
            "Epoch 41/170\n",
            "100/100 [==============================] - 21s 214ms/step - loss: 0.3247 - categorical_accuracy: 0.8891 - val_loss: 0.0347 - val_categorical_accuracy: 0.9747\n",
            "Epoch 42/170\n",
            "100/100 [==============================] - 22s 222ms/step - loss: 0.3258 - categorical_accuracy: 0.8973 - val_loss: 0.0572 - val_categorical_accuracy: 0.9699\n",
            "Epoch 43/170\n",
            "100/100 [==============================] - 21s 215ms/step - loss: 0.3061 - categorical_accuracy: 0.9008 - val_loss: 0.1846 - val_categorical_accuracy: 0.9634\n",
            "Epoch 44/170\n",
            "100/100 [==============================] - 22s 221ms/step - loss: 0.3102 - categorical_accuracy: 0.8983 - val_loss: 0.0538 - val_categorical_accuracy: 0.9690\n",
            "Epoch 45/170\n",
            "100/100 [==============================] - 21s 213ms/step - loss: 0.2926 - categorical_accuracy: 0.9034 - val_loss: 0.1027 - val_categorical_accuracy: 0.9634\n",
            "Epoch 46/170\n",
            "100/100 [==============================] - 22s 220ms/step - loss: 0.3001 - categorical_accuracy: 0.9014 - val_loss: 0.0997 - val_categorical_accuracy: 0.9702\n",
            "Epoch 47/170\n",
            "100/100 [==============================] - 21s 211ms/step - loss: 0.2826 - categorical_accuracy: 0.9037 - val_loss: 0.0823 - val_categorical_accuracy: 0.9525\n",
            "Epoch 48/170\n",
            "100/100 [==============================] - 22s 220ms/step - loss: 0.3300 - categorical_accuracy: 0.8902 - val_loss: 0.3003 - val_categorical_accuracy: 0.9617\n",
            "Epoch 49/170\n",
            "100/100 [==============================] - 21s 211ms/step - loss: 0.2986 - categorical_accuracy: 0.9003 - val_loss: 0.0756 - val_categorical_accuracy: 0.9731\n",
            "Epoch 50/170\n",
            "100/100 [==============================] - 22s 217ms/step - loss: 0.2896 - categorical_accuracy: 0.9081 - val_loss: 0.0884 - val_categorical_accuracy: 0.9725\n",
            "Epoch 51/170\n",
            "100/100 [==============================] - 21s 213ms/step - loss: 0.2850 - categorical_accuracy: 0.9022 - val_loss: 0.0637 - val_categorical_accuracy: 0.9740\n",
            "Epoch 52/170\n",
            "100/100 [==============================] - 22s 217ms/step - loss: 0.2884 - categorical_accuracy: 0.9038 - val_loss: 0.1201 - val_categorical_accuracy: 0.9741\n",
            "Epoch 53/170\n",
            "100/100 [==============================] - 22s 217ms/step - loss: 0.2986 - categorical_accuracy: 0.9008 - val_loss: 0.0218 - val_categorical_accuracy: 0.9661\n",
            "Epoch 54/170\n",
            "100/100 [==============================] - 21s 213ms/step - loss: 0.3037 - categorical_accuracy: 0.8997 - val_loss: 0.0980 - val_categorical_accuracy: 0.9712\n",
            "Epoch 55/170\n",
            "100/100 [==============================] - 22s 221ms/step - loss: 0.2885 - categorical_accuracy: 0.9097 - val_loss: 0.0531 - val_categorical_accuracy: 0.9747\n",
            "Epoch 56/170\n",
            "100/100 [==============================] - 22s 218ms/step - loss: 0.2648 - categorical_accuracy: 0.9156 - val_loss: 0.1626 - val_categorical_accuracy: 0.9791\n",
            "Epoch 57/170\n",
            "100/100 [==============================] - 22s 220ms/step - loss: 0.2822 - categorical_accuracy: 0.9066 - val_loss: 0.0767 - val_categorical_accuracy: 0.9626\n",
            "Epoch 58/170\n",
            "100/100 [==============================] - 22s 216ms/step - loss: 0.2801 - categorical_accuracy: 0.9075 - val_loss: 0.2274 - val_categorical_accuracy: 0.9753\n",
            "Epoch 59/170\n",
            "100/100 [==============================] - 22s 218ms/step - loss: 0.2977 - categorical_accuracy: 0.9050 - val_loss: 0.1176 - val_categorical_accuracy: 0.9683\n",
            "Epoch 60/170\n",
            "100/100 [==============================] - 21s 214ms/step - loss: 0.2572 - categorical_accuracy: 0.9158 - val_loss: 0.0608 - val_categorical_accuracy: 0.9741\n",
            "Epoch 61/170\n",
            "100/100 [==============================] - 22s 217ms/step - loss: 0.2613 - categorical_accuracy: 0.9156 - val_loss: 0.0538 - val_categorical_accuracy: 0.9709\n",
            "Epoch 62/170\n",
            "100/100 [==============================] - 21s 215ms/step - loss: 0.2614 - categorical_accuracy: 0.9109 - val_loss: 0.0247 - val_categorical_accuracy: 0.9772\n",
            "Epoch 63/170\n",
            "100/100 [==============================] - 22s 218ms/step - loss: 0.2772 - categorical_accuracy: 0.9127 - val_loss: 0.0471 - val_categorical_accuracy: 0.9677\n",
            "Epoch 64/170\n",
            "100/100 [==============================] - 21s 213ms/step - loss: 0.2508 - categorical_accuracy: 0.9170 - val_loss: 0.0122 - val_categorical_accuracy: 0.9800\n",
            "Epoch 65/170\n",
            "100/100 [==============================] - 22s 216ms/step - loss: 0.2406 - categorical_accuracy: 0.9230 - val_loss: 0.1886 - val_categorical_accuracy: 0.9775\n",
            "Epoch 66/170\n",
            "100/100 [==============================] - 21s 212ms/step - loss: 0.2935 - categorical_accuracy: 0.9085 - val_loss: 0.0300 - val_categorical_accuracy: 0.9728\n",
            "Epoch 67/170\n",
            "100/100 [==============================] - 22s 216ms/step - loss: 0.2468 - categorical_accuracy: 0.9195 - val_loss: 0.0586 - val_categorical_accuracy: 0.9826\n",
            "Epoch 68/170\n",
            "100/100 [==============================] - 21s 213ms/step - loss: 0.2419 - categorical_accuracy: 0.9214 - val_loss: 0.0231 - val_categorical_accuracy: 0.9744\n",
            "Epoch 69/170\n",
            "100/100 [==============================] - 22s 216ms/step - loss: 0.2374 - categorical_accuracy: 0.9211 - val_loss: 0.0341 - val_categorical_accuracy: 0.9778\n",
            "Epoch 70/170\n",
            "100/100 [==============================] - 22s 219ms/step - loss: 0.2285 - categorical_accuracy: 0.9234 - val_loss: 0.0426 - val_categorical_accuracy: 0.9766\n",
            "Epoch 71/170\n",
            "100/100 [==============================] - 22s 218ms/step - loss: 0.2496 - categorical_accuracy: 0.9222 - val_loss: 0.0548 - val_categorical_accuracy: 0.9839\n",
            "Epoch 72/170\n",
            "100/100 [==============================] - 22s 217ms/step - loss: 0.2501 - categorical_accuracy: 0.9187 - val_loss: 0.1316 - val_categorical_accuracy: 0.9722\n",
            "Epoch 73/170\n",
            "100/100 [==============================] - 21s 215ms/step - loss: 0.2345 - categorical_accuracy: 0.9247 - val_loss: 0.0220 - val_categorical_accuracy: 0.9829\n",
            "Epoch 74/170\n",
            "100/100 [==============================] - 22s 217ms/step - loss: 0.2408 - categorical_accuracy: 0.9220 - val_loss: 0.0470 - val_categorical_accuracy: 0.9816\n",
            "Epoch 75/170\n",
            "100/100 [==============================] - 21s 215ms/step - loss: 0.2442 - categorical_accuracy: 0.9216 - val_loss: 0.2129 - val_categorical_accuracy: 0.9797\n",
            "Epoch 76/170\n",
            "100/100 [==============================] - 22s 217ms/step - loss: 0.2361 - categorical_accuracy: 0.9200 - val_loss: 0.0451 - val_categorical_accuracy: 0.9778\n",
            "Epoch 77/170\n",
            "100/100 [==============================] - 21s 214ms/step - loss: 0.2275 - categorical_accuracy: 0.9241 - val_loss: 0.0419 - val_categorical_accuracy: 0.9870\n",
            "Epoch 78/170\n",
            "100/100 [==============================] - 22s 220ms/step - loss: 0.2526 - categorical_accuracy: 0.9193 - val_loss: 0.0242 - val_categorical_accuracy: 0.9825\n",
            "Epoch 79/170\n",
            "100/100 [==============================] - 22s 216ms/step - loss: 0.2203 - categorical_accuracy: 0.9302 - val_loss: 0.0278 - val_categorical_accuracy: 0.9839\n",
            "Epoch 80/170\n",
            "100/100 [==============================] - 21s 213ms/step - loss: 0.2268 - categorical_accuracy: 0.9258 - val_loss: 0.0399 - val_categorical_accuracy: 0.9850\n",
            "Epoch 81/170\n",
            "100/100 [==============================] - 22s 219ms/step - loss: 0.1933 - categorical_accuracy: 0.9341 - val_loss: 0.0871 - val_categorical_accuracy: 0.9845\n",
            "Epoch 82/170\n",
            "100/100 [==============================] - 22s 215ms/step - loss: 0.2143 - categorical_accuracy: 0.9307 - val_loss: 0.0719 - val_categorical_accuracy: 0.9800\n",
            "Epoch 83/170\n",
            "100/100 [==============================] - 22s 218ms/step - loss: 0.2334 - categorical_accuracy: 0.9247 - val_loss: 0.1226 - val_categorical_accuracy: 0.9813\n",
            "Epoch 84/170\n",
            "100/100 [==============================] - 21s 214ms/step - loss: 0.2105 - categorical_accuracy: 0.9286 - val_loss: 0.0856 - val_categorical_accuracy: 0.9831\n",
            "Epoch 85/170\n",
            "100/100 [==============================] - 22s 221ms/step - loss: 0.2178 - categorical_accuracy: 0.9297 - val_loss: 0.1561 - val_categorical_accuracy: 0.9835\n",
            "Epoch 86/170\n",
            "100/100 [==============================] - 21s 213ms/step - loss: 0.2199 - categorical_accuracy: 0.9263 - val_loss: 0.0475 - val_categorical_accuracy: 0.9825\n",
            "Epoch 87/170\n",
            "100/100 [==============================] - 22s 219ms/step - loss: 0.2197 - categorical_accuracy: 0.9277 - val_loss: 0.0503 - val_categorical_accuracy: 0.9791\n",
            "Epoch 88/170\n",
            "100/100 [==============================] - 21s 213ms/step - loss: 0.2335 - categorical_accuracy: 0.9237 - val_loss: 0.0432 - val_categorical_accuracy: 0.9819\n",
            "Epoch 89/170\n",
            "100/100 [==============================] - 22s 218ms/step - loss: 0.2260 - categorical_accuracy: 0.9277 - val_loss: 0.0190 - val_categorical_accuracy: 0.9864\n",
            "Epoch 90/170\n",
            "100/100 [==============================] - 21s 212ms/step - loss: 0.2093 - categorical_accuracy: 0.9321 - val_loss: 0.0497 - val_categorical_accuracy: 0.9762\n",
            "Epoch 91/170\n",
            "100/100 [==============================] - 22s 217ms/step - loss: 0.2235 - categorical_accuracy: 0.9280 - val_loss: 0.1094 - val_categorical_accuracy: 0.9845\n",
            "Epoch 92/170\n",
            "100/100 [==============================] - 20s 204ms/step - loss: 0.2197 - categorical_accuracy: 0.9325 - val_loss: 0.0733 - val_categorical_accuracy: 0.9834\n",
            "Epoch 93/170\n",
            "100/100 [==============================] - 22s 223ms/step - loss: 0.2280 - categorical_accuracy: 0.9267 - val_loss: 0.0793 - val_categorical_accuracy: 0.9839\n",
            "Epoch 94/170\n",
            "100/100 [==============================] - 22s 215ms/step - loss: 0.2075 - categorical_accuracy: 0.9330 - val_loss: 0.0064 - val_categorical_accuracy: 0.9822\n",
            "Epoch 95/170\n",
            "100/100 [==============================] - 22s 216ms/step - loss: 0.2144 - categorical_accuracy: 0.9285 - val_loss: 0.0841 - val_categorical_accuracy: 0.9823\n",
            "Epoch 96/170\n",
            "100/100 [==============================] - 22s 215ms/step - loss: 0.2284 - categorical_accuracy: 0.9273 - val_loss: 0.0727 - val_categorical_accuracy: 0.9806\n",
            "Epoch 97/170\n",
            "100/100 [==============================] - 22s 219ms/step - loss: 0.2019 - categorical_accuracy: 0.9320 - val_loss: 0.0227 - val_categorical_accuracy: 0.9845\n",
            "Epoch 98/170\n",
            "100/100 [==============================] - 21s 212ms/step - loss: 0.2252 - categorical_accuracy: 0.9302 - val_loss: 0.3744 - val_categorical_accuracy: 0.9813\n",
            "Epoch 99/170\n",
            "100/100 [==============================] - 22s 219ms/step - loss: 0.2027 - categorical_accuracy: 0.9327 - val_loss: 0.1670 - val_categorical_accuracy: 0.9862\n",
            "Epoch 100/170\n",
            "100/100 [==============================] - 22s 216ms/step - loss: 0.2308 - categorical_accuracy: 0.9234 - val_loss: 0.0517 - val_categorical_accuracy: 0.9791\n",
            "Epoch 101/170\n",
            "100/100 [==============================] - 22s 217ms/step - loss: 0.2028 - categorical_accuracy: 0.9337 - val_loss: 0.2147 - val_categorical_accuracy: 0.9812\n",
            "Epoch 102/170\n",
            "100/100 [==============================] - 22s 218ms/step - loss: 0.1993 - categorical_accuracy: 0.9341 - val_loss: 0.2088 - val_categorical_accuracy: 0.9826\n",
            "Epoch 103/170\n",
            "100/100 [==============================] - 21s 212ms/step - loss: 0.2056 - categorical_accuracy: 0.9357 - val_loss: 0.0850 - val_categorical_accuracy: 0.9872\n",
            "Epoch 104/170\n",
            "100/100 [==============================] - 22s 218ms/step - loss: 0.2019 - categorical_accuracy: 0.9373 - val_loss: 0.0501 - val_categorical_accuracy: 0.9801\n",
            "Epoch 105/170\n",
            "100/100 [==============================] - 22s 215ms/step - loss: 0.1898 - categorical_accuracy: 0.9377 - val_loss: 0.0113 - val_categorical_accuracy: 0.9859\n",
            "Epoch 106/170\n",
            "100/100 [==============================] - 22s 215ms/step - loss: 0.2032 - categorical_accuracy: 0.9339 - val_loss: 0.0312 - val_categorical_accuracy: 0.9870\n",
            "Epoch 107/170\n",
            "100/100 [==============================] - 22s 216ms/step - loss: 0.2491 - categorical_accuracy: 0.9239 - val_loss: 0.0755 - val_categorical_accuracy: 0.9800\n",
            "Epoch 108/170\n",
            "100/100 [==============================] - 21s 214ms/step - loss: 0.1960 - categorical_accuracy: 0.9345 - val_loss: 0.0819 - val_categorical_accuracy: 0.9842\n",
            "Epoch 109/170\n",
            "100/100 [==============================] - 22s 220ms/step - loss: 0.2133 - categorical_accuracy: 0.9323 - val_loss: 0.0337 - val_categorical_accuracy: 0.9816\n",
            "Epoch 110/170\n",
            "100/100 [==============================] - 22s 216ms/step - loss: 0.2016 - categorical_accuracy: 0.9316 - val_loss: 0.0394 - val_categorical_accuracy: 0.9791\n",
            "Epoch 111/170\n",
            "100/100 [==============================] - 22s 221ms/step - loss: 0.2006 - categorical_accuracy: 0.9348 - val_loss: 0.2946 - val_categorical_accuracy: 0.9819\n",
            "Epoch 112/170\n",
            "100/100 [==============================] - 21s 213ms/step - loss: 0.1910 - categorical_accuracy: 0.9348 - val_loss: 0.0993 - val_categorical_accuracy: 0.9839\n",
            "Epoch 113/170\n",
            "100/100 [==============================] - 22s 220ms/step - loss: 0.1967 - categorical_accuracy: 0.9394 - val_loss: 0.1485 - val_categorical_accuracy: 0.9856\n",
            "Epoch 114/170\n",
            "100/100 [==============================] - 22s 215ms/step - loss: 0.1951 - categorical_accuracy: 0.9382 - val_loss: 0.0563 - val_categorical_accuracy: 0.9788\n",
            "Epoch 115/170\n",
            "100/100 [==============================] - 21s 214ms/step - loss: 0.1988 - categorical_accuracy: 0.9382 - val_loss: 0.0236 - val_categorical_accuracy: 0.9831\n",
            "Epoch 116/170\n",
            "100/100 [==============================] - 21s 213ms/step - loss: 0.1875 - categorical_accuracy: 0.9392 - val_loss: 0.0817 - val_categorical_accuracy: 0.9851\n",
            "Epoch 117/170\n",
            "100/100 [==============================] - 22s 217ms/step - loss: 0.1762 - categorical_accuracy: 0.9428 - val_loss: 0.0648 - val_categorical_accuracy: 0.9878\n",
            "Epoch 118/170\n",
            "100/100 [==============================] - 22s 218ms/step - loss: 0.1969 - categorical_accuracy: 0.9405 - val_loss: 0.0178 - val_categorical_accuracy: 0.9880\n",
            "Epoch 119/170\n",
            "100/100 [==============================] - 22s 217ms/step - loss: 0.1941 - categorical_accuracy: 0.9380 - val_loss: 0.2662 - val_categorical_accuracy: 0.9872\n",
            "Epoch 120/170\n",
            "100/100 [==============================] - 21s 215ms/step - loss: 0.1916 - categorical_accuracy: 0.9376 - val_loss: 0.0299 - val_categorical_accuracy: 0.9826\n",
            "Epoch 121/170\n",
            "100/100 [==============================] - 21s 213ms/step - loss: 0.1805 - categorical_accuracy: 0.9444 - val_loss: 0.0551 - val_categorical_accuracy: 0.9859\n",
            "Epoch 122/170\n",
            "100/100 [==============================] - 22s 220ms/step - loss: 0.1815 - categorical_accuracy: 0.9400 - val_loss: 0.0193 - val_categorical_accuracy: 0.9861\n",
            "Epoch 123/170\n",
            "100/100 [==============================] - 21s 215ms/step - loss: 0.1891 - categorical_accuracy: 0.9381 - val_loss: 0.0423 - val_categorical_accuracy: 0.9825\n",
            "Epoch 124/170\n",
            "100/100 [==============================] - 22s 219ms/step - loss: 0.2024 - categorical_accuracy: 0.9346 - val_loss: 0.0218 - val_categorical_accuracy: 0.9899\n",
            "Epoch 125/170\n",
            "100/100 [==============================] - 21s 213ms/step - loss: 0.1888 - categorical_accuracy: 0.9403 - val_loss: 0.0305 - val_categorical_accuracy: 0.9856\n",
            "Epoch 126/170\n",
            "100/100 [==============================] - 22s 219ms/step - loss: 0.1838 - categorical_accuracy: 0.9425 - val_loss: 0.0184 - val_categorical_accuracy: 0.9883\n",
            "Epoch 127/170\n",
            "100/100 [==============================] - 22s 216ms/step - loss: 0.1851 - categorical_accuracy: 0.9414 - val_loss: 0.0347 - val_categorical_accuracy: 0.9825\n",
            "Epoch 128/170\n",
            "100/100 [==============================] - 22s 216ms/step - loss: 0.1694 - categorical_accuracy: 0.9494 - val_loss: 0.0547 - val_categorical_accuracy: 0.9854\n",
            "Epoch 129/170\n",
            "100/100 [==============================] - 22s 215ms/step - loss: 0.1842 - categorical_accuracy: 0.9392 - val_loss: 0.0040 - val_categorical_accuracy: 0.9866\n",
            "Epoch 130/170\n",
            "100/100 [==============================] - 21s 215ms/step - loss: 0.1678 - categorical_accuracy: 0.9452 - val_loss: 0.0759 - val_categorical_accuracy: 0.9839\n",
            "Epoch 131/170\n",
            "100/100 [==============================] - 21s 215ms/step - loss: 0.1846 - categorical_accuracy: 0.9430 - val_loss: 0.0180 - val_categorical_accuracy: 0.9891\n",
            "Epoch 132/170\n",
            "100/100 [==============================] - 21s 213ms/step - loss: 0.1859 - categorical_accuracy: 0.9423 - val_loss: 0.0387 - val_categorical_accuracy: 0.9896\n",
            "Epoch 133/170\n",
            "100/100 [==============================] - 22s 218ms/step - loss: 0.1845 - categorical_accuracy: 0.9422 - val_loss: 0.0407 - val_categorical_accuracy: 0.9803\n",
            "Epoch 134/170\n",
            "100/100 [==============================] - 21s 214ms/step - loss: 0.1989 - categorical_accuracy: 0.9376 - val_loss: 0.1826 - val_categorical_accuracy: 0.9842\n",
            "Epoch 135/170\n",
            "100/100 [==============================] - 22s 217ms/step - loss: 0.1755 - categorical_accuracy: 0.9456 - val_loss: 0.0371 - val_categorical_accuracy: 0.9844\n",
            "Epoch 136/170\n",
            "100/100 [==============================] - 22s 216ms/step - loss: 0.1770 - categorical_accuracy: 0.9430 - val_loss: 0.0025 - val_categorical_accuracy: 0.9880\n",
            "Epoch 137/170\n",
            "100/100 [==============================] - 22s 216ms/step - loss: 0.1839 - categorical_accuracy: 0.9434 - val_loss: 0.0328 - val_categorical_accuracy: 0.9872\n",
            "Epoch 138/170\n",
            "100/100 [==============================] - 22s 217ms/step - loss: 0.1772 - categorical_accuracy: 0.9458 - val_loss: 0.1068 - val_categorical_accuracy: 0.9867\n",
            "Epoch 139/170\n",
            "100/100 [==============================] - 21s 212ms/step - loss: 0.1756 - categorical_accuracy: 0.9464 - val_loss: 0.0970 - val_categorical_accuracy: 0.9850\n",
            "Epoch 140/170\n",
            "100/100 [==============================] - 22s 218ms/step - loss: 0.1558 - categorical_accuracy: 0.9519 - val_loss: 0.0193 - val_categorical_accuracy: 0.9873\n",
            "Epoch 141/170\n",
            "100/100 [==============================] - 21s 214ms/step - loss: 0.1598 - categorical_accuracy: 0.9499 - val_loss: 0.0233 - val_categorical_accuracy: 0.9853\n",
            "Epoch 142/170\n",
            "100/100 [==============================] - 22s 221ms/step - loss: 0.1727 - categorical_accuracy: 0.9458 - val_loss: 0.0799 - val_categorical_accuracy: 0.9864\n",
            "Epoch 143/170\n",
            "100/100 [==============================] - 21s 213ms/step - loss: 0.1987 - categorical_accuracy: 0.9377 - val_loss: 0.2690 - val_categorical_accuracy: 0.9828\n",
            "Epoch 144/170\n",
            "100/100 [==============================] - 22s 218ms/step - loss: 0.1582 - categorical_accuracy: 0.9518 - val_loss: 0.0490 - val_categorical_accuracy: 0.9877\n",
            "Epoch 145/170\n",
            "100/100 [==============================] - 21s 211ms/step - loss: 0.1719 - categorical_accuracy: 0.9423 - val_loss: 0.1763 - val_categorical_accuracy: 0.9847\n",
            "Epoch 146/170\n",
            "100/100 [==============================] - 22s 221ms/step - loss: 0.1721 - categorical_accuracy: 0.9457 - val_loss: 0.0865 - val_categorical_accuracy: 0.9854\n",
            "Epoch 147/170\n",
            "100/100 [==============================] - 21s 213ms/step - loss: 0.1647 - categorical_accuracy: 0.9506 - val_loss: 0.1460 - val_categorical_accuracy: 0.9861\n",
            "Epoch 148/170\n",
            "100/100 [==============================] - 22s 221ms/step - loss: 0.1734 - categorical_accuracy: 0.9463 - val_loss: 0.0522 - val_categorical_accuracy: 0.9847\n",
            "Epoch 149/170\n",
            "100/100 [==============================] - 21s 215ms/step - loss: 0.1621 - categorical_accuracy: 0.9486 - val_loss: 0.0532 - val_categorical_accuracy: 0.9880\n",
            "Epoch 150/170\n",
            "100/100 [==============================] - 22s 216ms/step - loss: 0.1798 - categorical_accuracy: 0.9449 - val_loss: 0.0692 - val_categorical_accuracy: 0.9834\n",
            "Epoch 151/170\n",
            "100/100 [==============================] - 21s 214ms/step - loss: 0.1601 - categorical_accuracy: 0.9472 - val_loss: 0.1137 - val_categorical_accuracy: 0.9905\n",
            "Epoch 152/170\n",
            "100/100 [==============================] - 22s 216ms/step - loss: 0.1740 - categorical_accuracy: 0.9467 - val_loss: 0.0436 - val_categorical_accuracy: 0.9869\n",
            "Epoch 153/170\n",
            "100/100 [==============================] - 22s 215ms/step - loss: 0.1788 - categorical_accuracy: 0.9420 - val_loss: 0.0578 - val_categorical_accuracy: 0.9807\n",
            "Epoch 154/170\n",
            "100/100 [==============================] - 21s 215ms/step - loss: 0.1611 - categorical_accuracy: 0.9483 - val_loss: 0.0375 - val_categorical_accuracy: 0.9856\n",
            "Epoch 155/170\n",
            "100/100 [==============================] - 21s 215ms/step - loss: 0.1837 - categorical_accuracy: 0.9436 - val_loss: 0.0624 - val_categorical_accuracy: 0.9867\n",
            "Epoch 156/170\n",
            "100/100 [==============================] - 22s 217ms/step - loss: 0.1734 - categorical_accuracy: 0.9438 - val_loss: 0.0156 - val_categorical_accuracy: 0.9844\n",
            "Epoch 157/170\n",
            "100/100 [==============================] - 22s 218ms/step - loss: 0.1564 - categorical_accuracy: 0.9503 - val_loss: 0.0166 - val_categorical_accuracy: 0.9861\n",
            "Epoch 158/170\n",
            "100/100 [==============================] - 21s 212ms/step - loss: 0.1658 - categorical_accuracy: 0.9480 - val_loss: 0.0577 - val_categorical_accuracy: 0.9884\n",
            "Epoch 159/170\n",
            "100/100 [==============================] - 22s 220ms/step - loss: 0.1727 - categorical_accuracy: 0.9456 - val_loss: 0.0300 - val_categorical_accuracy: 0.9899\n",
            "Epoch 160/170\n",
            "100/100 [==============================] - 21s 215ms/step - loss: 0.1690 - categorical_accuracy: 0.9459 - val_loss: 0.0377 - val_categorical_accuracy: 0.9828\n",
            "Epoch 161/170\n",
            "100/100 [==============================] - 22s 216ms/step - loss: 0.1604 - categorical_accuracy: 0.9452 - val_loss: 0.0020 - val_categorical_accuracy: 0.9870\n",
            "Epoch 162/170\n",
            "100/100 [==============================] - 22s 215ms/step - loss: 0.1583 - categorical_accuracy: 0.9516 - val_loss: 0.0335 - val_categorical_accuracy: 0.9856\n",
            "Epoch 163/170\n",
            "100/100 [==============================] - 22s 217ms/step - loss: 0.1699 - categorical_accuracy: 0.9452 - val_loss: 0.1555 - val_categorical_accuracy: 0.9810\n",
            "Epoch 164/170\n",
            "100/100 [==============================] - 21s 215ms/step - loss: 0.1666 - categorical_accuracy: 0.9492 - val_loss: 0.0120 - val_categorical_accuracy: 0.9881\n",
            "Epoch 165/170\n",
            "100/100 [==============================] - 22s 218ms/step - loss: 0.1573 - categorical_accuracy: 0.9477 - val_loss: 0.0505 - val_categorical_accuracy: 0.9845\n",
            "Epoch 166/170\n",
            "100/100 [==============================] - 21s 215ms/step - loss: 0.1497 - categorical_accuracy: 0.9550 - val_loss: 0.0136 - val_categorical_accuracy: 0.9875\n",
            "Epoch 167/170\n",
            "100/100 [==============================] - 22s 215ms/step - loss: 0.1696 - categorical_accuracy: 0.9464 - val_loss: 0.0273 - val_categorical_accuracy: 0.9889\n",
            "Epoch 168/170\n",
            "100/100 [==============================] - 22s 216ms/step - loss: 0.1644 - categorical_accuracy: 0.9481 - val_loss: 0.0382 - val_categorical_accuracy: 0.9878\n",
            "Epoch 169/170\n",
            "100/100 [==============================] - 21s 212ms/step - loss: 0.1656 - categorical_accuracy: 0.9490 - val_loss: 0.0038 - val_categorical_accuracy: 0.9858\n",
            "Epoch 170/170\n",
            "100/100 [==============================] - 22s 220ms/step - loss: 0.1665 - categorical_accuracy: 0.9475 - val_loss: 0.0560 - val_categorical_accuracy: 0.9856\n",
            "Saved model as model_signs_10_classes_softmax_04072020111356.h5\n"
          ],
          "name": "stdout"
        }
      ]
    },
    {
      "cell_type": "markdown",
      "metadata": {
        "id": "LUtd1wwJeS4I",
        "colab_type": "text"
      },
      "source": [
        "###Sprawdzenie modelu"
      ]
    },
    {
      "cell_type": "markdown",
      "metadata": {
        "id": "h-LyI_lDeePo",
        "colab_type": "text"
      },
      "source": [
        "####Przebieg uczenia \n"
      ]
    },
    {
      "cell_type": "code",
      "metadata": {
        "id": "xgrk-WiNuPqX",
        "colab_type": "code",
        "colab": {
          "base_uri": "https://localhost:8080/",
          "height": 865
        },
        "outputId": "295abbd8-4e68-4008-d3b2-54e0b2a0acc2"
      },
      "source": [
        "fig = plt.figure(figsize=(12,6))\n",
        "plt.subplot(2,1,1)\n",
        "plt.plot(history.history['categorical_accuracy'])\n",
        "plt.plot(history.history['val_categorical_accuracy'])\n",
        "plt.title('model accuracy')\n",
        "plt.ylabel('accuracy')\n",
        "plt.xlabel('epoch')\n",
        "plt.legend(['train', 'test'], loc='lower right')\n",
        "\n",
        "plt.subplot(2,1,2)\n",
        "plt.plot(history.history['loss'])\n",
        "plt.plot(history.history['val_loss'])\n",
        "plt.title('model loss')\n",
        "plt.ylabel('loss')\n",
        "plt.xlabel('epoch')\n",
        "plt.legend(['train', 'test'], loc='upper right')\n",
        "\n",
        "plt.tight_layout()\n",
        "fig\n",
        "\n"
      ],
      "execution_count": 12,
      "outputs": [
        {
          "output_type": "execute_result",
          "data": {
            "image/png": "[encoded data removed]",
            "text/plain": [
              "<Figure size 864x432 with 2 Axes>"
            ]
          },
          "metadata": {
            "tags": []
          },
          "execution_count": 12
        },
        {
          "output_type": "display_data",
          "data": {
            "image/png": "[encoded data removed]",
            "text/plain": [
              "<Figure size 864x432 with 2 Axes>"
            ]
          },
          "metadata": {
            "tags": [],
            "needs_background": "light"
          }
        }
      ]
    },
    {
      "cell_type": "markdown",
      "metadata": {
        "id": "RfMzRbAhfC9e",
        "colab_type": "text"
      },
      "source": [
        "####Testowanie modelu"
      ]
    },
    {
      "cell_type": "code",
      "metadata": {
        "id": "SVMbtjGN4FKU",
        "colab_type": "code",
        "colab": {
          "base_uri": "https://localhost:8080/",
          "height": 104
        },
        "outputId": "d8c79cc8-a93c-457b-8d77-94ee5094dce8"
      },
      "source": [
        "test_datagen = ImageDataGenerator(rescale=1./255)\n",
        "\n",
        "test_generator = test_datagen.flow_from_directory(\n",
        "        test_dir,\n",
        "        target_size=(picture_size, picture_size),\n",
        "        color_mode=\"rgb\",\n",
        "        shuffle = False,\n",
        "        class_mode='categorical',\n",
        "        batch_size=1,\n",
        "        )\n",
        "\n",
        "filenames = test_generator.filenames\n",
        "classes_gen = test_generator.class_indices\n",
        "classes_gen = test_generator.class_indices\n",
        "\n",
        "loss_acc = model.evaluate(test_generator)\n",
        "print(classes_gen)\n",
        "print('loss= ', loss_acc[0])\n",
        "print(\"acc= \", loss_acc[1])"
      ],
      "execution_count": 13,
      "outputs": [
        {
          "output_type": "stream",
          "text": [
            "Found 2853 images belonging to 10 classes.\n",
            "2853/2853 [==============================] - 13s 5ms/step\n",
            "{'cross': 0, 'limit40': 1, 'limit50': 2, 'limit60': 3, 'limit70': 4, 'limit80': 5, 'nosign': 6, 'othersign': 7, 'stop': 8, 'yield': 9}\n",
            "loss=  0.00017951308109331876\n",
            "acc=  0.9859796762466431\n"
          ],
          "name": "stdout"
        }
      ]
    },
    {
      "cell_type": "code",
      "metadata": {
        "id": "xRrryWRVsFDt",
        "colab_type": "code",
        "colab": {
          "base_uri": "https://localhost:8080/",
          "height": 243
        },
        "outputId": "e6372ca0-d18b-46fb-9829-f1d8a9bcd953"
      },
      "source": [
        "predict = model.predict_generator(test_generator,steps = len(filenames))\n",
        "predict"
      ],
      "execution_count": 14,
      "outputs": [
        {
          "output_type": "execute_result",
          "data": {
            "text/plain": [
              "array([[9.9966729e-01, 1.0590436e-06, 6.3994162e-06, ..., 2.9526016e-05,\n",
              "        2.4053809e-06, 5.6525816e-05],\n",
              "       [9.9997056e-01, 3.0336554e-07, 1.2832040e-06, ..., 5.7483658e-06,\n",
              "        2.3668279e-07, 4.2932725e-06],\n",
              "       [9.9996042e-01, 2.1923746e-07, 1.9629290e-06, ..., 9.6590202e-06,\n",
              "        3.2840961e-07, 5.8510486e-06],\n",
              "       ...,\n",
              "       [6.1474145e-07, 1.1352297e-09, 1.5462579e-07, ..., 5.2226119e-06,\n",
              "        5.9667705e-08, 9.9998558e-01],\n",
              "       [8.7975150e-06, 1.0187602e-08, 1.3674161e-06, ..., 1.7144976e-04,\n",
              "        1.4160024e-06, 9.9966204e-01],\n",
              "       [3.3016436e-06, 1.2019882e-07, 3.7122156e-06, ..., 6.5218956e-05,\n",
              "        1.2064921e-06, 9.9982053e-01]], dtype=float32)"
            ]
          },
          "metadata": {
            "tags": []
          },
          "execution_count": 14
        }
      ]
    },
    {
      "cell_type": "code",
      "metadata": {
        "id": "nasmaaVB5sIy",
        "colab_type": "code",
        "colab": {
          "base_uri": "https://localhost:8080/",
          "height": 208
        },
        "outputId": "2d1d1302-ce1d-4a9b-b1f2-7200e168d6a4"
      },
      "source": [
        "from google.colab.patches import cv2_imshow\n",
        "\n",
        "signs = test_generator.class_indices\n",
        "prediction_list = []\n",
        "memo_correct_percent = {}\n",
        "for sign in signs:\n",
        "  files = os.path.join(test_dir, sign)\n",
        "  test_files = os.listdir(files)\n",
        "  incorrect = 0\n",
        "  for f in test_files:\n",
        "    path_to_test = os.path.join(files, f)\n",
        "    img = cv2.imread(path_to_test)\n",
        "    img_rgb = cv2.cvtColor(img, cv2.COLOR_BGR2RGB)\n",
        "    img_resized = cv2.resize(img_rgb,(picture_size,picture_size))\n",
        "    img_resized_float = img_resized.astype(\"float32\") / 255\n",
        "    img_tensor = np.reshape(img_resized_float,[1,picture_size,picture_size,3])\n",
        "    classes = (model.predict_classes(img_tensor)).tolist()\n",
        "    for num, class_ in enumerate(signs):\n",
        "      if classes[0] == num:\n",
        "        classes = list(signs.keys())[list(signs.values()).index(num)]\n",
        "    else:\n",
        "      classes\n",
        "    if classes != sign:\n",
        "      # cv2_imshow(img)\n",
        "      incorrect += 1 \n",
        "  corrent_percent = round(100-(incorrect/len(test_files)*100))\n",
        "  memo_correct_percent[sign] = corrent_percent\n",
        "  prediction_note = f'{sign}: {incorrect} / {len(test_files)},  Poprawność: {corrent_percent}%'\n",
        "  prediction_list.append(prediction_note)\n",
        "  print(prediction_note)\n",
        "mean_correct_percent = round(sum(memo_correct_percent.values()) / len(signs), 1)\n",
        "print(f'Średnia poprawność predykcji: {mean_correct_percent}%')"
      ],
      "execution_count": 15,
      "outputs": [
        {
          "output_type": "stream",
          "text": [
            "cross: 1 / 409,  Poprawność: 100%\n",
            "limit40: 2 / 98,  Poprawność: 98%\n",
            "limit50: 3 / 312,  Poprawność: 99%\n",
            "limit60: 4 / 191,  Poprawność: 98%\n",
            "limit70: 3 / 211,  Poprawność: 99%\n",
            "limit80: 5 / 206,  Poprawność: 98%\n",
            "nosign: 6 / 780,  Poprawność: 99%\n",
            "othersign: 3 / 132,  Poprawność: 98%\n",
            "stop: 5 / 236,  Poprawność: 98%\n",
            "yield: 6 / 278,  Poprawność: 98%\n",
            "Średnia poprawność predykcji: 98.5%\n"
          ],
          "name": "stdout"
        }
      ]
    },
    {
      "cell_type": "markdown",
      "metadata": {
        "id": "WwDG6IiWVFF4",
        "colab_type": "text"
      },
      "source": [
        "###Zapis danych modelu i wyników do pliku tekstowego"
      ]
    },
    {
      "cell_type": "code",
      "metadata": {
        "id": "FgiNAOri-nSk",
        "colab_type": "code",
        "colab": {}
      },
      "source": [
        "time_date = time.strftime(\"%d/%m/%Y - %H:%M:%S\")\n",
        "with open(\"/content/drive/My Drive/Colab Notebooks/Road_sign_rec/Log_data.txt\", \"a\") as f:\n",
        "  f.write(f\"Model {time_date} \\n\")\n",
        "  f.write(f\"Funkcja aktywacji: {activation} \\n\")\n",
        "  f.write(f\"Ilość zdjęć treningowych: \\n\")\n",
        "  for key, value in train_folders_length.items():\n",
        "    f.write(f\"\\t{key}: {value}\\n\")\n",
        "  f.write(f\"Ilość zdjęć walidacyjnych: \\n\")\n",
        "  for key, value in valid_folders_length.items():\n",
        "    f.write(f\"\\t{key}: {value}\\n\")\n",
        "  f.write(f\"Parametry:\\n \\tEpochs: {epochs}\\n \\tMetrics: {metrics}\\n \\tLoss: {loss}\\n \\tClassification: {class_mode} \\n\")\n",
        "  f.write(f\"\\tBatch size: {batch_size}\\n\")\n",
        "  f.write(f\"\\tWielkość zdjęć: {picture_size}x{picture_size}px\\n\")\n",
        "  f.write(f\"\\tIlość warstw modelu: {len(model.layers)}\\n\")\n",
        "  f.write(f\"\\tDropout: 1 - {dropout_1}; 2 - {dropout_2}; 3 - {dropout_3}; 4 - {dropout_4}; 5 - {dropout_5}; 6 - {dropout_6}\\n\")\n",
        "  f.write(\"\\n\")\n",
        "  f.write(\"Wyniki: \\n\")\n",
        "  f.write(f\"\\tSTRATA [loss]: {loss_acc[0]}\\n\")\n",
        "  f.write(f\"\\tDOKŁADNOŚĆ [acc]: {loss_acc[1]}\\n\")\n",
        "  f.write(f\"\\tIlość zdjęć testowych: {len(test_generator.filenames)}\\n\")\n",
        "  for prediction in prediction_list:\n",
        "    f.write(f\"\\t{prediction}\\n\")\n",
        "  f.write(f\"Średnia poprawność manualnej predykcji: {mean_correct_percent}% \\n\")\n",
        "  f.write(f\"Nazwa pliku: {model_name}\")\n",
        "  f.write(\"\\n\")\n",
        "  f.write(\"-------------------------------------------------------------\")\n",
        "  f.write(\"\\n\\n\")\n"
      ],
      "execution_count": null,
      "outputs": []
    },
    {
      "cell_type": "markdown",
      "metadata": {
        "id": "57sqxKgIeiIU",
        "colab_type": "text"
      },
      "source": [
        "###Zapis modelu (.json) i wag (.h5)"
      ]
    },
    {
      "cell_type": "code",
      "metadata": {
        "id": "jViqYOilFGvH",
        "colab_type": "code",
        "colab": {}
      },
      "source": [
        "model_name_json = 'model_5conv.json'\n",
        "model_path = os.path.join(\"/content/drive/My Drive/Colab Notebooks/Road_sign_rec/Data\", model_name_json)\n",
        "json_config = model.to_json()\n",
        "with open(model_path, 'w') as json_file:\n",
        "    json_file.write(json_config)"
      ],
      "execution_count": null,
      "outputs": []
    },
    {
      "cell_type": "code",
      "metadata": {
        "id": "HQh5u5qc36F4",
        "colab_type": "code",
        "colab": {}
      },
      "source": [
        "model_name = 'model_signs_4_classes.h5'\n",
        "model_path = os.path.join(base_dir, model_name)\n",
        "model.save(model_path)"
      ],
      "execution_count": null,
      "outputs": []
    },
    {
      "cell_type": "code",
      "metadata": {
        "id": "ckNC7f9KaBfo",
        "colab_type": "code",
        "colab": {}
      },
      "source": [
        "model_name = 'model_signs_4_multi_classes_softmax.h5'\n",
        "model_path = os.path.join(base_dir, model_name)\n",
        "model.save(model_path)"
      ],
      "execution_count": null,
      "outputs": []
    },
    {
      "cell_type": "code",
      "metadata": {
        "id": "1EtyyAH1Tx4m",
        "colab_type": "code",
        "colab": {}
      },
      "source": [
        "model_name = 'model_signs_4_multi_classes_sigmoid.h5'\n",
        "model_path = os.path.join(base_dir, model_name)\n",
        "model.save(model_path)"
      ],
      "execution_count": null,
      "outputs": []
    },
    {
      "cell_type": "code",
      "metadata": {
        "id": "hOS4hhKMOe6U",
        "colab_type": "code",
        "colab": {}
      },
      "source": [
        "model.load_weights('/content/drive/My Drive/Colab Notebooks/Road_sign_rec/model_signs_9_classe_sigmoid_23052020.h5')"
      ],
      "execution_count": null,
      "outputs": []
    },
    {
      "cell_type": "code",
      "metadata": {
        "id": "vhEm1sl86NmF",
        "colab_type": "code",
        "colab": {}
      },
      "source": [
        "figure = plt.figure()\n",
        "files = os.path.join(test_dir, 'cross')\n",
        "test_files = os.listdir(files)\n",
        "path_to_test = os.path.join(files, test_files[100])\n",
        "img = cv2.imread(path_to_test)\n",
        "img = cv2.cvtColor(img, cv2.COLOR_BGR2RGB)\n",
        "img = cv2.resize(img,(picture_size,picture_size))\n",
        "plt.imshow(img)\n",
        "plt.show()\n"
      ],
      "execution_count": null,
      "outputs": []
    },
    {
      "cell_type": "markdown",
      "metadata": {
        "id": "0qGf-UsIqdzp",
        "colab_type": "text"
      },
      "source": [
        "###Poprzednie wyniki do porównania"
      ]
    },
    {
      "cell_type": "code",
      "metadata": {
        "id": "GUMJSf5G15Vw",
        "colab_type": "code",
        "colab": {}
      },
      "source": [
        "Sigmoid 04062020\n",
        "acc=  0.9838449358940125\n",
        "cross: 2 / 409,  Correct: 100%\n",
        "limit40: 4 / 98,  Correct: 96%\n",
        "limit50: 3 / 312,  Correct: 99%\n",
        "limit60: 7 / 191,  Correct: 96%\n",
        "limit70: 3 / 211,  Correct: 99%\n",
        "limit80: 4 / 206,  Correct: 98%\n",
        "nosign: 12 / 813,  Correct: 99%\n",
        "stop: 3 / 236,  Correct: 99%\n",
        "Mean correct predict: 98.2%\n",
        "\n",
        "\n",
        "Softmax 03062020 - zmian pic size + nowe zdjecia\n",
        "acc=  0.9818255305290222\n",
        "cross: 4 / 409,  Correct: 99%\n",
        "limit40: 6 / 98,  Correct: 94%\n",
        "limit50: 9 / 312,  Correct: 97%\n",
        "limit60: 6 / 191,  Correct: 97%\n",
        "limit70: 4 / 211,  Correct: 98%\n",
        "limit80: 8 / 206,  Correct: 96%\n",
        "nosign: 7 / 813,  Correct: 99%\n",
        "stop: 4 / 236,  Correct: 98%\n",
        "Mean correct predict: 97.2%\n",
        "\n",
        "Softmax 03062020 - zmian pic size + zmian parametrow imagegeneratora\n",
        "cross: 5 / 388,  Correct: 99%\n",
        "limit40: 2 / 98,  Correct: 98%\n",
        "limit50: 5 / 111,  Correct: 95%\n",
        "limit60: 6 / 65,  Correct: 91%\n",
        "limit70: 4 / 34,  Correct: 88%\n",
        "limit80: 5 / 41,  Correct: 88%\n",
        "nosign: 8 / 813,  Correct: 99%\n",
        "stop: 4 / 167,  Correct: 98%\n",
        "Mean correct predict: 94.5%\n",
        "\n",
        "Softmax 03062020 - zmian pic size\n",
        "acc=  0.9807804226875305\n",
        "cross: 2 / 388,  Correct: 99%\n",
        "limit40: 3 / 98,  Correct: 97%\n",
        "limit50: 2 / 111,  Correct: 98%\n",
        "limit60: 6 / 65,  Correct: 91%\n",
        "limit70: 3 / 34,  Correct: 91%\n",
        "limit80: 3 / 41,  Correct: 93%\n",
        "nosign: 8 / 813,  Correct: 99%\n",
        "stop: 3 / 167,  Correct: 98%\n",
        "Mean correct predict: 95.8%\n",
        "\n",
        "Softmax 03062020\n",
        "acc=  0.9749563336372375\n",
        "cross: 6 / 388,  Correct: 98%\n",
        "limit40: 2 / 98,  Correct: 98%\n",
        "limit50: 6 / 111,  Correct: 95%\n",
        "limit60: 8 / 65,  Correct: 88%\n",
        "limit70: 6 / 34,  Correct: 82%\n",
        "limit80: 7 / 41,  Correct: 83%\n",
        "nosign: 9 / 813,  Correct: 99%\n",
        "stop: 3 / 167,  Correct: 98%\n",
        "Mean correct predict: 92.6%\n",
        "\n",
        "# Sigmoin 26052020:\n",
        "cross: 4 / 388,  Correct: 99%\n",
        "limit40: 3 / 98,  Correct: 97%\n",
        "limit50: 6 / 111,  Correct: 95%\n",
        "limit60: 6 / 65,  Correct: 91%\n",
        "limit70: 4 / 34,  Correct: 88%\n",
        "limit80: 6 / 41,  Correct: 85%\n",
        "nosign: 5 / 813,  Correct: 99%\n",
        "stop: 2 / 167,  Correct: 99%\n",
        "Mean correct predict: 94.1%\n"
      ],
      "execution_count": null,
      "outputs": []
    },
    {
      "cell_type": "markdown",
      "metadata": {
        "id": "PnSDOcbQfK8H",
        "colab_type": "text"
      },
      "source": [
        "##Detekcja wideo"
      ]
    },
    {
      "cell_type": "markdown",
      "metadata": {
        "id": "NXyERENbfP4x",
        "colab_type": "text"
      },
      "source": [
        "###Pliki i ścieżki"
      ]
    },
    {
      "cell_type": "code",
      "metadata": {
        "id": "PzK868vIbIxu",
        "colab_type": "code",
        "colab": {
          "base_uri": "https://localhost:8080/",
          "height": 34
        },
        "outputId": "22a847f0-6536-4ce1-c7c6-e06a9db1feaf"
      },
      "source": [
        "video_path_input_directory = '/content/drive/My Drive/Colab Notebooks/Road_sign_rec/Input'\n",
        "video_file_name = 'warsaw_drive_test.mp4'\n",
        "video_path_file = os.path.join(video_path_input_directory, video_file_name)\n",
        "video_path_output = '/content/drive/My Drive/Colab Notebooks/Road_sign_rec/Output'\n",
        "print(video_path_file)\n",
        "from google.colab.patches import cv2_imshow"
      ],
      "execution_count": null,
      "outputs": [
        {
          "output_type": "stream",
          "text": [
            "/content/drive/My Drive/Colab Notebooks/Road_sign_rec/Input/warsaw_drive_test.mp4\n"
          ],
          "name": "stdout"
        }
      ]
    },
    {
      "cell_type": "code",
      "metadata": {
        "id": "6MjRwu8HcBue",
        "colab_type": "code",
        "colab": {}
      },
      "source": [
        "  ss = cv2.ximgproc.segmentation.createSelectiveSearchSegmentation()\n",
        "  cap = cv2.VideoCapture(video_path_file)\n",
        "  video_length = int(cap.get(cv2.CAP_PROP_FRAME_COUNT))\n",
        "  cap_video_fps = int(cap.get(cv2.CAP_PROP_FPS))\n",
        "  cap_video_width = int(cap.get(cv2.CAP_PROP_FRAME_WIDTH))\n",
        "  cap_video_height = int(cap.get(cv2.CAP_PROP_FRAME_HEIGHT))\n",
        "  print(\"FPS\", cap_video_fps)\n",
        "  print(\"Length\", video_length)\n",
        "  writer = None\n",
        "  (W, H) = (None, None)\n",
        "  mean = np.array([100, 100, 100], dtype=\"float32\")\n",
        "  i = 0\n",
        "  while True:\n",
        "      i += 1\n",
        "      print(f'{i} / {video_length}')\n",
        "      (grabbed, frame) = cap.read()\n",
        "      if not grabbed:\n",
        "          break\n",
        "      if W is None or H is None:\n",
        "          (H, W) = frame.shape[:2]\n",
        "      output = frame.copy()\n",
        "      ss.setBaseImage(output)\n",
        "      try:\n",
        "        ss.switchToSelectiveSearchFast()\n",
        "      except cv2.error:\n",
        "        break\n",
        "      ssresults = ss.process()\n",
        "      for w, result in enumerate(ssresults):\n",
        "          if w < 2000:\n",
        "              x, y, w, h = result\n",
        "              timage = output[y:y+h, x:x+w]\n",
        "              resized = cv2.resize(timage, (100, 100), interpolation=cv2.INTER_AREA)\n",
        "              resized = resized - mean\n",
        "              img = np.expand_dims(resized, axis=0)\n",
        "              out = model.predict(img/255.0, batch_size=10)\n",
        "              if out[0][0] >= 0.99:\n",
        "                  cv2.rectangle(output, (x, y), (x+w, y+h), (0, 255, 0), 1, cv2.LINE_AA)\n",
        "      if writer is None:\n",
        "          fourcc = cv2.VideoWriter_fourcc(*\"MJPG\")\n",
        "          writer = cv2.VideoWriter('Output/out_video.mp4', \n",
        "                                   fourcc, \n",
        "                                   30,\n",
        "                                   (W, H), \n",
        "                                   True,\n",
        "                                   )\n",
        "      writer.write(output)\n",
        "      cv2_imshow(output)\n",
        "  print(\"__END__\")"
      ],
      "execution_count": null,
      "outputs": []
    }
  ]
}