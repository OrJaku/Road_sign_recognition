{
  "nbformat": 4,
  "nbformat_minor": 0,
  "metadata": {
    "colab": {
      "name": "road_sign_rec_model.ipynb",
      "provenance": [],
      "collapsed_sections": [],
      "toc_visible": true,
      "mount_file_id": "1boPHgyMz_HPFVyOHPW7kt2nrZBDBJubM",
      "authorship_tag": "ABX9TyPn1/D47J9xTJC+jdWZdMJU",
      "include_colab_link": true
    },
    "kernelspec": {
      "name": "python3",
      "display_name": "Python 3"
    },
    "accelerator": "GPU"
  },
  "cells": [
    {
      "cell_type": "markdown",
      "metadata": {
        "id": "view-in-github",
        "colab_type": "text"
      },
      "source": [
        "<a href=\"https://colab.research.google.com/github/OrJaku/road-sign-recognition/blob/master/road_sign_rec_model.ipynb\" target=\"_parent\"><img src=\"https://colab.research.google.com/assets/colab-badge.svg\" alt=\"Open In Colab\"/></a>"
      ]
    },
    {
      "cell_type": "code",
      "metadata": {
        "id": "5yI9rJmbZMNh",
        "colab_type": "code",
        "outputId": "16ba1e09-3f88-46b9-dcc8-48bb29a113e4",
        "colab": {
          "base_uri": "https://localhost:8080/",
          "height": 34
        }
      },
      "source": [
        "cd drive/My\\ Drive/Colab Notebooks/Road_sign_rec"
      ],
      "execution_count": 1,
      "outputs": [
        {
          "output_type": "stream",
          "text": [
            "/content/drive/My Drive/Colab Notebooks/Road_sign_rec\n"
          ],
          "name": "stdout"
        }
      ]
    },
    {
      "cell_type": "code",
      "metadata": {
        "id": "VU_fq4urb_JG",
        "colab_type": "code",
        "colab": {}
      },
      "source": [
        "import os, shutil, cv2"
      ],
      "execution_count": 0,
      "outputs": []
    },
    {
      "cell_type": "markdown",
      "metadata": {
        "id": "L97BfvTNfVIG",
        "colab_type": "text"
      },
      "source": [
        "### Przygotowanie folderów"
      ]
    },
    {
      "cell_type": "code",
      "metadata": {
        "id": "gLFz7U1VZXQ2",
        "colab_type": "code",
        "colab": {}
      },
      "source": [
        "base_dir = \"Data/\"\n",
        "train_dir = os.path.join(base_dir, 'train_data')\n",
        "try:\n",
        "  os.mkdir(train_dir)\n",
        "except FileExistsError:\n",
        "  pass\n",
        "\n",
        "\n",
        "cross_train =  os.path.join(train_dir, 'cross')\n",
        "stop_train =  os.path.join(train_dir, 'stop')\n",
        "limit50_train =  os.path.join(train_dir, 'limit50')\n",
        "\n",
        "try:\n",
        "  os.mkdir(cross_train)\n",
        "  os.mkdir(stop_train)\n",
        "  os.mkdir(limit50_train)\n",
        "except FileExistsError:\n",
        "  pass\n",
        "\n",
        "valid_dir = os.path.join(base_dir, 'valid_data')\n",
        "try:\n",
        "  os.mkdir(valid_dir)\n",
        "except FileExistsError:\n",
        "  pass\n",
        "\n",
        "cross_val =  os.path.join(valid_dir, 'cross')\n",
        "stop_val =  os.path.join(valid_dir, 'stop')\n",
        "limit50_val =  os.path.join(valid_dir, 'limit50')\n",
        "\n",
        "try:\n",
        "  os.mkdir(cross_val)\n",
        "  os.mkdir(stop_val)\n",
        "  os.mkdir(limit50_val)\n",
        "except FileExistsError:\n",
        "  pass\n",
        "\n",
        "test_dir = os.path.join(base_dir, 'test_data')\n",
        "try:\n",
        "  os.mkdir(test_dir)\n",
        "except FileExistsError:\n",
        "  pass\n",
        "\n",
        "cross_test =  os.path.join(test_dir, 'cross')\n",
        "stop_test =  os.path.join(test_dir, 'stop')\n",
        "limit50_test =  os.path.join(test_dir, 'limit50')\n",
        "\n",
        "try:\n",
        "  os.mkdir(cross_test)\n",
        "  os.mkdir(stop_test)\n",
        "  os.mkdir(limit50_test)\n",
        "except FileExistsError:\n",
        "  pass\n",
        "\n"
      ],
      "execution_count": 0,
      "outputs": []
    },
    {
      "cell_type": "markdown",
      "metadata": {
        "id": "B6C9ZXIjfdnm",
        "colab_type": "text"
      },
      "source": [
        "#### Ilość poszczegónych zdjęć"
      ]
    },
    {
      "cell_type": "code",
      "metadata": {
        "id": "E34aEB7Obpkm",
        "colab_type": "code",
        "outputId": "d7534eb4-6790-4c48-c1dd-646fe9a5f0ff",
        "colab": {
          "base_uri": "https://localhost:8080/",
          "height": 68
        }
      },
      "source": [
        "cross_origin_path = os.path.abspath(\"Data/information--pedestrians-crossing--g1/\")\n",
        "stop_origin_path = os.path.abspath(\"Data/regulatory--stop--g1\")\n",
        "limit50_origin_path = os.path.abspath(\"Data/regulatory--maximum-speed-limit-50--g1\")\n",
        "\n",
        "print('Przejscie dla piszych: ',len(os.listdir(cross_origin_path)))\n",
        "print('Stop: ', len(os.listdir(stop_origin_path)))\n",
        "print('Ograniczenie do 50km/h', len(os.listdir(limit50_origin_path)))"
      ],
      "execution_count": 43,
      "outputs": [
        {
          "output_type": "stream",
          "text": [
            "Przejscie dla piszych:  2188\n",
            "Stop:  1368\n",
            "Ograniczenie do 50km/h 711\n"
          ],
          "name": "stdout"
        }
      ]
    },
    {
      "cell_type": "markdown",
      "metadata": {
        "id": "hfqmdzzsfq81",
        "colab_type": "text"
      },
      "source": [
        "#### Kopiowanie danych \n",
        "\n",
        "---\n",
        "\n"
      ]
    },
    {
      "cell_type": "code",
      "metadata": {
        "id": "Os4zVKiofTDn",
        "colab_type": "code",
        "colab": {}
      },
      "source": [
        "\n",
        "# train cross\n",
        "for image_name in os.listdir(cross_origin_path)[0:1200]:\n",
        "  src = os.path.join(cross_origin_path, image_name)\n",
        "  dst = os.path.join(cross_train, image_name)\n",
        "  shutil.copyfile(src, dst)\n",
        "print(\"train cross copied\")\n",
        "\n",
        "# validation cross\n",
        "for image_name in os.listdir(cross_origin_path)[1200:1800]:\n",
        "  src = os.path.join(cross_origin_path, image_name)\n",
        "  dst = os.path.join(cross_val, image_name)\n",
        "  shutil.copyfile(src, dst)\n",
        "print(\"validation cross copied\")\n",
        "\n",
        "# test cross\n",
        "for image_name in os.listdir(cross_origin_path)[1800:]:\n",
        "  src = os.path.join(cross_origin_path, image_name)\n",
        "  dst = os.path.join(cross_test, image_name)\n",
        "  shutil.copyfile(src, dst)\n",
        "print(\"test cross copied\")\n",
        "\n",
        "##################################\n",
        "\n",
        "# train stop\n",
        "i=0\n",
        "for image_name in os.listdir(stop_origin_path)[0:900]:\n",
        "  i =+ 1\n",
        "  src = os.path.join(stop_origin_path, image_name)\n",
        "  dst = os.path.join(stop_train, image_name)\n",
        "  shutil.copyfile(src, dst)\n",
        "  if i == 200 or i == 400 or i == 700:\n",
        "    print(f\"Copied {i} \")\n",
        "print(\"train stop copied\")\n",
        "\n",
        "\n",
        "# validation stop\n",
        "for image_name in os.listdir(stop_origin_path)[901:1200]:\n",
        "  src = os.path.join(stop_origin_path, image_name)\n",
        "  dst = os.path.join(stop_val, image_name)\n",
        "  shutil.copyfile(src, dst)\n",
        "  if i == 1050:\n",
        "    print(f\"Copied {i} \")\n",
        "print(\"validation stop copied\")\n",
        "\n",
        "# test stop\n",
        "for image_name in os.listdir(stop_origin_path)[1201:]:\n",
        "  src = os.path.join(stop_origin_path, image_name)\n",
        "  dst = os.path.join(stop_test, image_name)\n",
        "  shutil.copyfile(src, dst)\n",
        "  if i == 1300:\n",
        "    print(f\"Copied {i} \")\n",
        "print(\"test stop copied\")\n",
        "\n",
        "\n",
        "##########################\n",
        "\n",
        "# train limit50\n",
        "for image_name in os.listdir(limit50_origin_path)[0:400]:\n",
        "  src = os.path.join(limit50_origin_path, image_name)\n",
        "  dst = os.path.join(limit50_train, image_name)\n",
        "  shutil.copyfile(src, dst)\n",
        "print(\"train limit50 copied\")\n",
        "\n",
        "# validation limit50\n",
        "for image_name in os.listdir(limit50_origin_path)[400:600]:\n",
        "  src = os.path.join(limit50_origin_path, image_name)\n",
        "  dst = os.path.join(limit50_val, image_name)\n",
        "  shutil.copyfile(src, dst)\n",
        "print(\"validation limit50 copied\")\n",
        "\n",
        "# test limit50\n",
        "for image_name in os.listdir(limit50_origin_path)[600:]:\n",
        "  src = os.path.join(limit50_origin_path, image_name)\n",
        "  dst = os.path.join(limit50_test, image_name)\n",
        "  shutil.copyfile(src, dst)\n",
        "print(\"test limit50 copied\")\n"
      ],
      "execution_count": 0,
      "outputs": []
    },
    {
      "cell_type": "markdown",
      "metadata": {
        "id": "Vv-DHfNSpk4I",
        "colab_type": "text"
      },
      "source": [
        "#### Przekształcanie plików .jpg na tensory"
      ]
    },
    {
      "cell_type": "code",
      "metadata": {
        "id": "EDi-Uu2-pkJX",
        "colab_type": "code",
        "outputId": "19868be8-c06b-46cd-bac1-f907fde26b5c",
        "colab": {
          "base_uri": "https://localhost:8080/",
          "height": 51
        }
      },
      "source": [
        "from keras.preprocessing.image import ImageDataGenerator\n",
        "\n",
        "train_datagen = ImageDataGenerator(rescale=1./255)\n",
        "valid_datagen = ImageDataGenerator(rescale=1./255)\n",
        "\n",
        "picture_size = 100\n",
        "\n",
        "train_generator = train_datagen.flow_from_directory(\n",
        "    train_dir,\n",
        "    target_size=(picture_size,picture_size),\n",
        "    batch_size=10,\n",
        "    class_mode='categorical'\n",
        "\n",
        ")\n",
        "\n",
        "valid_generator = valid_datagen.flow_from_directory(\n",
        "    valid_dir,\n",
        "    target_size=(picture_size,picture_size),\n",
        "    batch_size=10,\n",
        "    class_mode='categorical'\n",
        "\n",
        ")\n",
        "numer_of_classes = len(train_generator.class_indices)"
      ],
      "execution_count": 22,
      "outputs": [
        {
          "output_type": "stream",
          "text": [
            "Found 2500 images belonging to 3 classes.\n",
            "Found 1099 images belonging to 3 classes.\n"
          ],
          "name": "stdout"
        }
      ]
    },
    {
      "cell_type": "code",
      "metadata": {
        "id": "FiFoGuguWNVm",
        "colab_type": "code",
        "colab": {}
      },
      "source": [
        "import pandas as pd\n",
        "import numpy as np\n",
        "from keras import layers, models, optimizers\n",
        "\n",
        "import matplotlib\n",
        "matplotlib.use('agg')\n",
        "import matplotlib.pyplot as plt\n",
        "import matplotlib.image as mpimg \n"
      ],
      "execution_count": 0,
      "outputs": []
    },
    {
      "cell_type": "markdown",
      "metadata": {
        "id": "DqxNGh2tflR5",
        "colab_type": "text"
      },
      "source": [
        "##Model"
      ]
    },
    {
      "cell_type": "code",
      "metadata": {
        "id": "ECYPhYgbW5yQ",
        "colab_type": "code",
        "outputId": "578ce2f0-d021-4ef4-8900-241e60cea899",
        "colab": {
          "base_uri": "https://localhost:8080/",
          "height": 663
        }
      },
      "source": [
        "\n",
        "model = models.Sequential()\n",
        "model.add(layers.Conv2D(32, (3, 3), activation='relu', input_shape=(picture_size, picture_size, 3)))\n",
        "model.add(layers.MaxPool2D((2, 2)))\n",
        "model.add(layers.Dropout(0.3))\n",
        "\n",
        "model.add(layers.Conv2D(64, (3, 3), activation='relu'))\n",
        "model.add(layers.MaxPool2D((2, 2)))\n",
        "model.add(layers.Dropout(0.3))\n",
        "\n",
        "model.add(layers.Conv2D(128, (3,3), activation='relu'))\n",
        "model.add(layers.MaxPool2D((2, 2)))\n",
        "model.add(layers.Dropout(0.3))\n",
        "\n",
        "model.add(layers.Conv2D(128, (3,3), activation='relu'))\n",
        "model.add(layers.MaxPool2D((2, 2)))\n",
        "model.add(layers.Dropout(0.3))\n",
        "\n",
        "model.add(layers.Flatten())\n",
        "model.add(layers.Dense(1024, activation='relu'))\n",
        "model.add(layers.Dense(numer_of_classes, activation='softmax'))\n",
        "\n",
        "model.compile(\n",
        "    loss='categorical_crossentropy',\n",
        "    optimizer=\"adam\",\n",
        "    metrics=['acc']\n",
        "    )\n",
        "model.summary()\n"
      ],
      "execution_count": 24,
      "outputs": [
        {
          "output_type": "stream",
          "text": [
            "Model: \"sequential_2\"\n",
            "_________________________________________________________________\n",
            "Layer (type)                 Output Shape              Param #   \n",
            "=================================================================\n",
            "conv2d_5 (Conv2D)            (None, 98, 98, 32)        896       \n",
            "_________________________________________________________________\n",
            "max_pooling2d_5 (MaxPooling2 (None, 49, 49, 32)        0         \n",
            "_________________________________________________________________\n",
            "dropout_5 (Dropout)          (None, 49, 49, 32)        0         \n",
            "_________________________________________________________________\n",
            "conv2d_6 (Conv2D)            (None, 47, 47, 64)        18496     \n",
            "_________________________________________________________________\n",
            "max_pooling2d_6 (MaxPooling2 (None, 23, 23, 64)        0         \n",
            "_________________________________________________________________\n",
            "dropout_6 (Dropout)          (None, 23, 23, 64)        0         \n",
            "_________________________________________________________________\n",
            "conv2d_7 (Conv2D)            (None, 21, 21, 128)       73856     \n",
            "_________________________________________________________________\n",
            "max_pooling2d_7 (MaxPooling2 (None, 10, 10, 128)       0         \n",
            "_________________________________________________________________\n",
            "dropout_7 (Dropout)          (None, 10, 10, 128)       0         \n",
            "_________________________________________________________________\n",
            "conv2d_8 (Conv2D)            (None, 8, 8, 128)         147584    \n",
            "_________________________________________________________________\n",
            "max_pooling2d_8 (MaxPooling2 (None, 4, 4, 128)         0         \n",
            "_________________________________________________________________\n",
            "dropout_8 (Dropout)          (None, 4, 4, 128)         0         \n",
            "_________________________________________________________________\n",
            "flatten_2 (Flatten)          (None, 2048)              0         \n",
            "_________________________________________________________________\n",
            "dense_3 (Dense)              (None, 1024)              2098176   \n",
            "_________________________________________________________________\n",
            "dense_4 (Dense)              (None, 3)                 3075      \n",
            "=================================================================\n",
            "Total params: 2,342,083\n",
            "Trainable params: 2,342,083\n",
            "Non-trainable params: 0\n",
            "_________________________________________________________________\n"
          ],
          "name": "stdout"
        }
      ]
    },
    {
      "cell_type": "code",
      "metadata": {
        "id": "gBDd5q9nq23t",
        "colab_type": "code",
        "outputId": "9e51f143-26a0-42de-9959-3b464f25306e",
        "colab": {
          "base_uri": "https://localhost:8080/",
          "height": 1000
        }
      },
      "source": [
        "history = model.fit_generator(\n",
        "    train_generator,\n",
        "    steps_per_epoch=50,\n",
        "    epochs=30,\n",
        "    validation_data=valid_generator,\n",
        "    validation_steps=10\n",
        ")"
      ],
      "execution_count": 25,
      "outputs": [
        {
          "output_type": "stream",
          "text": [
            "Epoch 1/30\n",
            "50/50 [==============================] - 1s 28ms/step - loss: 0.9288 - acc: 0.6060 - val_loss: 1.1131 - val_acc: 0.7700\n",
            "Epoch 2/30\n",
            "50/50 [==============================] - 1s 21ms/step - loss: 0.3569 - acc: 0.8940 - val_loss: 0.1529 - val_acc: 0.9400\n",
            "Epoch 3/30\n",
            "50/50 [==============================] - 1s 24ms/step - loss: 0.1495 - acc: 0.9520 - val_loss: 0.0011 - val_acc: 1.0000\n",
            "Epoch 4/30\n",
            "50/50 [==============================] - 1s 22ms/step - loss: 0.1911 - acc: 0.9360 - val_loss: 0.0766 - val_acc: 0.9900\n",
            "Epoch 5/30\n",
            "50/50 [==============================] - 1s 23ms/step - loss: 0.1355 - acc: 0.9600 - val_loss: 0.1026 - val_acc: 0.9300\n",
            "Epoch 6/30\n",
            "50/50 [==============================] - 1s 24ms/step - loss: 0.1315 - acc: 0.9660 - val_loss: 0.0208 - val_acc: 0.9800\n",
            "Epoch 7/30\n",
            "50/50 [==============================] - 1s 23ms/step - loss: 0.0687 - acc: 0.9740 - val_loss: 0.1041 - val_acc: 0.9700\n",
            "Epoch 8/30\n",
            "50/50 [==============================] - 1s 25ms/step - loss: 0.0521 - acc: 0.9800 - val_loss: 0.1957 - val_acc: 0.9400\n",
            "Epoch 9/30\n",
            "50/50 [==============================] - 1s 25ms/step - loss: 0.0726 - acc: 0.9740 - val_loss: 0.0028 - val_acc: 0.9900\n",
            "Epoch 10/30\n",
            "50/50 [==============================] - 1s 23ms/step - loss: 0.1219 - acc: 0.9660 - val_loss: 0.0937 - val_acc: 0.9800\n",
            "Epoch 11/30\n",
            "50/50 [==============================] - 1s 25ms/step - loss: 0.0594 - acc: 0.9860 - val_loss: 0.0315 - val_acc: 0.9798\n",
            "Epoch 12/30\n",
            "50/50 [==============================] - 1s 23ms/step - loss: 0.1130 - acc: 0.9660 - val_loss: 0.0582 - val_acc: 0.9700\n",
            "Epoch 13/30\n",
            "50/50 [==============================] - 1s 23ms/step - loss: 0.0442 - acc: 0.9840 - val_loss: 0.0204 - val_acc: 1.0000\n",
            "Epoch 14/30\n",
            "50/50 [==============================] - 1s 23ms/step - loss: 0.0634 - acc: 0.9860 - val_loss: 0.0135 - val_acc: 0.9900\n",
            "Epoch 15/30\n",
            "50/50 [==============================] - 1s 23ms/step - loss: 0.0553 - acc: 0.9860 - val_loss: 0.0675 - val_acc: 0.9600\n",
            "Epoch 16/30\n",
            "50/50 [==============================] - 1s 24ms/step - loss: 0.0673 - acc: 0.9780 - val_loss: 0.0016 - val_acc: 0.9800\n",
            "Epoch 17/30\n",
            "50/50 [==============================] - 1s 23ms/step - loss: 0.0448 - acc: 0.9860 - val_loss: 0.0280 - val_acc: 0.9900\n",
            "Epoch 18/30\n",
            "50/50 [==============================] - 1s 24ms/step - loss: 0.0378 - acc: 0.9920 - val_loss: 0.0074 - val_acc: 0.9900\n",
            "Epoch 19/30\n",
            "50/50 [==============================] - 1s 22ms/step - loss: 0.0347 - acc: 0.9860 - val_loss: 0.0271 - val_acc: 0.9900\n",
            "Epoch 20/30\n",
            "50/50 [==============================] - 1s 24ms/step - loss: 0.0777 - acc: 0.9740 - val_loss: 0.0979 - val_acc: 0.9600\n",
            "Epoch 21/30\n",
            "50/50 [==============================] - 1s 25ms/step - loss: 0.0966 - acc: 0.9680 - val_loss: 7.1755e-05 - val_acc: 1.0000\n",
            "Epoch 22/30\n",
            "50/50 [==============================] - 1s 23ms/step - loss: 0.1023 - acc: 0.9720 - val_loss: 0.0032 - val_acc: 1.0000\n",
            "Epoch 23/30\n",
            "50/50 [==============================] - 1s 24ms/step - loss: 0.0212 - acc: 0.9900 - val_loss: 0.2628 - val_acc: 0.9700\n",
            "Epoch 24/30\n",
            "50/50 [==============================] - 1s 24ms/step - loss: 0.0783 - acc: 0.9800 - val_loss: 0.0680 - val_acc: 0.9600\n",
            "Epoch 25/30\n",
            "50/50 [==============================] - 1s 24ms/step - loss: 0.0570 - acc: 0.9820 - val_loss: 0.0273 - val_acc: 1.0000\n",
            "Epoch 26/30\n",
            "50/50 [==============================] - 1s 24ms/step - loss: 0.0421 - acc: 0.9800 - val_loss: 0.0553 - val_acc: 1.0000\n",
            "Epoch 27/30\n",
            "50/50 [==============================] - 1s 25ms/step - loss: 0.0475 - acc: 0.9820 - val_loss: 0.0118 - val_acc: 0.9900\n",
            "Epoch 28/30\n",
            "50/50 [==============================] - 1s 24ms/step - loss: 0.0409 - acc: 0.9860 - val_loss: 0.0053 - val_acc: 1.0000\n",
            "Epoch 29/30\n",
            "50/50 [==============================] - 1s 23ms/step - loss: 0.0192 - acc: 0.9940 - val_loss: 5.3437e-05 - val_acc: 0.9900\n",
            "Epoch 30/30\n",
            "50/50 [==============================] - 1s 23ms/step - loss: 0.0300 - acc: 0.9900 - val_loss: 0.0151 - val_acc: 1.0000\n"
          ],
          "name": "stdout"
        }
      ]
    },
    {
      "cell_type": "code",
      "metadata": {
        "id": "xgrk-WiNuPqX",
        "colab_type": "code",
        "outputId": "73e04663-828b-4bf1-eba8-b46eb9929fce",
        "colab": {
          "base_uri": "https://localhost:8080/",
          "height": 297
        }
      },
      "source": [
        "\n",
        "\n",
        "fig = plt.figure()\n",
        "plt.subplot(2,1,1)\n",
        "plt.plot(history.history['acc'])\n",
        "plt.plot(history.history['val_acc'])\n",
        "plt.title('model accuracy')\n",
        "plt.ylabel('accuracy')\n",
        "plt.xlabel('epoch')\n",
        "plt.legend(['train', 'test'], loc='lower right')\n",
        "\n",
        "plt.subplot(2,1,2)\n",
        "plt.plot(history.history['loss'])\n",
        "plt.plot(history.history['val_loss'])\n",
        "plt.title('model loss')\n",
        "plt.ylabel('loss')\n",
        "plt.xlabel('epoch')\n",
        "plt.legend(['train', 'test'], loc='upper right')\n",
        "\n",
        "plt.tight_layout()\n",
        "\n",
        "fig"
      ],
      "execution_count": 26,
      "outputs": [
        {
          "output_type": "execute_result",
          "data": {
            "image/png": "[encoded data removed]",
            "text/plain": [
              "<Figure size 432x288 with 2 Axes>"
            ]
          },
          "metadata": {
            "tags": []
          },
          "execution_count": 26
        }
      ]
    },
    {
      "cell_type": "code",
      "metadata": {
        "id": "HQh5u5qc36F4",
        "colab_type": "code",
        "colab": {}
      },
      "source": [
        "model_name = 'model_signs.h5'\n",
        "model_path = os.path.join(base_dir, model_name)\n",
        "model.save(model_path)"
      ],
      "execution_count": 0,
      "outputs": []
    },
    {
      "cell_type": "code",
      "metadata": {
        "id": "AEr9Dxs33B8f",
        "colab_type": "code",
        "colab": {
          "base_uri": "https://localhost:8080/",
          "height": 34
        },
        "outputId": "d03edbe0-a0d7-4b75-ff90-ff1c4c40ce70"
      },
      "source": [
        "os.listdir(test_dir)"
      ],
      "execution_count": 75,
      "outputs": [
        {
          "output_type": "execute_result",
          "data": {
            "text/plain": [
              "['stop', 'cross', 'limit50']"
            ]
          },
          "metadata": {
            "tags": []
          },
          "execution_count": 75
        }
      ]
    },
    {
      "cell_type": "code",
      "metadata": {
        "id": "37QKqiOlqx9F",
        "colab_type": "code",
        "colab": {}
      },
      "source": [
        "to_del = os.path.join(test_dir, '.ipynb_checkpoints')\n",
        "os.rmdir(to_del)"
      ],
      "execution_count": 0,
      "outputs": []
    },
    {
      "cell_type": "code",
      "metadata": {
        "id": "JOV0a5dHsiqu",
        "colab_type": "code",
        "colab": {
          "base_uri": "https://localhost:8080/",
          "height": 34
        },
        "outputId": "98d7af44-c8e4-4cd6-ed59-2ba2d1885909"
      },
      "source": [
        "pwd"
      ],
      "execution_count": 83,
      "outputs": [
        {
          "output_type": "execute_result",
          "data": {
            "text/plain": [
              "'/content/drive/My Drive/Colab Notebooks/Road_sign_rec'"
            ]
          },
          "metadata": {
            "tags": []
          },
          "execution_count": 83
        }
      ]
    },
    {
      "cell_type": "code",
      "metadata": {
        "id": "loHxESOqrhnr",
        "colab_type": "code",
        "colab": {
          "base_uri": "https://localhost:8080/",
          "height": 34
        },
        "outputId": "ef52bceb-ef96-48c3-e9b9-549a172bf20f"
      },
      "source": [
        "!mv Data/test_data/stop Data/test_data/stop1 \n",
        "!mv Data/test_data/cross Data/test_data/stop \n",
        "!mv Data/test_data/stop1 Data/test_data/cross \n",
        "\n"
      ],
      "execution_count": 88,
      "outputs": [
        {
          "output_type": "stream",
          "text": [
            "mv: cannot stat 'Data/test_data/stop': No such file or directory\n"
          ],
          "name": "stdout"
        }
      ]
    },
    {
      "cell_type": "code",
      "metadata": {
        "id": "SVMbtjGN4FKU",
        "colab_type": "code",
        "outputId": "95aedf96-a16c-4925-c6d9-935db4b6c9a3",
        "colab": {
          "base_uri": "https://localhost:8080/",
          "height": 34
        }
      },
      "source": [
        "test_datagen = ImageDataGenerator(rescale=1./255)\n",
        "\n",
        "test_generator = test_datagen.flow_from_directory(\n",
        "        test_dir,\n",
        "        target_size=(picture_size, picture_size),\n",
        "        color_mode=\"rgb\",\n",
        "        shuffle = False,\n",
        "        class_mode='categorical',\n",
        "        batch_size=1)\n"
      ],
      "execution_count": 89,
      "outputs": [
        {
          "output_type": "stream",
          "text": [
            "Found 666 images belonging to 3 classes.\n"
          ],
          "name": "stdout"
        }
      ]
    },
    {
      "cell_type": "code",
      "metadata": {
        "id": "kPQFPSHZ3kEg",
        "colab_type": "code",
        "outputId": "37eaec8d-c255-4bf0-e650-6775f49e4025",
        "colab": {
          "base_uri": "https://localhost:8080/",
          "height": 34
        }
      },
      "source": [
        "filenames = test_generator.filenames\n",
        "classes_gen = test_generator.class_indices\n",
        "classes_gen"
      ],
      "execution_count": 90,
      "outputs": [
        {
          "output_type": "execute_result",
          "data": {
            "text/plain": [
              "{'cross': 0, 'limit50': 1, 'stop': 2}"
            ]
          },
          "metadata": {
            "tags": []
          },
          "execution_count": 90
        }
      ]
    },
    {
      "cell_type": "code",
      "metadata": {
        "id": "xRrryWRVsFDt",
        "colab_type": "code",
        "outputId": "2f1a51db-55b1-40e7-81ce-449507bb5a61",
        "colab": {
          "base_uri": "https://localhost:8080/",
          "height": 136
        }
      },
      "source": [
        "predict = model.predict_generator(test_generator,steps = len(filenames))\n",
        "predict"
      ],
      "execution_count": 91,
      "outputs": [
        {
          "output_type": "execute_result",
          "data": {
            "text/plain": [
              "array([[1.00000000e+00, 9.84687461e-32, 8.46478289e-29],\n",
              "       [1.00000000e+00, 1.02359773e-14, 6.98108238e-13],\n",
              "       [1.00000000e+00, 2.44174618e-19, 1.20126055e-17],\n",
              "       ...,\n",
              "       [1.27238065e-09, 5.65688341e-09, 1.00000000e+00],\n",
              "       [4.34857793e-03, 5.96450968e-03, 9.89686906e-01],\n",
              "       [1.47793966e-09, 2.20899632e-10, 1.00000000e+00]], dtype=float32)"
            ]
          },
          "metadata": {
            "tags": []
          },
          "execution_count": 91
        }
      ]
    },
    {
      "cell_type": "code",
      "metadata": {
        "id": "5OsYc8mMNPpc",
        "colab_type": "code",
        "outputId": "e1544b28-8c1f-4956-ba43-af4e6384d015",
        "colab": {
          "base_uri": "https://localhost:8080/",
          "height": 68
        }
      },
      "source": [
        "\n",
        "loss_acc = model.evaluate(test_generator)\n",
        "print('loss= ', loss_acc[0])\n",
        "print(\"acc= \", loss_acc[1])"
      ],
      "execution_count": 123,
      "outputs": [
        {
          "output_type": "stream",
          "text": [
            "666/666 [==============================] - 2s 4ms/step\n",
            "loss=  0.0\n",
            "acc=  0.9879879951477051\n"
          ],
          "name": "stdout"
        }
      ]
    },
    {
      "cell_type": "code",
      "metadata": {
        "id": "vhEm1sl86NmF",
        "colab_type": "code",
        "colab": {
          "base_uri": "https://localhost:8080/",
          "height": 322
        },
        "outputId": "7a3b1158-100a-4dc9-b054-0033fca9451f"
      },
      "source": [
        "figure = plt.figure()\n",
        "files = os.path.join(test_dir, 'cross')\n",
        "test_files = os.listdir(files)\n",
        "\n",
        "path_to_test = os.path.join(files, test_files[100])\n",
        "img = cv2.imread(path_to_test)\n",
        "img = cv2.cvtColor(img, cv2.COLOR_BGR2RGB)\n",
        "img = cv2.resize(img,(picture_size,picture_size))\n",
        "plt.imshow(img)\n",
        "plt.show()\n",
        "figure"
      ],
      "execution_count": 129,
      "outputs": [
        {
          "output_type": "stream",
          "text": [
            "/usr/local/lib/python3.6/dist-packages/ipykernel_launcher.py:1: RuntimeWarning: More than 20 figures have been opened. Figures created through the pyplot interface (`matplotlib.pyplot.figure`) are retained until explicitly closed and may consume too much memory. (To control this warning, see the rcParam `figure.max_open_warning`).\n",
            "  \"\"\"Entry point for launching an IPython kernel.\n"
          ],
          "name": "stderr"
        },
        {
          "output_type": "execute_result",
          "data": {
            "image/png": "[encoded data removed]",
            "text/plain": [
              "<Figure size 432x288 with 1 Axes>"
            ]
          },
          "metadata": {
            "tags": []
          },
          "execution_count": 129
        }
      ]
    },
    {
      "cell_type": "code",
      "metadata": {
        "id": "nasmaaVB5sIy",
        "colab_type": "code",
        "outputId": "8b2c20f9-660b-4031-a30c-40a2c8b716a9",
        "colab": {
          "base_uri": "https://localhost:8080/",
          "height": 122
        }
      },
      "source": [
        "import matplotlib.pyplot as plt\n",
        "signs = ['limit50', 'stop', 'cross']\n",
        "\n",
        "fig = plt.figure()\n",
        "\n",
        "for sign in signs:\n",
        "  files = os.path.join(test_dir, sign)\n",
        "  test_files = os.listdir(files)\n",
        "  incorrect = 0\n",
        "  for f in test_files:\n",
        "    path_to_test = os.path.join(files, f)\n",
        "    img = cv2.imread(path_to_test)\n",
        "    img = cv2.cvtColor(img, cv2.COLOR_BGR2RGB)\n",
        "\n",
        "    img = cv2.resize(img,(picture_size,picture_size))\n",
        "    img = img.astype(\"float32\") / 255\n",
        "    if incorrect == 2:\n",
        "      plt.imshow(img)\n",
        "      plt.show()\n",
        "\n",
        "    img_tensor = np.reshape(img,[1,picture_size,picture_size,3])\n",
        "    classes = (model.predict_classes(img_tensor)).tolist()\n",
        "    # print(classes)\n",
        "    if classes[0] == 0:\n",
        "      classes = 'cross'\n",
        "    \n",
        "    elif classes[0] == 2:\n",
        "      classes = 'stop'\n",
        "\n",
        "    elif classes[0] == 1:\n",
        "      classes = 'limit50'\n",
        "\n",
        "    else:\n",
        "      classes\n",
        "\n",
        "    if classes != sign:\n",
        "      incorrect += 1 \n",
        "      plt.imshow(img)\n",
        "\n",
        "  print(f'{sign}: {incorrect} / {len(test_files)},  Correct: {round(100-(incorrect/len(test_files)*100))}%')\n",
        "\n",
        "  fig\n"
      ],
      "execution_count": 127,
      "outputs": [
        {
          "output_type": "stream",
          "text": [
            "/usr/local/lib/python3.6/dist-packages/ipykernel_launcher.py:4: RuntimeWarning: More than 20 figures have been opened. Figures created through the pyplot interface (`matplotlib.pyplot.figure`) are retained until explicitly closed and may consume too much memory. (To control this warning, see the rcParam `figure.max_open_warning`).\n",
            "  after removing the cwd from sys.path.\n"
          ],
          "name": "stderr"
        },
        {
          "output_type": "stream",
          "text": [
            "limit50: 5 / 111,  Correct: 95%\n",
            "stop: 3 / 167,  Correct: 98%\n",
            "cross: 3 / 388,  Correct: 99%\n"
          ],
          "name": "stdout"
        }
      ]
    },
    {
      "cell_type": "code",
      "metadata": {
        "id": "GUMJSf5G15Vw",
        "colab_type": "code",
        "colab": {}
      },
      "source": [
        ""
      ],
      "execution_count": 0,
      "outputs": []
    }
  ]
}