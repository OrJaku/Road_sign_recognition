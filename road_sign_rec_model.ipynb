{
  "nbformat": 4,
  "nbformat_minor": 0,
  "metadata": {
    "colab": {
      "name": "road_sign_rec_model.ipynb",
      "provenance": [],
      "collapsed_sections": [
        "hfqmdzzsfq81",
        "Vv-DHfNSpk4I"
      ],
      "mount_file_id": "1boPHgyMz_HPFVyOHPW7kt2nrZBDBJubM",
      "authorship_tag": "ABX9TyPvwgSfK+fJuUvxmNmKOai5",
      "include_colab_link": true
    },
    "kernelspec": {
      "name": "python3",
      "display_name": "Python 3"
    },
    "accelerator": "GPU"
  },
  "cells": [
    {
      "cell_type": "markdown",
      "metadata": {
        "id": "view-in-github",
        "colab_type": "text"
      },
      "source": [
        "<a href=\"https://colab.research.google.com/github/OrJaku/road-sign-recognition/blob/master/road_sign_rec_model.ipynb\" target=\"_parent\"><img src=\"https://colab.research.google.com/assets/colab-badge.svg\" alt=\"Open In Colab\"/></a>"
      ]
    },
    {
      "cell_type": "markdown",
      "metadata": {
        "id": "A1BoHNMscLwp",
        "colab_type": "text"
      },
      "source": [
        "##Biblioteki"
      ]
    },
    {
      "cell_type": "code",
      "metadata": {
        "id": "yILZf6IzcwYp",
        "colab_type": "code",
        "colab": {
          "base_uri": "https://localhost:8080/",
          "height": 34
        },
        "outputId": "9218f6a2-218d-4853-aaab-04fc284dcb39"
      },
      "source": [
        "import os, shutil, cv2, json\n",
        "import pandas as pd\n",
        "import numpy as np\n",
        "from keras import layers, models, optimizers, metrics\n",
        "from keras.preprocessing.image import ImageDataGenerator\n",
        "import matplotlib\n",
        "matplotlib.use('agg')\n",
        "import matplotlib.pyplot as plt\n",
        "import matplotlib.image as mpimg \n",
        "import time\n"
      ],
      "execution_count": 1,
      "outputs": [
        {
          "output_type": "stream",
          "text": [
            "Using TensorFlow backend.\n"
          ],
          "name": "stderr"
        }
      ]
    },
    {
      "cell_type": "markdown",
      "metadata": {
        "id": "YGc8PWa5cM-H",
        "colab_type": "text"
      },
      "source": [
        "## Pliki"
      ]
    },
    {
      "cell_type": "code",
      "metadata": {
        "id": "5yI9rJmbZMNh",
        "colab_type": "code",
        "colab": {
          "base_uri": "https://localhost:8080/",
          "height": 34
        },
        "outputId": "e4767711-a471-4085-e186-e0183fddcbea"
      },
      "source": [
        "cd \"/content/drive/My Drive/Colab Notebooks/Road_sign_rec\""
      ],
      "execution_count": null,
      "outputs": [
        {
          "output_type": "stream",
          "text": [
            "/content/drive/My Drive/Colab Notebooks/Road_sign_rec\n"
          ],
          "name": "stdout"
        }
      ]
    },
    {
      "cell_type": "code",
      "metadata": {
        "id": "IJjxYF4Yxlms",
        "colab_type": "code",
        "colab": {
          "base_uri": "https://localhost:8080/",
          "height": 34
        },
        "outputId": "f06d54b1-63fd-4ec4-d4bc-523ff462f0b9"
      },
      "source": [
        "cd \"/content/drive/My Drive/Colab Notebooks/Road_sign_rec/data\""
      ],
      "execution_count": null,
      "outputs": [
        {
          "output_type": "stream",
          "text": [
            "/content/drive/My Drive/Colab Notebooks/Road_sign_rec/data\n"
          ],
          "name": "stdout"
        }
      ]
    },
    {
      "cell_type": "code",
      "metadata": {
        "id": "EMokUffyxdg3",
        "colab_type": "code",
        "colab": {}
      },
      "source": [
        "from google.colab import files\n",
        "\n",
        "uploaded = files.upload()"
      ],
      "execution_count": null,
      "outputs": []
    },
    {
      "cell_type": "markdown",
      "metadata": {
        "id": "GBHKh-2fcYq8",
        "colab_type": "text"
      },
      "source": [
        "### Kopiowanie obrazów treningowych na dysk Colab"
      ]
    },
    {
      "cell_type": "code",
      "metadata": {
        "id": "RvxjUGItyVkF",
        "colab_type": "code",
        "colab": {
          "base_uri": "https://localhost:8080/",
          "height": 34
        },
        "outputId": "60b8cabc-292e-43f2-8a41-fad8cbbc5471"
      },
      "source": [
        "cd \"/content\""
      ],
      "execution_count": 2,
      "outputs": [
        {
          "output_type": "stream",
          "text": [
            "/content\n"
          ],
          "name": "stdout"
        }
      ]
    },
    {
      "cell_type": "code",
      "metadata": {
        "id": "_rZWntpHya4K",
        "colab_type": "code",
        "colab": {}
      },
      "source": [
        "try:\n",
        "  os.mkdir(\"data\")\n",
        "except FileExistsError:\n",
        "  pass\n",
        "!cp \"/content/drive/My Drive/Colab Notebooks/Road_sign_rec/Data/Dataset_extend_zip.zip\" \"/content/data/Dataset_extend_zip.zip\""
      ],
      "execution_count": 3,
      "outputs": []
    },
    {
      "cell_type": "code",
      "metadata": {
        "id": "lOPH5wcOzQWF",
        "colab_type": "code",
        "colab": {
          "base_uri": "https://localhost:8080/",
          "height": 34
        },
        "outputId": "06fa5634-137e-4916-e65d-56cffdb54da7"
      },
      "source": [
        "cd data"
      ],
      "execution_count": 4,
      "outputs": [
        {
          "output_type": "stream",
          "text": [
            "/content/data\n"
          ],
          "name": "stdout"
        }
      ]
    },
    {
      "cell_type": "code",
      "metadata": {
        "id": "09hioilizA-l",
        "colab_type": "code",
        "colab": {}
      },
      "source": [
        "!unzip -q Dataset_extend_zip.zip"
      ],
      "execution_count": 5,
      "outputs": []
    },
    {
      "cell_type": "code",
      "metadata": {
        "id": "lW7wOoYWzEzS",
        "colab_type": "code",
        "colab": {
          "base_uri": "https://localhost:8080/",
          "height": 72
        },
        "outputId": "1eaa2801-2caa-4d09-9cfd-9c9c68b3eeb7"
      },
      "source": [
        "data_folder = \"/content/data/Data\"\n",
        "train_folder = os.path.join(data_folder, 'train_data')\n",
        "signs_list_train = os.listdir(train_folder)\n",
        "train_folders_length = {}\n",
        "for signs_train in signs_list_train:\n",
        "  train_folders_length[signs_train] = len(os.listdir(os.path.join(train_folder, signs_train)))\n",
        "print(train_folders_length)\n",
        "\n",
        "valid_folder = os.path.join(data_folder, 'valid_data')\n",
        "signs_list_valid = os.listdir(valid_folder)\n",
        "valid_folders_length = {}\n",
        "for signs_val in signs_list_valid:\n",
        "  valid_folders_length[signs_val] = len(os.listdir(os.path.join(valid_folder, signs_val)))\n",
        "print(valid_folders_length)"
      ],
      "execution_count": 6,
      "outputs": [
        {
          "output_type": "stream",
          "text": [
            "{'stop': 1314, 'othersign': 786, 'limit60': 1144, 'yield': 1665, 'limit40': 586, 'limit80': 1236, 'limit50': 1606, 'nosign': 6036, 'limit70': 1264, 'cross': 1326}\n",
            "{'stop': 506, 'othersign': 393, 'limit60': 573, 'yield': 832, 'limit40': 294, 'limit80': 618, 'limit50': 803, 'nosign': 2575, 'limit70': 633, 'cross': 663}\n"
          ],
          "name": "stdout"
        }
      ]
    },
    {
      "cell_type": "markdown",
      "metadata": {
        "id": "L97BfvTNfVIG",
        "colab_type": "text"
      },
      "source": [
        "### Przygotowanie folderów"
      ]
    },
    {
      "cell_type": "code",
      "metadata": {
        "id": "gLFz7U1VZXQ2",
        "colab_type": "code",
        "colab": {}
      },
      "source": [
        "base_dir = \"Data/\"\n",
        "train_dir = os.path.join(base_dir, 'train_data')\n",
        "try:\n",
        "  os.mkdir(train_dir)\n",
        "except FileExistsError:\n",
        "  pass\n",
        "\n",
        "cross_train =  os.path.join(train_dir, 'cross')\n",
        "stop_train =  os.path.join(train_dir, 'stop')\n",
        "limit50_train =  os.path.join(train_dir, 'limit50')\n",
        "nosign_train =  os.path.join(train_dir, 'nosign')\n",
        "try:\n",
        "  os.mkdir(nosign_train)\n",
        "except FileExistsError:\n",
        "  pass\n",
        "try:\n",
        "  os.mkdir(cross_train)\n",
        "except FileExistsError:\n",
        "  pass\n",
        "try:\n",
        "  os.mkdir(stop_train)\n",
        "except FileExistsError:\n",
        "  pass\n",
        "try:\n",
        "  os.mkdir(limit50_train)\n",
        "except FileExistsError:\n",
        "  pass\n",
        "\n",
        "valid_dir = os.path.join(base_dir, 'valid_data')\n",
        "try:\n",
        "  os.mkdir(valid_dir)\n",
        "except FileExistsError:\n",
        "  pass\n",
        "\n",
        "cross_val =  os.path.join(valid_dir, 'cross')\n",
        "stop_val =  os.path.join(valid_dir, 'stop')\n",
        "limit50_val =  os.path.join(valid_dir, 'limit50')\n",
        "nosign_val =  os.path.join(valid_dir, 'nosign')\n",
        "\n",
        "try:\n",
        "  os.mkdir(nosign_val)\n",
        "except FileExistsError:\n",
        "  pass\n",
        "try:\n",
        "  os.mkdir(cross_val)\n",
        "except FileExistsError:\n",
        "  pass\n",
        "try:\n",
        "  os.mkdir(stop_val)\n",
        "except FileExistsError:\n",
        "  pass\n",
        "try:\n",
        "  os.mkdir(limit50_val)\n",
        "except FileExistsError:\n",
        "  pass\n",
        "\n",
        "test_dir = os.path.join(base_dir, 'test_data')\n",
        "try:\n",
        "  os.mkdir(test_dir)\n",
        "except FileExistsError:\n",
        "  pass\n",
        "\n",
        "cross_test =  os.path.join(test_dir, 'cross')\n",
        "stop_test =  os.path.join(test_dir, 'stop')\n",
        "limit50_test =  os.path.join(test_dir, 'limit50')\n",
        "limit40_test =  os.path.join(test_dir, 'limit40')\n",
        "limit60_test =  os.path.join(test_dir, 'limit60')\n",
        "limit70_test =  os.path.join(test_dir, 'limit70')\n",
        "limit80_test =  os.path.join(test_dir, 'limit80')\n",
        "limit100_test =  os.path.join(test_dir, 'limit100')\n",
        "yield_test =  os.path.join(test_dir, 'yield')\n",
        "nosign_test =  os.path.join(test_dir, 'nosign')\n",
        "othersign_test =  os.path.join(test_dir, 'othersign')\n",
        "\n"
      ],
      "execution_count": 7,
      "outputs": []
    },
    {
      "cell_type": "markdown",
      "metadata": {
        "id": "B6C9ZXIjfdnm",
        "colab_type": "text"
      },
      "source": [
        "#### Ilość poszczegónych zdjęć"
      ]
    },
    {
      "cell_type": "code",
      "metadata": {
        "id": "E34aEB7Obpkm",
        "colab_type": "code",
        "colab": {}
      },
      "source": [
        "cross_origin_path = os.path.abspath(\"/content/drive/My Drive/Colab Notebooks/Road_sign_rec/Data/information--pedestrians-crossing--g1/\")\n",
        "stop_origin_path = os.path.abspath(\"/content/drive/My Drive/Colab Notebooks/Road_sign_rec/Data/regulatory--stop--g1\")\n",
        "limit50_origin_path = os.path.abspath(\"/content/drive/My Drive/Colab Notebooks/Road_sign_rec/Data/regulatory--maximum-speed-limit-50--g1\")\n",
        "nosign_path = os.path.abspath(\"/content/drive/My Drive/Colab Notebooks/Road_sign_rec/Data/NoSign\")\n",
        "nosign_path_2 = os.path.abspath(\"/content/drive/My Drive/Colab Notebooks/Road_sign_rec/Data/NoSign2\")\n",
        "\n",
        "\n",
        "\n",
        "print('Przejscie dla piszych: ',len(os.listdir(cross_origin_path)))\n",
        "print('Stop: ', len(os.listdir(stop_origin_path)))\n",
        "print('Ograniczenie do 50km/h: ', len(os.listdir(limit50_origin_path)))\n",
        "number_of_nosign = len(os.listdir(nosign_path)) + len(os.listdir(nosign_path_2))\n",
        "print('Brak znaku', number_of_nosign)\n"
      ],
      "execution_count": null,
      "outputs": []
    },
    {
      "cell_type": "markdown",
      "metadata": {
        "id": "hfqmdzzsfq81",
        "colab_type": "text"
      },
      "source": [
        "#### Kopowanie i podział zdjęć na treningowe, walidacyjne i testowe\n",
        "\n",
        "---\n",
        "\n"
      ]
    },
    {
      "cell_type": "code",
      "metadata": {
        "id": "Os4zVKiofTDn",
        "colab_type": "code",
        "colab": {
          "base_uri": "https://localhost:8080/",
          "height": 86
        },
        "outputId": "88e0eb4d-5e30-420a-e687-faa1b92ccce6"
      },
      "source": [
        "\n",
        "# # train cross\n",
        "# for image_name in os.listdir(cross_origin_path)[0:1200]:\n",
        "#   src = os.path.join(cross_origin_path, image_name)\n",
        "#   dst = os.path.join(cross_train, image_name)\n",
        "#   shutil.copyfile(src, dst)\n",
        "# print(\"train cross copied\")\n",
        "\n",
        "# # validation cross\n",
        "# for image_name in os.listdir(cross_origin_path)[1200:1800]:\n",
        "#   src = os.path.join(cross_origin_path, image_name)\n",
        "#   dst = os.path.join(cross_val, image_name)\n",
        "#   shutil.copyfile(src, dst)\n",
        "# print(\"validation cross copied\")\n",
        "\n",
        "# # test cross\n",
        "# for image_name in os.listdir(cross_origin_path)[1800:]:\n",
        "#   src = os.path.join(cross_origin_path, image_name)\n",
        "#   dst = os.path.join(cross_test, image_name)\n",
        "#   shutil.copyfile(src, dst)\n",
        "# print(\"test cross copied\")\n",
        "\n",
        "# ##################################\n",
        "\n",
        "# # train stop\n",
        "# i=0\n",
        "# for image_name in os.listdir(stop_origin_path)[0:900]:\n",
        "#   i =+ 1\n",
        "#   src = os.path.join(stop_origin_path, image_name)\n",
        "#   dst = os.path.join(stop_train, image_name)\n",
        "#   shutil.copyfile(src, dst)\n",
        "#   if i == 200 or i == 400 or i == 700:\n",
        "#     print(f\"Copied {i} \")\n",
        "# print(\"train stop copied\")\n",
        "\n",
        "\n",
        "# # validation stop\n",
        "# for image_name in os.listdir(stop_origin_path)[901:1200]:\n",
        "#   src = os.path.join(stop_origin_path, image_name)\n",
        "#   dst = os.path.join(stop_val, image_name)\n",
        "#   shutil.copyfile(src, dst)\n",
        "#   if i == 1050:\n",
        "#     print(f\"Copied {i} \")\n",
        "# print(\"validation stop copied\")\n",
        "\n",
        "# # test stop\n",
        "# for image_name in os.listdir(stop_origin_path)[1201:]:\n",
        "#   src = os.path.join(stop_origin_path, image_name)\n",
        "#   dst = os.path.join(stop_test, image_name)\n",
        "#   shutil.copyfile(src, dst)\n",
        "#   if i == 1300:\n",
        "#     print(f\"Copied {i} \")\n",
        "# print(\"test stop copied\")\n",
        "\n",
        "\n",
        "# ##########################\n",
        "\n",
        "# # train limit50\n",
        "# for image_name in os.listdir(limit50_origin_path)[0:400]:\n",
        "#   src = os.path.join(limit50_origin_path, image_name)\n",
        "#   dst = os.path.join(limit50_train, image_name)\n",
        "#   shutil.copyfile(src, dst)\n",
        "# print(\"train limit50 copied\")\n",
        "\n",
        "# # validation limit50\n",
        "# for image_name in os.listdir(limit50_origin_path)[400:600]:\n",
        "#   src = os.path.join(limit50_origin_path, image_name)\n",
        "#   dst = os.path.join(limit50_val, image_name)\n",
        "#   shutil.copyfile(src, dst)\n",
        "# print(\"validation limit50 copied\")\n",
        "\n",
        "# # test limit50\n",
        "# for image_name in os.listdir(limit50_origin_path)[600:]:\n",
        "#   src = os.path.join(limit50_origin_path, image_name)\n",
        "#   dst = os.path.join(limit50_test, image_name)\n",
        "#   shutil.copyfile(src, dst)\n",
        "# print(\"test limit50 copied\")\n",
        "\n",
        "\n",
        "# #########################\n",
        "\n",
        "\n",
        "# # train NoSign\n",
        "# for image_name in os.listdir(nosign_path)[0:1300]:\n",
        "#   src = os.path.join(nosign_path, image_name)\n",
        "#   dst = os.path.join(nosign_train, image_name)\n",
        "#   shutil.copyfile(src, dst)\n",
        "# print(\"train NoSign copied\")\n",
        "\n",
        "# # validation NoSign\n",
        "# for image_name in os.listdir(nosign_path)[1300:1700]:\n",
        "#   src = os.path.join(nosign_path, image_name)\n",
        "#   dst = os.path.join(nosign_val, image_name)\n",
        "#   shutil.copyfile(src, dst)\n",
        "# print(\"validation NoSign copied\")\n",
        "\n",
        "# # test NoSign\n",
        "# for image_name in os.listdir(nosign_path)[1700:]:\n",
        "#   src = os.path.join(nosign_path, image_name)\n",
        "#   dst = os.path.join(nosign_test, image_name)\n",
        "#   shutil.copyfile(src, dst)\n",
        "# print(\"test NoSign copied\")\n",
        "\n",
        "\n",
        "# # train NoSign2\n",
        "# for image_name in os.listdir(nosign_path_2)[0:1300]:\n",
        "#   src = os.path.join(nosign_path_2, image_name)\n",
        "#   dst = os.path.join(nosign_train, image_name)\n",
        "#   shutil.copyfile(src, dst)\n",
        "# print(\"train NoSign2 copied\")\n",
        "\n",
        "# # validation NoSign2\n",
        "# for image_name in os.listdir(nosign_path_2)[1300:1700]:\n",
        "#   src = os.path.join(nosign_path_2, image_name)\n",
        "#   dst = os.path.join(nosign_val, image_name)\n",
        "#   shutil.copyfile(src, dst)\n",
        "# print(\"validation NoSign2 copied\")\n",
        "\n",
        "# # test NoSign2\n",
        "# for image_name in os.listdir(nosign_path_2)[1700:]:\n",
        "#   src = os.path.join(nosign_path_2, image_name)\n",
        "#   dst = os.path.join(nosign_test, image_name)\n",
        "#   shutil.copyfile(src, dst)\n",
        "# print(\"test NoSign2 copied\")\n",
        "\n",
        "\n"
      ],
      "execution_count": null,
      "outputs": [
        {
          "output_type": "stream",
          "text": [
            "train cross copied\n",
            "validation cross copied\n",
            "test cross copied\n",
            "train stop copied\n"
          ],
          "name": "stdout"
        }
      ]
    },
    {
      "cell_type": "markdown",
      "metadata": {
        "id": "Vv-DHfNSpk4I",
        "colab_type": "text"
      },
      "source": [
        "#### Przekształcanie plików .jpg na tensory - test"
      ]
    },
    {
      "cell_type": "code",
      "metadata": {
        "id": "zmlQShw9k4Eh",
        "colab_type": "code",
        "colab": {}
      },
      "source": [
        "# datagen = ImageDataGenerator(rotation_range=40,\n",
        "#                              width_shift_range=0.2,\n",
        "#                              height_shift_range=0.2,\n",
        "#                              shear_range=0.2,\n",
        "#                              zoom_range=0.2,\n",
        "#                              horizontal_flip=True,\n",
        "#                              fill_mode='nearest') \n",
        "                                  "
      ],
      "execution_count": null,
      "outputs": []
    },
    {
      "cell_type": "code",
      "metadata": {
        "id": "66_xfeCyomy5",
        "colab_type": "code",
        "colab": {}
      },
      "source": [
        "# from keras.preprocessing import image\n",
        "\n",
        "# figure = plt.figure()\n",
        "# fnames = [os.path.join(cross_train, fname) for fname in os.listdir(cross_train)]\n",
        "# img_path = fnames[3]\n",
        "# print(img_path)\n",
        "# img = image.load_img(img_path, target_size=(100, 100))\n",
        "# plt.imshow(img)\n",
        "# x = image.img_to_array(img)\n",
        "# x = x.reshape((1,) + x.shape)\n",
        "# i=1\n",
        "# for batch in datagen.flow(x, batch_size=1):\n",
        "#   plt.subplot(2, 3, i+0)\n",
        "#   plt\n",
        "#   plt.imshow(image.array_to_img(batch[0]))\n",
        "#   i+=1\n",
        "#   if i%5==0:\n",
        "#     break\n",
        "\n",
        "# plt.show()\n",
        "# figure"
      ],
      "execution_count": null,
      "outputs": []
    },
    {
      "cell_type": "code",
      "metadata": {
        "id": "5nWpnNouvnEI",
        "colab_type": "code",
        "colab": {}
      },
      "source": [
        "# figure = plt.figure()\n",
        "# fnames = [os.path.join(cross_train, fname) for fname in os.listdir(cross_train)]\n",
        "# img_path = fnames[3]\n",
        "# print(img_path)\n",
        "# img = image.load_img(img_path, target_size=(100, 100))\n",
        "# plt.imshow(img)\n",
        "# figure"
      ],
      "execution_count": null,
      "outputs": []
    },
    {
      "cell_type": "markdown",
      "metadata": {
        "id": "pPa9uA1YdV8D",
        "colab_type": "text"
      },
      "source": [
        "##Modele"
      ]
    },
    {
      "cell_type": "markdown",
      "metadata": {
        "id": "ofyIFmX1dnj7",
        "colab_type": "text"
      },
      "source": [
        "###Przygotowanie parametrów"
      ]
    },
    {
      "cell_type": "markdown",
      "metadata": {
        "id": "XgLfl0i-dLft",
        "colab_type": "text"
      },
      "source": [
        "####Ustawienia genereatora zdjęć"
      ]
    },
    {
      "cell_type": "code",
      "metadata": {
        "id": "EDi-Uu2-pkJX",
        "colab_type": "code",
        "colab": {
          "base_uri": "https://localhost:8080/",
          "height": 52
        },
        "outputId": "0d14359c-73b7-4ef6-9ca0-e213625e4c17"
      },
      "source": [
        "batch_size = 64\n",
        "picture_size = 96\n",
        "class_mode = \"categorical\"\n",
        "\n",
        "train_datagen = ImageDataGenerator(rescale=1./255,\n",
        "                                  rotation_range=20,\n",
        "                                  width_shift_range=0.2,\n",
        "                                  height_shift_range=0.2,\n",
        "                                  shear_range=0.2,\n",
        "                                  zoom_range=0.2,\n",
        "                                  horizontal_flip=False,\n",
        "                                  vertical_flip=False,                                   \n",
        "                                  fill_mode='nearest')\n",
        "valid_datagen = ImageDataGenerator(rescale=1./255)\n",
        "\n",
        "train_generator = train_datagen.flow_from_directory(\n",
        "    train_dir,\n",
        "    target_size = (picture_size,picture_size),\n",
        "    batch_size = batch_size,\n",
        "    class_mode = class_mode\n",
        ")\n",
        "\n",
        "valid_generator = valid_datagen.flow_from_directory(\n",
        "    valid_dir,\n",
        "    target_size = (picture_size,picture_size),\n",
        "    batch_size = batch_size,\n",
        "    class_mode = class_mode\n",
        "\n",
        ")\n",
        "number_of_classes = len(train_generator.class_indices)\n"
      ],
      "execution_count": 8,
      "outputs": [
        {
          "output_type": "stream",
          "text": [
            "Found 16963 images belonging to 10 classes.\n",
            "Found 7890 images belonging to 10 classes.\n"
          ],
          "name": "stdout"
        }
      ]
    },
    {
      "cell_type": "markdown",
      "metadata": {
        "id": "NYdvsc8NdeCS",
        "colab_type": "text"
      },
      "source": [
        "####Parametry modelu"
      ]
    },
    {
      "cell_type": "code",
      "metadata": {
        "id": "PgyduY3d4oUo",
        "colab_type": "code",
        "colab": {}
      },
      "source": [
        "INIT_LR = 1e-3\n",
        "epochs = 110\n",
        "opt = optimizers.Adam(lr=INIT_LR, decay=INIT_LR / epochs)\n",
        "metrics = 'categorical_accuracy'\n",
        "activation = 'softmax'\n",
        "loss = 'categorical_crossentropy'"
      ],
      "execution_count": 12,
      "outputs": []
    },
    {
      "cell_type": "markdown",
      "metadata": {
        "id": "z2lf8GKcXJM2",
        "colab_type": "text"
      },
      "source": [
        "###Model multi-classes classification - własny"
      ]
    },
    {
      "cell_type": "code",
      "metadata": {
        "id": "iwxU5MoBXBgL",
        "colab_type": "code",
        "colab": {}
      },
      "source": [
        "dropout_1 = 0.35\n",
        "dropout_2 = 0.3\n",
        "dropout_3 = 0.3\n",
        "dropout_4 = 0.4\n",
        "dropout_5 = 0.3\n",
        "dropout_6 = 0.25\n",
        "\n",
        "model = models.Sequential()\n",
        "model.add(layers.Conv2D(32, (3, 3), activation='relu', input_shape=(picture_size, picture_size, 3)))\n",
        "model.add(layers.MaxPool2D((2, 2)))\n",
        "model.add(layers.Dropout(dropout_1))\n",
        "\n",
        "model.add(layers.Conv2D(64, (3, 3), activation='relu'))\n",
        "model.add(layers.MaxPool2D((2, 2)))\n",
        "model.add(layers.Dropout(dropout_2))\n",
        "\n",
        "model.add(layers.Conv2D(64, (3,3), activation='relu'))\n",
        "model.add(layers.MaxPool2D((2, 2)))\n",
        "model.add(layers.Dropout(dropout_3))\n",
        "\n",
        "model.add(layers.Conv2D(128, (3,3), activation='relu'))\n",
        "model.add(layers.MaxPool2D((2, 2)))\n",
        "model.add(layers.Dropout(dropout_4))\n",
        "\n",
        "model.add(layers.Conv2D(128, (3,3), activation='relu'))\n",
        "model.add(layers.MaxPool2D((2, 2)))\n",
        "model.add(layers.Dropout(dropout_5))\n",
        "\n",
        "model.add(layers.Flatten())\n",
        "model.add(layers.Dense(1024, activation=\"relu\"))\n",
        "model.add(layers.BatchNormalization())\n",
        "model.add(layers.Dropout(dropout_6))\n",
        "model.add(layers.Dense(number_of_classes))\n",
        "model.add(layers.Activation(activation))\n",
        "\n",
        "model.compile(\n",
        "    loss=loss,\n",
        "    optimizer=opt,\n",
        "    metrics=[metrics]\n",
        "    )\n",
        "# model.summary()"
      ],
      "execution_count": 13,
      "outputs": []
    },
    {
      "cell_type": "markdown",
      "metadata": {
        "id": "Zep2Kx6fZVYp",
        "colab_type": "text"
      },
      "source": [
        "###Pretrained model"
      ]
    },
    {
      "cell_type": "code",
      "metadata": {
        "id": "kl5g-tmHZdVB",
        "colab_type": "code",
        "colab": {}
      },
      "source": [
        "from keras.applications import VGG16\n",
        "pretrain_model = VGG16(weights='imagenet',include_top=False,input_shape=(100, 100, 3))"
      ],
      "execution_count": null,
      "outputs": []
    },
    {
      "cell_type": "code",
      "metadata": {
        "id": "z0U6jTJWZ6mm",
        "colab_type": "code",
        "colab": {}
      },
      "source": [
        "model = models.Sequential()\n",
        "model.add(pretrain_model)\n",
        "model.add(layers.Flatten())\n",
        "model.add(layers.Dense(1024, activation=\"relu\"))\n",
        "model.add(layers.BatchNormalization())\n",
        "model.add(layers.Dropout(0.2))\n",
        "model.add(layers.Dense(number_of_classes))\n",
        "model.add(layers.Activation(activation))\n",
        "model.compile(\n",
        "    loss='categorical_crossentropy',\n",
        "    optimizer=opt,\n",
        "    metrics=['acc']\n",
        "    )\n",
        "model.summary()"
      ],
      "execution_count": null,
      "outputs": []
    },
    {
      "cell_type": "markdown",
      "metadata": {
        "id": "IkvAD2gnZd60",
        "colab_type": "text"
      },
      "source": [
        "###Fit model"
      ]
    },
    {
      "cell_type": "code",
      "metadata": {
        "id": "gBDd5q9nq23t",
        "colab_type": "code",
        "colab": {
          "base_uri": "https://localhost:8080/",
          "height": 1000
        },
        "outputId": "cdcf5e3f-8b7f-45f1-b99b-2fdb3636e134"
      },
      "source": [
        "history = model.fit_generator(\n",
        "    train_generator,\n",
        "    steps_per_epoch=200,\n",
        "    epochs=epochs,\n",
        "    validation_data=valid_generator,\n",
        "    validation_steps=50\n",
        ")\n",
        "\n",
        "\n",
        "time_stemp = time.strftime(\"%d%m%Y%H%M%S\")\n",
        "model_name = f'model_signs_{number_of_classes}_classes_{activation}_{time_stemp}.h5'\n",
        "path_to_save = \"/content/drive/My Drive/Colab Notebooks/Road_sign_rec\"\n",
        "model_path = os.path.join(path_to_save, model_name)\n",
        "model.save(model_path)\n",
        "print(f\"Saved model as {model_name}\")\n"
      ],
      "execution_count": 14,
      "outputs": [
        {
          "output_type": "stream",
          "text": [
            "Epoch 1/110\n",
            "200/200 [==============================] - 38s 189ms/step - loss: 1.5487 - categorical_accuracy: 0.4787 - val_loss: 1.9620 - val_categorical_accuracy: 0.3359\n",
            "Epoch 2/110\n",
            "200/200 [==============================] - 36s 182ms/step - loss: 1.1695 - categorical_accuracy: 0.5989 - val_loss: 1.3835 - val_categorical_accuracy: 0.5006\n",
            "Epoch 3/110\n",
            "200/200 [==============================] - 35s 176ms/step - loss: 1.0051 - categorical_accuracy: 0.6507 - val_loss: 0.9602 - val_categorical_accuracy: 0.6538\n",
            "Epoch 4/110\n",
            "200/200 [==============================] - 36s 180ms/step - loss: 0.8920 - categorical_accuracy: 0.6759 - val_loss: 0.6148 - val_categorical_accuracy: 0.7241\n",
            "Epoch 5/110\n",
            "200/200 [==============================] - 36s 178ms/step - loss: 0.8181 - categorical_accuracy: 0.6992 - val_loss: 0.7207 - val_categorical_accuracy: 0.7514\n",
            "Epoch 6/110\n",
            "200/200 [==============================] - 36s 180ms/step - loss: 0.7669 - categorical_accuracy: 0.7174 - val_loss: 0.6377 - val_categorical_accuracy: 0.8050\n",
            "Epoch 7/110\n",
            "200/200 [==============================] - 36s 180ms/step - loss: 0.7101 - categorical_accuracy: 0.7373 - val_loss: 0.4958 - val_categorical_accuracy: 0.8172\n",
            "Epoch 8/110\n",
            "200/200 [==============================] - 36s 178ms/step - loss: 0.6573 - categorical_accuracy: 0.7638 - val_loss: 0.2920 - val_categorical_accuracy: 0.8744\n",
            "Epoch 9/110\n",
            "200/200 [==============================] - 36s 179ms/step - loss: 0.5956 - categorical_accuracy: 0.7862 - val_loss: 0.1842 - val_categorical_accuracy: 0.9122\n",
            "Epoch 10/110\n",
            "200/200 [==============================] - 36s 179ms/step - loss: 0.5773 - categorical_accuracy: 0.7929 - val_loss: 0.4170 - val_categorical_accuracy: 0.8979\n",
            "Epoch 11/110\n",
            "200/200 [==============================] - 36s 178ms/step - loss: 0.5113 - categorical_accuracy: 0.8175 - val_loss: 0.1310 - val_categorical_accuracy: 0.9200\n",
            "Epoch 12/110\n",
            "200/200 [==============================] - 36s 178ms/step - loss: 0.5127 - categorical_accuracy: 0.8236 - val_loss: 0.1701 - val_categorical_accuracy: 0.9184\n",
            "Epoch 13/110\n",
            "200/200 [==============================] - 36s 182ms/step - loss: 0.4804 - categorical_accuracy: 0.8302 - val_loss: 0.2478 - val_categorical_accuracy: 0.9166\n",
            "Epoch 14/110\n",
            "200/200 [==============================] - 36s 178ms/step - loss: 0.4641 - categorical_accuracy: 0.8393 - val_loss: 0.1359 - val_categorical_accuracy: 0.9400\n",
            "Epoch 15/110\n",
            "200/200 [==============================] - 36s 178ms/step - loss: 0.4179 - categorical_accuracy: 0.8511 - val_loss: 0.0848 - val_categorical_accuracy: 0.9426\n",
            "Epoch 16/110\n",
            "200/200 [==============================] - 36s 181ms/step - loss: 0.4307 - categorical_accuracy: 0.8494 - val_loss: 0.0901 - val_categorical_accuracy: 0.9500\n",
            "Epoch 17/110\n",
            "200/200 [==============================] - 36s 178ms/step - loss: 0.3815 - categorical_accuracy: 0.8634 - val_loss: 0.1367 - val_categorical_accuracy: 0.9500\n",
            "Epoch 18/110\n",
            "200/200 [==============================] - 36s 179ms/step - loss: 0.3719 - categorical_accuracy: 0.8679 - val_loss: 0.0611 - val_categorical_accuracy: 0.9572\n",
            "Epoch 19/110\n",
            "200/200 [==============================] - 35s 177ms/step - loss: 0.3634 - categorical_accuracy: 0.8734 - val_loss: 0.1742 - val_categorical_accuracy: 0.9525\n",
            "Epoch 20/110\n",
            "200/200 [==============================] - 36s 178ms/step - loss: 0.3525 - categorical_accuracy: 0.8779 - val_loss: 0.0904 - val_categorical_accuracy: 0.9490\n",
            "Epoch 21/110\n",
            "200/200 [==============================] - 35s 177ms/step - loss: 0.3378 - categorical_accuracy: 0.8838 - val_loss: 0.1116 - val_categorical_accuracy: 0.9453\n",
            "Epoch 22/110\n",
            "200/200 [==============================] - 36s 181ms/step - loss: 0.3357 - categorical_accuracy: 0.8843 - val_loss: 0.0336 - val_categorical_accuracy: 0.9709\n",
            "Epoch 23/110\n",
            "200/200 [==============================] - 35s 176ms/step - loss: 0.3369 - categorical_accuracy: 0.8885 - val_loss: 0.1602 - val_categorical_accuracy: 0.9594\n",
            "Epoch 24/110\n",
            "200/200 [==============================] - 35s 177ms/step - loss: 0.3286 - categorical_accuracy: 0.8896 - val_loss: 0.0461 - val_categorical_accuracy: 0.9712\n",
            "Epoch 25/110\n",
            "200/200 [==============================] - 36s 178ms/step - loss: 0.5838 - categorical_accuracy: 0.8172 - val_loss: 0.3650 - val_categorical_accuracy: 0.8957\n",
            "Epoch 26/110\n",
            "200/200 [==============================] - 36s 178ms/step - loss: 0.4586 - categorical_accuracy: 0.8487 - val_loss: 0.1006 - val_categorical_accuracy: 0.9522\n",
            "Epoch 27/110\n",
            "200/200 [==============================] - 36s 179ms/step - loss: 0.3647 - categorical_accuracy: 0.8804 - val_loss: 0.1313 - val_categorical_accuracy: 0.9588\n",
            "Epoch 28/110\n",
            "200/200 [==============================] - 35s 176ms/step - loss: 0.3244 - categorical_accuracy: 0.8913 - val_loss: 0.2403 - val_categorical_accuracy: 0.9708\n",
            "Epoch 29/110\n",
            "200/200 [==============================] - 35s 177ms/step - loss: 0.3166 - categorical_accuracy: 0.8947 - val_loss: 0.1018 - val_categorical_accuracy: 0.9650\n",
            "Epoch 30/110\n",
            "200/200 [==============================] - 35s 177ms/step - loss: 0.2868 - categorical_accuracy: 0.9027 - val_loss: 0.1833 - val_categorical_accuracy: 0.9642\n",
            "Epoch 31/110\n",
            "200/200 [==============================] - 36s 178ms/step - loss: 0.2867 - categorical_accuracy: 0.9052 - val_loss: 0.0872 - val_categorical_accuracy: 0.9719\n",
            "Epoch 32/110\n",
            "200/200 [==============================] - 35s 177ms/step - loss: 0.2770 - categorical_accuracy: 0.9097 - val_loss: 0.1152 - val_categorical_accuracy: 0.9725\n",
            "Epoch 33/110\n",
            "200/200 [==============================] - 35s 176ms/step - loss: 0.2702 - categorical_accuracy: 0.9090 - val_loss: 0.1754 - val_categorical_accuracy: 0.9737\n",
            "Epoch 34/110\n",
            "200/200 [==============================] - 35s 176ms/step - loss: 0.2531 - categorical_accuracy: 0.9138 - val_loss: 0.0270 - val_categorical_accuracy: 0.9741\n",
            "Epoch 35/110\n",
            "200/200 [==============================] - 35s 176ms/step - loss: 0.2432 - categorical_accuracy: 0.9198 - val_loss: 0.0346 - val_categorical_accuracy: 0.9829\n",
            "Epoch 36/110\n",
            "200/200 [==============================] - 36s 178ms/step - loss: 0.2982 - categorical_accuracy: 0.9040 - val_loss: 0.1400 - val_categorical_accuracy: 0.9741\n",
            "Epoch 37/110\n",
            "200/200 [==============================] - 35s 176ms/step - loss: 0.2760 - categorical_accuracy: 0.9117 - val_loss: 0.0886 - val_categorical_accuracy: 0.9762\n",
            "Epoch 38/110\n",
            "200/200 [==============================] - 35s 177ms/step - loss: 0.2456 - categorical_accuracy: 0.9156 - val_loss: 0.0358 - val_categorical_accuracy: 0.9835\n",
            "Epoch 39/110\n",
            "200/200 [==============================] - 35s 177ms/step - loss: 0.2602 - categorical_accuracy: 0.9173 - val_loss: 0.0736 - val_categorical_accuracy: 0.9784\n",
            "Epoch 40/110\n",
            "200/200 [==============================] - 36s 179ms/step - loss: 0.2392 - categorical_accuracy: 0.9227 - val_loss: 0.0642 - val_categorical_accuracy: 0.9759\n",
            "Epoch 41/110\n",
            "200/200 [==============================] - 36s 178ms/step - loss: 0.2394 - categorical_accuracy: 0.9194 - val_loss: 0.0087 - val_categorical_accuracy: 0.9841\n",
            "Epoch 42/110\n",
            "200/200 [==============================] - 35s 174ms/step - loss: 0.2379 - categorical_accuracy: 0.9216 - val_loss: 0.0981 - val_categorical_accuracy: 0.9762\n",
            "Epoch 43/110\n",
            "200/200 [==============================] - 36s 178ms/step - loss: 0.2249 - categorical_accuracy: 0.9259 - val_loss: 0.0275 - val_categorical_accuracy: 0.9791\n",
            "Epoch 44/110\n",
            "200/200 [==============================] - 36s 178ms/step - loss: 0.2371 - categorical_accuracy: 0.9220 - val_loss: 0.0179 - val_categorical_accuracy: 0.9881\n",
            "Epoch 45/110\n",
            "200/200 [==============================] - 35s 176ms/step - loss: 0.2234 - categorical_accuracy: 0.9276 - val_loss: 0.0474 - val_categorical_accuracy: 0.9769\n",
            "Epoch 46/110\n",
            "200/200 [==============================] - 35s 177ms/step - loss: 0.2508 - categorical_accuracy: 0.9188 - val_loss: 0.0106 - val_categorical_accuracy: 0.9800\n",
            "Epoch 47/110\n",
            "200/200 [==============================] - 35s 175ms/step - loss: 0.2259 - categorical_accuracy: 0.9266 - val_loss: 0.0543 - val_categorical_accuracy: 0.9816\n",
            "Epoch 48/110\n",
            "200/200 [==============================] - 36s 179ms/step - loss: 0.1984 - categorical_accuracy: 0.9349 - val_loss: 0.0187 - val_categorical_accuracy: 0.9800\n",
            "Epoch 49/110\n",
            "200/200 [==============================] - 35s 176ms/step - loss: 0.2157 - categorical_accuracy: 0.9316 - val_loss: 0.0077 - val_categorical_accuracy: 0.9819\n",
            "Epoch 50/110\n",
            "200/200 [==============================] - 35s 177ms/step - loss: 0.2255 - categorical_accuracy: 0.9299 - val_loss: 0.2058 - val_categorical_accuracy: 0.9746\n",
            "Epoch 51/110\n",
            "200/200 [==============================] - 36s 178ms/step - loss: 0.2161 - categorical_accuracy: 0.9330 - val_loss: 0.0317 - val_categorical_accuracy: 0.9837\n",
            "Epoch 52/110\n",
            "200/200 [==============================] - 36s 178ms/step - loss: 0.2181 - categorical_accuracy: 0.9309 - val_loss: 0.0809 - val_categorical_accuracy: 0.9744\n",
            "Epoch 53/110\n",
            "200/200 [==============================] - 36s 178ms/step - loss: 0.2082 - categorical_accuracy: 0.9325 - val_loss: 0.0265 - val_categorical_accuracy: 0.9791\n",
            "Epoch 54/110\n",
            "200/200 [==============================] - 35s 174ms/step - loss: 0.2131 - categorical_accuracy: 0.9299 - val_loss: 0.0623 - val_categorical_accuracy: 0.9841\n",
            "Epoch 55/110\n",
            "200/200 [==============================] - 35s 174ms/step - loss: 0.1977 - categorical_accuracy: 0.9359 - val_loss: 0.0179 - val_categorical_accuracy: 0.9889\n",
            "Epoch 56/110\n",
            "200/200 [==============================] - 35s 174ms/step - loss: 0.2022 - categorical_accuracy: 0.9338 - val_loss: 0.0640 - val_categorical_accuracy: 0.9853\n",
            "Epoch 57/110\n",
            "200/200 [==============================] - 36s 180ms/step - loss: 0.2064 - categorical_accuracy: 0.9341 - val_loss: 0.1042 - val_categorical_accuracy: 0.9828\n",
            "Epoch 58/110\n",
            "200/200 [==============================] - 36s 180ms/step - loss: 0.1863 - categorical_accuracy: 0.9390 - val_loss: 0.0946 - val_categorical_accuracy: 0.9845\n",
            "Epoch 59/110\n",
            "200/200 [==============================] - 35s 176ms/step - loss: 0.1875 - categorical_accuracy: 0.9375 - val_loss: 0.0205 - val_categorical_accuracy: 0.9887\n",
            "Epoch 60/110\n",
            "200/200 [==============================] - 35s 174ms/step - loss: 0.1954 - categorical_accuracy: 0.9355 - val_loss: 0.0634 - val_categorical_accuracy: 0.9841\n",
            "Epoch 61/110\n",
            "200/200 [==============================] - 35s 176ms/step - loss: 0.1863 - categorical_accuracy: 0.9399 - val_loss: 0.0485 - val_categorical_accuracy: 0.9850\n",
            "Epoch 62/110\n",
            "200/200 [==============================] - 35s 177ms/step - loss: 0.1853 - categorical_accuracy: 0.9406 - val_loss: 0.0134 - val_categorical_accuracy: 0.9895\n",
            "Epoch 63/110\n",
            "200/200 [==============================] - 35s 173ms/step - loss: 0.1806 - categorical_accuracy: 0.9409 - val_loss: 0.0136 - val_categorical_accuracy: 0.9837\n",
            "Epoch 64/110\n",
            "200/200 [==============================] - 35s 177ms/step - loss: 0.1878 - categorical_accuracy: 0.9384 - val_loss: 0.0160 - val_categorical_accuracy: 0.9822\n",
            "Epoch 65/110\n",
            "200/200 [==============================] - 35s 173ms/step - loss: 0.1714 - categorical_accuracy: 0.9435 - val_loss: 0.1011 - val_categorical_accuracy: 0.9905\n",
            "Epoch 66/110\n",
            "200/200 [==============================] - 36s 178ms/step - loss: 0.2097 - categorical_accuracy: 0.9370 - val_loss: 0.1018 - val_categorical_accuracy: 0.9847\n",
            "Epoch 67/110\n",
            "200/200 [==============================] - 35s 174ms/step - loss: 0.1843 - categorical_accuracy: 0.9404 - val_loss: 0.0795 - val_categorical_accuracy: 0.9822\n",
            "Epoch 68/110\n",
            "200/200 [==============================] - 35s 177ms/step - loss: 0.1797 - categorical_accuracy: 0.9416 - val_loss: 0.0341 - val_categorical_accuracy: 0.9850\n",
            "Epoch 69/110\n",
            "200/200 [==============================] - 35s 177ms/step - loss: 0.1991 - categorical_accuracy: 0.9418 - val_loss: 0.2284 - val_categorical_accuracy: 0.9622\n",
            "Epoch 70/110\n",
            "200/200 [==============================] - 35s 174ms/step - loss: 0.2280 - categorical_accuracy: 0.9254 - val_loss: 0.0786 - val_categorical_accuracy: 0.9886\n",
            "Epoch 71/110\n",
            "200/200 [==============================] - 35s 174ms/step - loss: 0.1810 - categorical_accuracy: 0.9425 - val_loss: 0.0596 - val_categorical_accuracy: 0.9819\n",
            "Epoch 72/110\n",
            "200/200 [==============================] - 35s 176ms/step - loss: 0.1657 - categorical_accuracy: 0.9466 - val_loss: 0.0074 - val_categorical_accuracy: 0.9857\n",
            "Epoch 73/110\n",
            "200/200 [==============================] - 35s 174ms/step - loss: 0.1681 - categorical_accuracy: 0.9470 - val_loss: 0.0303 - val_categorical_accuracy: 0.9881\n",
            "Epoch 74/110\n",
            "200/200 [==============================] - 35s 177ms/step - loss: 0.2234 - categorical_accuracy: 0.9346 - val_loss: 0.2427 - val_categorical_accuracy: 0.9856\n",
            "Epoch 75/110\n",
            "200/200 [==============================] - 35s 176ms/step - loss: 0.1570 - categorical_accuracy: 0.9479 - val_loss: 0.0516 - val_categorical_accuracy: 0.9870\n",
            "Epoch 76/110\n",
            "200/200 [==============================] - 35s 175ms/step - loss: 0.1640 - categorical_accuracy: 0.9466 - val_loss: 0.0372 - val_categorical_accuracy: 0.9831\n",
            "Epoch 77/110\n",
            "200/200 [==============================] - 35s 174ms/step - loss: 0.2629 - categorical_accuracy: 0.9230 - val_loss: 0.0161 - val_categorical_accuracy: 0.9880\n",
            "Epoch 78/110\n",
            "200/200 [==============================] - 35s 173ms/step - loss: 0.1804 - categorical_accuracy: 0.9414 - val_loss: 0.0730 - val_categorical_accuracy: 0.9837\n",
            "Epoch 79/110\n",
            "200/200 [==============================] - 36s 178ms/step - loss: 0.1626 - categorical_accuracy: 0.9485 - val_loss: 0.0189 - val_categorical_accuracy: 0.9878\n",
            "Epoch 80/110\n",
            "200/200 [==============================] - 35s 176ms/step - loss: 0.1659 - categorical_accuracy: 0.9467 - val_loss: 0.1607 - val_categorical_accuracy: 0.9854\n",
            "Epoch 81/110\n",
            "200/200 [==============================] - 35s 176ms/step - loss: 0.1385 - categorical_accuracy: 0.9560 - val_loss: 0.0218 - val_categorical_accuracy: 0.9841\n",
            "Epoch 82/110\n",
            "200/200 [==============================] - 35s 174ms/step - loss: 0.1576 - categorical_accuracy: 0.9520 - val_loss: 0.0035 - val_categorical_accuracy: 0.9886\n",
            "Epoch 83/110\n",
            "200/200 [==============================] - 35s 177ms/step - loss: 0.1531 - categorical_accuracy: 0.9509 - val_loss: 0.0419 - val_categorical_accuracy: 0.9878\n",
            "Epoch 84/110\n",
            "200/200 [==============================] - 36s 179ms/step - loss: 0.1559 - categorical_accuracy: 0.9523 - val_loss: 0.0701 - val_categorical_accuracy: 0.9884\n",
            "Epoch 85/110\n",
            "200/200 [==============================] - 35s 176ms/step - loss: 0.1648 - categorical_accuracy: 0.9511 - val_loss: 0.0892 - val_categorical_accuracy: 0.9880\n",
            "Epoch 86/110\n",
            "200/200 [==============================] - 35s 174ms/step - loss: 0.1483 - categorical_accuracy: 0.9532 - val_loss: 0.0615 - val_categorical_accuracy: 0.9897\n",
            "Epoch 87/110\n",
            "200/200 [==============================] - 36s 178ms/step - loss: 0.1547 - categorical_accuracy: 0.9520 - val_loss: 0.0164 - val_categorical_accuracy: 0.9895\n",
            "Epoch 88/110\n",
            "200/200 [==============================] - 35s 174ms/step - loss: 0.1516 - categorical_accuracy: 0.9539 - val_loss: 0.0274 - val_categorical_accuracy: 0.9884\n",
            "Epoch 89/110\n",
            "200/200 [==============================] - 35s 177ms/step - loss: 0.1538 - categorical_accuracy: 0.9508 - val_loss: 0.0309 - val_categorical_accuracy: 0.9878\n",
            "Epoch 90/110\n",
            "200/200 [==============================] - 35s 175ms/step - loss: 0.1499 - categorical_accuracy: 0.9515 - val_loss: 0.0513 - val_categorical_accuracy: 0.9775\n",
            "Epoch 91/110\n",
            "200/200 [==============================] - 35s 175ms/step - loss: 0.1740 - categorical_accuracy: 0.9497 - val_loss: 0.0571 - val_categorical_accuracy: 0.9887\n",
            "Epoch 92/110\n",
            "200/200 [==============================] - 36s 178ms/step - loss: 0.1523 - categorical_accuracy: 0.9513 - val_loss: 0.0183 - val_categorical_accuracy: 0.9892\n",
            "Epoch 93/110\n",
            "200/200 [==============================] - 35s 174ms/step - loss: 0.2186 - categorical_accuracy: 0.9363 - val_loss: 0.3981 - val_categorical_accuracy: 0.9541\n",
            "Epoch 94/110\n",
            "200/200 [==============================] - 35s 177ms/step - loss: 0.1910 - categorical_accuracy: 0.9395 - val_loss: 0.0512 - val_categorical_accuracy: 0.9884\n",
            "Epoch 95/110\n",
            "200/200 [==============================] - 35s 174ms/step - loss: 0.1356 - categorical_accuracy: 0.9564 - val_loss: 0.0066 - val_categorical_accuracy: 0.9895\n",
            "Epoch 96/110\n",
            "200/200 [==============================] - 35s 173ms/step - loss: 0.1984 - categorical_accuracy: 0.9421 - val_loss: 0.0517 - val_categorical_accuracy: 0.9731\n",
            "Epoch 97/110\n",
            "200/200 [==============================] - 35s 174ms/step - loss: 0.1656 - categorical_accuracy: 0.9491 - val_loss: 0.0156 - val_categorical_accuracy: 0.9905\n",
            "Epoch 98/110\n",
            "200/200 [==============================] - 36s 179ms/step - loss: 0.1388 - categorical_accuracy: 0.9551 - val_loss: 0.0465 - val_categorical_accuracy: 0.9912\n",
            "Epoch 99/110\n",
            "200/200 [==============================] - 35s 176ms/step - loss: 0.1490 - categorical_accuracy: 0.9521 - val_loss: 0.0594 - val_categorical_accuracy: 0.9841\n",
            "Epoch 100/110\n",
            "200/200 [==============================] - 35s 176ms/step - loss: 0.1445 - categorical_accuracy: 0.9553 - val_loss: 0.0151 - val_categorical_accuracy: 0.9895\n",
            "Epoch 101/110\n",
            "200/200 [==============================] - 35s 176ms/step - loss: 0.1377 - categorical_accuracy: 0.9558 - val_loss: 0.0369 - val_categorical_accuracy: 0.9881\n",
            "Epoch 102/110\n",
            "200/200 [==============================] - 36s 179ms/step - loss: 0.1399 - categorical_accuracy: 0.9538 - val_loss: 0.0210 - val_categorical_accuracy: 0.9918\n",
            "Epoch 103/110\n",
            "200/200 [==============================] - 36s 178ms/step - loss: 0.1456 - categorical_accuracy: 0.9564 - val_loss: 0.0136 - val_categorical_accuracy: 0.9916\n",
            "Epoch 104/110\n",
            "200/200 [==============================] - 35s 176ms/step - loss: 0.1451 - categorical_accuracy: 0.9563 - val_loss: 0.0074 - val_categorical_accuracy: 0.9897\n",
            "Epoch 105/110\n",
            "200/200 [==============================] - 36s 181ms/step - loss: 0.1335 - categorical_accuracy: 0.9589 - val_loss: 0.0347 - val_categorical_accuracy: 0.9892\n",
            "Epoch 106/110\n",
            "200/200 [==============================] - 35s 177ms/step - loss: 0.1339 - categorical_accuracy: 0.9570 - val_loss: 0.0038 - val_categorical_accuracy: 0.9922\n",
            "Epoch 107/110\n",
            "200/200 [==============================] - 35s 175ms/step - loss: 0.1369 - categorical_accuracy: 0.9555 - val_loss: 0.0285 - val_categorical_accuracy: 0.9832\n",
            "Epoch 108/110\n",
            "200/200 [==============================] - 36s 181ms/step - loss: 0.1430 - categorical_accuracy: 0.9558 - val_loss: 0.0368 - val_categorical_accuracy: 0.9878\n",
            "Epoch 109/110\n",
            "200/200 [==============================] - 36s 181ms/step - loss: 0.1396 - categorical_accuracy: 0.9557 - val_loss: 0.0095 - val_categorical_accuracy: 0.9925\n",
            "Epoch 110/110\n",
            "200/200 [==============================] - 36s 182ms/step - loss: 0.1505 - categorical_accuracy: 0.9535 - val_loss: 0.0047 - val_categorical_accuracy: 0.9883\n",
            "Saved model as model_signs_10_classes_softmax_10072020140751.h5\n"
          ],
          "name": "stdout"
        }
      ]
    },
    {
      "cell_type": "markdown",
      "metadata": {
        "id": "LUtd1wwJeS4I",
        "colab_type": "text"
      },
      "source": [
        "###Sprawdzenie modelu"
      ]
    },
    {
      "cell_type": "markdown",
      "metadata": {
        "id": "h-LyI_lDeePo",
        "colab_type": "text"
      },
      "source": [
        "####Przebieg uczenia \n"
      ]
    },
    {
      "cell_type": "code",
      "metadata": {
        "id": "xgrk-WiNuPqX",
        "colab_type": "code",
        "colab": {
          "base_uri": "https://localhost:8080/",
          "height": 865
        },
        "outputId": "cb50f089-c558-4224-b71a-d2efc3c89ec5"
      },
      "source": [
        "fig = plt.figure(figsize=(12,6))\n",
        "plt.subplot(2,1,1)\n",
        "plt.plot(history.history['categorical_accuracy'])\n",
        "plt.plot(history.history['val_categorical_accuracy'])\n",
        "plt.title('model accuracy')\n",
        "plt.ylabel('accuracy')\n",
        "plt.xlabel('epoch')\n",
        "plt.legend(['train', 'test'], loc='lower right')\n",
        "\n",
        "plt.subplot(2,1,2)\n",
        "plt.plot(history.history['loss'])\n",
        "plt.plot(history.history['val_loss'])\n",
        "plt.title('model loss')\n",
        "plt.ylabel('loss')\n",
        "plt.xlabel('epoch')\n",
        "plt.legend(['train', 'test'], loc='upper right')\n",
        "\n",
        "plt.tight_layout()\n",
        "fig\n",
        "\n"
      ],
      "execution_count": 15,
      "outputs": [
        {
          "output_type": "execute_result",
          "data": {
            "image/png": "[encoded data removed]",
            "text/plain": [
              "<Figure size 864x432 with 2 Axes>"
            ]
          },
          "metadata": {
            "tags": []
          },
          "execution_count": 15
        },
        {
          "output_type": "display_data",
          "data": {
            "image/png": "[encoded data removed]",
            "text/plain": [
              "<Figure size 864x432 with 2 Axes>"
            ]
          },
          "metadata": {
            "tags": [],
            "needs_background": "light"
          }
        }
      ]
    },
    {
      "cell_type": "markdown",
      "metadata": {
        "id": "RfMzRbAhfC9e",
        "colab_type": "text"
      },
      "source": [
        "####Testowanie modelu"
      ]
    },
    {
      "cell_type": "code",
      "metadata": {
        "id": "SVMbtjGN4FKU",
        "colab_type": "code",
        "colab": {
          "base_uri": "https://localhost:8080/",
          "height": 104
        },
        "outputId": "12b34cf2-ab71-4f24-815e-5269ff34e34c"
      },
      "source": [
        "test_datagen = ImageDataGenerator(rescale=1./255)\n",
        "\n",
        "test_generator = test_datagen.flow_from_directory(\n",
        "        test_dir,\n",
        "        target_size=(picture_size, picture_size),\n",
        "        color_mode=\"rgb\",\n",
        "        shuffle = False,\n",
        "        class_mode='categorical',\n",
        "        batch_size=1,\n",
        "        )\n",
        "\n",
        "filenames = test_generator.filenames\n",
        "classes_gen = test_generator.class_indices\n",
        "classes_gen = test_generator.class_indices\n",
        "\n",
        "loss_acc = model.evaluate(test_generator)\n",
        "print(classes_gen)\n",
        "print('loss= ', loss_acc[0])\n",
        "print(\"acc= \", loss_acc[1])"
      ],
      "execution_count": 16,
      "outputs": [
        {
          "output_type": "stream",
          "text": [
            "Found 3407 images belonging to 10 classes.\n",
            "3407/3407 [==============================] - 12s 3ms/step\n",
            "{'cross': 0, 'limit40': 1, 'limit50': 2, 'limit60': 3, 'limit70': 4, 'limit80': 5, 'nosign': 6, 'othersign': 7, 'stop': 8, 'yield': 9}\n",
            "loss=  7.152555099310121e-07\n",
            "acc=  0.9870854020118713\n"
          ],
          "name": "stdout"
        }
      ]
    },
    {
      "cell_type": "code",
      "metadata": {
        "id": "xRrryWRVsFDt",
        "colab_type": "code",
        "colab": {
          "base_uri": "https://localhost:8080/",
          "height": 243
        },
        "outputId": "c58c948f-8539-4470-d1b0-3db16c9699c5"
      },
      "source": [
        "predict = model.predict_generator(test_generator,steps = len(filenames))\n",
        "predict"
      ],
      "execution_count": 17,
      "outputs": [
        {
          "output_type": "execute_result",
          "data": {
            "text/plain": [
              "array([[9.9979609e-01, 8.3312855e-08, 6.5492031e-07, ..., 2.5932907e-06,\n",
              "        8.8901770e-06, 5.6023971e-05],\n",
              "       [9.9994206e-01, 9.0653479e-08, 1.1855372e-07, ..., 3.6273063e-06,\n",
              "        3.0287833e-06, 1.0620269e-05],\n",
              "       [9.9994862e-01, 5.4640516e-08, 3.2233527e-07, ..., 1.9038132e-06,\n",
              "        4.0614682e-06, 9.4331599e-06],\n",
              "       ...,\n",
              "       [1.3079210e-10, 5.5762594e-13, 3.4083626e-12, ..., 4.6871655e-08,\n",
              "        2.8010105e-10, 9.9999988e-01],\n",
              "       [7.6023346e-12, 4.9603418e-15, 8.3626872e-14, ..., 3.7740638e-10,\n",
              "        3.2437289e-11, 1.0000000e+00],\n",
              "       [1.9478341e-09, 1.3525399e-11, 1.1735039e-10, ..., 2.9162922e-07,\n",
              "        9.9739506e-09, 9.9999928e-01]], dtype=float32)"
            ]
          },
          "metadata": {
            "tags": []
          },
          "execution_count": 17
        }
      ]
    },
    {
      "cell_type": "code",
      "metadata": {
        "id": "nasmaaVB5sIy",
        "colab_type": "code",
        "colab": {
          "base_uri": "https://localhost:8080/",
          "height": 208
        },
        "outputId": "8e7191e9-6a04-4dec-e0c6-d9e0cda0176e"
      },
      "source": [
        "from google.colab.patches import cv2_imshow\n",
        "\n",
        "signs = test_generator.class_indices\n",
        "prediction_list = []\n",
        "memo_correct_percent = {}\n",
        "for sign in signs:\n",
        "  files = os.path.join(test_dir, sign)\n",
        "  test_files = os.listdir(files)\n",
        "  incorrect = 0\n",
        "  for f in test_files:\n",
        "    path_to_test = os.path.join(files, f)\n",
        "    img = cv2.imread(path_to_test)\n",
        "    img_rgb = cv2.cvtColor(img, cv2.COLOR_BGR2RGB)\n",
        "    img_resized = cv2.resize(img_rgb,(picture_size,picture_size))\n",
        "    img_resized_float = img_resized.astype(\"float32\") / 255\n",
        "    img_tensor = np.reshape(img_resized_float,[1,picture_size,picture_size,3])\n",
        "    classes = (model.predict_classes(img_tensor)).tolist()\n",
        "    for num, class_ in enumerate(signs):\n",
        "      if classes[0] == num:\n",
        "        classes = list(signs.keys())[list(signs.values()).index(num)]\n",
        "    else:\n",
        "      classes\n",
        "    if classes != sign:\n",
        "      # cv2_imshow(img)\n",
        "      incorrect += 1 \n",
        "  corrent_percent = round(100-(incorrect/len(test_files)*100))\n",
        "  memo_correct_percent[sign] = corrent_percent\n",
        "  prediction_note = f'{sign}: {incorrect} / {len(test_files)},  Poprawność: {corrent_percent}%'\n",
        "  prediction_list.append(prediction_note)\n",
        "  print(prediction_note)\n",
        "mean_correct_percent = round(sum(memo_correct_percent.values()) / len(signs), 1)\n",
        "print(f'Średnia poprawność predykcji: {mean_correct_percent}%')"
      ],
      "execution_count": 18,
      "outputs": [
        {
          "output_type": "stream",
          "text": [
            "cross: 0 / 409,  Poprawność: 100%\n",
            "limit40: 6 / 98,  Poprawność: 94%\n",
            "limit50: 4 / 312,  Poprawność: 99%\n",
            "limit60: 1 / 191,  Poprawność: 99%\n",
            "limit70: 5 / 211,  Poprawność: 98%\n",
            "limit80: 8 / 206,  Poprawność: 96%\n",
            "nosign: 11 / 1334,  Poprawność: 99%\n",
            "othersign: 5 / 132,  Poprawność: 96%\n",
            "stop: 5 / 236,  Poprawność: 98%\n",
            "yield: 6 / 278,  Poprawność: 98%\n",
            "Średnia poprawność predykcji: 97.7%\n"
          ],
          "name": "stdout"
        }
      ]
    },
    {
      "cell_type": "markdown",
      "metadata": {
        "id": "WwDG6IiWVFF4",
        "colab_type": "text"
      },
      "source": [
        "###Zapis danych modelu i wyników do pliku tekstowego"
      ]
    },
    {
      "cell_type": "code",
      "metadata": {
        "id": "FgiNAOri-nSk",
        "colab_type": "code",
        "colab": {}
      },
      "source": [
        "time_date = time.strftime(\"%d/%m/%Y - %H:%M:%S\")\n",
        "with open(\"/content/drive/My Drive/Colab Notebooks/Road_sign_rec/Log_data.txt\", \"a\") as f:\n",
        "  f.write(f\"Model {time_date} \\n\")\n",
        "  f.write(f\"Funkcja aktywacji: {activation} \\n\")\n",
        "  f.write(f\"Ilość zdjęć treningowych: \\n\")\n",
        "  for key, value in train_folders_length.items():\n",
        "    f.write(f\"\\t{key}: {value}\\n\")\n",
        "  f.write(f\"Ilość zdjęć walidacyjnych: \\n\")\n",
        "  for key, value in valid_folders_length.items():\n",
        "    f.write(f\"\\t{key}: {value}\\n\")\n",
        "  f.write(f\"Parametry:\\n \\tEpochs: {epochs}\\n \\tMetrics: {metrics}\\n \\tLoss: {loss}\\n \\tClassification: {class_mode} \\n\")\n",
        "  f.write(f\"\\tBatch size: {batch_size}\\n\")\n",
        "  f.write(f\"\\tWielkość zdjęć: {picture_size}x{picture_size}px\\n\")\n",
        "  f.write(f\"\\tIlość warstw modelu: {len(model.layers)}\\n\")\n",
        "  f.write(f\"\\tDropout: 1 - {dropout_1}; 2 - {dropout_2}; 3 - {dropout_3}; 4 - {dropout_4}; 5 - {dropout_5}; 6 - {dropout_6}\\n\")\n",
        "  f.write(\"\\n\")\n",
        "  f.write(\"Wyniki: \\n\")\n",
        "  f.write(f\"\\tSTRATA [loss]: {loss_acc[0]}\\n\")\n",
        "  f.write(f\"\\tDOKŁADNOŚĆ [acc]: {loss_acc[1]}\\n\")\n",
        "  f.write(f\"\\tIlość zdjęć testowych: {len(test_generator.filenames)}\\n\")\n",
        "  for prediction in prediction_list:\n",
        "    f.write(f\"\\t{prediction}\\n\")\n",
        "  f.write(f\"Średnia poprawność manualnej predykcji: {mean_correct_percent}% \\n\")\n",
        "  f.write(f\"Nazwa pliku: {model_name}\")\n",
        "  f.write(\"\\n\")\n",
        "  f.write(\"-------------------------------------------------------------\")\n",
        "  f.write(\"\\n\\n\")\n"
      ],
      "execution_count": 19,
      "outputs": []
    },
    {
      "cell_type": "markdown",
      "metadata": {
        "id": "57sqxKgIeiIU",
        "colab_type": "text"
      },
      "source": [
        "###Zapis modelu (.json) i wag (.h5)"
      ]
    },
    {
      "cell_type": "code",
      "metadata": {
        "id": "jViqYOilFGvH",
        "colab_type": "code",
        "colab": {}
      },
      "source": [
        "model_name_json = 'model_10conv.json'\n",
        "model_path = os.path.join(\"/content/drive/My Drive/Colab Notebooks/Road_sign_rec/Data\", model_name_json)\n",
        "json_config = model.to_json()\n",
        "with open(model_path, 'w') as json_file:\n",
        "    json_file.write(json_config)"
      ],
      "execution_count": null,
      "outputs": []
    },
    {
      "cell_type": "code",
      "metadata": {
        "id": "HQh5u5qc36F4",
        "colab_type": "code",
        "colab": {}
      },
      "source": [
        "model_name = 'model_signs_4_classes.h5'\n",
        "model_path = os.path.join(base_dir, model_name)\n",
        "model.save(model_path)"
      ],
      "execution_count": null,
      "outputs": []
    },
    {
      "cell_type": "code",
      "metadata": {
        "id": "ckNC7f9KaBfo",
        "colab_type": "code",
        "colab": {}
      },
      "source": [
        "model_name = 'model_signs_4_multi_classes_softmax.h5'\n",
        "model_path = os.path.join(base_dir, model_name)\n",
        "model.save(model_path)"
      ],
      "execution_count": null,
      "outputs": []
    },
    {
      "cell_type": "code",
      "metadata": {
        "id": "1EtyyAH1Tx4m",
        "colab_type": "code",
        "colab": {}
      },
      "source": [
        "model_name = 'model_signs_4_multi_classes_sigmoid.h5'\n",
        "model_path = os.path.join(base_dir, model_name)\n",
        "model.save(model_path)"
      ],
      "execution_count": null,
      "outputs": []
    },
    {
      "cell_type": "code",
      "metadata": {
        "id": "hOS4hhKMOe6U",
        "colab_type": "code",
        "colab": {}
      },
      "source": [
        "model.load_weights('/content/drive/My Drive/Colab Notebooks/Road_sign_rec/model_signs_9_classe_sigmoid_23052020.h5')"
      ],
      "execution_count": null,
      "outputs": []
    },
    {
      "cell_type": "code",
      "metadata": {
        "id": "vhEm1sl86NmF",
        "colab_type": "code",
        "colab": {}
      },
      "source": [
        "figure = plt.figure()\n",
        "files = os.path.join(test_dir, 'cross')\n",
        "test_files = os.listdir(files)\n",
        "path_to_test = os.path.join(files, test_files[100])\n",
        "img = cv2.imread(path_to_test)\n",
        "img = cv2.cvtColor(img, cv2.COLOR_BGR2RGB)\n",
        "img = cv2.resize(img,(picture_size,picture_size))\n",
        "plt.imshow(img)\n",
        "plt.show()\n"
      ],
      "execution_count": null,
      "outputs": []
    },
    {
      "cell_type": "markdown",
      "metadata": {
        "id": "0qGf-UsIqdzp",
        "colab_type": "text"
      },
      "source": [
        "###Poprzednie wyniki do porównania"
      ]
    },
    {
      "cell_type": "code",
      "metadata": {
        "id": "GUMJSf5G15Vw",
        "colab_type": "code",
        "colab": {}
      },
      "source": [
        "Sigmoid 04062020\n",
        "acc=  0.9838449358940125\n",
        "cross: 2 / 409,  Correct: 100%\n",
        "limit40: 4 / 98,  Correct: 96%\n",
        "limit50: 3 / 312,  Correct: 99%\n",
        "limit60: 7 / 191,  Correct: 96%\n",
        "limit70: 3 / 211,  Correct: 99%\n",
        "limit80: 4 / 206,  Correct: 98%\n",
        "nosign: 12 / 813,  Correct: 99%\n",
        "stop: 3 / 236,  Correct: 99%\n",
        "Mean correct predict: 98.2%\n",
        "\n",
        "\n",
        "Softmax 03062020 - zmian pic size + nowe zdjecia\n",
        "acc=  0.9818255305290222\n",
        "cross: 4 / 409,  Correct: 99%\n",
        "limit40: 6 / 98,  Correct: 94%\n",
        "limit50: 9 / 312,  Correct: 97%\n",
        "limit60: 6 / 191,  Correct: 97%\n",
        "limit70: 4 / 211,  Correct: 98%\n",
        "limit80: 8 / 206,  Correct: 96%\n",
        "nosign: 7 / 813,  Correct: 99%\n",
        "stop: 4 / 236,  Correct: 98%\n",
        "Mean correct predict: 97.2%\n",
        "\n",
        "Softmax 03062020 - zmian pic size + zmian parametrow imagegeneratora\n",
        "cross: 5 / 388,  Correct: 99%\n",
        "limit40: 2 / 98,  Correct: 98%\n",
        "limit50: 5 / 111,  Correct: 95%\n",
        "limit60: 6 / 65,  Correct: 91%\n",
        "limit70: 4 / 34,  Correct: 88%\n",
        "limit80: 5 / 41,  Correct: 88%\n",
        "nosign: 8 / 813,  Correct: 99%\n",
        "stop: 4 / 167,  Correct: 98%\n",
        "Mean correct predict: 94.5%\n",
        "\n",
        "Softmax 03062020 - zmian pic size\n",
        "acc=  0.9807804226875305\n",
        "cross: 2 / 388,  Correct: 99%\n",
        "limit40: 3 / 98,  Correct: 97%\n",
        "limit50: 2 / 111,  Correct: 98%\n",
        "limit60: 6 / 65,  Correct: 91%\n",
        "limit70: 3 / 34,  Correct: 91%\n",
        "limit80: 3 / 41,  Correct: 93%\n",
        "nosign: 8 / 813,  Correct: 99%\n",
        "stop: 3 / 167,  Correct: 98%\n",
        "Mean correct predict: 95.8%\n",
        "\n",
        "Softmax 03062020\n",
        "acc=  0.9749563336372375\n",
        "cross: 6 / 388,  Correct: 98%\n",
        "limit40: 2 / 98,  Correct: 98%\n",
        "limit50: 6 / 111,  Correct: 95%\n",
        "limit60: 8 / 65,  Correct: 88%\n",
        "limit70: 6 / 34,  Correct: 82%\n",
        "limit80: 7 / 41,  Correct: 83%\n",
        "nosign: 9 / 813,  Correct: 99%\n",
        "stop: 3 / 167,  Correct: 98%\n",
        "Mean correct predict: 92.6%\n",
        "\n",
        "# Sigmoin 26052020:\n",
        "cross: 4 / 388,  Correct: 99%\n",
        "limit40: 3 / 98,  Correct: 97%\n",
        "limit50: 6 / 111,  Correct: 95%\n",
        "limit60: 6 / 65,  Correct: 91%\n",
        "limit70: 4 / 34,  Correct: 88%\n",
        "limit80: 6 / 41,  Correct: 85%\n",
        "nosign: 5 / 813,  Correct: 99%\n",
        "stop: 2 / 167,  Correct: 99%\n",
        "Mean correct predict: 94.1%\n"
      ],
      "execution_count": null,
      "outputs": []
    },
    {
      "cell_type": "markdown",
      "metadata": {
        "id": "PnSDOcbQfK8H",
        "colab_type": "text"
      },
      "source": [
        "##Detekcja wideo"
      ]
    },
    {
      "cell_type": "markdown",
      "metadata": {
        "id": "NXyERENbfP4x",
        "colab_type": "text"
      },
      "source": [
        "###Pliki i ścieżki"
      ]
    },
    {
      "cell_type": "code",
      "metadata": {
        "id": "PzK868vIbIxu",
        "colab_type": "code",
        "colab": {
          "base_uri": "https://localhost:8080/",
          "height": 34
        },
        "outputId": "22a847f0-6536-4ce1-c7c6-e06a9db1feaf"
      },
      "source": [
        "video_path_input_directory = '/content/drive/My Drive/Colab Notebooks/Road_sign_rec/Input'\n",
        "video_file_name = 'warsaw_drive_test.mp4'\n",
        "video_path_file = os.path.join(video_path_input_directory, video_file_name)\n",
        "video_path_output = '/content/drive/My Drive/Colab Notebooks/Road_sign_rec/Output'\n",
        "print(video_path_file)\n",
        "from google.colab.patches import cv2_imshow"
      ],
      "execution_count": null,
      "outputs": [
        {
          "output_type": "stream",
          "text": [
            "/content/drive/My Drive/Colab Notebooks/Road_sign_rec/Input/warsaw_drive_test.mp4\n"
          ],
          "name": "stdout"
        }
      ]
    },
    {
      "cell_type": "code",
      "metadata": {
        "id": "6MjRwu8HcBue",
        "colab_type": "code",
        "colab": {}
      },
      "source": [
        "  ss = cv2.ximgproc.segmentation.createSelectiveSearchSegmentation()\n",
        "  cap = cv2.VideoCapture(video_path_file)\n",
        "  video_length = int(cap.get(cv2.CAP_PROP_FRAME_COUNT))\n",
        "  cap_video_fps = int(cap.get(cv2.CAP_PROP_FPS))\n",
        "  cap_video_width = int(cap.get(cv2.CAP_PROP_FRAME_WIDTH))\n",
        "  cap_video_height = int(cap.get(cv2.CAP_PROP_FRAME_HEIGHT))\n",
        "  print(\"FPS\", cap_video_fps)\n",
        "  print(\"Length\", video_length)\n",
        "  writer = None\n",
        "  (W, H) = (None, None)\n",
        "  mean = np.array([100, 100, 100], dtype=\"float32\")\n",
        "  i = 0\n",
        "  while True:\n",
        "      i += 1\n",
        "      print(f'{i} / {video_length}')\n",
        "      (grabbed, frame) = cap.read()\n",
        "      if not grabbed:\n",
        "          break\n",
        "      if W is None or H is None:\n",
        "          (H, W) = frame.shape[:2]\n",
        "      output = frame.copy()\n",
        "      ss.setBaseImage(output)\n",
        "      try:\n",
        "        ss.switchToSelectiveSearchFast()\n",
        "      except cv2.error:\n",
        "        break\n",
        "      ssresults = ss.process()\n",
        "      for w, result in enumerate(ssresults):\n",
        "          if w < 2000:\n",
        "              x, y, w, h = result\n",
        "              timage = output[y:y+h, x:x+w]\n",
        "              resized = cv2.resize(timage, (100, 100), interpolation=cv2.INTER_AREA)\n",
        "              resized = resized - mean\n",
        "              img = np.expand_dims(resized, axis=0)\n",
        "              out = model.predict(img/255.0, batch_size=10)\n",
        "              if out[0][0] >= 0.99:\n",
        "                  cv2.rectangle(output, (x, y), (x+w, y+h), (0, 255, 0), 1, cv2.LINE_AA)\n",
        "      if writer is None:\n",
        "          fourcc = cv2.VideoWriter_fourcc(*\"MJPG\")\n",
        "          writer = cv2.VideoWriter('Output/out_video.mp4', \n",
        "                                   fourcc, \n",
        "                                   30,\n",
        "                                   (W, H), \n",
        "                                   True,\n",
        "                                   )\n",
        "      writer.write(output)\n",
        "      cv2_imshow(output)\n",
        "  print(\"__END__\")"
      ],
      "execution_count": null,
      "outputs": []
    }
  ]
}