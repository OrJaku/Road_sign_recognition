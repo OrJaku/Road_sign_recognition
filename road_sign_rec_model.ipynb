{
  "nbformat": 4,
  "nbformat_minor": 0,
  "metadata": {
    "colab": {
      "name": "road_sign_rec_model.ipynb",
      "provenance": [],
      "collapsed_sections": [
        "hfqmdzzsfq81",
        "Vv-DHfNSpk4I"
      ],
      "toc_visible": true,
      "mount_file_id": "1boPHgyMz_HPFVyOHPW7kt2nrZBDBJubM",
      "authorship_tag": "ABX9TyPuZf/opTpHKCdDC6IO1oHf",
      "include_colab_link": true
    },
    "kernelspec": {
      "name": "python3",
      "display_name": "Python 3"
    },
    "accelerator": "GPU"
  },
  "cells": [
    {
      "cell_type": "markdown",
      "metadata": {
        "id": "view-in-github",
        "colab_type": "text"
      },
      "source": [
        "<a href=\"https://colab.research.google.com/github/OrJaku/road-sign-recognition/blob/master/road_sign_rec_model.ipynb\" target=\"_parent\"><img src=\"https://colab.research.google.com/assets/colab-badge.svg\" alt=\"Open In Colab\"/></a>"
      ]
    },
    {
      "cell_type": "markdown",
      "metadata": {
        "id": "A1BoHNMscLwp",
        "colab_type": "text"
      },
      "source": [
        "##Biblioteki"
      ]
    },
    {
      "cell_type": "code",
      "metadata": {
        "id": "yILZf6IzcwYp",
        "colab_type": "code",
        "colab": {
          "base_uri": "https://localhost:8080/",
          "height": 35
        },
        "outputId": "96817f3d-8b56-4957-b4c3-739fea3ab677"
      },
      "source": [
        "import os, shutil, cv2, json\n",
        "import pandas as pd\n",
        "import numpy as np\n",
        "from keras import layers, models, optimizers, metrics\n",
        "from keras.preprocessing.image import ImageDataGenerator\n",
        "import matplotlib\n",
        "matplotlib.use('agg')\n",
        "import matplotlib.pyplot as plt\n",
        "import matplotlib.image as mpimg \n",
        "import time\n"
      ],
      "execution_count": 1,
      "outputs": [
        {
          "output_type": "stream",
          "text": [
            "Using TensorFlow backend.\n"
          ],
          "name": "stderr"
        }
      ]
    },
    {
      "cell_type": "markdown",
      "metadata": {
        "id": "YGc8PWa5cM-H",
        "colab_type": "text"
      },
      "source": [
        "## Pliki"
      ]
    },
    {
      "cell_type": "code",
      "metadata": {
        "id": "5yI9rJmbZMNh",
        "colab_type": "code",
        "outputId": "e4767711-a471-4085-e186-e0183fddcbea",
        "colab": {
          "base_uri": "https://localhost:8080/",
          "height": 34
        }
      },
      "source": [
        "cd \"/content/drive/My Drive/Colab Notebooks/Road_sign_rec\""
      ],
      "execution_count": 0,
      "outputs": [
        {
          "output_type": "stream",
          "text": [
            "/content/drive/My Drive/Colab Notebooks/Road_sign_rec\n"
          ],
          "name": "stdout"
        }
      ]
    },
    {
      "cell_type": "code",
      "metadata": {
        "id": "IJjxYF4Yxlms",
        "colab_type": "code",
        "outputId": "f06d54b1-63fd-4ec4-d4bc-523ff462f0b9",
        "colab": {
          "base_uri": "https://localhost:8080/",
          "height": 34
        }
      },
      "source": [
        "cd \"/content/drive/My Drive/Colab Notebooks/Road_sign_rec/data\""
      ],
      "execution_count": 0,
      "outputs": [
        {
          "output_type": "stream",
          "text": [
            "/content/drive/My Drive/Colab Notebooks/Road_sign_rec/data\n"
          ],
          "name": "stdout"
        }
      ]
    },
    {
      "cell_type": "code",
      "metadata": {
        "id": "EMokUffyxdg3",
        "colab_type": "code",
        "colab": {}
      },
      "source": [
        "from google.colab import files\n",
        "\n",
        "uploaded = files.upload()"
      ],
      "execution_count": 0,
      "outputs": []
    },
    {
      "cell_type": "markdown",
      "metadata": {
        "id": "GBHKh-2fcYq8",
        "colab_type": "text"
      },
      "source": [
        "### Kopiowanie obrazów treningowych na dysk Colab"
      ]
    },
    {
      "cell_type": "code",
      "metadata": {
        "id": "RvxjUGItyVkF",
        "colab_type": "code",
        "outputId": "106ef6b9-0455-4713-dec4-c554b1de8620",
        "colab": {
          "base_uri": "https://localhost:8080/",
          "height": 35
        }
      },
      "source": [
        "cd \"/content\""
      ],
      "execution_count": 2,
      "outputs": [
        {
          "output_type": "stream",
          "text": [
            "/content\n"
          ],
          "name": "stdout"
        }
      ]
    },
    {
      "cell_type": "code",
      "metadata": {
        "id": "_rZWntpHya4K",
        "colab_type": "code",
        "colab": {}
      },
      "source": [
        "try:\n",
        "  os.mkdir(\"data\")\n",
        "except FileExistsError:\n",
        "  pass\n",
        "!cp \"/content/drive/My Drive/Colab Notebooks/Road_sign_rec/Data/Dataset_extend_zip.zip\" \"/content/data/Dataset_extend_zip.zip\""
      ],
      "execution_count": 0,
      "outputs": []
    },
    {
      "cell_type": "code",
      "metadata": {
        "id": "lOPH5wcOzQWF",
        "colab_type": "code",
        "outputId": "ddbbd144-2eae-4634-a6c1-fc46fd5f03d5",
        "colab": {
          "base_uri": "https://localhost:8080/",
          "height": 35
        }
      },
      "source": [
        "cd data"
      ],
      "execution_count": 4,
      "outputs": [
        {
          "output_type": "stream",
          "text": [
            "/content/data\n"
          ],
          "name": "stdout"
        }
      ]
    },
    {
      "cell_type": "code",
      "metadata": {
        "id": "09hioilizA-l",
        "colab_type": "code",
        "colab": {}
      },
      "source": [
        "!unzip -q Dataset_extend_zip.zip"
      ],
      "execution_count": 0,
      "outputs": []
    },
    {
      "cell_type": "code",
      "metadata": {
        "id": "lW7wOoYWzEzS",
        "colab_type": "code",
        "colab": {
          "base_uri": "https://localhost:8080/",
          "height": 54
        },
        "outputId": "a178a80a-cd1f-44eb-e19f-498149aa2a3e"
      },
      "source": [
        "data_folder = \"/content/data/Data\"\n",
        "train_folder = os.path.join(data_folder, 'train_data')\n",
        "signs_list_train = os.listdir(train_folder)\n",
        "train_folders_length = {}\n",
        "for signs_train in signs_list_train:\n",
        "  train_folders_length[signs_train] = len(os.listdir(os.path.join(train_folder, signs_train)))\n",
        "print(train_folders_length)\n",
        "\n",
        "valid_folder = os.path.join(data_folder, 'valid_data')\n",
        "signs_list_valid = os.listdir(valid_folder)\n",
        "valid_folders_length = {}\n",
        "for signs_val in signs_list_valid:\n",
        "  valid_folders_length[signs_val] = len(os.listdir(os.path.join(valid_folder, signs_val)))\n",
        "print(valid_folders_length)"
      ],
      "execution_count": 27,
      "outputs": [
        {
          "output_type": "stream",
          "text": [
            "{'limit40': 586, 'stop': 1314, 'limit70': 1264, 'cross': 1326, 'nosign': 2910, 'limit50': 1606, 'limit80': 1236, 'limit60': 1144}\n",
            "{'limit40': 294, 'stop': 506, 'limit70': 633, 'cross': 663, 'nosign': 1013, 'limit50': 803, 'limit80': 618, 'limit60': 573}\n"
          ],
          "name": "stdout"
        }
      ]
    },
    {
      "cell_type": "markdown",
      "metadata": {
        "id": "L97BfvTNfVIG",
        "colab_type": "text"
      },
      "source": [
        "### Przygotowanie folderów"
      ]
    },
    {
      "cell_type": "code",
      "metadata": {
        "id": "gLFz7U1VZXQ2",
        "colab_type": "code",
        "colab": {}
      },
      "source": [
        "base_dir = \"Data/\"\n",
        "train_dir = os.path.join(base_dir, 'train_data')\n",
        "try:\n",
        "  os.mkdir(train_dir)\n",
        "except FileExistsError:\n",
        "  pass\n",
        "\n",
        "cross_train =  os.path.join(train_dir, 'cross')\n",
        "stop_train =  os.path.join(train_dir, 'stop')\n",
        "limit50_train =  os.path.join(train_dir, 'limit50')\n",
        "nosign_train =  os.path.join(train_dir, 'nosign')\n",
        "try:\n",
        "  os.mkdir(nosign_train)\n",
        "except FileExistsError:\n",
        "  pass\n",
        "try:\n",
        "  os.mkdir(cross_train)\n",
        "except FileExistsError:\n",
        "  pass\n",
        "try:\n",
        "  os.mkdir(stop_train)\n",
        "except FileExistsError:\n",
        "  pass\n",
        "try:\n",
        "  os.mkdir(limit50_train)\n",
        "except FileExistsError:\n",
        "  pass\n",
        "\n",
        "valid_dir = os.path.join(base_dir, 'valid_data')\n",
        "try:\n",
        "  os.mkdir(valid_dir)\n",
        "except FileExistsError:\n",
        "  pass\n",
        "\n",
        "cross_val =  os.path.join(valid_dir, 'cross')\n",
        "stop_val =  os.path.join(valid_dir, 'stop')\n",
        "limit50_val =  os.path.join(valid_dir, 'limit50')\n",
        "nosign_val =  os.path.join(valid_dir, 'nosign')\n",
        "\n",
        "try:\n",
        "  os.mkdir(nosign_val)\n",
        "except FileExistsError:\n",
        "  pass\n",
        "try:\n",
        "  os.mkdir(cross_val)\n",
        "except FileExistsError:\n",
        "  pass\n",
        "try:\n",
        "  os.mkdir(stop_val)\n",
        "except FileExistsError:\n",
        "  pass\n",
        "try:\n",
        "  os.mkdir(limit50_val)\n",
        "except FileExistsError:\n",
        "  pass\n",
        "\n",
        "test_dir = os.path.join(base_dir, 'test_data')\n",
        "try:\n",
        "  os.mkdir(test_dir)\n",
        "except FileExistsError:\n",
        "  pass\n",
        "\n",
        "cross_test =  os.path.join(test_dir, 'cross')\n",
        "stop_test =  os.path.join(test_dir, 'stop')\n",
        "limit50_test =  os.path.join(test_dir, 'limit50')\n",
        "limit40_test =  os.path.join(test_dir, 'limit40')\n",
        "limit60_test =  os.path.join(test_dir, 'limit60')\n",
        "limit70_test =  os.path.join(test_dir, 'limit70')\n",
        "limit80_test =  os.path.join(test_dir, 'limit80')\n",
        "limit100_test =  os.path.join(test_dir, 'limit100')\n",
        "\n",
        "nosign_test =  os.path.join(test_dir, 'nosign')\n"
      ],
      "execution_count": 0,
      "outputs": []
    },
    {
      "cell_type": "markdown",
      "metadata": {
        "id": "B6C9ZXIjfdnm",
        "colab_type": "text"
      },
      "source": [
        "#### Ilość poszczegónych zdjęć"
      ]
    },
    {
      "cell_type": "code",
      "metadata": {
        "id": "E34aEB7Obpkm",
        "colab_type": "code",
        "colab": {}
      },
      "source": [
        "cross_origin_path = os.path.abspath(\"/content/drive/My Drive/Colab Notebooks/Road_sign_rec/Data/information--pedestrians-crossing--g1/\")\n",
        "stop_origin_path = os.path.abspath(\"/content/drive/My Drive/Colab Notebooks/Road_sign_rec/Data/regulatory--stop--g1\")\n",
        "limit50_origin_path = os.path.abspath(\"/content/drive/My Drive/Colab Notebooks/Road_sign_rec/Data/regulatory--maximum-speed-limit-50--g1\")\n",
        "nosign_path = os.path.abspath(\"/content/drive/My Drive/Colab Notebooks/Road_sign_rec/Data/NoSign\")\n",
        "nosign_path_2 = os.path.abspath(\"/content/drive/My Drive/Colab Notebooks/Road_sign_rec/Data/NoSign2\")\n",
        "\n",
        "\n",
        "\n",
        "print('Przejscie dla piszych: ',len(os.listdir(cross_origin_path)))\n",
        "print('Stop: ', len(os.listdir(stop_origin_path)))\n",
        "print('Ograniczenie do 50km/h: ', len(os.listdir(limit50_origin_path)))\n",
        "number_of_nosign = len(os.listdir(nosign_path)) + len(os.listdir(nosign_path_2))\n",
        "print('Brak znaku', number_of_nosign)\n"
      ],
      "execution_count": 0,
      "outputs": []
    },
    {
      "cell_type": "markdown",
      "metadata": {
        "id": "hfqmdzzsfq81",
        "colab_type": "text"
      },
      "source": [
        "#### Kopowanie i podział zdjęć na treningowe, walidacyjne i testowe\n",
        "\n",
        "---\n",
        "\n"
      ]
    },
    {
      "cell_type": "code",
      "metadata": {
        "id": "Os4zVKiofTDn",
        "colab_type": "code",
        "outputId": "88e0eb4d-5e30-420a-e687-faa1b92ccce6",
        "colab": {
          "base_uri": "https://localhost:8080/",
          "height": 86
        }
      },
      "source": [
        "\n",
        "# # train cross\n",
        "# for image_name in os.listdir(cross_origin_path)[0:1200]:\n",
        "#   src = os.path.join(cross_origin_path, image_name)\n",
        "#   dst = os.path.join(cross_train, image_name)\n",
        "#   shutil.copyfile(src, dst)\n",
        "# print(\"train cross copied\")\n",
        "\n",
        "# # validation cross\n",
        "# for image_name in os.listdir(cross_origin_path)[1200:1800]:\n",
        "#   src = os.path.join(cross_origin_path, image_name)\n",
        "#   dst = os.path.join(cross_val, image_name)\n",
        "#   shutil.copyfile(src, dst)\n",
        "# print(\"validation cross copied\")\n",
        "\n",
        "# # test cross\n",
        "# for image_name in os.listdir(cross_origin_path)[1800:]:\n",
        "#   src = os.path.join(cross_origin_path, image_name)\n",
        "#   dst = os.path.join(cross_test, image_name)\n",
        "#   shutil.copyfile(src, dst)\n",
        "# print(\"test cross copied\")\n",
        "\n",
        "# ##################################\n",
        "\n",
        "# # train stop\n",
        "# i=0\n",
        "# for image_name in os.listdir(stop_origin_path)[0:900]:\n",
        "#   i =+ 1\n",
        "#   src = os.path.join(stop_origin_path, image_name)\n",
        "#   dst = os.path.join(stop_train, image_name)\n",
        "#   shutil.copyfile(src, dst)\n",
        "#   if i == 200 or i == 400 or i == 700:\n",
        "#     print(f\"Copied {i} \")\n",
        "# print(\"train stop copied\")\n",
        "\n",
        "\n",
        "# # validation stop\n",
        "# for image_name in os.listdir(stop_origin_path)[901:1200]:\n",
        "#   src = os.path.join(stop_origin_path, image_name)\n",
        "#   dst = os.path.join(stop_val, image_name)\n",
        "#   shutil.copyfile(src, dst)\n",
        "#   if i == 1050:\n",
        "#     print(f\"Copied {i} \")\n",
        "# print(\"validation stop copied\")\n",
        "\n",
        "# # test stop\n",
        "# for image_name in os.listdir(stop_origin_path)[1201:]:\n",
        "#   src = os.path.join(stop_origin_path, image_name)\n",
        "#   dst = os.path.join(stop_test, image_name)\n",
        "#   shutil.copyfile(src, dst)\n",
        "#   if i == 1300:\n",
        "#     print(f\"Copied {i} \")\n",
        "# print(\"test stop copied\")\n",
        "\n",
        "\n",
        "# ##########################\n",
        "\n",
        "# # train limit50\n",
        "# for image_name in os.listdir(limit50_origin_path)[0:400]:\n",
        "#   src = os.path.join(limit50_origin_path, image_name)\n",
        "#   dst = os.path.join(limit50_train, image_name)\n",
        "#   shutil.copyfile(src, dst)\n",
        "# print(\"train limit50 copied\")\n",
        "\n",
        "# # validation limit50\n",
        "# for image_name in os.listdir(limit50_origin_path)[400:600]:\n",
        "#   src = os.path.join(limit50_origin_path, image_name)\n",
        "#   dst = os.path.join(limit50_val, image_name)\n",
        "#   shutil.copyfile(src, dst)\n",
        "# print(\"validation limit50 copied\")\n",
        "\n",
        "# # test limit50\n",
        "# for image_name in os.listdir(limit50_origin_path)[600:]:\n",
        "#   src = os.path.join(limit50_origin_path, image_name)\n",
        "#   dst = os.path.join(limit50_test, image_name)\n",
        "#   shutil.copyfile(src, dst)\n",
        "# print(\"test limit50 copied\")\n",
        "\n",
        "\n",
        "# #########################\n",
        "\n",
        "\n",
        "# # train NoSign\n",
        "# for image_name in os.listdir(nosign_path)[0:1300]:\n",
        "#   src = os.path.join(nosign_path, image_name)\n",
        "#   dst = os.path.join(nosign_train, image_name)\n",
        "#   shutil.copyfile(src, dst)\n",
        "# print(\"train NoSign copied\")\n",
        "\n",
        "# # validation NoSign\n",
        "# for image_name in os.listdir(nosign_path)[1300:1700]:\n",
        "#   src = os.path.join(nosign_path, image_name)\n",
        "#   dst = os.path.join(nosign_val, image_name)\n",
        "#   shutil.copyfile(src, dst)\n",
        "# print(\"validation NoSign copied\")\n",
        "\n",
        "# # test NoSign\n",
        "# for image_name in os.listdir(nosign_path)[1700:]:\n",
        "#   src = os.path.join(nosign_path, image_name)\n",
        "#   dst = os.path.join(nosign_test, image_name)\n",
        "#   shutil.copyfile(src, dst)\n",
        "# print(\"test NoSign copied\")\n",
        "\n",
        "\n",
        "# # train NoSign2\n",
        "# for image_name in os.listdir(nosign_path_2)[0:1300]:\n",
        "#   src = os.path.join(nosign_path_2, image_name)\n",
        "#   dst = os.path.join(nosign_train, image_name)\n",
        "#   shutil.copyfile(src, dst)\n",
        "# print(\"train NoSign2 copied\")\n",
        "\n",
        "# # validation NoSign2\n",
        "# for image_name in os.listdir(nosign_path_2)[1300:1700]:\n",
        "#   src = os.path.join(nosign_path_2, image_name)\n",
        "#   dst = os.path.join(nosign_val, image_name)\n",
        "#   shutil.copyfile(src, dst)\n",
        "# print(\"validation NoSign2 copied\")\n",
        "\n",
        "# # test NoSign2\n",
        "# for image_name in os.listdir(nosign_path_2)[1700:]:\n",
        "#   src = os.path.join(nosign_path_2, image_name)\n",
        "#   dst = os.path.join(nosign_test, image_name)\n",
        "#   shutil.copyfile(src, dst)\n",
        "# print(\"test NoSign2 copied\")\n",
        "\n",
        "\n"
      ],
      "execution_count": 0,
      "outputs": [
        {
          "output_type": "stream",
          "text": [
            "train cross copied\n",
            "validation cross copied\n",
            "test cross copied\n",
            "train stop copied\n"
          ],
          "name": "stdout"
        }
      ]
    },
    {
      "cell_type": "markdown",
      "metadata": {
        "id": "Vv-DHfNSpk4I",
        "colab_type": "text"
      },
      "source": [
        "#### Przekształcanie plików .jpg na tensory - test"
      ]
    },
    {
      "cell_type": "code",
      "metadata": {
        "id": "zmlQShw9k4Eh",
        "colab_type": "code",
        "colab": {}
      },
      "source": [
        "# datagen = ImageDataGenerator(rotation_range=40,\n",
        "#                              width_shift_range=0.2,\n",
        "#                              height_shift_range=0.2,\n",
        "#                              shear_range=0.2,\n",
        "#                              zoom_range=0.2,\n",
        "#                              horizontal_flip=True,\n",
        "#                              fill_mode='nearest') \n",
        "                                  "
      ],
      "execution_count": 0,
      "outputs": []
    },
    {
      "cell_type": "code",
      "metadata": {
        "id": "66_xfeCyomy5",
        "colab_type": "code",
        "colab": {}
      },
      "source": [
        "# from keras.preprocessing import image\n",
        "\n",
        "# figure = plt.figure()\n",
        "# fnames = [os.path.join(cross_train, fname) for fname in os.listdir(cross_train)]\n",
        "# img_path = fnames[3]\n",
        "# print(img_path)\n",
        "# img = image.load_img(img_path, target_size=(100, 100))\n",
        "# plt.imshow(img)\n",
        "# x = image.img_to_array(img)\n",
        "# x = x.reshape((1,) + x.shape)\n",
        "# i=1\n",
        "# for batch in datagen.flow(x, batch_size=1):\n",
        "#   plt.subplot(2, 3, i+0)\n",
        "#   plt\n",
        "#   plt.imshow(image.array_to_img(batch[0]))\n",
        "#   i+=1\n",
        "#   if i%5==0:\n",
        "#     break\n",
        "\n",
        "# plt.show()\n",
        "# figure"
      ],
      "execution_count": 0,
      "outputs": []
    },
    {
      "cell_type": "code",
      "metadata": {
        "id": "5nWpnNouvnEI",
        "colab_type": "code",
        "colab": {}
      },
      "source": [
        "# figure = plt.figure()\n",
        "# fnames = [os.path.join(cross_train, fname) for fname in os.listdir(cross_train)]\n",
        "# img_path = fnames[3]\n",
        "# print(img_path)\n",
        "# img = image.load_img(img_path, target_size=(100, 100))\n",
        "# plt.imshow(img)\n",
        "# figure"
      ],
      "execution_count": 0,
      "outputs": []
    },
    {
      "cell_type": "markdown",
      "metadata": {
        "id": "pPa9uA1YdV8D",
        "colab_type": "text"
      },
      "source": [
        "##Modele"
      ]
    },
    {
      "cell_type": "markdown",
      "metadata": {
        "id": "ofyIFmX1dnj7",
        "colab_type": "text"
      },
      "source": [
        "###Przygotowanie parametrów"
      ]
    },
    {
      "cell_type": "markdown",
      "metadata": {
        "id": "XgLfl0i-dLft",
        "colab_type": "text"
      },
      "source": [
        "####Ustawienia genereatora zdjęć"
      ]
    },
    {
      "cell_type": "code",
      "metadata": {
        "id": "EDi-Uu2-pkJX",
        "colab_type": "code",
        "outputId": "763a2e31-ea1c-49b6-d031-0733c334871c",
        "colab": {
          "base_uri": "https://localhost:8080/",
          "height": 54
        }
      },
      "source": [
        "batch_size = 64\n",
        "picture_size = 96\n",
        "class_mode = \"categorical\"\n",
        "\n",
        "train_datagen = ImageDataGenerator(rescale=1./255,\n",
        "                                  rotation_range=20,\n",
        "                                  width_shift_range=0.2,\n",
        "                                  height_shift_range=0.2,\n",
        "                                  shear_range=0.2,\n",
        "                                  zoom_range=0.2,\n",
        "                                  horizontal_flip=False,\n",
        "                                  vertical_flip=False,                                   \n",
        "                                  fill_mode='nearest')\n",
        "valid_datagen = ImageDataGenerator(rescale=1./255)\n",
        "\n",
        "train_generator = train_datagen.flow_from_directory(\n",
        "    train_dir,\n",
        "    target_size = (picture_size,picture_size),\n",
        "    batch_size = batch_size,\n",
        "    class_mode = class_mode\n",
        ")\n",
        "\n",
        "valid_generator = valid_datagen.flow_from_directory(\n",
        "    valid_dir,\n",
        "    target_size = (picture_size,picture_size),\n",
        "    batch_size = batch_size,\n",
        "    class_mode = class_mode\n",
        "\n",
        ")\n",
        "number_of_classes = len(train_generator.class_indices)\n"
      ],
      "execution_count": 10,
      "outputs": [
        {
          "output_type": "stream",
          "text": [
            "Found 11386 images belonging to 8 classes.\n",
            "Found 5103 images belonging to 8 classes.\n"
          ],
          "name": "stdout"
        }
      ]
    },
    {
      "cell_type": "markdown",
      "metadata": {
        "id": "NYdvsc8NdeCS",
        "colab_type": "text"
      },
      "source": [
        "####Parametry modelu"
      ]
    },
    {
      "cell_type": "code",
      "metadata": {
        "id": "PgyduY3d4oUo",
        "colab_type": "code",
        "colab": {}
      },
      "source": [
        "INIT_LR = 1e-3\n",
        "epochs = 150\n",
        "opt = optimizers.Adam(lr=INIT_LR, decay=INIT_LR / epochs)\n",
        "metrics = 'categorical_accuracy'\n",
        "activation = 'sigmoid'\n",
        "loss = 'categorical_crossentropy'"
      ],
      "execution_count": 0,
      "outputs": []
    },
    {
      "cell_type": "markdown",
      "metadata": {
        "id": "z2lf8GKcXJM2",
        "colab_type": "text"
      },
      "source": [
        "###Model multi-classes classification - własny"
      ]
    },
    {
      "cell_type": "code",
      "metadata": {
        "id": "iwxU5MoBXBgL",
        "colab_type": "code",
        "colab": {}
      },
      "source": [
        "dropout_1 = 0.35\n",
        "dropout_2 = 0.3\n",
        "dropout_3 = 0.3\n",
        "dropout_4 = 0.4\n",
        "dropout_5 = 0.3\n",
        "dropout_6 = 0.25\n",
        "\n",
        "model = models.Sequential()\n",
        "model.add(layers.Conv2D(32, (3, 3), activation='relu', input_shape=(picture_size, picture_size, 3)))\n",
        "model.add(layers.MaxPool2D((2, 2)))\n",
        "model.add(layers.Dropout(dropout_1))\n",
        "\n",
        "model.add(layers.Conv2D(64, (3, 3), activation='relu'))\n",
        "model.add(layers.MaxPool2D((2, 2)))\n",
        "model.add(layers.Dropout(dropout_2))\n",
        "\n",
        "model.add(layers.Conv2D(64, (3,3), activation='relu'))\n",
        "model.add(layers.MaxPool2D((2, 2)))\n",
        "model.add(layers.Dropout(dropout_3))\n",
        "\n",
        "model.add(layers.Conv2D(128, (3,3), activation='relu'))\n",
        "model.add(layers.MaxPool2D((2, 2)))\n",
        "model.add(layers.Dropout(dropout_4))\n",
        "\n",
        "model.add(layers.Conv2D(128, (3,3), activation='relu'))\n",
        "model.add(layers.MaxPool2D((2, 2)))\n",
        "model.add(layers.Dropout(dropout_5))\n",
        "\n",
        "model.add(layers.Flatten())\n",
        "model.add(layers.Dense(1024, activation=\"relu\"))\n",
        "model.add(layers.BatchNormalization())\n",
        "model.add(layers.Dropout(dropout_6))\n",
        "model.add(layers.Dense(number_of_classes))\n",
        "model.add(layers.Activation(activation))\n",
        "\n",
        "model.compile(\n",
        "    loss=loss,\n",
        "    optimizer=opt,\n",
        "    metrics=[metrics]\n",
        "    )\n",
        "# model.summary()"
      ],
      "execution_count": 0,
      "outputs": []
    },
    {
      "cell_type": "markdown",
      "metadata": {
        "id": "Zep2Kx6fZVYp",
        "colab_type": "text"
      },
      "source": [
        "###Pretrained model"
      ]
    },
    {
      "cell_type": "code",
      "metadata": {
        "id": "kl5g-tmHZdVB",
        "colab_type": "code",
        "colab": {}
      },
      "source": [
        "from keras.applications import VGG16\n",
        "pretrain_model = VGG16(weights='imagenet',include_top=False,input_shape=(100, 100, 3))"
      ],
      "execution_count": 0,
      "outputs": []
    },
    {
      "cell_type": "code",
      "metadata": {
        "id": "z0U6jTJWZ6mm",
        "colab_type": "code",
        "colab": {}
      },
      "source": [
        "model = models.Sequential()\n",
        "model.add(pretrain_model)\n",
        "model.add(layers.Flatten())\n",
        "model.add(layers.Dense(1024, activation=\"relu\"))\n",
        "model.add(layers.BatchNormalization())\n",
        "model.add(layers.Dropout(0.2))\n",
        "model.add(layers.Dense(number_of_classes))\n",
        "model.add(layers.Activation(activation))\n",
        "model.compile(\n",
        "    loss='categorical_crossentropy',\n",
        "    optimizer=opt,\n",
        "    metrics=['acc']\n",
        "    )\n",
        "model.summary()"
      ],
      "execution_count": 0,
      "outputs": []
    },
    {
      "cell_type": "markdown",
      "metadata": {
        "id": "IkvAD2gnZd60",
        "colab_type": "text"
      },
      "source": [
        "###Fit model"
      ]
    },
    {
      "cell_type": "code",
      "metadata": {
        "id": "gBDd5q9nq23t",
        "colab_type": "code",
        "colab": {}
      },
      "source": [
        "history = model.fit_generator(\n",
        "    train_generator,\n",
        "    steps_per_epoch=100,\n",
        "    epochs=epochs,\n",
        "    validation_data=valid_generator,\n",
        "    validation_steps=50\n",
        ")\n",
        "\n",
        "\n",
        "time_stemp = time.strftime(\"%d%m%Y%H%M%S\")\n",
        "model_name = f'model_signs_{number_of_classes}_classes_{activation}_{time_stemp}.h5'\n",
        "path_to_save = \"/content/drive/My Drive/Colab Notebooks/Road_sign_rec\"\n",
        "model_path = os.path.join(path_to_save, model_name)\n",
        "model.save(model_path)\n",
        "print(f\"Saved model as {model_name}\")\n"
      ],
      "execution_count": 0,
      "outputs": []
    },
    {
      "cell_type": "markdown",
      "metadata": {
        "id": "LUtd1wwJeS4I",
        "colab_type": "text"
      },
      "source": [
        "###Sprawdzenie modelu"
      ]
    },
    {
      "cell_type": "markdown",
      "metadata": {
        "id": "h-LyI_lDeePo",
        "colab_type": "text"
      },
      "source": [
        "####Przebieg uczenia \n"
      ]
    },
    {
      "cell_type": "code",
      "metadata": {
        "id": "xgrk-WiNuPqX",
        "colab_type": "code",
        "outputId": "be862457-4bfe-4769-aeb8-0fff99a68279",
        "colab": {
          "base_uri": "https://localhost:8080/",
          "height": 865
        }
      },
      "source": [
        "fig = plt.figure(figsize=(12,6))\n",
        "plt.subplot(2,1,1)\n",
        "plt.plot(history.history['categorical_accuracy'])\n",
        "plt.plot(history.history['val_categorical_accuracy'])\n",
        "plt.title('model accuracy')\n",
        "plt.ylabel('accuracy')\n",
        "plt.xlabel('epoch')\n",
        "plt.legend(['train', 'test'], loc='lower right')\n",
        "\n",
        "plt.subplot(2,1,2)\n",
        "plt.plot(history.history['loss'])\n",
        "plt.plot(history.history['val_loss'])\n",
        "plt.title('model loss')\n",
        "plt.ylabel('loss')\n",
        "plt.xlabel('epoch')\n",
        "plt.legend(['train', 'test'], loc='upper right')\n",
        "\n",
        "plt.tight_layout()\n",
        "fig\n",
        "\n"
      ],
      "execution_count": 21,
      "outputs": [
        {
          "output_type": "execute_result",
          "data": {
            "image/png": "[encoded data removed]",
            "text/plain": [
              "<Figure size 864x432 with 2 Axes>"
            ]
          },
          "metadata": {
            "tags": []
          },
          "execution_count": 21
        },
        {
          "output_type": "display_data",
          "data": {
            "image/png": "[encoded data removed]",
            "text/plain": [
              "<Figure size 864x432 with 2 Axes>"
            ]
          },
          "metadata": {
            "tags": [],
            "needs_background": "light"
          }
        }
      ]
    },
    {
      "cell_type": "markdown",
      "metadata": {
        "id": "RfMzRbAhfC9e",
        "colab_type": "text"
      },
      "source": [
        "####Testowanie modelu"
      ]
    },
    {
      "cell_type": "code",
      "metadata": {
        "id": "SVMbtjGN4FKU",
        "colab_type": "code",
        "outputId": "83200f62-a0bf-4be0-a8de-9e14474c281f",
        "colab": {
          "base_uri": "https://localhost:8080/",
          "height": 109
        }
      },
      "source": [
        "test_datagen = ImageDataGenerator(rescale=1./255)\n",
        "\n",
        "test_generator = test_datagen.flow_from_directory(\n",
        "        test_dir,\n",
        "        target_size=(picture_size, picture_size),\n",
        "        color_mode=\"rgb\",\n",
        "        shuffle = False,\n",
        "        class_mode='categorical',\n",
        "        batch_size=1,\n",
        "        )\n",
        "\n",
        "filenames = test_generator.filenames\n",
        "classes_gen = test_generator.class_indices\n",
        "classes_gen = test_generator.class_indices\n",
        "\n",
        "loss_acc = model.evaluate(test_generator)\n",
        "print(classes_gen)\n",
        "print('loss= ', loss_acc[0])\n",
        "print(\"acc= \", loss_acc[1])"
      ],
      "execution_count": 22,
      "outputs": [
        {
          "output_type": "stream",
          "text": [
            "Found 2476 images belonging to 8 classes.\n",
            "2476/2476 [==============================] - 11s 4ms/step\n",
            "{'cross': 0, 'limit40': 1, 'limit50': 2, 'limit60': 3, 'limit70': 4, 'limit80': 5, 'nosign': 6, 'stop': 7}\n",
            "loss=  1.1920930376163597e-07\n",
            "acc=  0.9886914491653442\n"
          ],
          "name": "stdout"
        }
      ]
    },
    {
      "cell_type": "code",
      "metadata": {
        "id": "xRrryWRVsFDt",
        "colab_type": "code",
        "colab": {}
      },
      "source": [
        "predict = model.predict_generator(test_generator,steps = len(filenames))\n",
        "predict"
      ],
      "execution_count": 0,
      "outputs": []
    },
    {
      "cell_type": "code",
      "metadata": {
        "id": "nasmaaVB5sIy",
        "colab_type": "code",
        "outputId": "d9ea2653-164b-4d15-d26a-7a61b0b61ca6",
        "colab": {
          "base_uri": "https://localhost:8080/",
          "height": 183
        }
      },
      "source": [
        "from google.colab.patches import cv2_imshow\n",
        "\n",
        "signs = test_generator.class_indices\n",
        "prediction_list = []\n",
        "memo_correct_percent = {}\n",
        "for sign in signs:\n",
        "  files = os.path.join(test_dir, sign)\n",
        "  test_files = os.listdir(files)\n",
        "  incorrect = 0\n",
        "  for f in test_files:\n",
        "    path_to_test = os.path.join(files, f)\n",
        "    img = cv2.imread(path_to_test)\n",
        "    img_rgb = cv2.cvtColor(img, cv2.COLOR_BGR2RGB)\n",
        "    img_resized = cv2.resize(img_rgb,(picture_size,picture_size))\n",
        "    img_resized_float = img_resized.astype(\"float32\") / 255\n",
        "    img_tensor = np.reshape(img_resized_float,[1,picture_size,picture_size,3])\n",
        "    classes = (model.predict_classes(img_tensor)).tolist()\n",
        "    for num, class_ in enumerate(signs):\n",
        "      if classes[0] == num:\n",
        "        classes = list(signs.keys())[list(signs.values()).index(num)]\n",
        "    else:\n",
        "      classes\n",
        "    if classes != sign:\n",
        "      # cv2_imshow(img)\n",
        "      incorrect += 1 \n",
        "  corrent_percent = round(100-(incorrect/len(test_files)*100))\n",
        "  memo_correct_percent[sign] = corrent_percent\n",
        "  prediction_note = f'{sign}: {incorrect} / {len(test_files)},  Poprawność: {corrent_percent}%'\n",
        "  prediction_list.append(prediction_note)\n",
        "  print(prediction_note)\n",
        "mean_correct_percent = round(sum(memo_correct_percent.values()) / len(signs), 1)\n",
        "print(f'Średnia poprawność predykcji: {mean_correct_percent}%')"
      ],
      "execution_count": 23,
      "outputs": [
        {
          "output_type": "stream",
          "text": [
            "cross: 1 / 409,  Poprawność: 100%\n",
            "limit40: 3 / 98,  Poprawność: 97%\n",
            "limit50: 4 / 312,  Poprawność: 99%\n",
            "limit60: 3 / 191,  Poprawność: 98%\n",
            "limit70: 2 / 211,  Poprawność: 99%\n",
            "limit80: 5 / 206,  Poprawność: 98%\n",
            "nosign: 9 / 813,  Poprawność: 99%\n",
            "stop: 3 / 236,  Poprawność: 99%\n",
            "Średnia poprawność predykcji: 98.6%\n"
          ],
          "name": "stdout"
        }
      ]
    },
    {
      "cell_type": "markdown",
      "metadata": {
        "id": "WwDG6IiWVFF4",
        "colab_type": "text"
      },
      "source": [
        "###Zapis danych modelu i wyników do pliku tekstowego"
      ]
    },
    {
      "cell_type": "code",
      "metadata": {
        "id": "FgiNAOri-nSk",
        "colab_type": "code",
        "colab": {}
      },
      "source": [
        "time_date = time.strftime(\"%d/%m/%Y - %H:%M:%S\")\n",
        "with open(\"/content/drive/My Drive/Colab Notebooks/Road_sign_rec/Log_data.txt\", \"a\") as f:\n",
        "  f.write(f\"Model {time_date} \\n\")\n",
        "  f.write(f\"Funkcja aktywacji: {activation} \\n\")\n",
        "  f.write(f\"Ilość zdjęć treningowych: \\n\")\n",
        "  for key, value in train_folders_length.items():\n",
        "    f.write(f\"\\t{key}: {value}\\n\")\n",
        "  f.write(f\"Ilość zdjęć walidacyjnych: \\n\")\n",
        "  for key, value in valid_folders_length.items():\n",
        "    f.write(f\"\\t{key}: {value}\\n\")\n",
        "  f.write(f\"Parametry:\\n \\tEpochs: {epochs}\\n \\tMetrics: {metrics}\\n \\tLoss: {loss}\\n \\tClassification: {class_mode} \\n\")\n",
        "  f.write(f\"\\tBatch size: {batch_size}\\n\")\n",
        "  f.write(f\"\\tWielkość zdjęć: {picture_size}x{picture_size}px\\n\")\n",
        "  f.write(f\"\\tIlość warstw modelu: {len(model.layers)}\\n\")\n",
        "  f.write(f\"\\tDropout: 1 - {dropout_1}; 2 - {dropout_2}; 3 - {dropout_3}; 4 - {dropout_4}; 5 - {dropout_5}; 6 - {dropout_6}\\n\")\n",
        "  f.write(\"\\n\")\n",
        "  f.write(\"Wyniki: \\n\")\n",
        "  f.write(f\"\\tSTRATA [loss]: {loss_acc[0]}\\n\")\n",
        "  f.write(f\"\\tDOKŁADNOŚĆ [acc]: {loss_acc[1]}\\n\")\n",
        "  f.write(f\"\\tIlość zdjęć testowych: {len(test_generator.filenames)}\\n\")\n",
        "  for prediction in prediction_list:\n",
        "    f.write(f\"\\t{prediction}\\n\")\n",
        "  f.write(f\"Średnia poprawność manualnej predykcji: {mean_correct_percent}%\")\n",
        "  f.write(f\"Nazwa pliku: {model_name}\")\n",
        "  f.write(\"\\n\")\n",
        "  f.write(\"-------------------------------------------------------------\")\n",
        "  f.write(\"\\n\\n\")\n"
      ],
      "execution_count": 0,
      "outputs": []
    },
    {
      "cell_type": "markdown",
      "metadata": {
        "id": "57sqxKgIeiIU",
        "colab_type": "text"
      },
      "source": [
        "###Zapis modelu (.json) i wag (.h5)"
      ]
    },
    {
      "cell_type": "code",
      "metadata": {
        "id": "jViqYOilFGvH",
        "colab_type": "code",
        "colab": {}
      },
      "source": [
        "model_name_json = 'model_5conv.json'\n",
        "model_path = os.path.join(base_dir, model_name_json)\n",
        "json_config = model.to_json()\n",
        "with open(model_path, 'w') as json_file:\n",
        "    json_file.write(json_config)"
      ],
      "execution_count": 0,
      "outputs": []
    },
    {
      "cell_type": "code",
      "metadata": {
        "id": "HQh5u5qc36F4",
        "colab_type": "code",
        "colab": {}
      },
      "source": [
        "model_name = 'model_signs_4_classes.h5'\n",
        "model_path = os.path.join(base_dir, model_name)\n",
        "model.save(model_path)"
      ],
      "execution_count": 0,
      "outputs": []
    },
    {
      "cell_type": "code",
      "metadata": {
        "id": "ckNC7f9KaBfo",
        "colab_type": "code",
        "colab": {}
      },
      "source": [
        "model_name = 'model_signs_4_multi_classes_softmax.h5'\n",
        "model_path = os.path.join(base_dir, model_name)\n",
        "model.save(model_path)"
      ],
      "execution_count": 0,
      "outputs": []
    },
    {
      "cell_type": "code",
      "metadata": {
        "id": "1EtyyAH1Tx4m",
        "colab_type": "code",
        "colab": {}
      },
      "source": [
        "model_name = 'model_signs_4_multi_classes_sigmoid.h5'\n",
        "model_path = os.path.join(base_dir, model_name)\n",
        "model.save(model_path)"
      ],
      "execution_count": 0,
      "outputs": []
    },
    {
      "cell_type": "code",
      "metadata": {
        "id": "hOS4hhKMOe6U",
        "colab_type": "code",
        "colab": {}
      },
      "source": [
        "model.load_weights('/content/drive/My Drive/Colab Notebooks/Road_sign_rec/model_signs_9_classe_sigmoid_23052020.h5')"
      ],
      "execution_count": 0,
      "outputs": []
    },
    {
      "cell_type": "code",
      "metadata": {
        "id": "vhEm1sl86NmF",
        "colab_type": "code",
        "colab": {}
      },
      "source": [
        "figure = plt.figure()\n",
        "files = os.path.join(test_dir, 'cross')\n",
        "test_files = os.listdir(files)\n",
        "path_to_test = os.path.join(files, test_files[100])\n",
        "img = cv2.imread(path_to_test)\n",
        "img = cv2.cvtColor(img, cv2.COLOR_BGR2RGB)\n",
        "img = cv2.resize(img,(picture_size,picture_size))\n",
        "plt.imshow(img)\n",
        "plt.show()\n"
      ],
      "execution_count": 0,
      "outputs": []
    },
    {
      "cell_type": "markdown",
      "metadata": {
        "id": "0qGf-UsIqdzp",
        "colab_type": "text"
      },
      "source": [
        "###Poprzednie wyniki do porównania"
      ]
    },
    {
      "cell_type": "code",
      "metadata": {
        "id": "GUMJSf5G15Vw",
        "colab_type": "code",
        "colab": {}
      },
      "source": [
        "Sigmoid 04062020\n",
        "acc=  0.9838449358940125\n",
        "cross: 2 / 409,  Correct: 100%\n",
        "limit40: 4 / 98,  Correct: 96%\n",
        "limit50: 3 / 312,  Correct: 99%\n",
        "limit60: 7 / 191,  Correct: 96%\n",
        "limit70: 3 / 211,  Correct: 99%\n",
        "limit80: 4 / 206,  Correct: 98%\n",
        "nosign: 12 / 813,  Correct: 99%\n",
        "stop: 3 / 236,  Correct: 99%\n",
        "Mean correct predict: 98.2%\n",
        "\n",
        "\n",
        "Softmax 03062020 - zmian pic size + nowe zdjecia\n",
        "acc=  0.9818255305290222\n",
        "cross: 4 / 409,  Correct: 99%\n",
        "limit40: 6 / 98,  Correct: 94%\n",
        "limit50: 9 / 312,  Correct: 97%\n",
        "limit60: 6 / 191,  Correct: 97%\n",
        "limit70: 4 / 211,  Correct: 98%\n",
        "limit80: 8 / 206,  Correct: 96%\n",
        "nosign: 7 / 813,  Correct: 99%\n",
        "stop: 4 / 236,  Correct: 98%\n",
        "Mean correct predict: 97.2%\n",
        "\n",
        "Softmax 03062020 - zmian pic size + zmian parametrow imagegeneratora\n",
        "cross: 5 / 388,  Correct: 99%\n",
        "limit40: 2 / 98,  Correct: 98%\n",
        "limit50: 5 / 111,  Correct: 95%\n",
        "limit60: 6 / 65,  Correct: 91%\n",
        "limit70: 4 / 34,  Correct: 88%\n",
        "limit80: 5 / 41,  Correct: 88%\n",
        "nosign: 8 / 813,  Correct: 99%\n",
        "stop: 4 / 167,  Correct: 98%\n",
        "Mean correct predict: 94.5%\n",
        "\n",
        "Softmax 03062020 - zmian pic size\n",
        "acc=  0.9807804226875305\n",
        "cross: 2 / 388,  Correct: 99%\n",
        "limit40: 3 / 98,  Correct: 97%\n",
        "limit50: 2 / 111,  Correct: 98%\n",
        "limit60: 6 / 65,  Correct: 91%\n",
        "limit70: 3 / 34,  Correct: 91%\n",
        "limit80: 3 / 41,  Correct: 93%\n",
        "nosign: 8 / 813,  Correct: 99%\n",
        "stop: 3 / 167,  Correct: 98%\n",
        "Mean correct predict: 95.8%\n",
        "\n",
        "Softmax 03062020\n",
        "acc=  0.9749563336372375\n",
        "cross: 6 / 388,  Correct: 98%\n",
        "limit40: 2 / 98,  Correct: 98%\n",
        "limit50: 6 / 111,  Correct: 95%\n",
        "limit60: 8 / 65,  Correct: 88%\n",
        "limit70: 6 / 34,  Correct: 82%\n",
        "limit80: 7 / 41,  Correct: 83%\n",
        "nosign: 9 / 813,  Correct: 99%\n",
        "stop: 3 / 167,  Correct: 98%\n",
        "Mean correct predict: 92.6%\n",
        "\n",
        "# Sigmoin 26052020:\n",
        "cross: 4 / 388,  Correct: 99%\n",
        "limit40: 3 / 98,  Correct: 97%\n",
        "limit50: 6 / 111,  Correct: 95%\n",
        "limit60: 6 / 65,  Correct: 91%\n",
        "limit70: 4 / 34,  Correct: 88%\n",
        "limit80: 6 / 41,  Correct: 85%\n",
        "nosign: 5 / 813,  Correct: 99%\n",
        "stop: 2 / 167,  Correct: 99%\n",
        "Mean correct predict: 94.1%\n"
      ],
      "execution_count": 0,
      "outputs": []
    },
    {
      "cell_type": "markdown",
      "metadata": {
        "id": "PnSDOcbQfK8H",
        "colab_type": "text"
      },
      "source": [
        "##Detekcja wideo"
      ]
    },
    {
      "cell_type": "markdown",
      "metadata": {
        "id": "NXyERENbfP4x",
        "colab_type": "text"
      },
      "source": [
        "###Pliki i ścieżki"
      ]
    },
    {
      "cell_type": "code",
      "metadata": {
        "id": "PzK868vIbIxu",
        "colab_type": "code",
        "outputId": "22a847f0-6536-4ce1-c7c6-e06a9db1feaf",
        "colab": {
          "base_uri": "https://localhost:8080/",
          "height": 34
        }
      },
      "source": [
        "video_path_input_directory = '/content/drive/My Drive/Colab Notebooks/Road_sign_rec/Input'\n",
        "video_file_name = 'warsaw_drive_test.mp4'\n",
        "video_path_file = os.path.join(video_path_input_directory, video_file_name)\n",
        "video_path_output = '/content/drive/My Drive/Colab Notebooks/Road_sign_rec/Output'\n",
        "print(video_path_file)\n",
        "from google.colab.patches import cv2_imshow"
      ],
      "execution_count": 0,
      "outputs": [
        {
          "output_type": "stream",
          "text": [
            "/content/drive/My Drive/Colab Notebooks/Road_sign_rec/Input/warsaw_drive_test.mp4\n"
          ],
          "name": "stdout"
        }
      ]
    },
    {
      "cell_type": "code",
      "metadata": {
        "id": "6MjRwu8HcBue",
        "colab_type": "code",
        "colab": {}
      },
      "source": [
        "  ss = cv2.ximgproc.segmentation.createSelectiveSearchSegmentation()\n",
        "  cap = cv2.VideoCapture(video_path_file)\n",
        "  video_length = int(cap.get(cv2.CAP_PROP_FRAME_COUNT))\n",
        "  cap_video_fps = int(cap.get(cv2.CAP_PROP_FPS))\n",
        "  cap_video_width = int(cap.get(cv2.CAP_PROP_FRAME_WIDTH))\n",
        "  cap_video_height = int(cap.get(cv2.CAP_PROP_FRAME_HEIGHT))\n",
        "  print(\"FPS\", cap_video_fps)\n",
        "  print(\"Length\", video_length)\n",
        "  writer = None\n",
        "  (W, H) = (None, None)\n",
        "  mean = np.array([100, 100, 100], dtype=\"float32\")\n",
        "  i = 0\n",
        "  while True:\n",
        "      i += 1\n",
        "      print(f'{i} / {video_length}')\n",
        "      (grabbed, frame) = cap.read()\n",
        "      if not grabbed:\n",
        "          break\n",
        "      if W is None or H is None:\n",
        "          (H, W) = frame.shape[:2]\n",
        "      output = frame.copy()\n",
        "      ss.setBaseImage(output)\n",
        "      try:\n",
        "        ss.switchToSelectiveSearchFast()\n",
        "      except cv2.error:\n",
        "        break\n",
        "      ssresults = ss.process()\n",
        "      for w, result in enumerate(ssresults):\n",
        "          if w < 2000:\n",
        "              x, y, w, h = result\n",
        "              timage = output[y:y+h, x:x+w]\n",
        "              resized = cv2.resize(timage, (100, 100), interpolation=cv2.INTER_AREA)\n",
        "              resized = resized - mean\n",
        "              img = np.expand_dims(resized, axis=0)\n",
        "              out = model.predict(img/255.0, batch_size=10)\n",
        "              if out[0][0] >= 0.99:\n",
        "                  cv2.rectangle(output, (x, y), (x+w, y+h), (0, 255, 0), 1, cv2.LINE_AA)\n",
        "      if writer is None:\n",
        "          fourcc = cv2.VideoWriter_fourcc(*\"MJPG\")\n",
        "          writer = cv2.VideoWriter('Output/out_video.mp4', \n",
        "                                   fourcc, \n",
        "                                   30,\n",
        "                                   (W, H), \n",
        "                                   True,\n",
        "                                   )\n",
        "      writer.write(output)\n",
        "      cv2_imshow(output)\n",
        "  print(\"__END__\")"
      ],
      "execution_count": 0,
      "outputs": []
    }
  ]
}