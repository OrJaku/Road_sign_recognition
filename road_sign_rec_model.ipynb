{
  "nbformat": 4,
  "nbformat_minor": 0,
  "metadata": {
    "colab": {
      "name": "road_sign_rec_model.ipynb",
      "provenance": [],
      "collapsed_sections": [
        "hfqmdzzsfq81",
        "Vv-DHfNSpk4I"
      ],
      "mount_file_id": "1boPHgyMz_HPFVyOHPW7kt2nrZBDBJubM",
      "authorship_tag": "ABX9TyOLSxz+CLpNANCuuL7CXusD",
      "include_colab_link": true
    },
    "kernelspec": {
      "name": "python3",
      "display_name": "Python 3"
    },
    "accelerator": "GPU"
  },
  "cells": [
    {
      "cell_type": "markdown",
      "metadata": {
        "id": "view-in-github",
        "colab_type": "text"
      },
      "source": [
        "<a href=\"https://colab.research.google.com/github/OrJaku/road-sign-recognition/blob/master/road_sign_rec_model.ipynb\" target=\"_parent\"><img src=\"https://colab.research.google.com/assets/colab-badge.svg\" alt=\"Open In Colab\"/></a>"
      ]
    },
    {
      "cell_type": "markdown",
      "metadata": {
        "id": "A1BoHNMscLwp",
        "colab_type": "text"
      },
      "source": [
        "##Biblioteki"
      ]
    },
    {
      "cell_type": "code",
      "metadata": {
        "id": "yILZf6IzcwYp",
        "colab_type": "code",
        "colab": {}
      },
      "source": [
        "import os, shutil, cv2, json\n",
        "import pandas as pd\n",
        "import numpy as np\n",
        "from keras import layers, models, optimizers, metrics\n",
        "from keras.preprocessing.image import ImageDataGenerator\n",
        "import matplotlib\n",
        "matplotlib.use('agg')\n",
        "import matplotlib.pyplot as plt\n",
        "import matplotlib.image as mpimg \n",
        "import time\n"
      ],
      "execution_count": null,
      "outputs": []
    },
    {
      "cell_type": "markdown",
      "metadata": {
        "id": "YGc8PWa5cM-H",
        "colab_type": "text"
      },
      "source": [
        "## Pliki"
      ]
    },
    {
      "cell_type": "code",
      "metadata": {
        "id": "5yI9rJmbZMNh",
        "colab_type": "code",
        "colab": {
          "base_uri": "https://localhost:8080/",
          "height": 54
        },
        "outputId": "d7c3da75-a963-42e8-912c-6718fa97b4ef"
      },
      "source": [
        "cd \"/content/drive/My Drive/Colab Notebooks/Road_sign_rec\""
      ],
      "execution_count": 1,
      "outputs": [
        {
          "output_type": "stream",
          "text": [
            "/content/drive/My Drive/Colab Notebooks/Road_sign_rec\n"
          ],
          "name": "stdout"
        }
      ]
    },
    {
      "cell_type": "code",
      "metadata": {
        "id": "IJjxYF4Yxlms",
        "colab_type": "code",
        "colab": {
          "base_uri": "https://localhost:8080/",
          "height": 34
        },
        "outputId": "f06d54b1-63fd-4ec4-d4bc-523ff462f0b9"
      },
      "source": [
        "cd \"/content/drive/My Drive/Colab Notebooks/Road_sign_rec/data\""
      ],
      "execution_count": null,
      "outputs": [
        {
          "output_type": "stream",
          "text": [
            "/content/drive/My Drive/Colab Notebooks/Road_sign_rec/data\n"
          ],
          "name": "stdout"
        }
      ]
    },
    {
      "cell_type": "code",
      "metadata": {
        "id": "EMokUffyxdg3",
        "colab_type": "code",
        "colab": {}
      },
      "source": [
        "from google.colab import files\n",
        "\n",
        "uploaded = files.upload()"
      ],
      "execution_count": null,
      "outputs": []
    },
    {
      "cell_type": "markdown",
      "metadata": {
        "id": "GBHKh-2fcYq8",
        "colab_type": "text"
      },
      "source": [
        "### Kopiowanie obrazów treningowych na dysk Colab"
      ]
    },
    {
      "cell_type": "code",
      "metadata": {
        "id": "RvxjUGItyVkF",
        "colab_type": "code",
        "colab": {
          "base_uri": "https://localhost:8080/",
          "height": 34
        },
        "outputId": "211e6dec-001d-4a83-c6fb-7591544f5328"
      },
      "source": [
        "cd \"/content\""
      ],
      "execution_count": null,
      "outputs": [
        {
          "output_type": "stream",
          "text": [
            "/content\n"
          ],
          "name": "stdout"
        }
      ]
    },
    {
      "cell_type": "code",
      "metadata": {
        "id": "_rZWntpHya4K",
        "colab_type": "code",
        "colab": {}
      },
      "source": [
        "try:\n",
        "  os.mkdir(\"data\")\n",
        "except FileExistsError:\n",
        "  pass\n",
        "!cp \"/content/drive/My Drive/Colab Notebooks/Road_sign_rec/Data/Dataset_extend_zip.zip\" \"/content/data/Dataset_extend_zip.zip\""
      ],
      "execution_count": null,
      "outputs": []
    },
    {
      "cell_type": "code",
      "metadata": {
        "id": "lOPH5wcOzQWF",
        "colab_type": "code",
        "colab": {
          "base_uri": "https://localhost:8080/",
          "height": 34
        },
        "outputId": "8a9660e9-67a8-4cf7-88e3-bcb24c911c3c"
      },
      "source": [
        "cd data"
      ],
      "execution_count": null,
      "outputs": [
        {
          "output_type": "stream",
          "text": [
            "/content/data\n"
          ],
          "name": "stdout"
        }
      ]
    },
    {
      "cell_type": "code",
      "metadata": {
        "id": "09hioilizA-l",
        "colab_type": "code",
        "colab": {}
      },
      "source": [
        "!unzip -q Dataset_extend_zip.zip"
      ],
      "execution_count": null,
      "outputs": []
    },
    {
      "cell_type": "code",
      "metadata": {
        "id": "lW7wOoYWzEzS",
        "colab_type": "code",
        "colab": {
          "base_uri": "https://localhost:8080/",
          "height": 71
        },
        "outputId": "616aa0dd-944b-45ab-be6d-d4d4b9dcebac"
      },
      "source": [
        "data_folder = \"/content/data/Data\"\n",
        "train_folder = os.path.join(data_folder, 'train_data')\n",
        "signs_list_train = os.listdir(train_folder)\n",
        "train_folders_length = {}\n",
        "for signs_train in signs_list_train:\n",
        "  train_folders_length[signs_train] = len(os.listdir(os.path.join(train_folder, signs_train)))\n",
        "print(train_folders_length)\n",
        "valid_folder = os.path.join(data_folder, 'valid_data')\n",
        "signs_list_valid = os.listdir(valid_folder)\n",
        "valid_folders_length = {}\n",
        "for signs_val in signs_list_valid:\n",
        "  valid_folders_length[signs_val] = len(os.listdir(os.path.join(valid_folder, signs_val)))\n",
        "print(valid_folders_length)"
      ],
      "execution_count": null,
      "outputs": [
        {
          "output_type": "stream",
          "text": [
            "{'limit80': 1236, 'limit70': 1264, 'stop': 1314, 'cross': 1326, 'limit40': 586, 'limit50': 1606, 'othersign': 786, 'yield': 1665, 'nosign': 6036, 'limit60': 1144}\n",
            "{'limit80': 618, 'limit70': 633, 'stop': 506, 'cross': 663, 'limit40': 294, 'limit50': 803, 'othersign': 393, 'yield': 832, 'nosign': 2575, 'limit60': 573}\n"
          ],
          "name": "stdout"
        }
      ]
    },
    {
      "cell_type": "markdown",
      "metadata": {
        "id": "L97BfvTNfVIG",
        "colab_type": "text"
      },
      "source": [
        "### Przygotowanie folderów"
      ]
    },
    {
      "cell_type": "code",
      "metadata": {
        "id": "gLFz7U1VZXQ2",
        "colab_type": "code",
        "colab": {}
      },
      "source": [
        "base_dir = \"Data/\"\n",
        "train_dir = os.path.join(base_dir, 'train_data')\n",
        "try:\n",
        "  os.mkdir(train_dir)\n",
        "except FileExistsError:\n",
        "  pass\n",
        "cross_train =  os.path.join(train_dir, 'cross')\n",
        "stop_train =  os.path.join(train_dir, 'stop')\n",
        "limit50_train =  os.path.join(train_dir, 'limit50')\n",
        "nosign_train =  os.path.join(train_dir, 'nosign')\n",
        "try:\n",
        "  os.mkdir(nosign_train)\n",
        "except FileExistsError:\n",
        "  pass\n",
        "try:\n",
        "  os.mkdir(cross_train)\n",
        "except FileExistsError:\n",
        "  pass\n",
        "try:\n",
        "  os.mkdir(stop_train)\n",
        "except FileExistsError:\n",
        "  pass\n",
        "try:\n",
        "  os.mkdir(limit50_train)\n",
        "except FileExistsError:\n",
        "  pass\n",
        "\n",
        "valid_dir = os.path.join(base_dir, 'valid_data')\n",
        "try:\n",
        "  os.mkdir(valid_dir)\n",
        "except FileExistsError:\n",
        "  pass\n",
        "\n",
        "cross_val =  os.path.join(valid_dir, 'cross')\n",
        "stop_val =  os.path.join(valid_dir, 'stop')\n",
        "limit50_val =  os.path.join(valid_dir, 'limit50')\n",
        "nosign_val =  os.path.join(valid_dir, 'nosign')\n",
        "\n",
        "try:\n",
        "  os.mkdir(nosign_val)\n",
        "except FileExistsError:\n",
        "  pass\n",
        "try:\n",
        "  os.mkdir(cross_val)\n",
        "except FileExistsError:\n",
        "  pass\n",
        "try:\n",
        "  os.mkdir(stop_val)\n",
        "except FileExistsError:\n",
        "  pass\n",
        "try:\n",
        "  os.mkdir(limit50_val)\n",
        "except FileExistsError:\n",
        "  pass\n",
        "\n",
        "test_dir = os.path.join(base_dir, 'test_data')\n",
        "try:\n",
        "  os.mkdir(test_dir)\n",
        "except FileExistsError:\n",
        "  pass\n",
        "\n",
        "cross_test =  os.path.join(test_dir, 'cross')\n",
        "stop_test =  os.path.join(test_dir, 'stop')\n",
        "limit50_test =  os.path.join(test_dir, 'limit50')\n",
        "limit40_test =  os.path.join(test_dir, 'limit40')\n",
        "limit60_test =  os.path.join(test_dir, 'limit60')\n",
        "limit70_test =  os.path.join(test_dir, 'limit70')\n",
        "limit80_test =  os.path.join(test_dir, 'limit80')\n",
        "limit100_test =  os.path.join(test_dir, 'limit100')\n",
        "yield_test =  os.path.join(test_dir, 'yield')\n",
        "nosign_test =  os.path.join(test_dir, 'nosign')\n",
        "othersign_test =  os.path.join(test_dir, 'othersign')\n",
        "\n"
      ],
      "execution_count": null,
      "outputs": []
    },
    {
      "cell_type": "markdown",
      "metadata": {
        "id": "B6C9ZXIjfdnm",
        "colab_type": "text"
      },
      "source": [
        "#### Ilość poszczegónych zdjęć"
      ]
    },
    {
      "cell_type": "code",
      "metadata": {
        "id": "E34aEB7Obpkm",
        "colab_type": "code",
        "colab": {}
      },
      "source": [
        "# cross_origin_path = os.path.abspath(\"/content/drive/My Drive/Colab Notebooks/Road_sign_rec/Data/information--pedestrians-crossing--g1/\")\n",
        "# stop_origin_path = os.path.abspath(\"/content/drive/My Drive/Colab Notebooks/Road_sign_rec/Data/regulatory--stop--g1\")\n",
        "# limit50_origin_path = os.path.abspath(\"/content/drive/My Drive/Colab Notebooks/Road_sign_rec/Data/regulatory--maximum-speed-limit-50--g1\")\n",
        "# nosign_path = os.path.abspath(\"/content/drive/My Drive/Colab Notebooks/Road_sign_rec/Data/NoSign\")\n",
        "# nosign_path_2 = os.path.abspath(\"/content/drive/My Drive/Colab Notebooks/Road_sign_rec/Data/NoSign2\")\n",
        "\n",
        "\n",
        "\n",
        "# print('Przejscie dla piszych: ',len(os.listdir(cross_origin_path)))\n",
        "# print('Stop: ', len(os.listdir(stop_origin_path)))\n",
        "# print('Ograniczenie do 50km/h: ', len(os.listdir(limit50_origin_path)))\n",
        "# number_of_nosign = len(os.listdir(nosign_path)) + len(os.listdir(nosign_path_2))\n",
        "# print('Brak znaku', number_of_nosign)\n"
      ],
      "execution_count": null,
      "outputs": []
    },
    {
      "cell_type": "markdown",
      "metadata": {
        "id": "hfqmdzzsfq81",
        "colab_type": "text"
      },
      "source": [
        "#### Kopowanie i podział zdjęć na treningowe, walidacyjne i testowe\n",
        "\n",
        "---\n",
        "\n"
      ]
    },
    {
      "cell_type": "code",
      "metadata": {
        "id": "Os4zVKiofTDn",
        "colab_type": "code",
        "colab": {
          "base_uri": "https://localhost:8080/",
          "height": 86
        },
        "outputId": "88e0eb4d-5e30-420a-e687-faa1b92ccce6"
      },
      "source": [
        "\n",
        "# # train cross\n",
        "# for image_name in os.listdir(cross_origin_path)[0:1200]:\n",
        "#   src = os.path.join(cross_origin_path, image_name)\n",
        "#   dst = os.path.join(cross_train, image_name)\n",
        "#   shutil.copyfile(src, dst)\n",
        "# print(\"train cross copied\")\n",
        "\n",
        "# # validation cross\n",
        "# for image_name in os.listdir(cross_origin_path)[1200:1800]:\n",
        "#   src = os.path.join(cross_origin_path, image_name)\n",
        "#   dst = os.path.join(cross_val, image_name)\n",
        "#   shutil.copyfile(src, dst)\n",
        "# print(\"validation cross copied\")\n",
        "\n",
        "# # test cross\n",
        "# for image_name in os.listdir(cross_origin_path)[1800:]:\n",
        "#   src = os.path.join(cross_origin_path, image_name)\n",
        "#   dst = os.path.join(cross_test, image_name)\n",
        "#   shutil.copyfile(src, dst)\n",
        "# print(\"test cross copied\")\n",
        "\n",
        "# ##################################\n",
        "\n",
        "# # train stop\n",
        "# i=0\n",
        "# for image_name in os.listdir(stop_origin_path)[0:900]:\n",
        "#   i =+ 1\n",
        "#   src = os.path.join(stop_origin_path, image_name)\n",
        "#   dst = os.path.join(stop_train, image_name)\n",
        "#   shutil.copyfile(src, dst)\n",
        "#   if i == 200 or i == 400 or i == 700:\n",
        "#     print(f\"Copied {i} \")\n",
        "# print(\"train stop copied\")\n",
        "\n",
        "\n",
        "# # validation stop\n",
        "# for image_name in os.listdir(stop_origin_path)[901:1200]:\n",
        "#   src = os.path.join(stop_origin_path, image_name)\n",
        "#   dst = os.path.join(stop_val, image_name)\n",
        "#   shutil.copyfile(src, dst)\n",
        "#   if i == 1050:\n",
        "#     print(f\"Copied {i} \")\n",
        "# print(\"validation stop copied\")\n",
        "\n",
        "# # test stop\n",
        "# for image_name in os.listdir(stop_origin_path)[1201:]:\n",
        "#   src = os.path.join(stop_origin_path, image_name)\n",
        "#   dst = os.path.join(stop_test, image_name)\n",
        "#   shutil.copyfile(src, dst)\n",
        "#   if i == 1300:\n",
        "#     print(f\"Copied {i} \")\n",
        "# print(\"test stop copied\")\n",
        "\n",
        "\n",
        "# ##########################\n",
        "\n",
        "# # train limit50\n",
        "# for image_name in os.listdir(limit50_origin_path)[0:400]:\n",
        "#   src = os.path.join(limit50_origin_path, image_name)\n",
        "#   dst = os.path.join(limit50_train, image_name)\n",
        "#   shutil.copyfile(src, dst)\n",
        "# print(\"train limit50 copied\")\n",
        "\n",
        "# # validation limit50\n",
        "# for image_name in os.listdir(limit50_origin_path)[400:600]:\n",
        "#   src = os.path.join(limit50_origin_path, image_name)\n",
        "#   dst = os.path.join(limit50_val, image_name)\n",
        "#   shutil.copyfile(src, dst)\n",
        "# print(\"validation limit50 copied\")\n",
        "\n",
        "# # test limit50\n",
        "# for image_name in os.listdir(limit50_origin_path)[600:]:\n",
        "#   src = os.path.join(limit50_origin_path, image_name)\n",
        "#   dst = os.path.join(limit50_test, image_name)\n",
        "#   shutil.copyfile(src, dst)\n",
        "# print(\"test limit50 copied\")\n",
        "\n",
        "\n",
        "# #########################\n",
        "\n",
        "\n",
        "# # train NoSign\n",
        "# for image_name in os.listdir(nosign_path)[0:1300]:\n",
        "#   src = os.path.join(nosign_path, image_name)\n",
        "#   dst = os.path.join(nosign_train, image_name)\n",
        "#   shutil.copyfile(src, dst)\n",
        "# print(\"train NoSign copied\")\n",
        "\n",
        "# # validation NoSign\n",
        "# for image_name in os.listdir(nosign_path)[1300:1700]:\n",
        "#   src = os.path.join(nosign_path, image_name)\n",
        "#   dst = os.path.join(nosign_val, image_name)\n",
        "#   shutil.copyfile(src, dst)\n",
        "# print(\"validation NoSign copied\")\n",
        "\n",
        "# # test NoSign\n",
        "# for image_name in os.listdir(nosign_path)[1700:]:\n",
        "#   src = os.path.join(nosign_path, image_name)\n",
        "#   dst = os.path.join(nosign_test, image_name)\n",
        "#   shutil.copyfile(src, dst)\n",
        "# print(\"test NoSign copied\")\n",
        "\n",
        "\n",
        "# # train NoSign2\n",
        "# for image_name in os.listdir(nosign_path_2)[0:1300]:\n",
        "#   src = os.path.join(nosign_path_2, image_name)\n",
        "#   dst = os.path.join(nosign_train, image_name)\n",
        "#   shutil.copyfile(src, dst)\n",
        "# print(\"train NoSign2 copied\")\n",
        "\n",
        "# # validation NoSign2\n",
        "# for image_name in os.listdir(nosign_path_2)[1300:1700]:\n",
        "#   src = os.path.join(nosign_path_2, image_name)\n",
        "#   dst = os.path.join(nosign_val, image_name)\n",
        "#   shutil.copyfile(src, dst)\n",
        "# print(\"validation NoSign2 copied\")\n",
        "\n",
        "# # test NoSign2\n",
        "# for image_name in os.listdir(nosign_path_2)[1700:]:\n",
        "#   src = os.path.join(nosign_path_2, image_name)\n",
        "#   dst = os.path.join(nosign_test, image_name)\n",
        "#   shutil.copyfile(src, dst)\n",
        "# print(\"test NoSign2 copied\")\n",
        "\n",
        "\n"
      ],
      "execution_count": null,
      "outputs": [
        {
          "output_type": "stream",
          "text": [
            "train cross copied\n",
            "validation cross copied\n",
            "test cross copied\n",
            "train stop copied\n"
          ],
          "name": "stdout"
        }
      ]
    },
    {
      "cell_type": "markdown",
      "metadata": {
        "id": "Vv-DHfNSpk4I",
        "colab_type": "text"
      },
      "source": [
        "#### Przekształcanie plików .jpg na tensory - test"
      ]
    },
    {
      "cell_type": "code",
      "metadata": {
        "id": "zmlQShw9k4Eh",
        "colab_type": "code",
        "colab": {}
      },
      "source": [
        "# datagen = ImageDataGenerator(rotation_range=40,\n",
        "#                              width_shift_range=0.2,\n",
        "#                              height_shift_range=0.2,\n",
        "#                              shear_range=0.2,\n",
        "#                              zoom_range=0.2,\n",
        "#                              horizontal_flip=True,\n",
        "#                              fill_mode='nearest') \n",
        "                                  "
      ],
      "execution_count": null,
      "outputs": []
    },
    {
      "cell_type": "code",
      "metadata": {
        "id": "66_xfeCyomy5",
        "colab_type": "code",
        "colab": {}
      },
      "source": [
        "# from keras.preprocessing import image\n",
        "\n",
        "# figure = plt.figure()\n",
        "# fnames = [os.path.join(cross_train, fname) for fname in os.listdir(cross_train)]\n",
        "# img_path = fnames[3]\n",
        "# print(img_path)\n",
        "# img = image.load_img(img_path, target_size=(100, 100))\n",
        "# plt.imshow(img)\n",
        "# x = image.img_to_array(img)\n",
        "# x = x.reshape((1,) + x.shape)\n",
        "# i=1\n",
        "# for batch in datagen.flow(x, batch_size=1):\n",
        "#   plt.subplot(2, 3, i+0)\n",
        "#   plt\n",
        "#   plt.imshow(image.array_to_img(batch[0]))\n",
        "#   i+=1\n",
        "#   if i%5==0:\n",
        "#     break\n",
        "\n",
        "# plt.show()\n",
        "# figure"
      ],
      "execution_count": null,
      "outputs": []
    },
    {
      "cell_type": "code",
      "metadata": {
        "id": "5nWpnNouvnEI",
        "colab_type": "code",
        "colab": {}
      },
      "source": [
        "# figure = plt.figure()\n",
        "# fnames = [os.path.join(cross_train, fname) for fname in os.listdir(cross_train)]\n",
        "# img_path = fnames[3]\n",
        "# print(img_path)\n",
        "# img = image.load_img(img_path, target_size=(100, 100))\n",
        "# plt.imshow(img)\n",
        "# figure"
      ],
      "execution_count": null,
      "outputs": []
    },
    {
      "cell_type": "markdown",
      "metadata": {
        "id": "pPa9uA1YdV8D",
        "colab_type": "text"
      },
      "source": [
        "##Modele"
      ]
    },
    {
      "cell_type": "markdown",
      "metadata": {
        "id": "ofyIFmX1dnj7",
        "colab_type": "text"
      },
      "source": [
        "###Przygotowanie parametrów"
      ]
    },
    {
      "cell_type": "markdown",
      "metadata": {
        "id": "XgLfl0i-dLft",
        "colab_type": "text"
      },
      "source": [
        "####Ustawienia genereatora zdjęć"
      ]
    },
    {
      "cell_type": "code",
      "metadata": {
        "id": "EDi-Uu2-pkJX",
        "colab_type": "code",
        "colab": {
          "base_uri": "https://localhost:8080/",
          "height": 51
        },
        "outputId": "862aabf2-ada6-4e7e-b780-c2e5376ab5e1"
      },
      "source": [
        "batch_size = 64\n",
        "picture_size = 96\n",
        "class_mode = \"categorical\"\n",
        "\n",
        "train_datagen = ImageDataGenerator(rescale=1./255,\n",
        "                                  rotation_range=10,\n",
        "                                  width_shift_range=0.2,\n",
        "                                  height_shift_range=0.2,\n",
        "                                  shear_range=0.2,\n",
        "                                  zoom_range=0.3,\n",
        "                                  horizontal_flip=False,\n",
        "                                  vertical_flip=False,                                   \n",
        "                                  fill_mode='nearest')\n",
        "valid_datagen = ImageDataGenerator(rescale=1./255)\n",
        "\n",
        "train_generator = train_datagen.flow_from_directory(\n",
        "    train_dir,\n",
        "    target_size = (picture_size,picture_size),\n",
        "    batch_size = batch_size,\n",
        "    class_mode = class_mode\n",
        ")\n",
        "\n",
        "valid_generator = valid_datagen.flow_from_directory(\n",
        "    valid_dir,\n",
        "    target_size = (picture_size,picture_size),\n",
        "    batch_size = batch_size,\n",
        "    class_mode = class_mode\n",
        "\n",
        ")\n",
        "number_of_classes = len(train_generator.class_indices)"
      ],
      "execution_count": null,
      "outputs": [
        {
          "output_type": "stream",
          "text": [
            "Found 16963 images belonging to 10 classes.\n",
            "Found 7890 images belonging to 10 classes.\n"
          ],
          "name": "stdout"
        }
      ]
    },
    {
      "cell_type": "markdown",
      "metadata": {
        "id": "NYdvsc8NdeCS",
        "colab_type": "text"
      },
      "source": [
        "####Parametry modelu"
      ]
    },
    {
      "cell_type": "code",
      "metadata": {
        "id": "PgyduY3d4oUo",
        "colab_type": "code",
        "colab": {}
      },
      "source": [
        "INIT_LR = 1e-3\n",
        "epochs = 110\n",
        "opt = optimizers.Adam(lr=INIT_LR, decay=INIT_LR / epochs)\n",
        "metrics = 'categorical_accuracy'\n",
        "activation = 'softmax'\n",
        "loss = 'categorical_crossentropy'"
      ],
      "execution_count": null,
      "outputs": []
    },
    {
      "cell_type": "markdown",
      "metadata": {
        "id": "z2lf8GKcXJM2",
        "colab_type": "text"
      },
      "source": [
        "###Model multi-classes classification - własny"
      ]
    },
    {
      "cell_type": "code",
      "metadata": {
        "id": "iwxU5MoBXBgL",
        "colab_type": "code",
        "colab": {}
      },
      "source": [
        "dropout_1 = 0.4\n",
        "dropout_2 = 0.3\n",
        "dropout_3 = 0.3\n",
        "dropout_4 = 0.4\n",
        "dropout_5 = 0.3\n",
        "dropout_6 = 0.25\n",
        "\n",
        "model = models.Sequential()\n",
        "model.add(layers.Conv2D(32, (3, 3), activation='relu', input_shape=(picture_size, picture_size, 3)))\n",
        "model.add(layers.MaxPool2D((2, 2)))\n",
        "model.add(layers.Dropout(dropout_1))\n",
        "\n",
        "model.add(layers.Conv2D(64, (3, 3), activation='relu'))\n",
        "model.add(layers.MaxPool2D((2, 2)))\n",
        "model.add(layers.Dropout(dropout_2))\n",
        "\n",
        "model.add(layers.Conv2D(64, (3,3), activation='relu'))\n",
        "model.add(layers.MaxPool2D((2, 2)))\n",
        "model.add(layers.Dropout(dropout_3))\n",
        "\n",
        "model.add(layers.Conv2D(128, (3,3), activation='relu'))\n",
        "model.add(layers.MaxPool2D((2, 2)))\n",
        "model.add(layers.Dropout(dropout_4))\n",
        "\n",
        "model.add(layers.Conv2D(128, (3,3), activation='relu'))\n",
        "model.add(layers.MaxPool2D((2, 2)))\n",
        "model.add(layers.Dropout(dropout_5))\n",
        "\n",
        "model.add(layers.Flatten())\n",
        "model.add(layers.Dense(1024, activation=\"relu\"))\n",
        "model.add(layers.BatchNormalization())\n",
        "model.add(layers.Dropout(dropout_6))\n",
        "model.add(layers.Dense(number_of_classes))\n",
        "model.add(layers.Activation(activation))\n",
        "\n",
        "model.compile(\n",
        "    loss=loss,\n",
        "    optimizer=opt,\n",
        "    metrics=[metrics]\n",
        "    )\n",
        "# model.summary()"
      ],
      "execution_count": null,
      "outputs": []
    },
    {
      "cell_type": "markdown",
      "metadata": {
        "id": "Zep2Kx6fZVYp",
        "colab_type": "text"
      },
      "source": [
        "###Pretrained model"
      ]
    },
    {
      "cell_type": "code",
      "metadata": {
        "id": "kl5g-tmHZdVB",
        "colab_type": "code",
        "colab": {}
      },
      "source": [
        "from keras.applications import VGG16\n",
        "pretrain_model = VGG16(weights='imagenet',include_top=False,input_shape=(100, 100, 3))"
      ],
      "execution_count": null,
      "outputs": []
    },
    {
      "cell_type": "code",
      "metadata": {
        "id": "z0U6jTJWZ6mm",
        "colab_type": "code",
        "colab": {}
      },
      "source": [
        "model = models.Sequential()\n",
        "model.add(pretrain_model)\n",
        "model.add(layers.Flatten())\n",
        "model.add(layers.Dense(1024, activation=\"relu\"))\n",
        "model.add(layers.BatchNormalization())\n",
        "model.add(layers.Dropout(0.2))\n",
        "model.add(layers.Dense(number_of_classes))\n",
        "model.add(layers.Activation(activation))\n",
        "model.compile(\n",
        "    loss='categorical_crossentropy',\n",
        "    optimizer=opt,\n",
        "    metrics=['acc']\n",
        "    )\n",
        "model.summary()"
      ],
      "execution_count": null,
      "outputs": []
    },
    {
      "cell_type": "markdown",
      "metadata": {
        "id": "IkvAD2gnZd60",
        "colab_type": "text"
      },
      "source": [
        "###Fit model"
      ]
    },
    {
      "cell_type": "code",
      "metadata": {
        "id": "gBDd5q9nq23t",
        "colab_type": "code",
        "colab": {
          "base_uri": "https://localhost:8080/",
          "height": 1000
        },
        "outputId": "ed5d6c3c-756e-47b8-d6ce-f7f6e828a568"
      },
      "source": [
        "history = model.fit_generator(\n",
        "    train_generator,\n",
        "    steps_per_epoch=200,\n",
        "    epochs=epochs,\n",
        "    validation_data=valid_generator,\n",
        "    validation_steps=50\n",
        ")\n",
        "\n",
        "time_stemp = time.strftime(\"%d%m%Y%H%M%S\")\n",
        "model_name = f'model_signs_{number_of_classes}_classes_{activation}_{time_stemp}.h5'\n",
        "path_to_save = \"/content/drive/My Drive/Colab Notebooks/Road_sign_rec\"\n",
        "model_path = os.path.join(path_to_save, model_name)\n",
        "model.save(model_path)\n",
        "print(f\"Saved model as {model_name}\")"
      ],
      "execution_count": null,
      "outputs": [
        {
          "output_type": "stream",
          "text": [
            "Epoch 1/110\n",
            "200/200 [==============================] - 53s 264ms/step - loss: 1.4989 - categorical_accuracy: 0.5006 - val_loss: 1.8498 - val_categorical_accuracy: 0.3347\n",
            "Epoch 2/110\n",
            "200/200 [==============================] - 46s 232ms/step - loss: 1.1455 - categorical_accuracy: 0.6058 - val_loss: 1.4823 - val_categorical_accuracy: 0.4184\n",
            "Epoch 3/110\n",
            "200/200 [==============================] - 47s 235ms/step - loss: 0.9852 - categorical_accuracy: 0.6520 - val_loss: 0.8455 - val_categorical_accuracy: 0.6569\n",
            "Epoch 4/110\n",
            "200/200 [==============================] - 46s 230ms/step - loss: 0.8837 - categorical_accuracy: 0.6792 - val_loss: 0.9917 - val_categorical_accuracy: 0.7119\n",
            "Epoch 5/110\n",
            "200/200 [==============================] - 45s 227ms/step - loss: 0.8259 - categorical_accuracy: 0.6909 - val_loss: 0.6654 - val_categorical_accuracy: 0.7169\n",
            "Epoch 6/110\n",
            "200/200 [==============================] - 46s 230ms/step - loss: 0.7601 - categorical_accuracy: 0.7105 - val_loss: 0.6731 - val_categorical_accuracy: 0.7200\n",
            "Epoch 7/110\n",
            "200/200 [==============================] - 47s 234ms/step - loss: 0.6851 - categorical_accuracy: 0.7442 - val_loss: 0.3346 - val_categorical_accuracy: 0.8303\n",
            "Epoch 8/110\n",
            "200/200 [==============================] - 46s 229ms/step - loss: 0.6640 - categorical_accuracy: 0.7576 - val_loss: 0.4924 - val_categorical_accuracy: 0.8234\n",
            "Epoch 9/110\n",
            "200/200 [==============================] - 46s 230ms/step - loss: 0.6016 - categorical_accuracy: 0.7780 - val_loss: 0.4453 - val_categorical_accuracy: 0.8037\n",
            "Epoch 10/110\n",
            "200/200 [==============================] - 47s 234ms/step - loss: 0.5786 - categorical_accuracy: 0.7907 - val_loss: 0.2785 - val_categorical_accuracy: 0.8738\n",
            "Epoch 11/110\n",
            "200/200 [==============================] - 46s 228ms/step - loss: 0.5362 - categorical_accuracy: 0.8071 - val_loss: 0.1826 - val_categorical_accuracy: 0.9128\n",
            "Epoch 12/110\n",
            "200/200 [==============================] - 47s 235ms/step - loss: 0.5026 - categorical_accuracy: 0.8184 - val_loss: 0.2117 - val_categorical_accuracy: 0.9075\n",
            "Epoch 13/110\n",
            "200/200 [==============================] - 46s 231ms/step - loss: 0.4741 - categorical_accuracy: 0.8315 - val_loss: 0.3532 - val_categorical_accuracy: 0.9398\n",
            "Epoch 14/110\n",
            "200/200 [==============================] - 46s 231ms/step - loss: 0.4633 - categorical_accuracy: 0.8363 - val_loss: 0.1295 - val_categorical_accuracy: 0.9447\n",
            "Epoch 15/110\n",
            "200/200 [==============================] - 46s 232ms/step - loss: 0.4560 - categorical_accuracy: 0.8377 - val_loss: 0.2042 - val_categorical_accuracy: 0.9302\n",
            "Epoch 16/110\n",
            "200/200 [==============================] - 46s 232ms/step - loss: 0.4208 - categorical_accuracy: 0.8533 - val_loss: 0.0892 - val_categorical_accuracy: 0.9463\n",
            "Epoch 17/110\n",
            "200/200 [==============================] - 46s 231ms/step - loss: 0.4389 - categorical_accuracy: 0.8525 - val_loss: 0.0960 - val_categorical_accuracy: 0.9472\n",
            "Epoch 18/110\n",
            "200/200 [==============================] - 46s 229ms/step - loss: 0.3860 - categorical_accuracy: 0.8641 - val_loss: 0.2672 - val_categorical_accuracy: 0.9394\n",
            "Epoch 19/110\n",
            "200/200 [==============================] - 46s 232ms/step - loss: 0.4279 - categorical_accuracy: 0.8573 - val_loss: 0.1208 - val_categorical_accuracy: 0.9541\n",
            "Epoch 20/110\n",
            "200/200 [==============================] - 46s 232ms/step - loss: 0.3646 - categorical_accuracy: 0.8728 - val_loss: 0.1163 - val_categorical_accuracy: 0.9569\n",
            "Epoch 21/110\n",
            "200/200 [==============================] - 46s 229ms/step - loss: 0.3572 - categorical_accuracy: 0.8754 - val_loss: 0.0437 - val_categorical_accuracy: 0.9638\n",
            "Epoch 22/110\n",
            "200/200 [==============================] - 47s 234ms/step - loss: 0.3511 - categorical_accuracy: 0.8792 - val_loss: 0.1148 - val_categorical_accuracy: 0.9603\n",
            "Epoch 23/110\n",
            "200/200 [==============================] - 47s 233ms/step - loss: 0.3476 - categorical_accuracy: 0.8848 - val_loss: 0.1157 - val_categorical_accuracy: 0.9635\n",
            "Epoch 24/110\n",
            "200/200 [==============================] - 47s 233ms/step - loss: 0.3478 - categorical_accuracy: 0.8882 - val_loss: 0.1378 - val_categorical_accuracy: 0.9522\n",
            "Epoch 25/110\n",
            "200/200 [==============================] - 46s 232ms/step - loss: 0.3243 - categorical_accuracy: 0.8916 - val_loss: 0.1431 - val_categorical_accuracy: 0.9673\n",
            "Epoch 26/110\n",
            "200/200 [==============================] - 46s 231ms/step - loss: 0.3142 - categorical_accuracy: 0.8953 - val_loss: 0.0608 - val_categorical_accuracy: 0.9716\n",
            "Epoch 27/110\n",
            "200/200 [==============================] - 46s 232ms/step - loss: 0.3025 - categorical_accuracy: 0.8989 - val_loss: 0.1729 - val_categorical_accuracy: 0.9650\n",
            "Epoch 28/110\n",
            "200/200 [==============================] - 46s 232ms/step - loss: 0.3023 - categorical_accuracy: 0.8981 - val_loss: 0.1294 - val_categorical_accuracy: 0.9692\n",
            "Epoch 29/110\n",
            "200/200 [==============================] - 46s 232ms/step - loss: 0.3058 - categorical_accuracy: 0.8965 - val_loss: 0.1694 - val_categorical_accuracy: 0.9559\n",
            "Epoch 30/110\n",
            "200/200 [==============================] - 46s 231ms/step - loss: 0.3614 - categorical_accuracy: 0.8823 - val_loss: 0.1460 - val_categorical_accuracy: 0.9610\n",
            "Epoch 31/110\n",
            "200/200 [==============================] - 46s 232ms/step - loss: 0.2932 - categorical_accuracy: 0.9030 - val_loss: 0.1829 - val_categorical_accuracy: 0.9544\n",
            "Epoch 32/110\n",
            "200/200 [==============================] - 47s 234ms/step - loss: 0.2836 - categorical_accuracy: 0.9049 - val_loss: 0.0850 - val_categorical_accuracy: 0.9756\n",
            "Epoch 33/110\n",
            "200/200 [==============================] - 46s 231ms/step - loss: 0.2888 - categorical_accuracy: 0.9085 - val_loss: 0.1039 - val_categorical_accuracy: 0.9750\n",
            "Epoch 34/110\n",
            "200/200 [==============================] - 46s 231ms/step - loss: 0.2882 - categorical_accuracy: 0.9046 - val_loss: 0.0127 - val_categorical_accuracy: 0.9731\n",
            "Epoch 35/110\n",
            "200/200 [==============================] - 47s 234ms/step - loss: 0.2805 - categorical_accuracy: 0.9069 - val_loss: 0.1042 - val_categorical_accuracy: 0.9803\n",
            "Epoch 36/110\n",
            "200/200 [==============================] - 47s 233ms/step - loss: 0.2666 - categorical_accuracy: 0.9120 - val_loss: 0.0539 - val_categorical_accuracy: 0.9756\n",
            "Epoch 37/110\n",
            "200/200 [==============================] - 46s 231ms/step - loss: 0.2753 - categorical_accuracy: 0.9122 - val_loss: 0.1252 - val_categorical_accuracy: 0.9734\n",
            "Epoch 38/110\n",
            "200/200 [==============================] - 47s 235ms/step - loss: 0.2612 - categorical_accuracy: 0.9155 - val_loss: 0.1047 - val_categorical_accuracy: 0.9731\n",
            "Epoch 39/110\n",
            "200/200 [==============================] - 46s 232ms/step - loss: 0.2510 - categorical_accuracy: 0.9155 - val_loss: 0.1367 - val_categorical_accuracy: 0.9778\n",
            "Epoch 40/110\n",
            "200/200 [==============================] - 46s 231ms/step - loss: 0.2533 - categorical_accuracy: 0.9180 - val_loss: 0.0308 - val_categorical_accuracy: 0.9797\n",
            "Epoch 41/110\n",
            "200/200 [==============================] - 47s 233ms/step - loss: 0.2478 - categorical_accuracy: 0.9172 - val_loss: 0.0362 - val_categorical_accuracy: 0.9775\n",
            "Epoch 42/110\n",
            "200/200 [==============================] - 47s 233ms/step - loss: 0.2419 - categorical_accuracy: 0.9200 - val_loss: 0.0771 - val_categorical_accuracy: 0.9781\n",
            "Epoch 43/110\n",
            "200/200 [==============================] - 46s 232ms/step - loss: 0.2341 - categorical_accuracy: 0.9228 - val_loss: 0.1381 - val_categorical_accuracy: 0.9762\n",
            "Epoch 44/110\n",
            "200/200 [==============================] - 46s 231ms/step - loss: 0.2334 - categorical_accuracy: 0.9227 - val_loss: 0.1062 - val_categorical_accuracy: 0.9806\n",
            "Epoch 45/110\n",
            "200/200 [==============================] - 46s 231ms/step - loss: 0.2258 - categorical_accuracy: 0.9258 - val_loss: 0.0471 - val_categorical_accuracy: 0.9810\n",
            "Epoch 46/110\n",
            "200/200 [==============================] - 47s 233ms/step - loss: 0.2277 - categorical_accuracy: 0.9254 - val_loss: 0.1172 - val_categorical_accuracy: 0.9841\n",
            "Epoch 47/110\n",
            "200/200 [==============================] - 46s 230ms/step - loss: 0.2299 - categorical_accuracy: 0.9283 - val_loss: 0.0562 - val_categorical_accuracy: 0.9734\n",
            "Epoch 48/110\n",
            "200/200 [==============================] - 47s 233ms/step - loss: 0.2435 - categorical_accuracy: 0.9239 - val_loss: 0.0870 - val_categorical_accuracy: 0.9772\n",
            "Epoch 49/110\n",
            "200/200 [==============================] - 46s 230ms/step - loss: 0.2323 - categorical_accuracy: 0.9245 - val_loss: 0.0425 - val_categorical_accuracy: 0.9809\n",
            "Epoch 50/110\n",
            "200/200 [==============================] - 46s 232ms/step - loss: 0.2448 - categorical_accuracy: 0.9239 - val_loss: 0.0545 - val_categorical_accuracy: 0.9791\n",
            "Epoch 51/110\n",
            "200/200 [==============================] - 47s 233ms/step - loss: 0.2122 - categorical_accuracy: 0.9295 - val_loss: 0.0344 - val_categorical_accuracy: 0.9859\n",
            "Epoch 52/110\n",
            "200/200 [==============================] - 46s 232ms/step - loss: 0.2159 - categorical_accuracy: 0.9320 - val_loss: 0.0850 - val_categorical_accuracy: 0.9816\n",
            "Epoch 53/110\n",
            "200/200 [==============================] - 47s 233ms/step - loss: 0.2084 - categorical_accuracy: 0.9336 - val_loss: 0.0572 - val_categorical_accuracy: 0.9778\n",
            "Epoch 54/110\n",
            "200/200 [==============================] - 46s 230ms/step - loss: 0.2030 - categorical_accuracy: 0.9341 - val_loss: 0.1106 - val_categorical_accuracy: 0.9756\n",
            "Epoch 55/110\n",
            "200/200 [==============================] - 46s 230ms/step - loss: 0.2215 - categorical_accuracy: 0.9265 - val_loss: 0.0212 - val_categorical_accuracy: 0.9822\n",
            "Epoch 56/110\n",
            "200/200 [==============================] - 46s 230ms/step - loss: 0.2259 - categorical_accuracy: 0.9265 - val_loss: 0.1540 - val_categorical_accuracy: 0.9781\n",
            "Epoch 57/110\n",
            "200/200 [==============================] - 46s 229ms/step - loss: 0.2033 - categorical_accuracy: 0.9330 - val_loss: 0.0581 - val_categorical_accuracy: 0.9794\n",
            "Epoch 58/110\n",
            "200/200 [==============================] - 46s 229ms/step - loss: 0.2206 - categorical_accuracy: 0.9321 - val_loss: 0.0486 - val_categorical_accuracy: 0.9829\n",
            "Epoch 59/110\n",
            "200/200 [==============================] - 45s 226ms/step - loss: 0.2011 - categorical_accuracy: 0.9355 - val_loss: 0.0119 - val_categorical_accuracy: 0.9831\n",
            "Epoch 60/110\n",
            "200/200 [==============================] - 45s 227ms/step - loss: 0.1989 - categorical_accuracy: 0.9378 - val_loss: 0.0452 - val_categorical_accuracy: 0.9816\n",
            "Epoch 61/110\n",
            "200/200 [==============================] - 48s 240ms/step - loss: 0.2374 - categorical_accuracy: 0.9269 - val_loss: 0.0408 - val_categorical_accuracy: 0.9812\n",
            "Epoch 62/110\n",
            "200/200 [==============================] - 46s 232ms/step - loss: 0.2685 - categorical_accuracy: 0.9213 - val_loss: 0.1539 - val_categorical_accuracy: 0.9794\n",
            "Epoch 63/110\n",
            "200/200 [==============================] - 46s 229ms/step - loss: 0.2169 - categorical_accuracy: 0.9298 - val_loss: 0.0536 - val_categorical_accuracy: 0.9787\n",
            "Epoch 64/110\n",
            "200/200 [==============================] - 46s 229ms/step - loss: 0.1861 - categorical_accuracy: 0.9395 - val_loss: 0.0660 - val_categorical_accuracy: 0.9897\n",
            "Epoch 65/110\n",
            "200/200 [==============================] - 45s 226ms/step - loss: 0.1801 - categorical_accuracy: 0.9440 - val_loss: 0.0891 - val_categorical_accuracy: 0.9819\n",
            "Epoch 66/110\n",
            "200/200 [==============================] - 45s 226ms/step - loss: 0.1954 - categorical_accuracy: 0.9385 - val_loss: 0.0466 - val_categorical_accuracy: 0.9794\n",
            "Epoch 67/110\n",
            "200/200 [==============================] - 48s 241ms/step - loss: 0.1860 - categorical_accuracy: 0.9422 - val_loss: 0.0454 - val_categorical_accuracy: 0.9845\n",
            "Epoch 68/110\n",
            "200/200 [==============================] - 46s 229ms/step - loss: 0.2221 - categorical_accuracy: 0.9311 - val_loss: 0.1813 - val_categorical_accuracy: 0.9831\n",
            "Epoch 69/110\n",
            "200/200 [==============================] - 47s 233ms/step - loss: 0.1923 - categorical_accuracy: 0.9399 - val_loss: 0.0354 - val_categorical_accuracy: 0.9869\n",
            "Epoch 70/110\n",
            "200/200 [==============================] - 48s 242ms/step - loss: 0.1729 - categorical_accuracy: 0.9451 - val_loss: 0.0530 - val_categorical_accuracy: 0.9864\n",
            "Epoch 71/110\n",
            "200/200 [==============================] - 47s 233ms/step - loss: 0.1781 - categorical_accuracy: 0.9430 - val_loss: 0.0932 - val_categorical_accuracy: 0.9834\n",
            "Epoch 72/110\n",
            "200/200 [==============================] - 46s 231ms/step - loss: 0.1850 - categorical_accuracy: 0.9396 - val_loss: 0.0484 - val_categorical_accuracy: 0.9756\n",
            "Epoch 73/110\n",
            "200/200 [==============================] - 46s 229ms/step - loss: 0.1901 - categorical_accuracy: 0.9431 - val_loss: 0.1015 - val_categorical_accuracy: 0.9831\n",
            "Epoch 74/110\n",
            "200/200 [==============================] - 46s 228ms/step - loss: 0.2165 - categorical_accuracy: 0.9341 - val_loss: 0.0785 - val_categorical_accuracy: 0.9847\n",
            "Epoch 75/110\n",
            "200/200 [==============================] - 46s 228ms/step - loss: 0.1719 - categorical_accuracy: 0.9447 - val_loss: 0.1053 - val_categorical_accuracy: 0.9835\n",
            "Epoch 76/110\n",
            "200/200 [==============================] - 49s 244ms/step - loss: 0.1672 - categorical_accuracy: 0.9453 - val_loss: 0.0052 - val_categorical_accuracy: 0.9850\n",
            "Epoch 77/110\n",
            "200/200 [==============================] - 46s 231ms/step - loss: 0.2011 - categorical_accuracy: 0.9381 - val_loss: 0.3091 - val_categorical_accuracy: 0.9746\n",
            "Epoch 78/110\n",
            "200/200 [==============================] - 46s 232ms/step - loss: 0.1804 - categorical_accuracy: 0.9435 - val_loss: 0.0333 - val_categorical_accuracy: 0.9859\n",
            "Epoch 79/110\n",
            "200/200 [==============================] - 46s 231ms/step - loss: 0.1613 - categorical_accuracy: 0.9484 - val_loss: 0.0290 - val_categorical_accuracy: 0.9909\n",
            "Epoch 80/110\n",
            "200/200 [==============================] - 46s 232ms/step - loss: 0.1615 - categorical_accuracy: 0.9476 - val_loss: 0.0220 - val_categorical_accuracy: 0.9845\n",
            "Epoch 81/110\n",
            "200/200 [==============================] - 46s 232ms/step - loss: 0.1752 - categorical_accuracy: 0.9446 - val_loss: 0.0348 - val_categorical_accuracy: 0.9847\n",
            "Epoch 82/110\n",
            "200/200 [==============================] - 46s 231ms/step - loss: 0.1897 - categorical_accuracy: 0.9417 - val_loss: 0.0140 - val_categorical_accuracy: 0.9864\n",
            "Epoch 83/110\n",
            "200/200 [==============================] - 46s 231ms/step - loss: 0.2197 - categorical_accuracy: 0.9381 - val_loss: 0.0251 - val_categorical_accuracy: 0.9881\n",
            "Epoch 84/110\n",
            "200/200 [==============================] - 46s 232ms/step - loss: 0.1595 - categorical_accuracy: 0.9481 - val_loss: 0.0204 - val_categorical_accuracy: 0.9841\n",
            "Epoch 85/110\n",
            "200/200 [==============================] - 46s 232ms/step - loss: 0.1597 - categorical_accuracy: 0.9488 - val_loss: 0.0483 - val_categorical_accuracy: 0.9864\n",
            "Epoch 86/110\n",
            "200/200 [==============================] - 46s 231ms/step - loss: 0.1780 - categorical_accuracy: 0.9429 - val_loss: 0.0691 - val_categorical_accuracy: 0.9872\n",
            "Epoch 87/110\n",
            "200/200 [==============================] - 46s 231ms/step - loss: 0.1632 - categorical_accuracy: 0.9480 - val_loss: 0.0637 - val_categorical_accuracy: 0.9870\n",
            "Epoch 88/110\n",
            "200/200 [==============================] - 46s 230ms/step - loss: 0.1687 - categorical_accuracy: 0.9479 - val_loss: 0.0344 - val_categorical_accuracy: 0.9856\n",
            "Epoch 89/110\n",
            "200/200 [==============================] - 47s 234ms/step - loss: 0.1645 - categorical_accuracy: 0.9476 - val_loss: 0.0752 - val_categorical_accuracy: 0.9828\n",
            "Epoch 90/110\n",
            "200/200 [==============================] - 47s 233ms/step - loss: 0.1508 - categorical_accuracy: 0.9514 - val_loss: 0.0377 - val_categorical_accuracy: 0.9880\n",
            "Epoch 91/110\n",
            "200/200 [==============================] - 46s 232ms/step - loss: 0.1591 - categorical_accuracy: 0.9501 - val_loss: 0.1175 - val_categorical_accuracy: 0.9844\n",
            "Epoch 92/110\n",
            "200/200 [==============================] - 47s 235ms/step - loss: 0.1525 - categorical_accuracy: 0.9521 - val_loss: 0.0057 - val_categorical_accuracy: 0.9892\n",
            "Epoch 93/110\n",
            "200/200 [==============================] - 46s 232ms/step - loss: 0.2267 - categorical_accuracy: 0.9333 - val_loss: 0.0530 - val_categorical_accuracy: 0.9816\n",
            "Epoch 94/110\n",
            "200/200 [==============================] - 47s 234ms/step - loss: 0.1789 - categorical_accuracy: 0.9447 - val_loss: 0.0034 - val_categorical_accuracy: 0.9869\n",
            "Epoch 95/110\n",
            "200/200 [==============================] - 47s 233ms/step - loss: 0.1557 - categorical_accuracy: 0.9498 - val_loss: 0.0053 - val_categorical_accuracy: 0.9905\n",
            "Epoch 96/110\n",
            "200/200 [==============================] - 47s 234ms/step - loss: 0.1744 - categorical_accuracy: 0.9486 - val_loss: 0.0132 - val_categorical_accuracy: 0.9878\n",
            "Epoch 97/110\n",
            "200/200 [==============================] - 46s 231ms/step - loss: 0.1706 - categorical_accuracy: 0.9469 - val_loss: 0.0182 - val_categorical_accuracy: 0.9867\n",
            "Epoch 98/110\n",
            "200/200 [==============================] - 46s 232ms/step - loss: 0.1535 - categorical_accuracy: 0.9517 - val_loss: 0.2819 - val_categorical_accuracy: 0.9834\n",
            "Epoch 99/110\n",
            "200/200 [==============================] - 47s 236ms/step - loss: 0.1441 - categorical_accuracy: 0.9550 - val_loss: 0.0276 - val_categorical_accuracy: 0.9894\n",
            "Epoch 100/110\n",
            "200/200 [==============================] - 46s 230ms/step - loss: 0.1405 - categorical_accuracy: 0.9527 - val_loss: 0.1447 - val_categorical_accuracy: 0.9864\n",
            "Epoch 101/110\n",
            "200/200 [==============================] - 46s 232ms/step - loss: 0.1374 - categorical_accuracy: 0.9563 - val_loss: 0.0136 - val_categorical_accuracy: 0.9878\n",
            "Epoch 102/110\n",
            "200/200 [==============================] - 47s 234ms/step - loss: 0.1594 - categorical_accuracy: 0.9502 - val_loss: 0.0180 - val_categorical_accuracy: 0.9886\n",
            "Epoch 103/110\n",
            "200/200 [==============================] - 47s 234ms/step - loss: 0.1395 - categorical_accuracy: 0.9564 - val_loss: 0.0290 - val_categorical_accuracy: 0.9862\n",
            "Epoch 104/110\n",
            "200/200 [==============================] - 46s 232ms/step - loss: 0.1525 - categorical_accuracy: 0.9527 - val_loss: 0.0323 - val_categorical_accuracy: 0.9900\n",
            "Epoch 105/110\n",
            "200/200 [==============================] - 47s 235ms/step - loss: 0.1767 - categorical_accuracy: 0.9464 - val_loss: 0.0658 - val_categorical_accuracy: 0.9826\n",
            "Epoch 106/110\n",
            "200/200 [==============================] - 46s 232ms/step - loss: 0.1316 - categorical_accuracy: 0.9570 - val_loss: 0.0035 - val_categorical_accuracy: 0.9912\n",
            "Epoch 107/110\n",
            "200/200 [==============================] - 46s 232ms/step - loss: 0.1470 - categorical_accuracy: 0.9534 - val_loss: 0.0642 - val_categorical_accuracy: 0.9886\n",
            "Epoch 108/110\n",
            "200/200 [==============================] - 47s 233ms/step - loss: 0.1396 - categorical_accuracy: 0.9555 - val_loss: 0.0194 - val_categorical_accuracy: 0.9900\n",
            "Epoch 109/110\n",
            "200/200 [==============================] - 46s 231ms/step - loss: 0.1692 - categorical_accuracy: 0.9452 - val_loss: 0.0088 - val_categorical_accuracy: 0.9872\n",
            "Epoch 110/110\n",
            "200/200 [==============================] - 46s 230ms/step - loss: 0.1499 - categorical_accuracy: 0.9545 - val_loss: 0.0265 - val_categorical_accuracy: 0.9908\n",
            "Saved model as model_signs_10_classes_softmax_16072020162906.h5\n"
          ],
          "name": "stdout"
        }
      ]
    },
    {
      "cell_type": "markdown",
      "metadata": {
        "id": "LUtd1wwJeS4I",
        "colab_type": "text"
      },
      "source": [
        "###Sprawdzenie modelu"
      ]
    },
    {
      "cell_type": "markdown",
      "metadata": {
        "id": "h-LyI_lDeePo",
        "colab_type": "text"
      },
      "source": [
        "####Przebieg uczenia \n"
      ]
    },
    {
      "cell_type": "code",
      "metadata": {
        "id": "xgrk-WiNuPqX",
        "colab_type": "code",
        "colab": {
          "base_uri": "https://localhost:8080/",
          "height": 441
        },
        "outputId": "5b35c360-540a-49d0-ff4e-7227f7ff1514"
      },
      "source": [
        "fig = plt.figure(figsize=(12,6))\n",
        "plt.subplot(2,1,1)\n",
        "plt.plot(history.history['categorical_accuracy'])\n",
        "plt.plot(history.history['val_categorical_accuracy'])\n",
        "plt.title('model accuracy')\n",
        "plt.ylabel('accuracy')\n",
        "plt.xlabel('epoch')\n",
        "plt.legend(['train', 'test'], loc='lower right')\n",
        "\n",
        "plt.subplot(2,1,2)\n",
        "plt.plot(history.history['loss'])\n",
        "plt.plot(history.history['val_loss'])\n",
        "plt.title('model loss')\n",
        "plt.ylabel('loss')\n",
        "plt.xlabel('epoch')\n",
        "plt.legend(['train', 'test'], loc='upper right')\n",
        "plt.tight_layout()\n",
        "fig"
      ],
      "execution_count": null,
      "outputs": [
        {
          "output_type": "execute_result",
          "data": {
            "image/png": "[encoded data removed]",
            "text/plain": [
              "<Figure size 864x432 with 2 Axes>"
            ]
          },
          "metadata": {
            "tags": []
          },
          "execution_count": 13
        }
      ]
    },
    {
      "cell_type": "markdown",
      "metadata": {
        "id": "RfMzRbAhfC9e",
        "colab_type": "text"
      },
      "source": [
        "####Testowanie modelu"
      ]
    },
    {
      "cell_type": "code",
      "metadata": {
        "id": "SVMbtjGN4FKU",
        "colab_type": "code",
        "colab": {
          "base_uri": "https://localhost:8080/",
          "height": 102
        },
        "outputId": "5bb5602d-2413-4719-db86-73319402735b"
      },
      "source": [
        "test_datagen = ImageDataGenerator(rescale=1./255)\n",
        "\n",
        "test_generator = test_datagen.flow_from_directory(\n",
        "        test_dir,\n",
        "        target_size=(picture_size, picture_size),\n",
        "        color_mode=\"rgb\",\n",
        "        shuffle = False,\n",
        "        class_mode='categorical',\n",
        "        batch_size=1,\n",
        "        )\n",
        "\n",
        "filenames = test_generator.filenames\n",
        "classes_gen = test_generator.class_indices\n",
        "classes_gen = test_generator.class_indices\n",
        "\n",
        "loss_acc = model.evaluate(test_generator)\n",
        "print(classes_gen)\n",
        "print('loss= ', loss_acc[0])\n",
        "print(\"acc= \", loss_acc[1])"
      ],
      "execution_count": null,
      "outputs": [
        {
          "output_type": "stream",
          "text": [
            "Found 3407 images belonging to 10 classes.\n",
            "3407/3407 [==============================] - 16s 5ms/step\n",
            "{'cross': 0, 'limit40': 1, 'limit50': 2, 'limit60': 3, 'limit70': 4, 'limit80': 5, 'nosign': 6, 'othersign': 7, 'stop': 8, 'yield': 9}\n",
            "loss=  7.152555099310121e-07\n",
            "acc=  0.9879659414291382\n"
          ],
          "name": "stdout"
        }
      ]
    },
    {
      "cell_type": "code",
      "metadata": {
        "id": "xRrryWRVsFDt",
        "colab_type": "code",
        "colab": {
          "base_uri": "https://localhost:8080/",
          "height": 238
        },
        "outputId": "cbc6688a-774b-42bc-fb96-634fbd0702d4"
      },
      "source": [
        "predict = model.predict_generator(test_generator,steps = len(filenames))\n",
        "predict"
      ],
      "execution_count": null,
      "outputs": [
        {
          "output_type": "execute_result",
          "data": {
            "text/plain": [
              "array([[9.99768674e-01, 1.26903001e-06, 1.01110587e-08, ...,\n",
              "        8.92032767e-06, 9.02208726e-08, 6.13500731e-07],\n",
              "       [9.99819100e-01, 1.40245402e-06, 4.06424263e-08, ...,\n",
              "        5.18972092e-06, 3.94060429e-08, 2.41060889e-07],\n",
              "       [9.99970436e-01, 1.34314220e-07, 6.56686039e-10, ...,\n",
              "        1.64805283e-06, 3.47110385e-09, 3.47453692e-08],\n",
              "       ...,\n",
              "       [6.66397215e-10, 2.45679397e-11, 7.49756567e-14, ...,\n",
              "        8.03884159e-09, 3.65660661e-11, 1.00000000e+00],\n",
              "       [1.10001966e-10, 6.48005000e-12, 1.09878122e-12, ...,\n",
              "        1.93393834e-09, 6.01692207e-09, 1.00000000e+00],\n",
              "       [1.05830056e-08, 1.55272737e-08, 3.97855360e-10, ...,\n",
              "        2.50211826e-07, 2.15464659e-08, 9.99999285e-01]], dtype=float32)"
            ]
          },
          "metadata": {
            "tags": []
          },
          "execution_count": 15
        }
      ]
    },
    {
      "cell_type": "code",
      "metadata": {
        "id": "nasmaaVB5sIy",
        "colab_type": "code",
        "colab": {
          "base_uri": "https://localhost:8080/",
          "height": 204
        },
        "outputId": "32dbdff4-caca-417e-e9bf-e2186bd83862"
      },
      "source": [
        "from google.colab.patches import cv2_imshow\n",
        "\n",
        "signs = test_generator.class_indices\n",
        "prediction_list = []\n",
        "memo_correct_percent = {}\n",
        "for sign in signs:\n",
        "  files = os.path.join(test_dir, sign)\n",
        "  test_files = os.listdir(files)\n",
        "  incorrect = 0\n",
        "  for f in test_files:\n",
        "    path_to_test = os.path.join(files, f)\n",
        "    img = cv2.imread(path_to_test)\n",
        "    img_rgb = cv2.cvtColor(img, cv2.COLOR_BGR2RGB)\n",
        "    img_resized = cv2.resize(img_rgb,(picture_size,picture_size))\n",
        "    img_resized_float = img_resized.astype(\"float32\") / 255\n",
        "    img_tensor = np.reshape(img_resized_float,[1,picture_size,picture_size,3])\n",
        "    classes = (model.predict_classes(img_tensor)).tolist()\n",
        "    for num, class_ in enumerate(signs):\n",
        "      if classes[0] == num:\n",
        "        classes = list(signs.keys())[list(signs.values()).index(num)]\n",
        "    else:\n",
        "      classes\n",
        "    if classes != sign:\n",
        "      # cv2_imshow(img)\n",
        "      incorrect += 1 \n",
        "  corrent_percent = round(100-(incorrect/len(test_files)*100))\n",
        "  memo_correct_percent[sign] = corrent_percent\n",
        "  prediction_note = f'{sign}: {incorrect} / {len(test_files)},  Poprawność: {corrent_percent}%'\n",
        "  prediction_list.append(prediction_note)\n",
        "  print(prediction_note)\n",
        "mean_correct_percent = round(sum(memo_correct_percent.values()) / len(signs), 1)\n",
        "print(f'Średnia poprawność predykcji: {mean_correct_percent}%')"
      ],
      "execution_count": null,
      "outputs": [
        {
          "output_type": "stream",
          "text": [
            "cross: 2 / 409,  Poprawność: 100%\n",
            "limit40: 7 / 98,  Poprawność: 93%\n",
            "limit50: 4 / 312,  Poprawność: 99%\n",
            "limit60: 8 / 191,  Poprawność: 96%\n",
            "limit70: 3 / 211,  Poprawność: 99%\n",
            "limit80: 4 / 206,  Poprawność: 98%\n",
            "nosign: 5 / 1334,  Poprawność: 100%\n",
            "othersign: 5 / 132,  Poprawność: 96%\n",
            "stop: 5 / 236,  Poprawność: 98%\n",
            "yield: 10 / 278,  Poprawność: 96%\n",
            "Średnia poprawność predykcji: 97.5%\n"
          ],
          "name": "stdout"
        }
      ]
    },
    {
      "cell_type": "markdown",
      "metadata": {
        "id": "WwDG6IiWVFF4",
        "colab_type": "text"
      },
      "source": [
        "###Zapis danych modelu i wyników do pliku tekstowego"
      ]
    },
    {
      "cell_type": "code",
      "metadata": {
        "id": "FgiNAOri-nSk",
        "colab_type": "code",
        "colab": {}
      },
      "source": [
        "time_date = time.strftime(\"%d/%m/%Y - %H:%M:%S\")\n",
        "with open(\"/content/drive/My Drive/Colab Notebooks/Road_sign_rec/Log_data.txt\", \"a\") as f:\n",
        "  f.write(f\"Model {time_date} \\n\")\n",
        "  f.write(f\"Funkcja aktywacji: {activation} \\n\")\n",
        "  f.write(f\"Ilość zdjęć treningowych: \\n\")\n",
        "  for key, value in train_folders_length.items():\n",
        "    f.write(f\"\\t{key}: {value}\\n\")\n",
        "  f.write(f\"Ilość zdjęć walidacyjnych: \\n\")\n",
        "  for key, value in valid_folders_length.items():\n",
        "    f.write(f\"\\t{key}: {value}\\n\")\n",
        "  f.write(f\"Parametry:\\n \\tEpochs: {epochs}\\n \\tMetrics: {metrics}\\n \\tLoss: {loss}\\n \\tClassification: {class_mode} \\n\")\n",
        "  f.write(f\"\\tBatch size: {batch_size}\\n\")\n",
        "  f.write(f\"\\tWielkość zdjęć: {picture_size}x{picture_size}px\\n\")\n",
        "  f.write(f\"\\tIlość warstw modelu: {len(model.layers)}\\n\")\n",
        "  f.write(f\"\\tDropout: 1 - {dropout_1}; 2 - {dropout_2}; 3 - {dropout_3}; 4 - {dropout_4}; 5 - {dropout_5}; 6 - {dropout_6}\\n\")\n",
        "  f.write(\"\\n\")\n",
        "  f.write(\"Wyniki: \\n\")\n",
        "  f.write(f\"\\tSTRATA [loss]: {loss_acc[0]}\\n\")\n",
        "  f.write(f\"\\tDOKŁADNOŚĆ [acc]: {loss_acc[1]}\\n\")\n",
        "  f.write(f\"\\tIlość zdjęć testowych: {len(test_generator.filenames)}\\n\")\n",
        "  for prediction in prediction_list:\n",
        "    f.write(f\"\\t{prediction}\\n\")\n",
        "  f.write(f\"Średnia poprawność manualnej predykcji: {mean_correct_percent}% \\n\")\n",
        "  f.write(f\"Nazwa pliku: {model_name}\")\n",
        "  f.write(\"\\n\")\n",
        "  f.write(\"-------------------------------------------------------------\")\n",
        "  f.write(\"\\n\\n\")"
      ],
      "execution_count": null,
      "outputs": []
    },
    {
      "cell_type": "markdown",
      "metadata": {
        "id": "57sqxKgIeiIU",
        "colab_type": "text"
      },
      "source": [
        "###Zapis modelu (.json) i wag (.h5)"
      ]
    },
    {
      "cell_type": "code",
      "metadata": {
        "id": "jViqYOilFGvH",
        "colab_type": "code",
        "colab": {}
      },
      "source": [
        "model_name_json = 'model_10conv.json'\n",
        "model_path = os.path.join(\"/content/drive/My Drive/Colab Notebooks/Road_sign_rec/Data\", model_name_json)\n",
        "json_config = model.to_json()\n",
        "with open(model_path, 'w') as json_file:\n",
        "    json_file.write(json_config)"
      ],
      "execution_count": null,
      "outputs": []
    },
    {
      "cell_type": "code",
      "metadata": {
        "id": "HQh5u5qc36F4",
        "colab_type": "code",
        "colab": {}
      },
      "source": [
        "model_name = 'model_signs_4_classes.h5'\n",
        "model_path = os.path.join(base_dir, model_name)\n",
        "model.save(model_path)"
      ],
      "execution_count": null,
      "outputs": []
    },
    {
      "cell_type": "code",
      "metadata": {
        "id": "ckNC7f9KaBfo",
        "colab_type": "code",
        "colab": {}
      },
      "source": [
        "model_name = 'model_signs_4_multi_classes_softmax.h5'\n",
        "model_path = os.path.join(base_dir, model_name)\n",
        "model.save(model_path)"
      ],
      "execution_count": null,
      "outputs": []
    },
    {
      "cell_type": "code",
      "metadata": {
        "id": "1EtyyAH1Tx4m",
        "colab_type": "code",
        "colab": {}
      },
      "source": [
        "model_name = 'model_signs_4_multi_classes_sigmoid.h5'\n",
        "model_path = os.path.join(base_dir, model_name)\n",
        "model.save(model_path)"
      ],
      "execution_count": null,
      "outputs": []
    },
    {
      "cell_type": "code",
      "metadata": {
        "id": "hOS4hhKMOe6U",
        "colab_type": "code",
        "colab": {}
      },
      "source": [
        "model.load_weights('/content/drive/My Drive/Colab Notebooks/Road_sign_rec/model_signs_9_classe_sigmoid_23052020.h5')"
      ],
      "execution_count": null,
      "outputs": []
    },
    {
      "cell_type": "code",
      "metadata": {
        "id": "vhEm1sl86NmF",
        "colab_type": "code",
        "colab": {}
      },
      "source": [
        "figure = plt.figure()\n",
        "files = os.path.join(test_dir, 'cross')\n",
        "test_files = os.listdir(files)\n",
        "path_to_test = os.path.join(files, test_files[100])\n",
        "img = cv2.imread(path_to_test)\n",
        "img = cv2.cvtColor(img, cv2.COLOR_BGR2RGB)\n",
        "img = cv2.resize(img,(picture_size,picture_size))\n",
        "plt.imshow(img)\n",
        "plt.show()"
      ],
      "execution_count": null,
      "outputs": []
    },
    {
      "cell_type": "markdown",
      "metadata": {
        "id": "PnSDOcbQfK8H",
        "colab_type": "text"
      },
      "source": [
        "##Detekcja wideo"
      ]
    },
    {
      "cell_type": "markdown",
      "metadata": {
        "id": "NXyERENbfP4x",
        "colab_type": "text"
      },
      "source": [
        "###Pliki i ścieżki"
      ]
    },
    {
      "cell_type": "code",
      "metadata": {
        "id": "PzK868vIbIxu",
        "colab_type": "code",
        "colab": {
          "base_uri": "https://localhost:8080/",
          "height": 34
        },
        "outputId": "22a847f0-6536-4ce1-c7c6-e06a9db1feaf"
      },
      "source": [
        "video_path_input_directory = '/content/drive/My Drive/Colab Notebooks/Road_sign_rec/Input'\n",
        "video_file_name = 'warsaw_drive_test.mp4'\n",
        "video_path_file = os.path.join(video_path_input_directory, video_file_name)\n",
        "video_path_output = '/content/drive/My Drive/Colab Notebooks/Road_sign_rec/Output'\n",
        "print(video_path_file)\n",
        "from google.colab.patches import cv2_imshow"
      ],
      "execution_count": null,
      "outputs": [
        {
          "output_type": "stream",
          "text": [
            "/content/drive/My Drive/Colab Notebooks/Road_sign_rec/Input/warsaw_drive_test.mp4\n"
          ],
          "name": "stdout"
        }
      ]
    },
    {
      "cell_type": "code",
      "metadata": {
        "id": "6MjRwu8HcBue",
        "colab_type": "code",
        "colab": {}
      },
      "source": [
        "  ss = cv2.ximgproc.segmentation.createSelectiveSearchSegmentation()\n",
        "  cap = cv2.VideoCapture(video_path_file)\n",
        "  video_length = int(cap.get(cv2.CAP_PROP_FRAME_COUNT))\n",
        "  cap_video_fps = int(cap.get(cv2.CAP_PROP_FPS))\n",
        "  cap_video_width = int(cap.get(cv2.CAP_PROP_FRAME_WIDTH))\n",
        "  cap_video_height = int(cap.get(cv2.CAP_PROP_FRAME_HEIGHT))\n",
        "  print(\"FPS\", cap_video_fps)\n",
        "  print(\"Length\", video_length)\n",
        "  writer = None\n",
        "  (W, H) = (None, None)\n",
        "  mean = np.array([100, 100, 100], dtype=\"float32\")\n",
        "  i = 0\n",
        "  while True:\n",
        "      i += 1\n",
        "      print(f'{i} / {video_length}')\n",
        "      (grabbed, frame) = cap.read()\n",
        "      if not grabbed:\n",
        "          break\n",
        "      if W is None or H is None:\n",
        "          (H, W) = frame.shape[:2]\n",
        "      output = frame.copy()\n",
        "      ss.setBaseImage(output)\n",
        "      try:\n",
        "        ss.switchToSelectiveSearchFast()\n",
        "      except cv2.error:\n",
        "        break\n",
        "      ssresults = ss.process()\n",
        "      for w, result in enumerate(ssresults):\n",
        "          if w < 2000:\n",
        "              x, y, w, h = result\n",
        "              timage = output[y:y+h, x:x+w]\n",
        "              resized = cv2.resize(timage, (100, 100), interpolation=cv2.INTER_AREA)\n",
        "              resized = resized - mean\n",
        "              img = np.expand_dims(resized, axis=0)\n",
        "              out = model.predict(img/255.0, batch_size=10)\n",
        "              if out[0][0] >= 0.99:\n",
        "                  cv2.rectangle(output, (x, y), (x+w, y+h), (0, 255, 0), 1, cv2.LINE_AA)\n",
        "      if writer is None:\n",
        "          fourcc = cv2.VideoWriter_fourcc(*\"MJPG\")\n",
        "          writer = cv2.VideoWriter('Output/out_video.mp4', \n",
        "                                   fourcc, \n",
        "                                   30,\n",
        "                                   (W, H), \n",
        "                                   True,\n",
        "                                   )\n",
        "      writer.write(output)\n",
        "      cv2_imshow(output)\n",
        "  print(\"__END__\")"
      ],
      "execution_count": null,
      "outputs": []
    }
  ]
}