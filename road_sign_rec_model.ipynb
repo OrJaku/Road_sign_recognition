{
  "nbformat": 4,
  "nbformat_minor": 0,
  "metadata": {
    "colab": {
      "name": "road_sign_rec_model.ipynb",
      "provenance": [],
      "collapsed_sections": [
        "hfqmdzzsfq81",
        "Vv-DHfNSpk4I"
      ],
      "mount_file_id": "1boPHgyMz_HPFVyOHPW7kt2nrZBDBJubM",
      "authorship_tag": "ABX9TyOYrtmBq2XXt/okWVpnFKYW",
      "include_colab_link": true
    },
    "kernelspec": {
      "name": "python3",
      "display_name": "Python 3"
    },
    "accelerator": "GPU"
  },
  "cells": [
    {
      "cell_type": "markdown",
      "metadata": {
        "id": "view-in-github",
        "colab_type": "text"
      },
      "source": [
        "<a href=\"https://colab.research.google.com/github/OrJaku/road-sign-recognition/blob/master/road_sign_rec_model.ipynb\" target=\"_parent\"><img src=\"https://colab.research.google.com/assets/colab-badge.svg\" alt=\"Open In Colab\"/></a>"
      ]
    },
    {
      "cell_type": "markdown",
      "metadata": {
        "id": "A1BoHNMscLwp",
        "colab_type": "text"
      },
      "source": [
        "##Biblioteki"
      ]
    },
    {
      "cell_type": "code",
      "metadata": {
        "id": "yILZf6IzcwYp",
        "colab_type": "code",
        "colab": {
          "base_uri": "https://localhost:8080/",
          "height": 34
        },
        "outputId": "2d4d0dd2-acf6-48f8-f1a2-4a5cde4d0dd6"
      },
      "source": [
        "import os, shutil, cv2, json\n",
        "import pandas as pd\n",
        "import numpy as np\n",
        "from keras import layers, models, optimizers, metrics\n",
        "from keras.preprocessing.image import ImageDataGenerator\n",
        "import matplotlib\n",
        "matplotlib.use('agg')\n",
        "import matplotlib.pyplot as plt\n",
        "import matplotlib.image as mpimg \n",
        "import time\n"
      ],
      "execution_count": 1,
      "outputs": [
        {
          "output_type": "stream",
          "text": [
            "Using TensorFlow backend.\n"
          ],
          "name": "stderr"
        }
      ]
    },
    {
      "cell_type": "markdown",
      "metadata": {
        "id": "YGc8PWa5cM-H",
        "colab_type": "text"
      },
      "source": [
        "## Pliki"
      ]
    },
    {
      "cell_type": "code",
      "metadata": {
        "id": "5yI9rJmbZMNh",
        "colab_type": "code",
        "colab": {
          "base_uri": "https://localhost:8080/",
          "height": 34
        },
        "outputId": "e4767711-a471-4085-e186-e0183fddcbea"
      },
      "source": [
        "cd \"/content/drive/My Drive/Colab Notebooks/Road_sign_rec\""
      ],
      "execution_count": null,
      "outputs": [
        {
          "output_type": "stream",
          "text": [
            "/content/drive/My Drive/Colab Notebooks/Road_sign_rec\n"
          ],
          "name": "stdout"
        }
      ]
    },
    {
      "cell_type": "code",
      "metadata": {
        "id": "IJjxYF4Yxlms",
        "colab_type": "code",
        "colab": {
          "base_uri": "https://localhost:8080/",
          "height": 34
        },
        "outputId": "f06d54b1-63fd-4ec4-d4bc-523ff462f0b9"
      },
      "source": [
        "cd \"/content/drive/My Drive/Colab Notebooks/Road_sign_rec/data\""
      ],
      "execution_count": null,
      "outputs": [
        {
          "output_type": "stream",
          "text": [
            "/content/drive/My Drive/Colab Notebooks/Road_sign_rec/data\n"
          ],
          "name": "stdout"
        }
      ]
    },
    {
      "cell_type": "code",
      "metadata": {
        "id": "EMokUffyxdg3",
        "colab_type": "code",
        "colab": {}
      },
      "source": [
        "from google.colab import files\n",
        "\n",
        "uploaded = files.upload()"
      ],
      "execution_count": null,
      "outputs": []
    },
    {
      "cell_type": "markdown",
      "metadata": {
        "id": "GBHKh-2fcYq8",
        "colab_type": "text"
      },
      "source": [
        "### Kopiowanie obrazów treningowych na dysk Colab"
      ]
    },
    {
      "cell_type": "code",
      "metadata": {
        "id": "RvxjUGItyVkF",
        "colab_type": "code",
        "colab": {
          "base_uri": "https://localhost:8080/",
          "height": 34
        },
        "outputId": "357e92cb-0045-4490-d08f-13e025e23d21"
      },
      "source": [
        "cd \"/content\""
      ],
      "execution_count": 2,
      "outputs": [
        {
          "output_type": "stream",
          "text": [
            "/content\n"
          ],
          "name": "stdout"
        }
      ]
    },
    {
      "cell_type": "code",
      "metadata": {
        "id": "_rZWntpHya4K",
        "colab_type": "code",
        "colab": {}
      },
      "source": [
        "try:\n",
        "  os.mkdir(\"data\")\n",
        "except FileExistsError:\n",
        "  pass\n",
        "!cp \"/content/drive/My Drive/Colab Notebooks/Road_sign_rec/Data/Dataset_extend_zip.zip\" \"/content/data/Dataset_extend_zip.zip\""
      ],
      "execution_count": 3,
      "outputs": []
    },
    {
      "cell_type": "code",
      "metadata": {
        "id": "lOPH5wcOzQWF",
        "colab_type": "code",
        "colab": {
          "base_uri": "https://localhost:8080/",
          "height": 34
        },
        "outputId": "931e6c81-9981-430b-c611-5e3e88fa4d07"
      },
      "source": [
        "cd data"
      ],
      "execution_count": 4,
      "outputs": [
        {
          "output_type": "stream",
          "text": [
            "/content/data\n"
          ],
          "name": "stdout"
        }
      ]
    },
    {
      "cell_type": "code",
      "metadata": {
        "id": "09hioilizA-l",
        "colab_type": "code",
        "colab": {}
      },
      "source": [
        "!unzip -q Dataset_extend_zip.zip"
      ],
      "execution_count": 5,
      "outputs": []
    },
    {
      "cell_type": "code",
      "metadata": {
        "id": "lW7wOoYWzEzS",
        "colab_type": "code",
        "colab": {
          "base_uri": "https://localhost:8080/",
          "height": 72
        },
        "outputId": "f3d514bc-f066-450c-eaef-8fd4e9c9b3bb"
      },
      "source": [
        "data_folder = \"/content/data/Data\"\n",
        "train_folder = os.path.join(data_folder, 'train_data')\n",
        "signs_list_train = os.listdir(train_folder)\n",
        "train_folders_length = {}\n",
        "for signs_train in signs_list_train:\n",
        "  train_folders_length[signs_train] = len(os.listdir(os.path.join(train_folder, signs_train)))\n",
        "print(train_folders_length)\n",
        "\n",
        "valid_folder = os.path.join(data_folder, 'valid_data')\n",
        "signs_list_valid = os.listdir(valid_folder)\n",
        "valid_folders_length = {}\n",
        "for signs_val in signs_list_valid:\n",
        "  valid_folders_length[signs_val] = len(os.listdir(os.path.join(valid_folder, signs_val)))\n",
        "print(valid_folders_length)"
      ],
      "execution_count": 6,
      "outputs": [
        {
          "output_type": "stream",
          "text": [
            "{'yield': 1665, 'nosign': 6036, 'limit60': 1144, 'othersign': 786, 'limit50': 1606, 'limit80': 1236, 'stop': 1314, 'limit40': 586, 'cross': 1326, 'limit70': 1264}\n",
            "{'yield': 832, 'nosign': 2575, 'limit60': 573, 'othersign': 393, 'limit50': 803, 'limit80': 618, 'stop': 506, 'limit40': 294, 'cross': 663, 'limit70': 633}\n"
          ],
          "name": "stdout"
        }
      ]
    },
    {
      "cell_type": "markdown",
      "metadata": {
        "id": "L97BfvTNfVIG",
        "colab_type": "text"
      },
      "source": [
        "### Przygotowanie folderów"
      ]
    },
    {
      "cell_type": "code",
      "metadata": {
        "id": "gLFz7U1VZXQ2",
        "colab_type": "code",
        "colab": {}
      },
      "source": [
        "base_dir = \"Data/\"\n",
        "train_dir = os.path.join(base_dir, 'train_data')\n",
        "try:\n",
        "  os.mkdir(train_dir)\n",
        "except FileExistsError:\n",
        "  pass\n",
        "\n",
        "cross_train =  os.path.join(train_dir, 'cross')\n",
        "stop_train =  os.path.join(train_dir, 'stop')\n",
        "limit50_train =  os.path.join(train_dir, 'limit50')\n",
        "nosign_train =  os.path.join(train_dir, 'nosign')\n",
        "try:\n",
        "  os.mkdir(nosign_train)\n",
        "except FileExistsError:\n",
        "  pass\n",
        "try:\n",
        "  os.mkdir(cross_train)\n",
        "except FileExistsError:\n",
        "  pass\n",
        "try:\n",
        "  os.mkdir(stop_train)\n",
        "except FileExistsError:\n",
        "  pass\n",
        "try:\n",
        "  os.mkdir(limit50_train)\n",
        "except FileExistsError:\n",
        "  pass\n",
        "\n",
        "valid_dir = os.path.join(base_dir, 'valid_data')\n",
        "try:\n",
        "  os.mkdir(valid_dir)\n",
        "except FileExistsError:\n",
        "  pass\n",
        "\n",
        "cross_val =  os.path.join(valid_dir, 'cross')\n",
        "stop_val =  os.path.join(valid_dir, 'stop')\n",
        "limit50_val =  os.path.join(valid_dir, 'limit50')\n",
        "nosign_val =  os.path.join(valid_dir, 'nosign')\n",
        "\n",
        "try:\n",
        "  os.mkdir(nosign_val)\n",
        "except FileExistsError:\n",
        "  pass\n",
        "try:\n",
        "  os.mkdir(cross_val)\n",
        "except FileExistsError:\n",
        "  pass\n",
        "try:\n",
        "  os.mkdir(stop_val)\n",
        "except FileExistsError:\n",
        "  pass\n",
        "try:\n",
        "  os.mkdir(limit50_val)\n",
        "except FileExistsError:\n",
        "  pass\n",
        "\n",
        "test_dir = os.path.join(base_dir, 'test_data')\n",
        "try:\n",
        "  os.mkdir(test_dir)\n",
        "except FileExistsError:\n",
        "  pass\n",
        "\n",
        "cross_test =  os.path.join(test_dir, 'cross')\n",
        "stop_test =  os.path.join(test_dir, 'stop')\n",
        "limit50_test =  os.path.join(test_dir, 'limit50')\n",
        "limit40_test =  os.path.join(test_dir, 'limit40')\n",
        "limit60_test =  os.path.join(test_dir, 'limit60')\n",
        "limit70_test =  os.path.join(test_dir, 'limit70')\n",
        "limit80_test =  os.path.join(test_dir, 'limit80')\n",
        "limit100_test =  os.path.join(test_dir, 'limit100')\n",
        "yield_test =  os.path.join(test_dir, 'yield')\n",
        "nosign_test =  os.path.join(test_dir, 'nosign')\n",
        "othersign_test =  os.path.join(test_dir, 'othersign')\n",
        "\n"
      ],
      "execution_count": 11,
      "outputs": []
    },
    {
      "cell_type": "markdown",
      "metadata": {
        "id": "B6C9ZXIjfdnm",
        "colab_type": "text"
      },
      "source": [
        "#### Ilość poszczegónych zdjęć"
      ]
    },
    {
      "cell_type": "code",
      "metadata": {
        "id": "E34aEB7Obpkm",
        "colab_type": "code",
        "colab": {}
      },
      "source": [
        "cross_origin_path = os.path.abspath(\"/content/drive/My Drive/Colab Notebooks/Road_sign_rec/Data/information--pedestrians-crossing--g1/\")\n",
        "stop_origin_path = os.path.abspath(\"/content/drive/My Drive/Colab Notebooks/Road_sign_rec/Data/regulatory--stop--g1\")\n",
        "limit50_origin_path = os.path.abspath(\"/content/drive/My Drive/Colab Notebooks/Road_sign_rec/Data/regulatory--maximum-speed-limit-50--g1\")\n",
        "nosign_path = os.path.abspath(\"/content/drive/My Drive/Colab Notebooks/Road_sign_rec/Data/NoSign\")\n",
        "nosign_path_2 = os.path.abspath(\"/content/drive/My Drive/Colab Notebooks/Road_sign_rec/Data/NoSign2\")\n",
        "\n",
        "\n",
        "\n",
        "print('Przejscie dla piszych: ',len(os.listdir(cross_origin_path)))\n",
        "print('Stop: ', len(os.listdir(stop_origin_path)))\n",
        "print('Ograniczenie do 50km/h: ', len(os.listdir(limit50_origin_path)))\n",
        "number_of_nosign = len(os.listdir(nosign_path)) + len(os.listdir(nosign_path_2))\n",
        "print('Brak znaku', number_of_nosign)\n"
      ],
      "execution_count": null,
      "outputs": []
    },
    {
      "cell_type": "markdown",
      "metadata": {
        "id": "hfqmdzzsfq81",
        "colab_type": "text"
      },
      "source": [
        "#### Kopowanie i podział zdjęć na treningowe, walidacyjne i testowe\n",
        "\n",
        "---\n",
        "\n"
      ]
    },
    {
      "cell_type": "code",
      "metadata": {
        "id": "Os4zVKiofTDn",
        "colab_type": "code",
        "colab": {
          "base_uri": "https://localhost:8080/",
          "height": 86
        },
        "outputId": "88e0eb4d-5e30-420a-e687-faa1b92ccce6"
      },
      "source": [
        "\n",
        "# # train cross\n",
        "# for image_name in os.listdir(cross_origin_path)[0:1200]:\n",
        "#   src = os.path.join(cross_origin_path, image_name)\n",
        "#   dst = os.path.join(cross_train, image_name)\n",
        "#   shutil.copyfile(src, dst)\n",
        "# print(\"train cross copied\")\n",
        "\n",
        "# # validation cross\n",
        "# for image_name in os.listdir(cross_origin_path)[1200:1800]:\n",
        "#   src = os.path.join(cross_origin_path, image_name)\n",
        "#   dst = os.path.join(cross_val, image_name)\n",
        "#   shutil.copyfile(src, dst)\n",
        "# print(\"validation cross copied\")\n",
        "\n",
        "# # test cross\n",
        "# for image_name in os.listdir(cross_origin_path)[1800:]:\n",
        "#   src = os.path.join(cross_origin_path, image_name)\n",
        "#   dst = os.path.join(cross_test, image_name)\n",
        "#   shutil.copyfile(src, dst)\n",
        "# print(\"test cross copied\")\n",
        "\n",
        "# ##################################\n",
        "\n",
        "# # train stop\n",
        "# i=0\n",
        "# for image_name in os.listdir(stop_origin_path)[0:900]:\n",
        "#   i =+ 1\n",
        "#   src = os.path.join(stop_origin_path, image_name)\n",
        "#   dst = os.path.join(stop_train, image_name)\n",
        "#   shutil.copyfile(src, dst)\n",
        "#   if i == 200 or i == 400 or i == 700:\n",
        "#     print(f\"Copied {i} \")\n",
        "# print(\"train stop copied\")\n",
        "\n",
        "\n",
        "# # validation stop\n",
        "# for image_name in os.listdir(stop_origin_path)[901:1200]:\n",
        "#   src = os.path.join(stop_origin_path, image_name)\n",
        "#   dst = os.path.join(stop_val, image_name)\n",
        "#   shutil.copyfile(src, dst)\n",
        "#   if i == 1050:\n",
        "#     print(f\"Copied {i} \")\n",
        "# print(\"validation stop copied\")\n",
        "\n",
        "# # test stop\n",
        "# for image_name in os.listdir(stop_origin_path)[1201:]:\n",
        "#   src = os.path.join(stop_origin_path, image_name)\n",
        "#   dst = os.path.join(stop_test, image_name)\n",
        "#   shutil.copyfile(src, dst)\n",
        "#   if i == 1300:\n",
        "#     print(f\"Copied {i} \")\n",
        "# print(\"test stop copied\")\n",
        "\n",
        "\n",
        "# ##########################\n",
        "\n",
        "# # train limit50\n",
        "# for image_name in os.listdir(limit50_origin_path)[0:400]:\n",
        "#   src = os.path.join(limit50_origin_path, image_name)\n",
        "#   dst = os.path.join(limit50_train, image_name)\n",
        "#   shutil.copyfile(src, dst)\n",
        "# print(\"train limit50 copied\")\n",
        "\n",
        "# # validation limit50\n",
        "# for image_name in os.listdir(limit50_origin_path)[400:600]:\n",
        "#   src = os.path.join(limit50_origin_path, image_name)\n",
        "#   dst = os.path.join(limit50_val, image_name)\n",
        "#   shutil.copyfile(src, dst)\n",
        "# print(\"validation limit50 copied\")\n",
        "\n",
        "# # test limit50\n",
        "# for image_name in os.listdir(limit50_origin_path)[600:]:\n",
        "#   src = os.path.join(limit50_origin_path, image_name)\n",
        "#   dst = os.path.join(limit50_test, image_name)\n",
        "#   shutil.copyfile(src, dst)\n",
        "# print(\"test limit50 copied\")\n",
        "\n",
        "\n",
        "# #########################\n",
        "\n",
        "\n",
        "# # train NoSign\n",
        "# for image_name in os.listdir(nosign_path)[0:1300]:\n",
        "#   src = os.path.join(nosign_path, image_name)\n",
        "#   dst = os.path.join(nosign_train, image_name)\n",
        "#   shutil.copyfile(src, dst)\n",
        "# print(\"train NoSign copied\")\n",
        "\n",
        "# # validation NoSign\n",
        "# for image_name in os.listdir(nosign_path)[1300:1700]:\n",
        "#   src = os.path.join(nosign_path, image_name)\n",
        "#   dst = os.path.join(nosign_val, image_name)\n",
        "#   shutil.copyfile(src, dst)\n",
        "# print(\"validation NoSign copied\")\n",
        "\n",
        "# # test NoSign\n",
        "# for image_name in os.listdir(nosign_path)[1700:]:\n",
        "#   src = os.path.join(nosign_path, image_name)\n",
        "#   dst = os.path.join(nosign_test, image_name)\n",
        "#   shutil.copyfile(src, dst)\n",
        "# print(\"test NoSign copied\")\n",
        "\n",
        "\n",
        "# # train NoSign2\n",
        "# for image_name in os.listdir(nosign_path_2)[0:1300]:\n",
        "#   src = os.path.join(nosign_path_2, image_name)\n",
        "#   dst = os.path.join(nosign_train, image_name)\n",
        "#   shutil.copyfile(src, dst)\n",
        "# print(\"train NoSign2 copied\")\n",
        "\n",
        "# # validation NoSign2\n",
        "# for image_name in os.listdir(nosign_path_2)[1300:1700]:\n",
        "#   src = os.path.join(nosign_path_2, image_name)\n",
        "#   dst = os.path.join(nosign_val, image_name)\n",
        "#   shutil.copyfile(src, dst)\n",
        "# print(\"validation NoSign2 copied\")\n",
        "\n",
        "# # test NoSign2\n",
        "# for image_name in os.listdir(nosign_path_2)[1700:]:\n",
        "#   src = os.path.join(nosign_path_2, image_name)\n",
        "#   dst = os.path.join(nosign_test, image_name)\n",
        "#   shutil.copyfile(src, dst)\n",
        "# print(\"test NoSign2 copied\")\n",
        "\n",
        "\n"
      ],
      "execution_count": null,
      "outputs": [
        {
          "output_type": "stream",
          "text": [
            "train cross copied\n",
            "validation cross copied\n",
            "test cross copied\n",
            "train stop copied\n"
          ],
          "name": "stdout"
        }
      ]
    },
    {
      "cell_type": "markdown",
      "metadata": {
        "id": "Vv-DHfNSpk4I",
        "colab_type": "text"
      },
      "source": [
        "#### Przekształcanie plików .jpg na tensory - test"
      ]
    },
    {
      "cell_type": "code",
      "metadata": {
        "id": "zmlQShw9k4Eh",
        "colab_type": "code",
        "colab": {}
      },
      "source": [
        "# datagen = ImageDataGenerator(rotation_range=40,\n",
        "#                              width_shift_range=0.2,\n",
        "#                              height_shift_range=0.2,\n",
        "#                              shear_range=0.2,\n",
        "#                              zoom_range=0.2,\n",
        "#                              horizontal_flip=True,\n",
        "#                              fill_mode='nearest') \n",
        "                                  "
      ],
      "execution_count": null,
      "outputs": []
    },
    {
      "cell_type": "code",
      "metadata": {
        "id": "66_xfeCyomy5",
        "colab_type": "code",
        "colab": {}
      },
      "source": [
        "# from keras.preprocessing import image\n",
        "\n",
        "# figure = plt.figure()\n",
        "# fnames = [os.path.join(cross_train, fname) for fname in os.listdir(cross_train)]\n",
        "# img_path = fnames[3]\n",
        "# print(img_path)\n",
        "# img = image.load_img(img_path, target_size=(100, 100))\n",
        "# plt.imshow(img)\n",
        "# x = image.img_to_array(img)\n",
        "# x = x.reshape((1,) + x.shape)\n",
        "# i=1\n",
        "# for batch in datagen.flow(x, batch_size=1):\n",
        "#   plt.subplot(2, 3, i+0)\n",
        "#   plt\n",
        "#   plt.imshow(image.array_to_img(batch[0]))\n",
        "#   i+=1\n",
        "#   if i%5==0:\n",
        "#     break\n",
        "\n",
        "# plt.show()\n",
        "# figure"
      ],
      "execution_count": null,
      "outputs": []
    },
    {
      "cell_type": "code",
      "metadata": {
        "id": "5nWpnNouvnEI",
        "colab_type": "code",
        "colab": {}
      },
      "source": [
        "# figure = plt.figure()\n",
        "# fnames = [os.path.join(cross_train, fname) for fname in os.listdir(cross_train)]\n",
        "# img_path = fnames[3]\n",
        "# print(img_path)\n",
        "# img = image.load_img(img_path, target_size=(100, 100))\n",
        "# plt.imshow(img)\n",
        "# figure"
      ],
      "execution_count": null,
      "outputs": []
    },
    {
      "cell_type": "markdown",
      "metadata": {
        "id": "pPa9uA1YdV8D",
        "colab_type": "text"
      },
      "source": [
        "##Modele"
      ]
    },
    {
      "cell_type": "markdown",
      "metadata": {
        "id": "ofyIFmX1dnj7",
        "colab_type": "text"
      },
      "source": [
        "###Przygotowanie parametrów"
      ]
    },
    {
      "cell_type": "markdown",
      "metadata": {
        "id": "XgLfl0i-dLft",
        "colab_type": "text"
      },
      "source": [
        "####Ustawienia genereatora zdjęć"
      ]
    },
    {
      "cell_type": "code",
      "metadata": {
        "id": "EDi-Uu2-pkJX",
        "colab_type": "code",
        "colab": {
          "base_uri": "https://localhost:8080/",
          "height": 52
        },
        "outputId": "f4b9829f-2817-4efb-c646-fed2b07a5bb3"
      },
      "source": [
        "batch_size = 64\n",
        "picture_size = 96\n",
        "class_mode = \"categorical\"\n",
        "\n",
        "train_datagen = ImageDataGenerator(rescale=1./255,\n",
        "                                  rotation_range=20,\n",
        "                                  width_shift_range=0.2,\n",
        "                                  height_shift_range=0.2,\n",
        "                                  shear_range=0.2,\n",
        "                                  zoom_range=0.2,\n",
        "                                  horizontal_flip=False,\n",
        "                                  vertical_flip=False,                                   \n",
        "                                  fill_mode='nearest')\n",
        "valid_datagen = ImageDataGenerator(rescale=1./255)\n",
        "\n",
        "train_generator = train_datagen.flow_from_directory(\n",
        "    train_dir,\n",
        "    target_size = (picture_size,picture_size),\n",
        "    batch_size = batch_size,\n",
        "    class_mode = class_mode\n",
        ")\n",
        "\n",
        "valid_generator = valid_datagen.flow_from_directory(\n",
        "    valid_dir,\n",
        "    target_size = (picture_size,picture_size),\n",
        "    batch_size = batch_size,\n",
        "    class_mode = class_mode\n",
        "\n",
        ")\n",
        "number_of_classes = len(train_generator.class_indices)\n"
      ],
      "execution_count": 12,
      "outputs": [
        {
          "output_type": "stream",
          "text": [
            "Found 16963 images belonging to 10 classes.\n",
            "Found 7890 images belonging to 10 classes.\n"
          ],
          "name": "stdout"
        }
      ]
    },
    {
      "cell_type": "markdown",
      "metadata": {
        "id": "NYdvsc8NdeCS",
        "colab_type": "text"
      },
      "source": [
        "####Parametry modelu"
      ]
    },
    {
      "cell_type": "code",
      "metadata": {
        "id": "PgyduY3d4oUo",
        "colab_type": "code",
        "colab": {}
      },
      "source": [
        "INIT_LR = 1e-3\n",
        "epochs = 150\n",
        "opt = optimizers.Adam(lr=INIT_LR, decay=INIT_LR / epochs)\n",
        "metrics = 'categorical_accuracy'\n",
        "activation = 'softmax'\n",
        "loss = 'categorical_crossentropy'"
      ],
      "execution_count": 13,
      "outputs": []
    },
    {
      "cell_type": "markdown",
      "metadata": {
        "id": "z2lf8GKcXJM2",
        "colab_type": "text"
      },
      "source": [
        "###Model multi-classes classification - własny"
      ]
    },
    {
      "cell_type": "code",
      "metadata": {
        "id": "iwxU5MoBXBgL",
        "colab_type": "code",
        "colab": {}
      },
      "source": [
        "dropout_1 = 0.35\n",
        "dropout_2 = 0.3\n",
        "dropout_3 = 0.3\n",
        "dropout_4 = 0.4\n",
        "dropout_5 = 0.3\n",
        "dropout_6 = 0.25\n",
        "\n",
        "model = models.Sequential()\n",
        "model.add(layers.Conv2D(32, (3, 3), activation='relu', input_shape=(picture_size, picture_size, 3)))\n",
        "model.add(layers.MaxPool2D((2, 2)))\n",
        "model.add(layers.Dropout(dropout_1))\n",
        "\n",
        "model.add(layers.Conv2D(64, (3, 3), activation='relu'))\n",
        "model.add(layers.MaxPool2D((2, 2)))\n",
        "model.add(layers.Dropout(dropout_2))\n",
        "\n",
        "model.add(layers.Conv2D(64, (3,3), activation='relu'))\n",
        "model.add(layers.MaxPool2D((2, 2)))\n",
        "model.add(layers.Dropout(dropout_3))\n",
        "\n",
        "model.add(layers.Conv2D(128, (3,3), activation='relu'))\n",
        "model.add(layers.MaxPool2D((2, 2)))\n",
        "model.add(layers.Dropout(dropout_4))\n",
        "\n",
        "model.add(layers.Conv2D(128, (3,3), activation='relu'))\n",
        "model.add(layers.MaxPool2D((2, 2)))\n",
        "model.add(layers.Dropout(dropout_5))\n",
        "\n",
        "model.add(layers.Flatten())\n",
        "model.add(layers.Dense(1024, activation=\"relu\"))\n",
        "model.add(layers.BatchNormalization())\n",
        "model.add(layers.Dropout(dropout_6))\n",
        "model.add(layers.Dense(number_of_classes))\n",
        "model.add(layers.Activation(activation))\n",
        "\n",
        "model.compile(\n",
        "    loss=loss,\n",
        "    optimizer=opt,\n",
        "    metrics=[metrics]\n",
        "    )\n",
        "# model.summary()"
      ],
      "execution_count": 14,
      "outputs": []
    },
    {
      "cell_type": "markdown",
      "metadata": {
        "id": "Zep2Kx6fZVYp",
        "colab_type": "text"
      },
      "source": [
        "###Pretrained model"
      ]
    },
    {
      "cell_type": "code",
      "metadata": {
        "id": "kl5g-tmHZdVB",
        "colab_type": "code",
        "colab": {}
      },
      "source": [
        "from keras.applications import VGG16\n",
        "pretrain_model = VGG16(weights='imagenet',include_top=False,input_shape=(100, 100, 3))"
      ],
      "execution_count": null,
      "outputs": []
    },
    {
      "cell_type": "code",
      "metadata": {
        "id": "z0U6jTJWZ6mm",
        "colab_type": "code",
        "colab": {}
      },
      "source": [
        "model = models.Sequential()\n",
        "model.add(pretrain_model)\n",
        "model.add(layers.Flatten())\n",
        "model.add(layers.Dense(1024, activation=\"relu\"))\n",
        "model.add(layers.BatchNormalization())\n",
        "model.add(layers.Dropout(0.2))\n",
        "model.add(layers.Dense(number_of_classes))\n",
        "model.add(layers.Activation(activation))\n",
        "model.compile(\n",
        "    loss='categorical_crossentropy',\n",
        "    optimizer=opt,\n",
        "    metrics=['acc']\n",
        "    )\n",
        "model.summary()"
      ],
      "execution_count": null,
      "outputs": []
    },
    {
      "cell_type": "markdown",
      "metadata": {
        "id": "IkvAD2gnZd60",
        "colab_type": "text"
      },
      "source": [
        "###Fit model"
      ]
    },
    {
      "cell_type": "code",
      "metadata": {
        "id": "gBDd5q9nq23t",
        "colab_type": "code",
        "colab": {
          "base_uri": "https://localhost:8080/",
          "height": 1000
        },
        "outputId": "180badb8-fecf-4623-fe8d-13662e382d86"
      },
      "source": [
        "history = model.fit_generator(\n",
        "    train_generator,\n",
        "    steps_per_epoch=100,\n",
        "    epochs=epochs,\n",
        "    validation_data=valid_generator,\n",
        "    validation_steps=50\n",
        ")\n",
        "\n",
        "\n",
        "time_stemp = time.strftime(\"%d%m%Y%H%M%S\")\n",
        "model_name = f'model_signs_{number_of_classes}_classes_{activation}_{time_stemp}.h5'\n",
        "path_to_save = \"/content/drive/My Drive/Colab Notebooks/Road_sign_rec\"\n",
        "model_path = os.path.join(path_to_save, model_name)\n",
        "model.save(model_path)\n",
        "print(f\"Saved model as {model_name}\")\n"
      ],
      "execution_count": 15,
      "outputs": [
        {
          "output_type": "stream",
          "text": [
            "Epoch 1/150\n",
            "100/100 [==============================] - 29s 290ms/step - loss: 1.8462 - categorical_accuracy: 0.4064 - val_loss: 2.0537 - val_categorical_accuracy: 0.3300\n",
            "Epoch 2/150\n",
            "100/100 [==============================] - 22s 219ms/step - loss: 1.3803 - categorical_accuracy: 0.5323 - val_loss: 1.9083 - val_categorical_accuracy: 0.3284\n",
            "Epoch 3/150\n",
            "100/100 [==============================] - 22s 222ms/step - loss: 1.2337 - categorical_accuracy: 0.5747 - val_loss: 1.8756 - val_categorical_accuracy: 0.3310\n",
            "Epoch 4/150\n",
            "100/100 [==============================] - 22s 224ms/step - loss: 1.1403 - categorical_accuracy: 0.6067 - val_loss: 1.6557 - val_categorical_accuracy: 0.4419\n",
            "Epoch 5/150\n",
            "100/100 [==============================] - 22s 224ms/step - loss: 1.0378 - categorical_accuracy: 0.6250 - val_loss: 1.3561 - val_categorical_accuracy: 0.5441\n",
            "Epoch 6/150\n",
            "100/100 [==============================] - 22s 223ms/step - loss: 0.9873 - categorical_accuracy: 0.6499 - val_loss: 0.9904 - val_categorical_accuracy: 0.5609\n",
            "Epoch 7/150\n",
            "100/100 [==============================] - 22s 222ms/step - loss: 0.9530 - categorical_accuracy: 0.6541 - val_loss: 1.2477 - val_categorical_accuracy: 0.6203\n",
            "Epoch 8/150\n",
            "100/100 [==============================] - 22s 223ms/step - loss: 0.9116 - categorical_accuracy: 0.6694 - val_loss: 0.9240 - val_categorical_accuracy: 0.6661\n",
            "Epoch 9/150\n",
            "100/100 [==============================] - 22s 222ms/step - loss: 0.8754 - categorical_accuracy: 0.6788 - val_loss: 0.8260 - val_categorical_accuracy: 0.7075\n",
            "Epoch 10/150\n",
            "100/100 [==============================] - 23s 227ms/step - loss: 0.8030 - categorical_accuracy: 0.7030 - val_loss: 0.6174 - val_categorical_accuracy: 0.7590\n",
            "Epoch 11/150\n",
            "100/100 [==============================] - 22s 217ms/step - loss: 0.8032 - categorical_accuracy: 0.7042 - val_loss: 0.7140 - val_categorical_accuracy: 0.7447\n",
            "Epoch 12/150\n",
            "100/100 [==============================] - 23s 227ms/step - loss: 0.7462 - categorical_accuracy: 0.7236 - val_loss: 0.5165 - val_categorical_accuracy: 0.7809\n",
            "Epoch 13/150\n",
            "100/100 [==============================] - 22s 221ms/step - loss: 0.7234 - categorical_accuracy: 0.7352 - val_loss: 0.6437 - val_categorical_accuracy: 0.8224\n",
            "Epoch 14/150\n",
            "100/100 [==============================] - 23s 230ms/step - loss: 0.6602 - categorical_accuracy: 0.7598 - val_loss: 0.5669 - val_categorical_accuracy: 0.7619\n",
            "Epoch 15/150\n",
            "100/100 [==============================] - 22s 221ms/step - loss: 0.6919 - categorical_accuracy: 0.7544 - val_loss: 0.3946 - val_categorical_accuracy: 0.8507\n",
            "Epoch 16/150\n",
            "100/100 [==============================] - 23s 227ms/step - loss: 0.6428 - categorical_accuracy: 0.7647 - val_loss: 0.2378 - val_categorical_accuracy: 0.8797\n",
            "Epoch 17/150\n",
            "100/100 [==============================] - 23s 226ms/step - loss: 0.5671 - categorical_accuracy: 0.7934 - val_loss: 0.2450 - val_categorical_accuracy: 0.9156\n",
            "Epoch 18/150\n",
            "100/100 [==============================] - 23s 226ms/step - loss: 0.5932 - categorical_accuracy: 0.7872 - val_loss: 0.1978 - val_categorical_accuracy: 0.8982\n",
            "Epoch 19/150\n",
            "100/100 [==============================] - 22s 223ms/step - loss: 0.5711 - categorical_accuracy: 0.7995 - val_loss: 0.3338 - val_categorical_accuracy: 0.8828\n",
            "Epoch 20/150\n",
            "100/100 [==============================] - 22s 217ms/step - loss: 0.5332 - categorical_accuracy: 0.8156 - val_loss: 0.3828 - val_categorical_accuracy: 0.9090\n",
            "Epoch 21/150\n",
            "100/100 [==============================] - 23s 228ms/step - loss: 0.5113 - categorical_accuracy: 0.8186 - val_loss: 0.1440 - val_categorical_accuracy: 0.9247\n",
            "Epoch 22/150\n",
            "100/100 [==============================] - 22s 223ms/step - loss: 0.5069 - categorical_accuracy: 0.8202 - val_loss: 0.3485 - val_categorical_accuracy: 0.8978\n",
            "Epoch 23/150\n",
            "100/100 [==============================] - 22s 221ms/step - loss: 0.5030 - categorical_accuracy: 0.8271 - val_loss: 0.3821 - val_categorical_accuracy: 0.8951\n",
            "Epoch 24/150\n",
            "100/100 [==============================] - 23s 227ms/step - loss: 0.5005 - categorical_accuracy: 0.8211 - val_loss: 0.1683 - val_categorical_accuracy: 0.9212\n",
            "Epoch 25/150\n",
            "100/100 [==============================] - 23s 227ms/step - loss: 0.4788 - categorical_accuracy: 0.8327 - val_loss: 0.3705 - val_categorical_accuracy: 0.9131\n",
            "Epoch 26/150\n",
            "100/100 [==============================] - 22s 222ms/step - loss: 0.4410 - categorical_accuracy: 0.8444 - val_loss: 0.1793 - val_categorical_accuracy: 0.9359\n",
            "Epoch 27/150\n",
            "100/100 [==============================] - 23s 225ms/step - loss: 0.4835 - categorical_accuracy: 0.8329 - val_loss: 0.2288 - val_categorical_accuracy: 0.9422\n",
            "Epoch 28/150\n",
            "100/100 [==============================] - 22s 224ms/step - loss: 0.4388 - categorical_accuracy: 0.8458 - val_loss: 0.1049 - val_categorical_accuracy: 0.9344\n",
            "Epoch 29/150\n",
            "100/100 [==============================] - 22s 220ms/step - loss: 0.4002 - categorical_accuracy: 0.8601 - val_loss: 0.1051 - val_categorical_accuracy: 0.9559\n",
            "Epoch 30/150\n",
            "100/100 [==============================] - 22s 224ms/step - loss: 0.4079 - categorical_accuracy: 0.8612 - val_loss: 0.2857 - val_categorical_accuracy: 0.9436\n",
            "Epoch 31/150\n",
            "100/100 [==============================] - 23s 227ms/step - loss: 0.4553 - categorical_accuracy: 0.8455 - val_loss: 0.1683 - val_categorical_accuracy: 0.9456\n",
            "Epoch 32/150\n",
            "100/100 [==============================] - 23s 225ms/step - loss: 0.4180 - categorical_accuracy: 0.8534 - val_loss: 0.1839 - val_categorical_accuracy: 0.9450\n",
            "Epoch 33/150\n",
            "100/100 [==============================] - 23s 226ms/step - loss: 0.4065 - categorical_accuracy: 0.8547 - val_loss: 0.0537 - val_categorical_accuracy: 0.9572\n",
            "Epoch 34/150\n",
            "100/100 [==============================] - 22s 221ms/step - loss: 0.4009 - categorical_accuracy: 0.8647 - val_loss: 0.2075 - val_categorical_accuracy: 0.9525\n",
            "Epoch 35/150\n",
            "100/100 [==============================] - 23s 228ms/step - loss: 0.3769 - categorical_accuracy: 0.8719 - val_loss: 0.1835 - val_categorical_accuracy: 0.9673\n",
            "Epoch 36/150\n",
            "100/100 [==============================] - 22s 222ms/step - loss: 0.3727 - categorical_accuracy: 0.8695 - val_loss: 0.2551 - val_categorical_accuracy: 0.9528\n",
            "Epoch 37/150\n",
            "100/100 [==============================] - 22s 222ms/step - loss: 0.3604 - categorical_accuracy: 0.8763 - val_loss: 0.0702 - val_categorical_accuracy: 0.9503\n",
            "Epoch 38/150\n",
            "100/100 [==============================] - 23s 229ms/step - loss: 0.3637 - categorical_accuracy: 0.8773 - val_loss: 0.0622 - val_categorical_accuracy: 0.9531\n",
            "Epoch 39/150\n",
            "100/100 [==============================] - 22s 224ms/step - loss: 0.3581 - categorical_accuracy: 0.8795 - val_loss: 0.0759 - val_categorical_accuracy: 0.9597\n",
            "Epoch 40/150\n",
            "100/100 [==============================] - 22s 219ms/step - loss: 0.3507 - categorical_accuracy: 0.8779 - val_loss: 0.1045 - val_categorical_accuracy: 0.9547\n",
            "Epoch 41/150\n",
            "100/100 [==============================] - 23s 226ms/step - loss: 0.3397 - categorical_accuracy: 0.8807 - val_loss: 0.2393 - val_categorical_accuracy: 0.9556\n",
            "Epoch 42/150\n",
            "100/100 [==============================] - 22s 225ms/step - loss: 0.3250 - categorical_accuracy: 0.8892 - val_loss: 0.1384 - val_categorical_accuracy: 0.9609\n",
            "Epoch 43/150\n",
            "100/100 [==============================] - 23s 228ms/step - loss: 0.3259 - categorical_accuracy: 0.8878 - val_loss: 0.0403 - val_categorical_accuracy: 0.9635\n",
            "Epoch 44/150\n",
            "100/100 [==============================] - 22s 221ms/step - loss: 0.3390 - categorical_accuracy: 0.8885 - val_loss: 0.1814 - val_categorical_accuracy: 0.9575\n",
            "Epoch 45/150\n",
            "100/100 [==============================] - 22s 222ms/step - loss: 0.3229 - categorical_accuracy: 0.8950 - val_loss: 0.0348 - val_categorical_accuracy: 0.9696\n",
            "Epoch 46/150\n",
            "100/100 [==============================] - 23s 227ms/step - loss: 0.3365 - categorical_accuracy: 0.8858 - val_loss: 0.0485 - val_categorical_accuracy: 0.9669\n",
            "Epoch 47/150\n",
            "100/100 [==============================] - 22s 224ms/step - loss: 0.2982 - categorical_accuracy: 0.8992 - val_loss: 0.0244 - val_categorical_accuracy: 0.9681\n",
            "Epoch 48/150\n",
            "100/100 [==============================] - 23s 227ms/step - loss: 0.3070 - categorical_accuracy: 0.8947 - val_loss: 0.2531 - val_categorical_accuracy: 0.9667\n",
            "Epoch 49/150\n",
            "100/100 [==============================] - 23s 225ms/step - loss: 0.3075 - categorical_accuracy: 0.8991 - val_loss: 0.0527 - val_categorical_accuracy: 0.9750\n",
            "Epoch 50/150\n",
            "100/100 [==============================] - 22s 224ms/step - loss: 0.3130 - categorical_accuracy: 0.8932 - val_loss: 0.0268 - val_categorical_accuracy: 0.9743\n",
            "Epoch 51/150\n",
            "100/100 [==============================] - 22s 225ms/step - loss: 0.2987 - categorical_accuracy: 0.9003 - val_loss: 0.1120 - val_categorical_accuracy: 0.9688\n",
            "Epoch 52/150\n",
            "100/100 [==============================] - 22s 222ms/step - loss: 0.3072 - categorical_accuracy: 0.9001 - val_loss: 0.0377 - val_categorical_accuracy: 0.9703\n",
            "Epoch 53/150\n",
            "100/100 [==============================] - 23s 226ms/step - loss: 0.3267 - categorical_accuracy: 0.8889 - val_loss: 0.2725 - val_categorical_accuracy: 0.9680\n",
            "Epoch 54/150\n",
            "100/100 [==============================] - 22s 225ms/step - loss: 0.2985 - categorical_accuracy: 0.8984 - val_loss: 0.0764 - val_categorical_accuracy: 0.9638\n",
            "Epoch 55/150\n",
            "100/100 [==============================] - 22s 223ms/step - loss: 0.3119 - categorical_accuracy: 0.8973 - val_loss: 0.0380 - val_categorical_accuracy: 0.9642\n",
            "Epoch 56/150\n",
            "100/100 [==============================] - 22s 225ms/step - loss: 0.3015 - categorical_accuracy: 0.9006 - val_loss: 0.1434 - val_categorical_accuracy: 0.9741\n",
            "Epoch 57/150\n",
            "100/100 [==============================] - 23s 227ms/step - loss: 0.2813 - categorical_accuracy: 0.9064 - val_loss: 0.0605 - val_categorical_accuracy: 0.9631\n",
            "Epoch 58/150\n",
            "100/100 [==============================] - 23s 226ms/step - loss: 0.2677 - categorical_accuracy: 0.9097 - val_loss: 0.0243 - val_categorical_accuracy: 0.9702\n",
            "Epoch 59/150\n",
            "100/100 [==============================] - 22s 220ms/step - loss: 0.3162 - categorical_accuracy: 0.8985 - val_loss: 0.1353 - val_categorical_accuracy: 0.9737\n",
            "Epoch 60/150\n",
            "100/100 [==============================] - 23s 226ms/step - loss: 0.2765 - categorical_accuracy: 0.9087 - val_loss: 0.0956 - val_categorical_accuracy: 0.9765\n",
            "Epoch 61/150\n",
            "100/100 [==============================] - 23s 225ms/step - loss: 0.2801 - categorical_accuracy: 0.9066 - val_loss: 0.0320 - val_categorical_accuracy: 0.9769\n",
            "Epoch 62/150\n",
            "100/100 [==============================] - 22s 223ms/step - loss: 0.2751 - categorical_accuracy: 0.9083 - val_loss: 0.0911 - val_categorical_accuracy: 0.9800\n",
            "Epoch 63/150\n",
            "100/100 [==============================] - 23s 229ms/step - loss: 0.2653 - categorical_accuracy: 0.9114 - val_loss: 0.0680 - val_categorical_accuracy: 0.9803\n",
            "Epoch 64/150\n",
            "100/100 [==============================] - 22s 223ms/step - loss: 0.2822 - categorical_accuracy: 0.9090 - val_loss: 0.0628 - val_categorical_accuracy: 0.9706\n",
            "Epoch 65/150\n",
            "100/100 [==============================] - 22s 217ms/step - loss: 0.3554 - categorical_accuracy: 0.8856 - val_loss: 0.1654 - val_categorical_accuracy: 0.9683\n",
            "Epoch 66/150\n",
            "100/100 [==============================] - 23s 226ms/step - loss: 0.2965 - categorical_accuracy: 0.8988 - val_loss: 0.0826 - val_categorical_accuracy: 0.9709\n",
            "Epoch 67/150\n",
            "100/100 [==============================] - 23s 226ms/step - loss: 0.2586 - categorical_accuracy: 0.9177 - val_loss: 0.0615 - val_categorical_accuracy: 0.9746\n",
            "Epoch 68/150\n",
            "100/100 [==============================] - 23s 227ms/step - loss: 0.2896 - categorical_accuracy: 0.9067 - val_loss: 0.1131 - val_categorical_accuracy: 0.9784\n",
            "Epoch 69/150\n",
            "100/100 [==============================] - 22s 223ms/step - loss: 0.2667 - categorical_accuracy: 0.9072 - val_loss: 0.0976 - val_categorical_accuracy: 0.9619\n",
            "Epoch 70/150\n",
            "100/100 [==============================] - 23s 227ms/step - loss: 0.2803 - categorical_accuracy: 0.9053 - val_loss: 0.0923 - val_categorical_accuracy: 0.9769\n",
            "Epoch 71/150\n",
            "100/100 [==============================] - 23s 226ms/step - loss: 0.2404 - categorical_accuracy: 0.9187 - val_loss: 0.0936 - val_categorical_accuracy: 0.9741\n",
            "Epoch 72/150\n",
            "100/100 [==============================] - 22s 222ms/step - loss: 0.2686 - categorical_accuracy: 0.9158 - val_loss: 0.0827 - val_categorical_accuracy: 0.9807\n",
            "Epoch 73/150\n",
            "100/100 [==============================] - 22s 225ms/step - loss: 0.2501 - categorical_accuracy: 0.9177 - val_loss: 0.0542 - val_categorical_accuracy: 0.9656\n",
            "Epoch 74/150\n",
            "100/100 [==============================] - 23s 232ms/step - loss: 0.2636 - categorical_accuracy: 0.9144 - val_loss: 0.0323 - val_categorical_accuracy: 0.9737\n",
            "Epoch 75/150\n",
            "100/100 [==============================] - 22s 218ms/step - loss: 0.2666 - categorical_accuracy: 0.9143 - val_loss: 0.0713 - val_categorical_accuracy: 0.9734\n",
            "Epoch 76/150\n",
            "100/100 [==============================] - 23s 225ms/step - loss: 0.2783 - categorical_accuracy: 0.9156 - val_loss: 0.0793 - val_categorical_accuracy: 0.9747\n",
            "Epoch 77/150\n",
            "100/100 [==============================] - 22s 224ms/step - loss: 0.2775 - categorical_accuracy: 0.9132 - val_loss: 0.0250 - val_categorical_accuracy: 0.9756\n",
            "Epoch 78/150\n",
            "100/100 [==============================] - 22s 224ms/step - loss: 0.2329 - categorical_accuracy: 0.9230 - val_loss: 0.1987 - val_categorical_accuracy: 0.9775\n",
            "Epoch 79/150\n",
            "100/100 [==============================] - 22s 225ms/step - loss: 0.2411 - categorical_accuracy: 0.9218 - val_loss: 0.1619 - val_categorical_accuracy: 0.9647\n",
            "Epoch 80/150\n",
            "100/100 [==============================] - 22s 225ms/step - loss: 0.2805 - categorical_accuracy: 0.9073 - val_loss: 0.1459 - val_categorical_accuracy: 0.9769\n",
            "Epoch 81/150\n",
            "100/100 [==============================] - 22s 222ms/step - loss: 0.2280 - categorical_accuracy: 0.9267 - val_loss: 0.0253 - val_categorical_accuracy: 0.9775\n",
            "Epoch 82/150\n",
            "100/100 [==============================] - 22s 225ms/step - loss: 0.2788 - categorical_accuracy: 0.9117 - val_loss: 0.0546 - val_categorical_accuracy: 0.9822\n",
            "Epoch 83/150\n",
            "100/100 [==============================] - 23s 226ms/step - loss: 0.2407 - categorical_accuracy: 0.9219 - val_loss: 0.0544 - val_categorical_accuracy: 0.9762\n",
            "Epoch 84/150\n",
            "100/100 [==============================] - 23s 227ms/step - loss: 0.2343 - categorical_accuracy: 0.9237 - val_loss: 0.0985 - val_categorical_accuracy: 0.9831\n",
            "Epoch 85/150\n",
            "100/100 [==============================] - 22s 224ms/step - loss: 0.2099 - categorical_accuracy: 0.9277 - val_loss: 0.0513 - val_categorical_accuracy: 0.9781\n",
            "Epoch 86/150\n",
            "100/100 [==============================] - 22s 224ms/step - loss: 0.2346 - categorical_accuracy: 0.9236 - val_loss: 0.0437 - val_categorical_accuracy: 0.9847\n",
            "Epoch 87/150\n",
            "100/100 [==============================] - 23s 225ms/step - loss: 0.2111 - categorical_accuracy: 0.9306 - val_loss: 0.0254 - val_categorical_accuracy: 0.9822\n",
            "Epoch 88/150\n",
            "100/100 [==============================] - 22s 223ms/step - loss: 0.2278 - categorical_accuracy: 0.9290 - val_loss: 0.0879 - val_categorical_accuracy: 0.9794\n",
            "Epoch 89/150\n",
            "100/100 [==============================] - 23s 227ms/step - loss: 0.2186 - categorical_accuracy: 0.9300 - val_loss: 0.0096 - val_categorical_accuracy: 0.9791\n",
            "Epoch 90/150\n",
            "100/100 [==============================] - 22s 222ms/step - loss: 0.1989 - categorical_accuracy: 0.9336 - val_loss: 0.0524 - val_categorical_accuracy: 0.9832\n",
            "Epoch 91/150\n",
            "100/100 [==============================] - 23s 226ms/step - loss: 0.2143 - categorical_accuracy: 0.9300 - val_loss: 0.0248 - val_categorical_accuracy: 0.9812\n",
            "Epoch 92/150\n",
            "100/100 [==============================] - 23s 228ms/step - loss: 0.2181 - categorical_accuracy: 0.9267 - val_loss: 0.0637 - val_categorical_accuracy: 0.9765\n",
            "Epoch 93/150\n",
            "100/100 [==============================] - 22s 223ms/step - loss: 0.2262 - categorical_accuracy: 0.9269 - val_loss: 0.0341 - val_categorical_accuracy: 0.9819\n",
            "Epoch 94/150\n",
            "100/100 [==============================] - 22s 222ms/step - loss: 0.2188 - categorical_accuracy: 0.9287 - val_loss: 0.0292 - val_categorical_accuracy: 0.9828\n",
            "Epoch 95/150\n",
            "100/100 [==============================] - 23s 226ms/step - loss: 0.1924 - categorical_accuracy: 0.9391 - val_loss: 0.0435 - val_categorical_accuracy: 0.9848\n",
            "Epoch 96/150\n",
            "100/100 [==============================] - 23s 230ms/step - loss: 0.2102 - categorical_accuracy: 0.9275 - val_loss: 0.0337 - val_categorical_accuracy: 0.9841\n",
            "Epoch 97/150\n",
            "100/100 [==============================] - 22s 222ms/step - loss: 0.2160 - categorical_accuracy: 0.9328 - val_loss: 0.0117 - val_categorical_accuracy: 0.9800\n",
            "Epoch 98/150\n",
            "100/100 [==============================] - 23s 228ms/step - loss: 0.2150 - categorical_accuracy: 0.9300 - val_loss: 0.2030 - val_categorical_accuracy: 0.9822\n",
            "Epoch 99/150\n",
            "100/100 [==============================] - 22s 222ms/step - loss: 0.2092 - categorical_accuracy: 0.9344 - val_loss: 0.0523 - val_categorical_accuracy: 0.9825\n",
            "Epoch 100/150\n",
            "100/100 [==============================] - 23s 229ms/step - loss: 0.2174 - categorical_accuracy: 0.9306 - val_loss: 0.0038 - val_categorical_accuracy: 0.9860\n",
            "Epoch 101/150\n",
            "100/100 [==============================] - 22s 222ms/step - loss: 0.2234 - categorical_accuracy: 0.9266 - val_loss: 0.0096 - val_categorical_accuracy: 0.9844\n",
            "Epoch 102/150\n",
            "100/100 [==============================] - 23s 227ms/step - loss: 0.2140 - categorical_accuracy: 0.9300 - val_loss: 0.0177 - val_categorical_accuracy: 0.9797\n",
            "Epoch 103/150\n",
            "100/100 [==============================] - 23s 230ms/step - loss: 0.1864 - categorical_accuracy: 0.9411 - val_loss: 0.0415 - val_categorical_accuracy: 0.9841\n",
            "Epoch 104/150\n",
            "100/100 [==============================] - 22s 221ms/step - loss: 0.1966 - categorical_accuracy: 0.9339 - val_loss: 0.0645 - val_categorical_accuracy: 0.9853\n",
            "Epoch 105/150\n",
            "100/100 [==============================] - 23s 229ms/step - loss: 0.1983 - categorical_accuracy: 0.9386 - val_loss: 0.0113 - val_categorical_accuracy: 0.9848\n",
            "Epoch 106/150\n",
            "100/100 [==============================] - 22s 220ms/step - loss: 0.1909 - categorical_accuracy: 0.9381 - val_loss: 0.0404 - val_categorical_accuracy: 0.9844\n",
            "Epoch 107/150\n",
            "100/100 [==============================] - 23s 230ms/step - loss: 0.2090 - categorical_accuracy: 0.9355 - val_loss: 0.1623 - val_categorical_accuracy: 0.9829\n",
            "Epoch 108/150\n",
            "100/100 [==============================] - 23s 226ms/step - loss: 0.1887 - categorical_accuracy: 0.9372 - val_loss: 0.0418 - val_categorical_accuracy: 0.9819\n",
            "Epoch 109/150\n",
            "100/100 [==============================] - 22s 216ms/step - loss: 0.1818 - categorical_accuracy: 0.9445 - val_loss: 0.0161 - val_categorical_accuracy: 0.9869\n",
            "Epoch 110/150\n",
            "100/100 [==============================] - 23s 232ms/step - loss: 0.2208 - categorical_accuracy: 0.9415 - val_loss: 0.1692 - val_categorical_accuracy: 0.9711\n",
            "Epoch 111/150\n",
            "100/100 [==============================] - 23s 226ms/step - loss: 0.3147 - categorical_accuracy: 0.9028 - val_loss: 0.1024 - val_categorical_accuracy: 0.9775\n",
            "Epoch 112/150\n",
            "100/100 [==============================] - 23s 225ms/step - loss: 0.2260 - categorical_accuracy: 0.9270 - val_loss: 0.0161 - val_categorical_accuracy: 0.9822\n",
            "Epoch 113/150\n",
            "100/100 [==============================] - 23s 226ms/step - loss: 0.2195 - categorical_accuracy: 0.9307 - val_loss: 0.0226 - val_categorical_accuracy: 0.9869\n",
            "Epoch 114/150\n",
            "100/100 [==============================] - 22s 224ms/step - loss: 0.2011 - categorical_accuracy: 0.9359 - val_loss: 0.0876 - val_categorical_accuracy: 0.9844\n",
            "Epoch 115/150\n",
            "100/100 [==============================] - 23s 230ms/step - loss: 0.1964 - categorical_accuracy: 0.9348 - val_loss: 0.1551 - val_categorical_accuracy: 0.9822\n",
            "Epoch 116/150\n",
            "100/100 [==============================] - 22s 221ms/step - loss: 0.1823 - categorical_accuracy: 0.9416 - val_loss: 0.0747 - val_categorical_accuracy: 0.9822\n",
            "Epoch 117/150\n",
            "100/100 [==============================] - 22s 216ms/step - loss: 0.2000 - categorical_accuracy: 0.9359 - val_loss: 0.0714 - val_categorical_accuracy: 0.9813\n",
            "Epoch 118/150\n",
            "100/100 [==============================] - 24s 235ms/step - loss: 0.1894 - categorical_accuracy: 0.9380 - val_loss: 0.0085 - val_categorical_accuracy: 0.9878\n",
            "Epoch 119/150\n",
            "100/100 [==============================] - 23s 226ms/step - loss: 0.1838 - categorical_accuracy: 0.9397 - val_loss: 0.1288 - val_categorical_accuracy: 0.9781\n",
            "Epoch 120/150\n",
            "100/100 [==============================] - 23s 228ms/step - loss: 0.2261 - categorical_accuracy: 0.9285 - val_loss: 0.0370 - val_categorical_accuracy: 0.9838\n",
            "Epoch 121/150\n",
            "100/100 [==============================] - 23s 225ms/step - loss: 0.1878 - categorical_accuracy: 0.9395 - val_loss: 0.0132 - val_categorical_accuracy: 0.9825\n",
            "Epoch 122/150\n",
            "100/100 [==============================] - 22s 221ms/step - loss: 0.1765 - categorical_accuracy: 0.9460 - val_loss: 0.0679 - val_categorical_accuracy: 0.9788\n",
            "Epoch 123/150\n",
            "100/100 [==============================] - 23s 226ms/step - loss: 0.1956 - categorical_accuracy: 0.9381 - val_loss: 0.0772 - val_categorical_accuracy: 0.9850\n",
            "Epoch 124/150\n",
            "100/100 [==============================] - 23s 225ms/step - loss: 0.1920 - categorical_accuracy: 0.9388 - val_loss: 0.0052 - val_categorical_accuracy: 0.9860\n",
            "Epoch 125/150\n",
            "100/100 [==============================] - 21s 214ms/step - loss: 0.1852 - categorical_accuracy: 0.9410 - val_loss: 0.0701 - val_categorical_accuracy: 0.9831\n",
            "Epoch 126/150\n",
            "100/100 [==============================] - 24s 241ms/step - loss: 0.1800 - categorical_accuracy: 0.9453 - val_loss: 0.0160 - val_categorical_accuracy: 0.9859\n",
            "Epoch 127/150\n",
            "100/100 [==============================] - 22s 222ms/step - loss: 0.2317 - categorical_accuracy: 0.9334 - val_loss: 0.1100 - val_categorical_accuracy: 0.9680\n",
            "Epoch 128/150\n",
            "100/100 [==============================] - 22s 224ms/step - loss: 0.2143 - categorical_accuracy: 0.9350 - val_loss: 0.0089 - val_categorical_accuracy: 0.9906\n",
            "Epoch 129/150\n",
            "100/100 [==============================] - 23s 231ms/step - loss: 0.2003 - categorical_accuracy: 0.9398 - val_loss: 0.0341 - val_categorical_accuracy: 0.9829\n",
            "Epoch 130/150\n",
            "100/100 [==============================] - 22s 221ms/step - loss: 0.2339 - categorical_accuracy: 0.9341 - val_loss: 0.0087 - val_categorical_accuracy: 0.9791\n",
            "Epoch 131/150\n",
            "100/100 [==============================] - 23s 228ms/step - loss: 0.1813 - categorical_accuracy: 0.9419 - val_loss: 0.0575 - val_categorical_accuracy: 0.9878\n",
            "Epoch 132/150\n",
            "100/100 [==============================] - 23s 226ms/step - loss: 0.2322 - categorical_accuracy: 0.9279 - val_loss: 0.0485 - val_categorical_accuracy: 0.9848\n",
            "Epoch 133/150\n",
            "100/100 [==============================] - 22s 225ms/step - loss: 0.1888 - categorical_accuracy: 0.9428 - val_loss: 0.0696 - val_categorical_accuracy: 0.9866\n",
            "Epoch 134/150\n",
            "100/100 [==============================] - 22s 225ms/step - loss: 0.1782 - categorical_accuracy: 0.9394 - val_loss: 0.0465 - val_categorical_accuracy: 0.9873\n",
            "Epoch 135/150\n",
            "100/100 [==============================] - 22s 222ms/step - loss: 0.1795 - categorical_accuracy: 0.9410 - val_loss: 0.1134 - val_categorical_accuracy: 0.9872\n",
            "Epoch 136/150\n",
            "100/100 [==============================] - 23s 227ms/step - loss: 0.1962 - categorical_accuracy: 0.9416 - val_loss: 0.0581 - val_categorical_accuracy: 0.9884\n",
            "Epoch 137/150\n",
            "100/100 [==============================] - 23s 226ms/step - loss: 0.1839 - categorical_accuracy: 0.9436 - val_loss: 0.0220 - val_categorical_accuracy: 0.9899\n",
            "Epoch 138/150\n",
            "100/100 [==============================] - 22s 224ms/step - loss: 0.1905 - categorical_accuracy: 0.9399 - val_loss: 0.0104 - val_categorical_accuracy: 0.9859\n",
            "Epoch 139/150\n",
            "100/100 [==============================] - 22s 224ms/step - loss: 0.1920 - categorical_accuracy: 0.9398 - val_loss: 0.0197 - val_categorical_accuracy: 0.9883\n",
            "Epoch 140/150\n",
            "100/100 [==============================] - 23s 225ms/step - loss: 0.2062 - categorical_accuracy: 0.9350 - val_loss: 0.0088 - val_categorical_accuracy: 0.9837\n",
            "Epoch 141/150\n",
            "100/100 [==============================] - 23s 229ms/step - loss: 0.1841 - categorical_accuracy: 0.9425 - val_loss: 0.0100 - val_categorical_accuracy: 0.9859\n",
            "Epoch 142/150\n",
            "100/100 [==============================] - 23s 228ms/step - loss: 0.1815 - categorical_accuracy: 0.9398 - val_loss: 0.0526 - val_categorical_accuracy: 0.9822\n",
            "Epoch 143/150\n",
            "100/100 [==============================] - 22s 224ms/step - loss: 0.2194 - categorical_accuracy: 0.9371 - val_loss: 0.0386 - val_categorical_accuracy: 0.9856\n",
            "Epoch 144/150\n",
            "100/100 [==============================] - 22s 224ms/step - loss: 0.1772 - categorical_accuracy: 0.9450 - val_loss: 0.0706 - val_categorical_accuracy: 0.9883\n",
            "Epoch 145/150\n",
            "100/100 [==============================] - 23s 226ms/step - loss: 0.1844 - categorical_accuracy: 0.9443 - val_loss: 0.0739 - val_categorical_accuracy: 0.9837\n",
            "Epoch 146/150\n",
            "100/100 [==============================] - 22s 223ms/step - loss: 0.1730 - categorical_accuracy: 0.9453 - val_loss: 0.0126 - val_categorical_accuracy: 0.9837\n",
            "Epoch 147/150\n",
            "100/100 [==============================] - 23s 228ms/step - loss: 0.1681 - categorical_accuracy: 0.9475 - val_loss: 0.0240 - val_categorical_accuracy: 0.9854\n",
            "Epoch 148/150\n",
            "100/100 [==============================] - 22s 223ms/step - loss: 0.1686 - categorical_accuracy: 0.9484 - val_loss: 0.0160 - val_categorical_accuracy: 0.9862\n",
            "Epoch 149/150\n",
            "100/100 [==============================] - 23s 225ms/step - loss: 0.1644 - categorical_accuracy: 0.9491 - val_loss: 0.1236 - val_categorical_accuracy: 0.9892\n",
            "Epoch 150/150\n",
            "100/100 [==============================] - 23s 227ms/step - loss: 0.1796 - categorical_accuracy: 0.9456 - val_loss: 0.0421 - val_categorical_accuracy: 0.9875\n",
            "Saved model as model_signs_10_classes_softmax_07072020200318.h5\n"
          ],
          "name": "stdout"
        }
      ]
    },
    {
      "cell_type": "markdown",
      "metadata": {
        "id": "LUtd1wwJeS4I",
        "colab_type": "text"
      },
      "source": [
        "###Sprawdzenie modelu"
      ]
    },
    {
      "cell_type": "markdown",
      "metadata": {
        "id": "h-LyI_lDeePo",
        "colab_type": "text"
      },
      "source": [
        "####Przebieg uczenia \n"
      ]
    },
    {
      "cell_type": "code",
      "metadata": {
        "id": "xgrk-WiNuPqX",
        "colab_type": "code",
        "colab": {
          "base_uri": "https://localhost:8080/",
          "height": 865
        },
        "outputId": "48e1864d-dfbf-4437-aa60-b0f92d52d8a5"
      },
      "source": [
        "fig = plt.figure(figsize=(12,6))\n",
        "plt.subplot(2,1,1)\n",
        "plt.plot(history.history['categorical_accuracy'])\n",
        "plt.plot(history.history['val_categorical_accuracy'])\n",
        "plt.title('model accuracy')\n",
        "plt.ylabel('accuracy')\n",
        "plt.xlabel('epoch')\n",
        "plt.legend(['train', 'test'], loc='lower right')\n",
        "\n",
        "plt.subplot(2,1,2)\n",
        "plt.plot(history.history['loss'])\n",
        "plt.plot(history.history['val_loss'])\n",
        "plt.title('model loss')\n",
        "plt.ylabel('loss')\n",
        "plt.xlabel('epoch')\n",
        "plt.legend(['train', 'test'], loc='upper right')\n",
        "\n",
        "plt.tight_layout()\n",
        "fig\n",
        "\n"
      ],
      "execution_count": 16,
      "outputs": [
        {
          "output_type": "execute_result",
          "data": {
            "image/png": "[encoded data removed]",
            "text/plain": [
              "<Figure size 864x432 with 2 Axes>"
            ]
          },
          "metadata": {
            "tags": []
          },
          "execution_count": 16
        },
        {
          "output_type": "display_data",
          "data": {
            "image/png": "[encoded data removed]",
            "text/plain": [
              "<Figure size 864x432 with 2 Axes>"
            ]
          },
          "metadata": {
            "tags": [],
            "needs_background": "light"
          }
        }
      ]
    },
    {
      "cell_type": "markdown",
      "metadata": {
        "id": "RfMzRbAhfC9e",
        "colab_type": "text"
      },
      "source": [
        "####Testowanie modelu"
      ]
    },
    {
      "cell_type": "code",
      "metadata": {
        "id": "SVMbtjGN4FKU",
        "colab_type": "code",
        "colab": {
          "base_uri": "https://localhost:8080/",
          "height": 104
        },
        "outputId": "db8524aa-7be5-46f7-b214-524a47d8a16e"
      },
      "source": [
        "test_datagen = ImageDataGenerator(rescale=1./255)\n",
        "\n",
        "test_generator = test_datagen.flow_from_directory(\n",
        "        test_dir,\n",
        "        target_size=(picture_size, picture_size),\n",
        "        color_mode=\"rgb\",\n",
        "        shuffle = False,\n",
        "        class_mode='categorical',\n",
        "        batch_size=1,\n",
        "        )\n",
        "\n",
        "filenames = test_generator.filenames\n",
        "classes_gen = test_generator.class_indices\n",
        "classes_gen = test_generator.class_indices\n",
        "\n",
        "loss_acc = model.evaluate(test_generator)\n",
        "print(classes_gen)\n",
        "print('loss= ', loss_acc[0])\n",
        "print(\"acc= \", loss_acc[1])"
      ],
      "execution_count": 17,
      "outputs": [
        {
          "output_type": "stream",
          "text": [
            "Found 3407 images belonging to 10 classes.\n",
            "3407/3407 [==============================] - 14s 4ms/step\n",
            "{'cross': 0, 'limit40': 1, 'limit50': 2, 'limit60': 3, 'limit70': 4, 'limit80': 5, 'nosign': 6, 'othersign': 7, 'stop': 8, 'yield': 9}\n",
            "loss=  0.0\n",
            "acc=  0.9859113693237305\n"
          ],
          "name": "stdout"
        }
      ]
    },
    {
      "cell_type": "code",
      "metadata": {
        "id": "xRrryWRVsFDt",
        "colab_type": "code",
        "colab": {
          "base_uri": "https://localhost:8080/",
          "height": 243
        },
        "outputId": "c405021c-cdd5-4492-9394-708ba59e228e"
      },
      "source": [
        "predict = model.predict_generator(test_generator,steps = len(filenames))\n",
        "predict"
      ],
      "execution_count": 18,
      "outputs": [
        {
          "output_type": "execute_result",
          "data": {
            "text/plain": [
              "array([[9.9902821e-01, 8.5122554e-07, 5.6747718e-05, ..., 2.1200697e-04,\n",
              "        6.6411621e-06, 6.6536864e-05],\n",
              "       [9.9989426e-01, 1.0317606e-07, 8.7314302e-06, ..., 5.2924548e-05,\n",
              "        1.7611669e-07, 5.1399379e-06],\n",
              "       [9.9995649e-01, 7.6028996e-09, 1.4745046e-06, ..., 2.8364564e-05,\n",
              "        8.5597748e-08, 1.8515977e-06],\n",
              "       ...,\n",
              "       [2.5022340e-13, 1.4350559e-12, 3.4297089e-11, ..., 1.9655177e-09,\n",
              "        6.9481248e-13, 1.0000000e+00],\n",
              "       [2.5594302e-09, 2.8393550e-09, 4.4771191e-08, ..., 7.1507020e-07,\n",
              "        1.7356912e-07, 9.9998903e-01],\n",
              "       [1.8132710e-12, 4.8607934e-11, 7.2618472e-10, ..., 7.9468379e-09,\n",
              "        1.0037010e-12, 1.0000000e+00]], dtype=float32)"
            ]
          },
          "metadata": {
            "tags": []
          },
          "execution_count": 18
        }
      ]
    },
    {
      "cell_type": "code",
      "metadata": {
        "id": "nasmaaVB5sIy",
        "colab_type": "code",
        "colab": {
          "base_uri": "https://localhost:8080/",
          "height": 208
        },
        "outputId": "4ea08b22-7bc1-496e-df80-65fa873e1d1f"
      },
      "source": [
        "from google.colab.patches import cv2_imshow\n",
        "\n",
        "signs = test_generator.class_indices\n",
        "prediction_list = []\n",
        "memo_correct_percent = {}\n",
        "for sign in signs:\n",
        "  files = os.path.join(test_dir, sign)\n",
        "  test_files = os.listdir(files)\n",
        "  incorrect = 0\n",
        "  for f in test_files:\n",
        "    path_to_test = os.path.join(files, f)\n",
        "    img = cv2.imread(path_to_test)\n",
        "    img_rgb = cv2.cvtColor(img, cv2.COLOR_BGR2RGB)\n",
        "    img_resized = cv2.resize(img_rgb,(picture_size,picture_size))\n",
        "    img_resized_float = img_resized.astype(\"float32\") / 255\n",
        "    img_tensor = np.reshape(img_resized_float,[1,picture_size,picture_size,3])\n",
        "    classes = (model.predict_classes(img_tensor)).tolist()\n",
        "    for num, class_ in enumerate(signs):\n",
        "      if classes[0] == num:\n",
        "        classes = list(signs.keys())[list(signs.values()).index(num)]\n",
        "    else:\n",
        "      classes\n",
        "    if classes != sign:\n",
        "      # cv2_imshow(img)\n",
        "      incorrect += 1 \n",
        "  corrent_percent = round(100-(incorrect/len(test_files)*100))\n",
        "  memo_correct_percent[sign] = corrent_percent\n",
        "  prediction_note = f'{sign}: {incorrect} / {len(test_files)},  Poprawność: {corrent_percent}%'\n",
        "  prediction_list.append(prediction_note)\n",
        "  print(prediction_note)\n",
        "mean_correct_percent = round(sum(memo_correct_percent.values()) / len(signs), 1)\n",
        "print(f'Średnia poprawność predykcji: {mean_correct_percent}%')"
      ],
      "execution_count": 19,
      "outputs": [
        {
          "output_type": "stream",
          "text": [
            "cross: 0 / 409,  Poprawność: 100%\n",
            "limit40: 6 / 98,  Poprawność: 94%\n",
            "limit50: 3 / 312,  Poprawność: 99%\n",
            "limit60: 8 / 191,  Poprawność: 96%\n",
            "limit70: 2 / 211,  Poprawność: 99%\n",
            "limit80: 4 / 206,  Poprawność: 98%\n",
            "nosign: 14 / 1334,  Poprawność: 99%\n",
            "othersign: 4 / 132,  Poprawność: 97%\n",
            "stop: 5 / 236,  Poprawność: 98%\n",
            "yield: 5 / 278,  Poprawność: 98%\n",
            "Średnia poprawność predykcji: 97.8%\n"
          ],
          "name": "stdout"
        }
      ]
    },
    {
      "cell_type": "markdown",
      "metadata": {
        "id": "WwDG6IiWVFF4",
        "colab_type": "text"
      },
      "source": [
        "###Zapis danych modelu i wyników do pliku tekstowego"
      ]
    },
    {
      "cell_type": "code",
      "metadata": {
        "id": "FgiNAOri-nSk",
        "colab_type": "code",
        "colab": {}
      },
      "source": [
        "time_date = time.strftime(\"%d/%m/%Y - %H:%M:%S\")\n",
        "with open(\"/content/drive/My Drive/Colab Notebooks/Road_sign_rec/Log_data.txt\", \"a\") as f:\n",
        "  f.write(f\"Model {time_date} \\n\")\n",
        "  f.write(f\"Funkcja aktywacji: {activation} \\n\")\n",
        "  f.write(f\"Ilość zdjęć treningowych: \\n\")\n",
        "  for key, value in train_folders_length.items():\n",
        "    f.write(f\"\\t{key}: {value}\\n\")\n",
        "  f.write(f\"Ilość zdjęć walidacyjnych: \\n\")\n",
        "  for key, value in valid_folders_length.items():\n",
        "    f.write(f\"\\t{key}: {value}\\n\")\n",
        "  f.write(f\"Parametry:\\n \\tEpochs: {epochs}\\n \\tMetrics: {metrics}\\n \\tLoss: {loss}\\n \\tClassification: {class_mode} \\n\")\n",
        "  f.write(f\"\\tBatch size: {batch_size}\\n\")\n",
        "  f.write(f\"\\tWielkość zdjęć: {picture_size}x{picture_size}px\\n\")\n",
        "  f.write(f\"\\tIlość warstw modelu: {len(model.layers)}\\n\")\n",
        "  f.write(f\"\\tDropout: 1 - {dropout_1}; 2 - {dropout_2}; 3 - {dropout_3}; 4 - {dropout_4}; 5 - {dropout_5}; 6 - {dropout_6}\\n\")\n",
        "  f.write(\"\\n\")\n",
        "  f.write(\"Wyniki: \\n\")\n",
        "  f.write(f\"\\tSTRATA [loss]: {loss_acc[0]}\\n\")\n",
        "  f.write(f\"\\tDOKŁADNOŚĆ [acc]: {loss_acc[1]}\\n\")\n",
        "  f.write(f\"\\tIlość zdjęć testowych: {len(test_generator.filenames)}\\n\")\n",
        "  for prediction in prediction_list:\n",
        "    f.write(f\"\\t{prediction}\\n\")\n",
        "  f.write(f\"Średnia poprawność manualnej predykcji: {mean_correct_percent}% \\n\")\n",
        "  f.write(f\"Nazwa pliku: {model_name}\")\n",
        "  f.write(\"\\n\")\n",
        "  f.write(\"-------------------------------------------------------------\")\n",
        "  f.write(\"\\n\\n\")\n"
      ],
      "execution_count": 20,
      "outputs": []
    },
    {
      "cell_type": "markdown",
      "metadata": {
        "id": "57sqxKgIeiIU",
        "colab_type": "text"
      },
      "source": [
        "###Zapis modelu (.json) i wag (.h5)"
      ]
    },
    {
      "cell_type": "code",
      "metadata": {
        "id": "jViqYOilFGvH",
        "colab_type": "code",
        "colab": {}
      },
      "source": [
        "model_name_json = 'model_10conv.json'\n",
        "model_path = os.path.join(\"/content/drive/My Drive/Colab Notebooks/Road_sign_rec/Data\", model_name_json)\n",
        "json_config = model.to_json()\n",
        "with open(model_path, 'w') as json_file:\n",
        "    json_file.write(json_config)"
      ],
      "execution_count": null,
      "outputs": []
    },
    {
      "cell_type": "code",
      "metadata": {
        "id": "HQh5u5qc36F4",
        "colab_type": "code",
        "colab": {}
      },
      "source": [
        "model_name = 'model_signs_4_classes.h5'\n",
        "model_path = os.path.join(base_dir, model_name)\n",
        "model.save(model_path)"
      ],
      "execution_count": null,
      "outputs": []
    },
    {
      "cell_type": "code",
      "metadata": {
        "id": "ckNC7f9KaBfo",
        "colab_type": "code",
        "colab": {}
      },
      "source": [
        "model_name = 'model_signs_4_multi_classes_softmax.h5'\n",
        "model_path = os.path.join(base_dir, model_name)\n",
        "model.save(model_path)"
      ],
      "execution_count": null,
      "outputs": []
    },
    {
      "cell_type": "code",
      "metadata": {
        "id": "1EtyyAH1Tx4m",
        "colab_type": "code",
        "colab": {}
      },
      "source": [
        "model_name = 'model_signs_4_multi_classes_sigmoid.h5'\n",
        "model_path = os.path.join(base_dir, model_name)\n",
        "model.save(model_path)"
      ],
      "execution_count": null,
      "outputs": []
    },
    {
      "cell_type": "code",
      "metadata": {
        "id": "hOS4hhKMOe6U",
        "colab_type": "code",
        "colab": {}
      },
      "source": [
        "model.load_weights('/content/drive/My Drive/Colab Notebooks/Road_sign_rec/model_signs_9_classe_sigmoid_23052020.h5')"
      ],
      "execution_count": null,
      "outputs": []
    },
    {
      "cell_type": "code",
      "metadata": {
        "id": "vhEm1sl86NmF",
        "colab_type": "code",
        "colab": {}
      },
      "source": [
        "figure = plt.figure()\n",
        "files = os.path.join(test_dir, 'cross')\n",
        "test_files = os.listdir(files)\n",
        "path_to_test = os.path.join(files, test_files[100])\n",
        "img = cv2.imread(path_to_test)\n",
        "img = cv2.cvtColor(img, cv2.COLOR_BGR2RGB)\n",
        "img = cv2.resize(img,(picture_size,picture_size))\n",
        "plt.imshow(img)\n",
        "plt.show()\n"
      ],
      "execution_count": null,
      "outputs": []
    },
    {
      "cell_type": "markdown",
      "metadata": {
        "id": "0qGf-UsIqdzp",
        "colab_type": "text"
      },
      "source": [
        "###Poprzednie wyniki do porównania"
      ]
    },
    {
      "cell_type": "code",
      "metadata": {
        "id": "GUMJSf5G15Vw",
        "colab_type": "code",
        "colab": {}
      },
      "source": [
        "Sigmoid 04062020\n",
        "acc=  0.9838449358940125\n",
        "cross: 2 / 409,  Correct: 100%\n",
        "limit40: 4 / 98,  Correct: 96%\n",
        "limit50: 3 / 312,  Correct: 99%\n",
        "limit60: 7 / 191,  Correct: 96%\n",
        "limit70: 3 / 211,  Correct: 99%\n",
        "limit80: 4 / 206,  Correct: 98%\n",
        "nosign: 12 / 813,  Correct: 99%\n",
        "stop: 3 / 236,  Correct: 99%\n",
        "Mean correct predict: 98.2%\n",
        "\n",
        "\n",
        "Softmax 03062020 - zmian pic size + nowe zdjecia\n",
        "acc=  0.9818255305290222\n",
        "cross: 4 / 409,  Correct: 99%\n",
        "limit40: 6 / 98,  Correct: 94%\n",
        "limit50: 9 / 312,  Correct: 97%\n",
        "limit60: 6 / 191,  Correct: 97%\n",
        "limit70: 4 / 211,  Correct: 98%\n",
        "limit80: 8 / 206,  Correct: 96%\n",
        "nosign: 7 / 813,  Correct: 99%\n",
        "stop: 4 / 236,  Correct: 98%\n",
        "Mean correct predict: 97.2%\n",
        "\n",
        "Softmax 03062020 - zmian pic size + zmian parametrow imagegeneratora\n",
        "cross: 5 / 388,  Correct: 99%\n",
        "limit40: 2 / 98,  Correct: 98%\n",
        "limit50: 5 / 111,  Correct: 95%\n",
        "limit60: 6 / 65,  Correct: 91%\n",
        "limit70: 4 / 34,  Correct: 88%\n",
        "limit80: 5 / 41,  Correct: 88%\n",
        "nosign: 8 / 813,  Correct: 99%\n",
        "stop: 4 / 167,  Correct: 98%\n",
        "Mean correct predict: 94.5%\n",
        "\n",
        "Softmax 03062020 - zmian pic size\n",
        "acc=  0.9807804226875305\n",
        "cross: 2 / 388,  Correct: 99%\n",
        "limit40: 3 / 98,  Correct: 97%\n",
        "limit50: 2 / 111,  Correct: 98%\n",
        "limit60: 6 / 65,  Correct: 91%\n",
        "limit70: 3 / 34,  Correct: 91%\n",
        "limit80: 3 / 41,  Correct: 93%\n",
        "nosign: 8 / 813,  Correct: 99%\n",
        "stop: 3 / 167,  Correct: 98%\n",
        "Mean correct predict: 95.8%\n",
        "\n",
        "Softmax 03062020\n",
        "acc=  0.9749563336372375\n",
        "cross: 6 / 388,  Correct: 98%\n",
        "limit40: 2 / 98,  Correct: 98%\n",
        "limit50: 6 / 111,  Correct: 95%\n",
        "limit60: 8 / 65,  Correct: 88%\n",
        "limit70: 6 / 34,  Correct: 82%\n",
        "limit80: 7 / 41,  Correct: 83%\n",
        "nosign: 9 / 813,  Correct: 99%\n",
        "stop: 3 / 167,  Correct: 98%\n",
        "Mean correct predict: 92.6%\n",
        "\n",
        "# Sigmoin 26052020:\n",
        "cross: 4 / 388,  Correct: 99%\n",
        "limit40: 3 / 98,  Correct: 97%\n",
        "limit50: 6 / 111,  Correct: 95%\n",
        "limit60: 6 / 65,  Correct: 91%\n",
        "limit70: 4 / 34,  Correct: 88%\n",
        "limit80: 6 / 41,  Correct: 85%\n",
        "nosign: 5 / 813,  Correct: 99%\n",
        "stop: 2 / 167,  Correct: 99%\n",
        "Mean correct predict: 94.1%\n"
      ],
      "execution_count": null,
      "outputs": []
    },
    {
      "cell_type": "markdown",
      "metadata": {
        "id": "PnSDOcbQfK8H",
        "colab_type": "text"
      },
      "source": [
        "##Detekcja wideo"
      ]
    },
    {
      "cell_type": "markdown",
      "metadata": {
        "id": "NXyERENbfP4x",
        "colab_type": "text"
      },
      "source": [
        "###Pliki i ścieżki"
      ]
    },
    {
      "cell_type": "code",
      "metadata": {
        "id": "PzK868vIbIxu",
        "colab_type": "code",
        "colab": {
          "base_uri": "https://localhost:8080/",
          "height": 34
        },
        "outputId": "22a847f0-6536-4ce1-c7c6-e06a9db1feaf"
      },
      "source": [
        "video_path_input_directory = '/content/drive/My Drive/Colab Notebooks/Road_sign_rec/Input'\n",
        "video_file_name = 'warsaw_drive_test.mp4'\n",
        "video_path_file = os.path.join(video_path_input_directory, video_file_name)\n",
        "video_path_output = '/content/drive/My Drive/Colab Notebooks/Road_sign_rec/Output'\n",
        "print(video_path_file)\n",
        "from google.colab.patches import cv2_imshow"
      ],
      "execution_count": null,
      "outputs": [
        {
          "output_type": "stream",
          "text": [
            "/content/drive/My Drive/Colab Notebooks/Road_sign_rec/Input/warsaw_drive_test.mp4\n"
          ],
          "name": "stdout"
        }
      ]
    },
    {
      "cell_type": "code",
      "metadata": {
        "id": "6MjRwu8HcBue",
        "colab_type": "code",
        "colab": {}
      },
      "source": [
        "  ss = cv2.ximgproc.segmentation.createSelectiveSearchSegmentation()\n",
        "  cap = cv2.VideoCapture(video_path_file)\n",
        "  video_length = int(cap.get(cv2.CAP_PROP_FRAME_COUNT))\n",
        "  cap_video_fps = int(cap.get(cv2.CAP_PROP_FPS))\n",
        "  cap_video_width = int(cap.get(cv2.CAP_PROP_FRAME_WIDTH))\n",
        "  cap_video_height = int(cap.get(cv2.CAP_PROP_FRAME_HEIGHT))\n",
        "  print(\"FPS\", cap_video_fps)\n",
        "  print(\"Length\", video_length)\n",
        "  writer = None\n",
        "  (W, H) = (None, None)\n",
        "  mean = np.array([100, 100, 100], dtype=\"float32\")\n",
        "  i = 0\n",
        "  while True:\n",
        "      i += 1\n",
        "      print(f'{i} / {video_length}')\n",
        "      (grabbed, frame) = cap.read()\n",
        "      if not grabbed:\n",
        "          break\n",
        "      if W is None or H is None:\n",
        "          (H, W) = frame.shape[:2]\n",
        "      output = frame.copy()\n",
        "      ss.setBaseImage(output)\n",
        "      try:\n",
        "        ss.switchToSelectiveSearchFast()\n",
        "      except cv2.error:\n",
        "        break\n",
        "      ssresults = ss.process()\n",
        "      for w, result in enumerate(ssresults):\n",
        "          if w < 2000:\n",
        "              x, y, w, h = result\n",
        "              timage = output[y:y+h, x:x+w]\n",
        "              resized = cv2.resize(timage, (100, 100), interpolation=cv2.INTER_AREA)\n",
        "              resized = resized - mean\n",
        "              img = np.expand_dims(resized, axis=0)\n",
        "              out = model.predict(img/255.0, batch_size=10)\n",
        "              if out[0][0] >= 0.99:\n",
        "                  cv2.rectangle(output, (x, y), (x+w, y+h), (0, 255, 0), 1, cv2.LINE_AA)\n",
        "      if writer is None:\n",
        "          fourcc = cv2.VideoWriter_fourcc(*\"MJPG\")\n",
        "          writer = cv2.VideoWriter('Output/out_video.mp4', \n",
        "                                   fourcc, \n",
        "                                   30,\n",
        "                                   (W, H), \n",
        "                                   True,\n",
        "                                   )\n",
        "      writer.write(output)\n",
        "      cv2_imshow(output)\n",
        "  print(\"__END__\")"
      ],
      "execution_count": null,
      "outputs": []
    }
  ]
}