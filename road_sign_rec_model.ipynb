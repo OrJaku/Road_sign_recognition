{
  "nbformat": 4,
  "nbformat_minor": 0,
  "metadata": {
    "colab": {
      "name": "road_sign_rec_model.ipynb",
      "provenance": [],
      "collapsed_sections": [],
      "toc_visible": true,
      "mount_file_id": "1boPHgyMz_HPFVyOHPW7kt2nrZBDBJubM",
      "authorship_tag": "ABX9TyPFm3TgwmZXUa90gOuKVtj2",
      "include_colab_link": true
    },
    "kernelspec": {
      "name": "python3",
      "display_name": "Python 3"
    },
    "accelerator": "GPU"
  },
  "cells": [
    {
      "cell_type": "markdown",
      "metadata": {
        "id": "view-in-github",
        "colab_type": "text"
      },
      "source": [
        "<a href=\"https://colab.research.google.com/github/OrJaku/road-sign-recognition/blob/master/road_sign_rec_model.ipynb\" target=\"_parent\"><img src=\"https://colab.research.google.com/assets/colab-badge.svg\" alt=\"Open In Colab\"/></a>"
      ]
    },
    {
      "cell_type": "code",
      "metadata": {
        "id": "5yI9rJmbZMNh",
        "colab_type": "code",
        "outputId": "16ba1e09-3f88-46b9-dcc8-48bb29a113e4",
        "colab": {
          "base_uri": "https://localhost:8080/",
          "height": 34
        }
      },
      "source": [
        "cd drive/My\\ Drive/Colab Notebooks/Road_sign_rec"
      ],
      "execution_count": 1,
      "outputs": [
        {
          "output_type": "stream",
          "text": [
            "/content/drive/My Drive/Colab Notebooks/Road_sign_rec\n"
          ],
          "name": "stdout"
        }
      ]
    },
    {
      "cell_type": "code",
      "metadata": {
        "id": "VU_fq4urb_JG",
        "colab_type": "code",
        "colab": {}
      },
      "source": [
        "import os, shutil, cv2"
      ],
      "execution_count": 0,
      "outputs": []
    },
    {
      "cell_type": "markdown",
      "metadata": {
        "id": "L97BfvTNfVIG",
        "colab_type": "text"
      },
      "source": [
        "### Przygotowanie folderów"
      ]
    },
    {
      "cell_type": "code",
      "metadata": {
        "id": "gLFz7U1VZXQ2",
        "colab_type": "code",
        "colab": {}
      },
      "source": [
        "base_dir = \"Data/\"\n",
        "train_dir = os.path.join(base_dir, 'train_data')\n",
        "try:\n",
        "  os.mkdir(train_dir)\n",
        "except FileExistsError:\n",
        "  pass\n",
        "\n",
        "\n",
        "cross_train =  os.path.join(train_dir, 'cross')\n",
        "stop_train =  os.path.join(train_dir, 'stop')\n",
        "limit50_train =  os.path.join(train_dir, 'limit50')\n",
        "\n",
        "try:\n",
        "  os.mkdir(cross_train)\n",
        "  os.mkdir(stop_train)\n",
        "  os.mkdir(limit50_train)\n",
        "except FileExistsError:\n",
        "  pass\n",
        "\n",
        "valid_dir = os.path.join(base_dir, 'valid_data')\n",
        "try:\n",
        "  os.mkdir(valid_dir)\n",
        "except FileExistsError:\n",
        "  pass\n",
        "\n",
        "cross_val =  os.path.join(valid_dir, 'cross')\n",
        "stop_val =  os.path.join(valid_dir, 'stop')\n",
        "limit50_val =  os.path.join(valid_dir, 'limit50')\n",
        "\n",
        "try:\n",
        "  os.mkdir(cross_val)\n",
        "  os.mkdir(stop_val)\n",
        "  os.mkdir(limit50_val)\n",
        "except FileExistsError:\n",
        "  pass\n",
        "\n",
        "test_dir = os.path.join(base_dir, 'test_data')\n",
        "try:\n",
        "  os.mkdir(test_dir)\n",
        "except FileExistsError:\n",
        "  pass\n",
        "\n",
        "cross_test =  os.path.join(test_dir, 'cross')\n",
        "stop_test =  os.path.join(test_dir, 'stop')\n",
        "limit50_test =  os.path.join(test_dir, 'limit50')\n",
        "\n",
        "try:\n",
        "  os.mkdir(cross_test)\n",
        "  os.mkdir(stop_test)\n",
        "  os.mkdir(limit50_test)\n",
        "except FileExistsError:\n",
        "  pass\n",
        "\n"
      ],
      "execution_count": 0,
      "outputs": []
    },
    {
      "cell_type": "markdown",
      "metadata": {
        "id": "B6C9ZXIjfdnm",
        "colab_type": "text"
      },
      "source": [
        "#### Ilość poszczegónych zdjęć"
      ]
    },
    {
      "cell_type": "code",
      "metadata": {
        "id": "E34aEB7Obpkm",
        "colab_type": "code",
        "outputId": "d7534eb4-6790-4c48-c1dd-646fe9a5f0ff",
        "colab": {
          "base_uri": "https://localhost:8080/",
          "height": 68
        }
      },
      "source": [
        "cross_origin_path = os.path.abspath(\"Data/information--pedestrians-crossing--g1/\")\n",
        "stop_origin_path = os.path.abspath(\"Data/regulatory--stop--g1\")\n",
        "limit50_origin_path = os.path.abspath(\"Data/regulatory--maximum-speed-limit-50--g1\")\n",
        "\n",
        "print('Przejscie dla piszych: ',len(os.listdir(cross_origin_path)))\n",
        "print('Stop: ', len(os.listdir(stop_origin_path)))\n",
        "print('Ograniczenie do 50km/h', len(os.listdir(limit50_origin_path)))"
      ],
      "execution_count": 43,
      "outputs": [
        {
          "output_type": "stream",
          "text": [
            "Przejscie dla piszych:  2188\n",
            "Stop:  1368\n",
            "Ograniczenie do 50km/h 711\n"
          ],
          "name": "stdout"
        }
      ]
    },
    {
      "cell_type": "markdown",
      "metadata": {
        "id": "hfqmdzzsfq81",
        "colab_type": "text"
      },
      "source": [
        "#### Kopiowanie danych \n",
        "\n",
        "---\n",
        "\n"
      ]
    },
    {
      "cell_type": "code",
      "metadata": {
        "id": "Os4zVKiofTDn",
        "colab_type": "code",
        "colab": {}
      },
      "source": [
        "\n",
        "# train cross\n",
        "for image_name in os.listdir(cross_origin_path)[0:1200]:\n",
        "  src = os.path.join(cross_origin_path, image_name)\n",
        "  dst = os.path.join(cross_train, image_name)\n",
        "  shutil.copyfile(src, dst)\n",
        "print(\"train cross copied\")\n",
        "\n",
        "# validation cross\n",
        "for image_name in os.listdir(cross_origin_path)[1200:1800]:\n",
        "  src = os.path.join(cross_origin_path, image_name)\n",
        "  dst = os.path.join(cross_val, image_name)\n",
        "  shutil.copyfile(src, dst)\n",
        "print(\"validation cross copied\")\n",
        "\n",
        "# test cross\n",
        "for image_name in os.listdir(cross_origin_path)[1800:]:\n",
        "  src = os.path.join(cross_origin_path, image_name)\n",
        "  dst = os.path.join(cross_test, image_name)\n",
        "  shutil.copyfile(src, dst)\n",
        "print(\"test cross copied\")\n",
        "\n",
        "##################################\n",
        "\n",
        "# train stop\n",
        "i=0\n",
        "for image_name in os.listdir(stop_origin_path)[0:900]:\n",
        "  i =+ 1\n",
        "  src = os.path.join(stop_origin_path, image_name)\n",
        "  dst = os.path.join(stop_train, image_name)\n",
        "  shutil.copyfile(src, dst)\n",
        "  if i == 200 or i == 400 or i == 700:\n",
        "    print(f\"Copied {i} \")\n",
        "print(\"train stop copied\")\n",
        "\n",
        "\n",
        "# validation stop\n",
        "for image_name in os.listdir(stop_origin_path)[901:1200]:\n",
        "  src = os.path.join(stop_origin_path, image_name)\n",
        "  dst = os.path.join(stop_val, image_name)\n",
        "  shutil.copyfile(src, dst)\n",
        "  if i == 1050:\n",
        "    print(f\"Copied {i} \")\n",
        "print(\"validation stop copied\")\n",
        "\n",
        "# test stop\n",
        "for image_name in os.listdir(stop_origin_path)[1201:]:\n",
        "  src = os.path.join(stop_origin_path, image_name)\n",
        "  dst = os.path.join(stop_test, image_name)\n",
        "  shutil.copyfile(src, dst)\n",
        "  if i == 1300:\n",
        "    print(f\"Copied {i} \")\n",
        "print(\"test stop copied\")\n",
        "\n",
        "\n",
        "##########################\n",
        "\n",
        "# train limit50\n",
        "for image_name in os.listdir(limit50_origin_path)[0:400]:\n",
        "  src = os.path.join(limit50_origin_path, image_name)\n",
        "  dst = os.path.join(limit50_train, image_name)\n",
        "  shutil.copyfile(src, dst)\n",
        "print(\"train limit50 copied\")\n",
        "\n",
        "# validation limit50\n",
        "for image_name in os.listdir(limit50_origin_path)[400:600]:\n",
        "  src = os.path.join(limit50_origin_path, image_name)\n",
        "  dst = os.path.join(limit50_val, image_name)\n",
        "  shutil.copyfile(src, dst)\n",
        "print(\"validation limit50 copied\")\n",
        "\n",
        "# test limit50\n",
        "for image_name in os.listdir(limit50_origin_path)[600:]:\n",
        "  src = os.path.join(limit50_origin_path, image_name)\n",
        "  dst = os.path.join(limit50_test, image_name)\n",
        "  shutil.copyfile(src, dst)\n",
        "print(\"test limit50 copied\")\n"
      ],
      "execution_count": 0,
      "outputs": []
    },
    {
      "cell_type": "markdown",
      "metadata": {
        "id": "Vv-DHfNSpk4I",
        "colab_type": "text"
      },
      "source": [
        "#### Przekształcanie plików .jpg na tensory"
      ]
    },
    {
      "cell_type": "code",
      "metadata": {
        "id": "EDi-Uu2-pkJX",
        "colab_type": "code",
        "outputId": "19868be8-c06b-46cd-bac1-f907fde26b5c",
        "colab": {
          "base_uri": "https://localhost:8080/",
          "height": 51
        }
      },
      "source": [
        "from keras.preprocessing.image import ImageDataGenerator\n",
        "\n",
        "train_datagen = ImageDataGenerator(rescale=1./255)\n",
        "valid_datagen = ImageDataGenerator(rescale=1./255)\n",
        "\n",
        "picture_size = 100\n",
        "\n",
        "train_generator = train_datagen.flow_from_directory(\n",
        "    train_dir,\n",
        "    target_size=(picture_size,picture_size),\n",
        "    batch_size=10,\n",
        "    class_mode='categorical'\n",
        "\n",
        ")\n",
        "\n",
        "valid_generator = valid_datagen.flow_from_directory(\n",
        "    valid_dir,\n",
        "    target_size=(picture_size,picture_size),\n",
        "    batch_size=10,\n",
        "    class_mode='categorical'\n",
        "\n",
        ")\n",
        "numer_of_classes = len(train_generator.class_indices)"
      ],
      "execution_count": 22,
      "outputs": [
        {
          "output_type": "stream",
          "text": [
            "Found 2500 images belonging to 3 classes.\n",
            "Found 1099 images belonging to 3 classes.\n"
          ],
          "name": "stdout"
        }
      ]
    },
    {
      "cell_type": "code",
      "metadata": {
        "id": "FiFoGuguWNVm",
        "colab_type": "code",
        "colab": {}
      },
      "source": [
        "import pandas as pd\n",
        "import numpy as np\n",
        "from keras import layers, models, optimizers\n",
        "\n",
        "import matplotlib\n",
        "matplotlib.use('agg')\n",
        "import matplotlib.pyplot as plt\n",
        "import matplotlib.image as mpimg \n"
      ],
      "execution_count": 0,
      "outputs": []
    },
    {
      "cell_type": "markdown",
      "metadata": {
        "id": "DqxNGh2tflR5",
        "colab_type": "text"
      },
      "source": [
        "##Model"
      ]
    },
    {
      "cell_type": "code",
      "metadata": {
        "id": "ECYPhYgbW5yQ",
        "colab_type": "code",
        "outputId": "e3b380a5-1f86-4a1c-c508-91a82c60146f",
        "colab": {
          "base_uri": "https://localhost:8080/",
          "height": 663
        }
      },
      "source": [
        "\n",
        "model = models.Sequential()\n",
        "model.add(layers.Conv2D(32, (3, 3), activation='relu', input_shape=(picture_size, picture_size, 3)))\n",
        "model.add(layers.MaxPool2D((2, 2)))\n",
        "model.add(layers.Dropout(0.3))\n",
        "\n",
        "model.add(layers.Conv2D(64, (3, 3), activation='relu'))\n",
        "model.add(layers.MaxPool2D((2, 2)))\n",
        "model.add(layers.Dropout(0.3))\n",
        "\n",
        "model.add(layers.Conv2D(128, (3,3), activation='relu'))\n",
        "model.add(layers.MaxPool2D((2, 2)))\n",
        "model.add(layers.Dropout(0.3))\n",
        "\n",
        "model.add(layers.Conv2D(128, (3,3), activation='relu'))\n",
        "model.add(layers.MaxPool2D((2, 2)))\n",
        "model.add(layers.Dropout(0.3))\n",
        "\n",
        "model.add(layers.Flatten())\n",
        "model.add(layers.Dense(1024, activation='relu'))\n",
        "model.add(layers.Dense(numer_of_classes, activation='softmax'))\n",
        "\n",
        "model.compile(\n",
        "    loss='categorical_crossentropy',\n",
        "    optimizer=\"adam\",\n",
        "    metrics=['acc']\n",
        "    )\n",
        "model.summary()\n"
      ],
      "execution_count": 131,
      "outputs": [
        {
          "output_type": "stream",
          "text": [
            "Model: \"sequential_3\"\n",
            "_________________________________________________________________\n",
            "Layer (type)                 Output Shape              Param #   \n",
            "=================================================================\n",
            "conv2d_9 (Conv2D)            (None, 98, 98, 32)        896       \n",
            "_________________________________________________________________\n",
            "max_pooling2d_9 (MaxPooling2 (None, 49, 49, 32)        0         \n",
            "_________________________________________________________________\n",
            "dropout_9 (Dropout)          (None, 49, 49, 32)        0         \n",
            "_________________________________________________________________\n",
            "conv2d_10 (Conv2D)           (None, 47, 47, 64)        18496     \n",
            "_________________________________________________________________\n",
            "max_pooling2d_10 (MaxPooling (None, 23, 23, 64)        0         \n",
            "_________________________________________________________________\n",
            "dropout_10 (Dropout)         (None, 23, 23, 64)        0         \n",
            "_________________________________________________________________\n",
            "conv2d_11 (Conv2D)           (None, 21, 21, 128)       73856     \n",
            "_________________________________________________________________\n",
            "max_pooling2d_11 (MaxPooling (None, 10, 10, 128)       0         \n",
            "_________________________________________________________________\n",
            "dropout_11 (Dropout)         (None, 10, 10, 128)       0         \n",
            "_________________________________________________________________\n",
            "conv2d_12 (Conv2D)           (None, 8, 8, 128)         147584    \n",
            "_________________________________________________________________\n",
            "max_pooling2d_12 (MaxPooling (None, 4, 4, 128)         0         \n",
            "_________________________________________________________________\n",
            "dropout_12 (Dropout)         (None, 4, 4, 128)         0         \n",
            "_________________________________________________________________\n",
            "flatten_3 (Flatten)          (None, 2048)              0         \n",
            "_________________________________________________________________\n",
            "dense_5 (Dense)              (None, 1024)              2098176   \n",
            "_________________________________________________________________\n",
            "dense_6 (Dense)              (None, 3)                 3075      \n",
            "=================================================================\n",
            "Total params: 2,342,083\n",
            "Trainable params: 2,342,083\n",
            "Non-trainable params: 0\n",
            "_________________________________________________________________\n"
          ],
          "name": "stdout"
        }
      ]
    },
    {
      "cell_type": "code",
      "metadata": {
        "id": "gBDd5q9nq23t",
        "colab_type": "code",
        "outputId": "7e4b9b60-da7d-4682-e38f-327b8607f6f3",
        "colab": {
          "base_uri": "https://localhost:8080/",
          "height": 867
        }
      },
      "source": [
        "history = model.fit_generator(\n",
        "    train_generator,\n",
        "    steps_per_epoch=100,\n",
        "    epochs=25,\n",
        "    validation_data=valid_generator,\n",
        "    validation_steps=10\n",
        ")"
      ],
      "execution_count": 132,
      "outputs": [
        {
          "output_type": "stream",
          "text": [
            "Epoch 1/25\n",
            "100/100 [==============================] - 2s 25ms/step - loss: 0.4593 - acc: 0.8270 - val_loss: 0.2472 - val_acc: 0.9500\n",
            "Epoch 2/25\n",
            "100/100 [==============================] - 2s 22ms/step - loss: 0.1397 - acc: 0.9580 - val_loss: 0.0733 - val_acc: 0.9500\n",
            "Epoch 3/25\n",
            "100/100 [==============================] - 2s 24ms/step - loss: 0.1647 - acc: 0.9510 - val_loss: 0.0849 - val_acc: 1.0000\n",
            "Epoch 4/25\n",
            "100/100 [==============================] - 2s 22ms/step - loss: 0.0984 - acc: 0.9660 - val_loss: 0.0461 - val_acc: 0.9900\n",
            "Epoch 5/25\n",
            "100/100 [==============================] - 2s 23ms/step - loss: 0.0660 - acc: 0.9780 - val_loss: 0.0449 - val_acc: 0.9900\n",
            "Epoch 6/25\n",
            "100/100 [==============================] - 2s 23ms/step - loss: 0.0773 - acc: 0.9720 - val_loss: 0.0028 - val_acc: 0.9800\n",
            "Epoch 7/25\n",
            "100/100 [==============================] - 2s 22ms/step - loss: 0.0918 - acc: 0.9730 - val_loss: 0.0426 - val_acc: 0.9500\n",
            "Epoch 8/25\n",
            "100/100 [==============================] - 2s 23ms/step - loss: 0.0745 - acc: 0.9760 - val_loss: 0.0072 - val_acc: 0.9900\n",
            "Epoch 9/25\n",
            "100/100 [==============================] - 2s 23ms/step - loss: 0.0585 - acc: 0.9830 - val_loss: 0.0583 - val_acc: 0.9900\n",
            "Epoch 10/25\n",
            "100/100 [==============================] - 2s 22ms/step - loss: 0.0886 - acc: 0.9730 - val_loss: 0.0485 - val_acc: 0.9900\n",
            "Epoch 11/25\n",
            "100/100 [==============================] - 2s 23ms/step - loss: 0.0448 - acc: 0.9820 - val_loss: 6.3578e-07 - val_acc: 0.9899\n",
            "Epoch 12/25\n",
            "100/100 [==============================] - 2s 22ms/step - loss: 0.0467 - acc: 0.9870 - val_loss: 0.4048 - val_acc: 0.9700\n",
            "Epoch 13/25\n",
            "100/100 [==============================] - 2s 23ms/step - loss: 0.0538 - acc: 0.9850 - val_loss: 1.1360e-05 - val_acc: 0.9900\n",
            "Epoch 14/25\n",
            "100/100 [==============================] - 2s 22ms/step - loss: 0.0586 - acc: 0.9830 - val_loss: 0.1585 - val_acc: 1.0000\n",
            "Epoch 15/25\n",
            "100/100 [==============================] - 2s 23ms/step - loss: 0.0608 - acc: 0.9840 - val_loss: 0.0023 - val_acc: 1.0000\n",
            "Epoch 16/25\n",
            "100/100 [==============================] - 2s 24ms/step - loss: 0.0424 - acc: 0.9810 - val_loss: 0.0073 - val_acc: 0.9800\n",
            "Epoch 17/25\n",
            "100/100 [==============================] - 2s 22ms/step - loss: 0.0446 - acc: 0.9920 - val_loss: 0.0019 - val_acc: 1.0000\n",
            "Epoch 18/25\n",
            "100/100 [==============================] - 2s 24ms/step - loss: 0.0699 - acc: 0.9770 - val_loss: 0.3997 - val_acc: 0.9800\n",
            "Epoch 19/25\n",
            "100/100 [==============================] - 2s 23ms/step - loss: 0.0313 - acc: 0.9880 - val_loss: 0.0354 - val_acc: 0.9800\n",
            "Epoch 20/25\n",
            "100/100 [==============================] - 2s 23ms/step - loss: 0.0226 - acc: 0.9950 - val_loss: 1.0531 - val_acc: 0.9800\n",
            "Epoch 21/25\n",
            "100/100 [==============================] - 2s 23ms/step - loss: 0.0225 - acc: 0.9900 - val_loss: 1.3113e-06 - val_acc: 1.0000\n",
            "Epoch 22/25\n",
            "100/100 [==============================] - 2s 22ms/step - loss: 0.0544 - acc: 0.9890 - val_loss: 2.0304e-05 - val_acc: 0.9798\n",
            "Epoch 23/25\n",
            "100/100 [==============================] - 2s 24ms/step - loss: 0.0138 - acc: 0.9950 - val_loss: 4.3948e-04 - val_acc: 1.0000\n",
            "Epoch 24/25\n",
            "100/100 [==============================] - 2s 23ms/step - loss: 0.0713 - acc: 0.9870 - val_loss: 4.8577e-04 - val_acc: 1.0000\n",
            "Epoch 25/25\n",
            "100/100 [==============================] - 2s 23ms/step - loss: 0.0251 - acc: 0.9950 - val_loss: 4.7637e-05 - val_acc: 0.9900\n"
          ],
          "name": "stdout"
        }
      ]
    },
    {
      "cell_type": "code",
      "metadata": {
        "id": "xgrk-WiNuPqX",
        "colab_type": "code",
        "outputId": "3a4628a0-ddec-40cd-f83e-84f73cb555dc",
        "colab": {
          "base_uri": "https://localhost:8080/",
          "height": 351
        }
      },
      "source": [
        "fig = plt.figure()\n",
        "plt.subplot(2,1,1)\n",
        "plt.plot(history.history['acc'])\n",
        "plt.plot(history.history['val_acc'])\n",
        "plt.title('model accuracy')\n",
        "plt.ylabel('accuracy')\n",
        "plt.xlabel('epoch')\n",
        "plt.legend(['train', 'test'], loc='lower right')\n",
        "\n",
        "plt.subplot(2,1,2)\n",
        "plt.plot(history.history['loss'])\n",
        "plt.plot(history.history['val_loss'])\n",
        "plt.title('model loss')\n",
        "plt.ylabel('loss')\n",
        "plt.xlabel('epoch')\n",
        "plt.legend(['train', 'test'], loc='upper right')\n",
        "\n",
        "plt.tight_layout()\n",
        "\n",
        "fig"
      ],
      "execution_count": 134,
      "outputs": [
        {
          "output_type": "stream",
          "text": [
            "/usr/local/lib/python3.6/dist-packages/ipykernel_launcher.py:1: RuntimeWarning: More than 20 figures have been opened. Figures created through the pyplot interface (`matplotlib.pyplot.figure`) are retained until explicitly closed and may consume too much memory. (To control this warning, see the rcParam `figure.max_open_warning`).\n",
            "  \"\"\"Entry point for launching an IPython kernel.\n"
          ],
          "name": "stderr"
        },
        {
          "output_type": "execute_result",
          "data": {
            "image/png": "[encoded data removed]",
            "text/plain": [
              "<Figure size 432x288 with 2 Axes>"
            ]
          },
          "metadata": {
            "tags": []
          },
          "execution_count": 134
        }
      ]
    },
    {
      "cell_type": "code",
      "metadata": {
        "id": "HQh5u5qc36F4",
        "colab_type": "code",
        "colab": {}
      },
      "source": [
        "model_name = 'model_signs.h5'\n",
        "model_path = os.path.join(base_dir, model_name)\n",
        "model.save(model_path)"
      ],
      "execution_count": 0,
      "outputs": []
    },
    {
      "cell_type": "code",
      "metadata": {
        "id": "AEr9Dxs33B8f",
        "colab_type": "code",
        "colab": {
          "base_uri": "https://localhost:8080/",
          "height": 34
        },
        "outputId": "97eb30a1-acfd-4597-b93c-30415d77880e"
      },
      "source": [
        "os.listdir(test_dir)"
      ],
      "execution_count": 135,
      "outputs": [
        {
          "output_type": "execute_result",
          "data": {
            "text/plain": [
              "['cross', 'stop', 'limit50']"
            ]
          },
          "metadata": {
            "tags": []
          },
          "execution_count": 135
        }
      ]
    },
    {
      "cell_type": "code",
      "metadata": {
        "id": "37QKqiOlqx9F",
        "colab_type": "code",
        "colab": {}
      },
      "source": [
        "# to_del = os.path.join(test_dir, '.ipynb_checkpoints')\n",
        "# os.rmdir(to_del)"
      ],
      "execution_count": 0,
      "outputs": []
    },
    {
      "cell_type": "code",
      "metadata": {
        "id": "JOV0a5dHsiqu",
        "colab_type": "code",
        "colab": {
          "base_uri": "https://localhost:8080/",
          "height": 34
        },
        "outputId": "98d7af44-c8e4-4cd6-ed59-2ba2d1885909"
      },
      "source": [
        "pwd"
      ],
      "execution_count": 83,
      "outputs": [
        {
          "output_type": "execute_result",
          "data": {
            "text/plain": [
              "'/content/drive/My Drive/Colab Notebooks/Road_sign_rec'"
            ]
          },
          "metadata": {
            "tags": []
          },
          "execution_count": 83
        }
      ]
    },
    {
      "cell_type": "code",
      "metadata": {
        "id": "loHxESOqrhnr",
        "colab_type": "code",
        "colab": {
          "base_uri": "https://localhost:8080/",
          "height": 34
        },
        "outputId": "ef52bceb-ef96-48c3-e9b9-549a172bf20f"
      },
      "source": [
        "# !mv Data/test_data/stop Data/test_data/stop1 \n",
        "# !mv Data/test_data/cross Data/test_data/stop \n",
        "# !mv Data/test_data/stop1 Data/test_data/cross \n"
      ],
      "execution_count": 88,
      "outputs": [
        {
          "output_type": "stream",
          "text": [
            "mv: cannot stat 'Data/test_data/stop': No such file or directory\n"
          ],
          "name": "stdout"
        }
      ]
    },
    {
      "cell_type": "code",
      "metadata": {
        "id": "SVMbtjGN4FKU",
        "colab_type": "code",
        "outputId": "31b51cf5-7e27-4f9c-e3d0-7724a5e05aa5",
        "colab": {
          "base_uri": "https://localhost:8080/",
          "height": 51
        }
      },
      "source": [
        "test_datagen = ImageDataGenerator(rescale=1./255)\n",
        "\n",
        "test_generator = test_datagen.flow_from_directory(\n",
        "        test_dir,\n",
        "        target_size=(picture_size, picture_size),\n",
        "        color_mode=\"rgb\",\n",
        "        shuffle = False,\n",
        "        class_mode='categorical',\n",
        "        batch_size=1)\n",
        "\n",
        "filenames = test_generator.filenames\n",
        "classes_gen = test_generator.class_indices\n",
        "classes_gen"
      ],
      "execution_count": 136,
      "outputs": [
        {
          "output_type": "stream",
          "text": [
            "Found 666 images belonging to 3 classes.\n"
          ],
          "name": "stdout"
        },
        {
          "output_type": "execute_result",
          "data": {
            "text/plain": [
              "{'cross': 0, 'limit50': 1, 'stop': 2}"
            ]
          },
          "metadata": {
            "tags": []
          },
          "execution_count": 136
        }
      ]
    },
    {
      "cell_type": "code",
      "metadata": {
        "id": "xRrryWRVsFDt",
        "colab_type": "code",
        "colab": {}
      },
      "source": [
        "predict = model.predict_generator(test_generator,steps = len(filenames))"
      ],
      "execution_count": 0,
      "outputs": []
    },
    {
      "cell_type": "code",
      "metadata": {
        "id": "5OsYc8mMNPpc",
        "colab_type": "code",
        "outputId": "4d54a43b-2a89-4d1e-b584-7808bdcca482",
        "colab": {
          "base_uri": "https://localhost:8080/",
          "height": 68
        }
      },
      "source": [
        "loss_acc = model.evaluate(test_generator)\n",
        "print('loss= ', loss_acc[0])\n",
        "print(\"acc= \", loss_acc[1])"
      ],
      "execution_count": 138,
      "outputs": [
        {
          "output_type": "stream",
          "text": [
            "666/666 [==============================] - 2s 4ms/step\n",
            "loss=  0.0\n",
            "acc=  0.9954954981803894\n"
          ],
          "name": "stdout"
        }
      ]
    },
    {
      "cell_type": "code",
      "metadata": {
        "id": "vhEm1sl86NmF",
        "colab_type": "code",
        "colab": {
          "base_uri": "https://localhost:8080/",
          "height": 322
        },
        "outputId": "4fb21c10-1784-4b39-dbab-7e58ec434469"
      },
      "source": [
        "figure = plt.figure()\n",
        "files = os.path.join(test_dir, 'cross')\n",
        "test_files = os.listdir(files)\n",
        "\n",
        "path_to_test = os.path.join(files, test_files[100])\n",
        "img = cv2.imread(path_to_test)\n",
        "img = cv2.cvtColor(img, cv2.COLOR_BGR2RGB)\n",
        "img = cv2.resize(img,(picture_size,picture_size))\n",
        "plt.imshow(img)\n",
        "plt.show()\n",
        "figure"
      ],
      "execution_count": 139,
      "outputs": [
        {
          "output_type": "stream",
          "text": [
            "/usr/local/lib/python3.6/dist-packages/ipykernel_launcher.py:1: RuntimeWarning: More than 20 figures have been opened. Figures created through the pyplot interface (`matplotlib.pyplot.figure`) are retained until explicitly closed and may consume too much memory. (To control this warning, see the rcParam `figure.max_open_warning`).\n",
            "  \"\"\"Entry point for launching an IPython kernel.\n"
          ],
          "name": "stderr"
        },
        {
          "output_type": "execute_result",
          "data": {
            "image/png": "[encoded data removed]",
            "text/plain": [
              "<Figure size 432x288 with 1 Axes>"
            ]
          },
          "metadata": {
            "tags": []
          },
          "execution_count": 139
        }
      ]
    },
    {
      "cell_type": "code",
      "metadata": {
        "id": "nasmaaVB5sIy",
        "colab_type": "code",
        "outputId": "55794143-adf1-4d65-d2a1-0018afe95c77",
        "colab": {
          "base_uri": "https://localhost:8080/",
          "height": 122
        }
      },
      "source": [
        "import matplotlib.pyplot as plt\n",
        "signs = ['limit50', 'stop', 'cross']\n",
        "\n",
        "fig = plt.figure()\n",
        "\n",
        "for sign in signs:\n",
        "  files = os.path.join(test_dir, sign)\n",
        "  test_files = os.listdir(files)\n",
        "  incorrect = 0\n",
        "  for f in test_files:\n",
        "    path_to_test = os.path.join(files, f)\n",
        "    img = cv2.imread(path_to_test)\n",
        "    img = cv2.cvtColor(img, cv2.COLOR_BGR2RGB)\n",
        "\n",
        "    img = cv2.resize(img,(picture_size,picture_size))\n",
        "    img = img.astype(\"float32\") / 255\n",
        "    if incorrect == 2:\n",
        "      plt.imshow(img)\n",
        "      plt.show()\n",
        "\n",
        "    img_tensor = np.reshape(img,[1,picture_size,picture_size,3])\n",
        "    classes = (model.predict_classes(img_tensor)).tolist()\n",
        "    # print(classes)\n",
        "    if classes[0] == 0:\n",
        "      classes = 'cross'\n",
        "    \n",
        "    elif classes[0] == 2:\n",
        "      classes = 'stop'\n",
        "\n",
        "    elif classes[0] == 1:\n",
        "      classes = 'limit50'\n",
        "\n",
        "    else:\n",
        "      classes\n",
        "\n",
        "    if classes != sign:\n",
        "      incorrect += 1 \n",
        "      plt.imshow(img)\n",
        "\n",
        "  print(f'{sign}: {incorrect} / {len(test_files)},  Correct: {round(100-(incorrect/len(test_files)*100))}%')\n",
        "\n",
        "  fig\n"
      ],
      "execution_count": 140,
      "outputs": [
        {
          "output_type": "stream",
          "text": [
            "/usr/local/lib/python3.6/dist-packages/ipykernel_launcher.py:4: RuntimeWarning: More than 20 figures have been opened. Figures created through the pyplot interface (`matplotlib.pyplot.figure`) are retained until explicitly closed and may consume too much memory. (To control this warning, see the rcParam `figure.max_open_warning`).\n",
            "  after removing the cwd from sys.path.\n"
          ],
          "name": "stderr"
        },
        {
          "output_type": "stream",
          "text": [
            "limit50: 2 / 111,  Correct: 98%\n",
            "stop: 1 / 167,  Correct: 99%\n",
            "cross: 3 / 388,  Correct: 99%\n"
          ],
          "name": "stdout"
        }
      ]
    },
    {
      "cell_type": "code",
      "metadata": {
        "id": "GUMJSf5G15Vw",
        "colab_type": "code",
        "colab": {}
      },
      "source": [
        ""
      ],
      "execution_count": 0,
      "outputs": []
    }
  ]
}