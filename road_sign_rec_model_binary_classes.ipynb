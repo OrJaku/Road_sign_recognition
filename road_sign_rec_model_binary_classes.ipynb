{
  "nbformat": 4,
  "nbformat_minor": 0,
  "metadata": {
    "colab": {
      "name": "road_sign_rec_model_binary_classes.ipynb",
      "provenance": [],
      "collapsed_sections": [],
      "authorship_tag": "ABX9TyPpOHq021KbiEgcMyWjPuJz",
      "include_colab_link": true
    },
    "kernelspec": {
      "name": "python3",
      "display_name": "Python 3"
    }
  },
  "cells": [
    {
      "cell_type": "markdown",
      "metadata": {
        "id": "view-in-github",
        "colab_type": "text"
      },
      "source": [
        "<a href=\"https://colab.research.google.com/github/OrJaku/road-sign-recognition/blob/master/road_sign_rec_model_binary_classes.ipynb\" target=\"_parent\"><img src=\"https://colab.research.google.com/assets/colab-badge.svg\" alt=\"Open In Colab\"/></a>"
      ]
    },
    {
      "cell_type": "code",
      "metadata": {
        "id": "VZEh2BnmAJad",
        "colab_type": "code",
        "colab": {}
      },
      "source": [
        "import os, shutil, cv2, json\n",
        "import pandas as pd\n",
        "import numpy as np\n",
        "from keras import layers, models, optimizers, metrics\n",
        "from keras.preprocessing.image import ImageDataGenerator\n",
        "import matplotlib\n",
        "matplotlib.use('agg')\n",
        "import matplotlib.pyplot as plt\n",
        "import matplotlib.image as mpimg "
      ],
      "execution_count": 2,
      "outputs": []
    },
    {
      "cell_type": "code",
      "metadata": {
        "id": "PLF591UKE6IL",
        "colab_type": "code",
        "colab": {
          "base_uri": "https://localhost:8080/",
          "height": 34
        },
        "outputId": "2fc31b29-bbee-4c76-84ac-1481999eaf9a"
      },
      "source": [
        "cd \"/content\""
      ],
      "execution_count": 3,
      "outputs": [
        {
          "output_type": "stream",
          "text": [
            "/content\n"
          ],
          "name": "stdout"
        }
      ]
    },
    {
      "cell_type": "code",
      "metadata": {
        "id": "rnOyvJP-E8Lt",
        "colab_type": "code",
        "colab": {
          "base_uri": "https://localhost:8080/",
          "height": 34
        },
        "outputId": "5e97fb75-f48a-4b62-c3ce-ca823d421762"
      },
      "source": [
        "try:\n",
        "  os.mkdir(\"data\")\n",
        "except FileExistsError:\n",
        "  pass\n",
        "!cp f\"/content/drive/My Drive/Colab Notebooks/Road_sign_rec/Temp/Dataset_full_pic_zip.zip\" \"/content/Temp/Dataset_full_pic_zip.zip\""
      ],
      "execution_count": 4,
      "outputs": [
        {
          "output_type": "stream",
          "text": [
            "cp: cannot stat 'f/content/drive/My Drive/Colab Notebooks/Road_sign_rec/Data/Dataset_extend_zip.zip': No such file or directory\n"
          ],
          "name": "stdout"
        }
      ]
    },
    {
      "cell_type": "code",
      "metadata": {
        "id": "YcYAlkT-E92Y",
        "colab_type": "code",
        "colab": {}
      },
      "source": [
        "cd data"
      ],
      "execution_count": null,
      "outputs": []
    },
    {
      "cell_type": "code",
      "metadata": {
        "id": "6J0ZSW7KE_te",
        "colab_type": "code",
        "colab": {}
      },
      "source": [
        "!unzip -q Dataset_extend_zip.zip"
      ],
      "execution_count": null,
      "outputs": []
    },
    {
      "cell_type": "code",
      "metadata": {
        "id": "A7p-Ck43GssE",
        "colab_type": "code",
        "colab": {}
      },
      "source": [
        "base_dir = \"Temp/\"\n",
        "\n",
        "train_dir = os.path.join(base_dir, 'train_data')\n",
        "try:\n",
        "  os.mkdir(train_dir)\n",
        "except FileExistsError:\n",
        "  pass\n",
        "\n",
        "test_dir = os.path.join(base_dir, 'test_data')\n",
        "try:\n",
        "  os.mkdir(test_dir)\n",
        "except FileExistsError:\n",
        "  pass\n",
        "\n",
        "valid_dir = os.path.join(base_dir, 'valid_data')\n",
        "try:\n",
        "  os.mkdir(valid_dir)\n",
        "except FileExistsError:\n",
        "  pass"
      ],
      "execution_count": null,
      "outputs": []
    },
    {
      "cell_type": "code",
      "metadata": {
        "id": "6-3yPjrVLBxE",
        "colab_type": "code",
        "colab": {}
      },
      "source": [
        ""
      ],
      "execution_count": null,
      "outputs": []
    }
  ]
}